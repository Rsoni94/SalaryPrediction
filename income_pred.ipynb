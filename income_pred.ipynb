{
 "cells": [
  {
   "cell_type": "markdown",
   "id": "7b0730ee",
   "metadata": {},
   "source": [
    "# importing library"
   ]
  },
  {
   "cell_type": "code",
   "execution_count": 3,
   "id": "f4f828a0",
   "metadata": {},
   "outputs": [
    {
     "ename": "ModuleNotFoundError",
     "evalue": "No module named 'sklearn'",
     "output_type": "error",
     "traceback": [
      "\u001b[1;31m---------------------------------------------------------------------------\u001b[0m",
      "\u001b[1;31mModuleNotFoundError\u001b[0m                       Traceback (most recent call last)",
      "Cell \u001b[1;32mIn[3], line 1\u001b[0m\n\u001b[1;32m----> 1\u001b[0m \u001b[39mimport\u001b[39;00m \u001b[39msklearn\u001b[39;00m\n\u001b[0;32m      2\u001b[0m \u001b[39mimport\u001b[39;00m \u001b[39mpandas\u001b[39;00m \u001b[39mas\u001b[39;00m \u001b[39mpd\u001b[39;00m\n\u001b[0;32m      3\u001b[0m \u001b[39mimport\u001b[39;00m \u001b[39mnumpy\u001b[39;00m \u001b[39mas\u001b[39;00m \u001b[39mnp\u001b[39;00m\n",
      "\u001b[1;31mModuleNotFoundError\u001b[0m: No module named 'sklearn'"
     ]
    }
   ],
   "source": [
    "import sklearn\n",
    "import pandas as pd\n",
    "import numpy as np\n",
    "import matplotlib.pyplot as plt\n",
    "import seaborn as sns\n",
    "from sklearn.linear_model import LogisticRegression\n",
    "from sklearn.model_selection import train_test_split\n",
    "from sklearn.metrics import accuracy_score,confusion_matrix,classification_report\n",
    "from sklearn.naive_bayes import GaussianNB\n",
    "from sklearn.svm import SVC\n",
    "from sklearn.tree import DecisionTreeClassifier\n",
    "from sklearn.neighbors import KNeighborsClassifier\n",
    "from sklearn.ensemble import RandomForestClassifier\n",
    "from sklearn.ensemble import AdaBoostClassifier\n",
    "from sklearn.model_selection import cross_val_score\n",
    "from sklearn.model_selection import GridSearchCV\n",
    "from sklearn.svm import LinearSVC\n",
    "from scipy import stats\n",
    "import warnings\n",
    "warnings.filterwarnings('ignore')\n",
    "from sklearn.preprocessing import LabelEncoder"
   ]
  },
  {
   "cell_type": "code",
   "execution_count": 2,
   "id": "2237044f",
   "metadata": {},
   "outputs": [
    {
     "ename": "NameError",
     "evalue": "name 'pd' is not defined",
     "output_type": "error",
     "traceback": [
      "\u001b[1;31m---------------------------------------------------------------------------\u001b[0m",
      "\u001b[1;31mNameError\u001b[0m                                 Traceback (most recent call last)",
      "Cell \u001b[1;32mIn[2], line 1\u001b[0m\n\u001b[1;32m----> 1\u001b[0m df1 \u001b[39m=\u001b[39m pd\u001b[39m.\u001b[39mread_csv(\u001b[39mr\u001b[39m\u001b[39m\"\u001b[39m\u001b[39madult.csv\u001b[39m\u001b[39m\"\u001b[39m) \u001b[39m#reading the file\u001b[39;00m\n",
      "\u001b[1;31mNameError\u001b[0m: name 'pd' is not defined"
     ]
    }
   ],
   "source": [
    "df1 = pd.read_csv(r\"adult.csv\") #reading the file"
   ]
  },
  {
   "cell_type": "code",
   "execution_count": null,
   "id": "f44c42ed",
   "metadata": {},
   "outputs": [
    {
     "data": {
      "text/html": [
       "<div>\n",
       "<style scoped>\n",
       "    .dataframe tbody tr th:only-of-type {\n",
       "        vertical-align: middle;\n",
       "    }\n",
       "\n",
       "    .dataframe tbody tr th {\n",
       "        vertical-align: top;\n",
       "    }\n",
       "\n",
       "    .dataframe thead th {\n",
       "        text-align: right;\n",
       "    }\n",
       "</style>\n",
       "<table border=\"1\" class=\"dataframe\">\n",
       "  <thead>\n",
       "    <tr style=\"text-align: right;\">\n",
       "      <th></th>\n",
       "      <th>age</th>\n",
       "      <th>workclass</th>\n",
       "      <th>fnlwgt</th>\n",
       "      <th>education</th>\n",
       "      <th>education-num</th>\n",
       "      <th>marital-status</th>\n",
       "      <th>occupation</th>\n",
       "      <th>relationship</th>\n",
       "      <th>race</th>\n",
       "      <th>sex</th>\n",
       "      <th>capital-gain</th>\n",
       "      <th>capital-loss</th>\n",
       "      <th>hours-per-week</th>\n",
       "      <th>country</th>\n",
       "      <th>salary</th>\n",
       "    </tr>\n",
       "  </thead>\n",
       "  <tbody>\n",
       "    <tr>\n",
       "      <th>0</th>\n",
       "      <td>39</td>\n",
       "      <td>State-gov</td>\n",
       "      <td>77516</td>\n",
       "      <td>Bachelors</td>\n",
       "      <td>13</td>\n",
       "      <td>Never-married</td>\n",
       "      <td>Adm-clerical</td>\n",
       "      <td>Not-in-family</td>\n",
       "      <td>White</td>\n",
       "      <td>Male</td>\n",
       "      <td>2174</td>\n",
       "      <td>0</td>\n",
       "      <td>40</td>\n",
       "      <td>United-States</td>\n",
       "      <td>&lt;=50K</td>\n",
       "    </tr>\n",
       "    <tr>\n",
       "      <th>1</th>\n",
       "      <td>50</td>\n",
       "      <td>Self-emp-not-inc</td>\n",
       "      <td>83311</td>\n",
       "      <td>Bachelors</td>\n",
       "      <td>13</td>\n",
       "      <td>Married-civ-spouse</td>\n",
       "      <td>Exec-managerial</td>\n",
       "      <td>Husband</td>\n",
       "      <td>White</td>\n",
       "      <td>Male</td>\n",
       "      <td>0</td>\n",
       "      <td>0</td>\n",
       "      <td>13</td>\n",
       "      <td>United-States</td>\n",
       "      <td>&lt;=50K</td>\n",
       "    </tr>\n",
       "    <tr>\n",
       "      <th>2</th>\n",
       "      <td>38</td>\n",
       "      <td>Private</td>\n",
       "      <td>215646</td>\n",
       "      <td>HS-grad</td>\n",
       "      <td>9</td>\n",
       "      <td>Divorced</td>\n",
       "      <td>Handlers-cleaners</td>\n",
       "      <td>Not-in-family</td>\n",
       "      <td>White</td>\n",
       "      <td>Male</td>\n",
       "      <td>0</td>\n",
       "      <td>0</td>\n",
       "      <td>40</td>\n",
       "      <td>United-States</td>\n",
       "      <td>&lt;=50K</td>\n",
       "    </tr>\n",
       "    <tr>\n",
       "      <th>3</th>\n",
       "      <td>53</td>\n",
       "      <td>Private</td>\n",
       "      <td>234721</td>\n",
       "      <td>11th</td>\n",
       "      <td>7</td>\n",
       "      <td>Married-civ-spouse</td>\n",
       "      <td>Handlers-cleaners</td>\n",
       "      <td>Husband</td>\n",
       "      <td>Black</td>\n",
       "      <td>Male</td>\n",
       "      <td>0</td>\n",
       "      <td>0</td>\n",
       "      <td>40</td>\n",
       "      <td>United-States</td>\n",
       "      <td>&lt;=50K</td>\n",
       "    </tr>\n",
       "    <tr>\n",
       "      <th>4</th>\n",
       "      <td>28</td>\n",
       "      <td>Private</td>\n",
       "      <td>338409</td>\n",
       "      <td>Bachelors</td>\n",
       "      <td>13</td>\n",
       "      <td>Married-civ-spouse</td>\n",
       "      <td>Prof-specialty</td>\n",
       "      <td>Wife</td>\n",
       "      <td>Black</td>\n",
       "      <td>Female</td>\n",
       "      <td>0</td>\n",
       "      <td>0</td>\n",
       "      <td>40</td>\n",
       "      <td>Cuba</td>\n",
       "      <td>&lt;=50K</td>\n",
       "    </tr>\n",
       "    <tr>\n",
       "      <th>...</th>\n",
       "      <td>...</td>\n",
       "      <td>...</td>\n",
       "      <td>...</td>\n",
       "      <td>...</td>\n",
       "      <td>...</td>\n",
       "      <td>...</td>\n",
       "      <td>...</td>\n",
       "      <td>...</td>\n",
       "      <td>...</td>\n",
       "      <td>...</td>\n",
       "      <td>...</td>\n",
       "      <td>...</td>\n",
       "      <td>...</td>\n",
       "      <td>...</td>\n",
       "      <td>...</td>\n",
       "    </tr>\n",
       "    <tr>\n",
       "      <th>32556</th>\n",
       "      <td>27</td>\n",
       "      <td>Private</td>\n",
       "      <td>257302</td>\n",
       "      <td>Assoc-acdm</td>\n",
       "      <td>12</td>\n",
       "      <td>Married-civ-spouse</td>\n",
       "      <td>Tech-support</td>\n",
       "      <td>Wife</td>\n",
       "      <td>White</td>\n",
       "      <td>Female</td>\n",
       "      <td>0</td>\n",
       "      <td>0</td>\n",
       "      <td>38</td>\n",
       "      <td>United-States</td>\n",
       "      <td>&lt;=50K</td>\n",
       "    </tr>\n",
       "    <tr>\n",
       "      <th>32557</th>\n",
       "      <td>40</td>\n",
       "      <td>Private</td>\n",
       "      <td>154374</td>\n",
       "      <td>HS-grad</td>\n",
       "      <td>9</td>\n",
       "      <td>Married-civ-spouse</td>\n",
       "      <td>Machine-op-inspct</td>\n",
       "      <td>Husband</td>\n",
       "      <td>White</td>\n",
       "      <td>Male</td>\n",
       "      <td>0</td>\n",
       "      <td>0</td>\n",
       "      <td>40</td>\n",
       "      <td>United-States</td>\n",
       "      <td>&gt;50K</td>\n",
       "    </tr>\n",
       "    <tr>\n",
       "      <th>32558</th>\n",
       "      <td>58</td>\n",
       "      <td>Private</td>\n",
       "      <td>151910</td>\n",
       "      <td>HS-grad</td>\n",
       "      <td>9</td>\n",
       "      <td>Widowed</td>\n",
       "      <td>Adm-clerical</td>\n",
       "      <td>Unmarried</td>\n",
       "      <td>White</td>\n",
       "      <td>Female</td>\n",
       "      <td>0</td>\n",
       "      <td>0</td>\n",
       "      <td>40</td>\n",
       "      <td>United-States</td>\n",
       "      <td>&lt;=50K</td>\n",
       "    </tr>\n",
       "    <tr>\n",
       "      <th>32559</th>\n",
       "      <td>22</td>\n",
       "      <td>Private</td>\n",
       "      <td>201490</td>\n",
       "      <td>HS-grad</td>\n",
       "      <td>9</td>\n",
       "      <td>Never-married</td>\n",
       "      <td>Adm-clerical</td>\n",
       "      <td>Own-child</td>\n",
       "      <td>White</td>\n",
       "      <td>Male</td>\n",
       "      <td>0</td>\n",
       "      <td>0</td>\n",
       "      <td>20</td>\n",
       "      <td>United-States</td>\n",
       "      <td>&lt;=50K</td>\n",
       "    </tr>\n",
       "    <tr>\n",
       "      <th>32560</th>\n",
       "      <td>52</td>\n",
       "      <td>Self-emp-inc</td>\n",
       "      <td>287927</td>\n",
       "      <td>HS-grad</td>\n",
       "      <td>9</td>\n",
       "      <td>Married-civ-spouse</td>\n",
       "      <td>Exec-managerial</td>\n",
       "      <td>Wife</td>\n",
       "      <td>White</td>\n",
       "      <td>Female</td>\n",
       "      <td>15024</td>\n",
       "      <td>0</td>\n",
       "      <td>40</td>\n",
       "      <td>United-States</td>\n",
       "      <td>&gt;50K</td>\n",
       "    </tr>\n",
       "  </tbody>\n",
       "</table>\n",
       "<p>32561 rows × 15 columns</p>\n",
       "</div>"
      ],
      "text/plain": [
       "       age          workclass  fnlwgt    education  education-num  \\\n",
       "0       39          State-gov   77516    Bachelors             13   \n",
       "1       50   Self-emp-not-inc   83311    Bachelors             13   \n",
       "2       38            Private  215646      HS-grad              9   \n",
       "3       53            Private  234721         11th              7   \n",
       "4       28            Private  338409    Bachelors             13   \n",
       "...    ...                ...     ...          ...            ...   \n",
       "32556   27            Private  257302   Assoc-acdm             12   \n",
       "32557   40            Private  154374      HS-grad              9   \n",
       "32558   58            Private  151910      HS-grad              9   \n",
       "32559   22            Private  201490      HS-grad              9   \n",
       "32560   52       Self-emp-inc  287927      HS-grad              9   \n",
       "\n",
       "            marital-status          occupation    relationship    race  \\\n",
       "0            Never-married        Adm-clerical   Not-in-family   White   \n",
       "1       Married-civ-spouse     Exec-managerial         Husband   White   \n",
       "2                 Divorced   Handlers-cleaners   Not-in-family   White   \n",
       "3       Married-civ-spouse   Handlers-cleaners         Husband   Black   \n",
       "4       Married-civ-spouse      Prof-specialty            Wife   Black   \n",
       "...                    ...                 ...             ...     ...   \n",
       "32556   Married-civ-spouse        Tech-support            Wife   White   \n",
       "32557   Married-civ-spouse   Machine-op-inspct         Husband   White   \n",
       "32558              Widowed        Adm-clerical       Unmarried   White   \n",
       "32559        Never-married        Adm-clerical       Own-child   White   \n",
       "32560   Married-civ-spouse     Exec-managerial            Wife   White   \n",
       "\n",
       "           sex  capital-gain  capital-loss  hours-per-week         country  \\\n",
       "0         Male          2174             0              40   United-States   \n",
       "1         Male             0             0              13   United-States   \n",
       "2         Male             0             0              40   United-States   \n",
       "3         Male             0             0              40   United-States   \n",
       "4       Female             0             0              40            Cuba   \n",
       "...        ...           ...           ...             ...             ...   \n",
       "32556   Female             0             0              38   United-States   \n",
       "32557     Male             0             0              40   United-States   \n",
       "32558   Female             0             0              40   United-States   \n",
       "32559     Male             0             0              20   United-States   \n",
       "32560   Female         15024             0              40   United-States   \n",
       "\n",
       "       salary  \n",
       "0       <=50K  \n",
       "1       <=50K  \n",
       "2       <=50K  \n",
       "3       <=50K  \n",
       "4       <=50K  \n",
       "...       ...  \n",
       "32556   <=50K  \n",
       "32557    >50K  \n",
       "32558   <=50K  \n",
       "32559   <=50K  \n",
       "32560    >50K  \n",
       "\n",
       "[32561 rows x 15 columns]"
      ]
     },
     "execution_count": 67,
     "metadata": {},
     "output_type": "execute_result"
    }
   ],
   "source": [
    "df1"
   ]
  },
  {
   "cell_type": "code",
   "execution_count": null,
   "id": "fcff9390",
   "metadata": {},
   "outputs": [
    {
     "data": {
      "text/plain": [
       "Index(['age', 'workclass', 'fnlwgt', 'education', 'education-num',\n",
       "       'marital-status', 'occupation', 'relationship', 'race', 'sex',\n",
       "       'capital-gain', 'capital-loss', 'hours-per-week', 'country', 'salary'],\n",
       "      dtype='object')"
      ]
     },
     "execution_count": 6,
     "metadata": {},
     "output_type": "execute_result"
    }
   ],
   "source": [
    "df1.columns # column in the data frame "
   ]
  },
  {
   "cell_type": "code",
   "execution_count": null,
   "id": "ae21d4a1",
   "metadata": {},
   "outputs": [
    {
     "data": {
      "text/plain": [
       "age                int64\n",
       "workclass         object\n",
       "fnlwgt             int64\n",
       "education         object\n",
       "education-num      int64\n",
       "marital-status    object\n",
       "occupation        object\n",
       "relationship      object\n",
       "race              object\n",
       "sex               object\n",
       "capital-gain       int64\n",
       "capital-loss       int64\n",
       "hours-per-week     int64\n",
       "country           object\n",
       "salary            object\n",
       "dtype: object"
      ]
     },
     "execution_count": 7,
     "metadata": {},
     "output_type": "execute_result"
    }
   ],
   "source": [
    "df1.dtypes # columns data types "
   ]
  },
  {
   "cell_type": "code",
   "execution_count": null,
   "id": "315361df",
   "metadata": {},
   "outputs": [
    {
     "name": "stdout",
     "output_type": "stream",
     "text": [
      "Categorical columns: ['workclass', 'education', 'marital-status', 'occupation', 'relationship', 'race', 'sex', 'country', 'salary']\n"
     ]
    }
   ],
   "source": [
    "# get all the categorical columns name\n",
    "#cat_cols = list(df1.select_dtypes(include='object').columns)\n",
    "#print(f'Categorical columns: {cat_cols}')"
   ]
  },
  {
   "cell_type": "code",
   "execution_count": null,
   "id": "38a4b8dd",
   "metadata": {},
   "outputs": [],
   "source": [
    "# get all the continuous columns name\n",
    "#num_cols = list(df1.select_dtypes(exclude='object').columns)\n",
    "#print(f'Continuous columns: {num_cols}')"
   ]
  },
  {
   "cell_type": "markdown",
   "id": "5e0a86d7",
   "metadata": {},
   "source": [
    "# filter categorical data and numerical data"
   ]
  },
  {
   "cell_type": "code",
   "execution_count": null,
   "id": "6c6c8dac",
   "metadata": {},
   "outputs": [],
   "source": [
    "# filter categorical data and numerical data\n",
    "# categorical_columns =df[[cat_col_1,cat_col_2,cat_col_3,cat_col_4]].copy() # diffrent way of writing \n",
    "\n",
    "# all categorical data we need to first encode them \n",
    "\n",
    "numerics= ['int8' , 'int16' , 'int32' , 'int64' , 'float16' , 'float32' , 'float64'] \n",
    "\n",
    "categorical_col=[]   \n",
    "    \n",
    "features = df1.columns.values.tolist()   \n",
    "for col in features:\n",
    "    if df1[col].dtype in numerics:  \n",
    "    \n",
    "        continue\n",
    "        \n",
    "    categorical_col.append(col) "
   ]
  },
  {
   "cell_type": "code",
   "execution_count": null,
   "id": "9d5f67f3",
   "metadata": {},
   "outputs": [],
   "source": [
    "categorical_columns=df1[categorical_col].copy()"
   ]
  },
  {
   "cell_type": "code",
   "execution_count": null,
   "id": "58a84d40",
   "metadata": {},
   "outputs": [
    {
     "data": {
      "text/plain": [
       "['workclass',\n",
       " 'education',\n",
       " 'marital-status',\n",
       " 'occupation',\n",
       " 'relationship',\n",
       " 'race',\n",
       " 'sex',\n",
       " 'country',\n",
       " 'salary']"
      ]
     },
     "execution_count": 11,
     "metadata": {},
     "output_type": "execute_result"
    }
   ],
   "source": [
    "categorical_col # List of categorical_columns in the data frame "
   ]
  },
  {
   "cell_type": "markdown",
   "id": "f3fdd322",
   "metadata": {},
   "source": [
    "# Encoding the target varible "
   ]
  },
  {
   "cell_type": "code",
   "execution_count": null,
   "id": "c37c7a65",
   "metadata": {},
   "outputs": [],
   "source": [
    "categorical_columns['salary']=categorical_columns['salary'].replace(' <=50K', 0)\n",
    "categorical_columns['salary']=categorical_columns['salary'].replace(' >50K', 1)"
   ]
  },
  {
   "cell_type": "code",
   "execution_count": null,
   "id": "ef92be9e",
   "metadata": {},
   "outputs": [
    {
     "data": {
      "text/html": [
       "<div>\n",
       "<style scoped>\n",
       "    .dataframe tbody tr th:only-of-type {\n",
       "        vertical-align: middle;\n",
       "    }\n",
       "\n",
       "    .dataframe tbody tr th {\n",
       "        vertical-align: top;\n",
       "    }\n",
       "\n",
       "    .dataframe thead th {\n",
       "        text-align: right;\n",
       "    }\n",
       "</style>\n",
       "<table border=\"1\" class=\"dataframe\">\n",
       "  <thead>\n",
       "    <tr style=\"text-align: right;\">\n",
       "      <th></th>\n",
       "      <th>workclass</th>\n",
       "      <th>education</th>\n",
       "      <th>marital-status</th>\n",
       "      <th>occupation</th>\n",
       "      <th>relationship</th>\n",
       "      <th>race</th>\n",
       "      <th>sex</th>\n",
       "      <th>country</th>\n",
       "      <th>salary</th>\n",
       "    </tr>\n",
       "  </thead>\n",
       "  <tbody>\n",
       "    <tr>\n",
       "      <th>0</th>\n",
       "      <td>State-gov</td>\n",
       "      <td>Bachelors</td>\n",
       "      <td>Never-married</td>\n",
       "      <td>Adm-clerical</td>\n",
       "      <td>Not-in-family</td>\n",
       "      <td>White</td>\n",
       "      <td>Male</td>\n",
       "      <td>United-States</td>\n",
       "      <td>0</td>\n",
       "    </tr>\n",
       "    <tr>\n",
       "      <th>1</th>\n",
       "      <td>Self-emp-not-inc</td>\n",
       "      <td>Bachelors</td>\n",
       "      <td>Married-civ-spouse</td>\n",
       "      <td>Exec-managerial</td>\n",
       "      <td>Husband</td>\n",
       "      <td>White</td>\n",
       "      <td>Male</td>\n",
       "      <td>United-States</td>\n",
       "      <td>0</td>\n",
       "    </tr>\n",
       "    <tr>\n",
       "      <th>2</th>\n",
       "      <td>Private</td>\n",
       "      <td>HS-grad</td>\n",
       "      <td>Divorced</td>\n",
       "      <td>Handlers-cleaners</td>\n",
       "      <td>Not-in-family</td>\n",
       "      <td>White</td>\n",
       "      <td>Male</td>\n",
       "      <td>United-States</td>\n",
       "      <td>0</td>\n",
       "    </tr>\n",
       "    <tr>\n",
       "      <th>3</th>\n",
       "      <td>Private</td>\n",
       "      <td>11th</td>\n",
       "      <td>Married-civ-spouse</td>\n",
       "      <td>Handlers-cleaners</td>\n",
       "      <td>Husband</td>\n",
       "      <td>Black</td>\n",
       "      <td>Male</td>\n",
       "      <td>United-States</td>\n",
       "      <td>0</td>\n",
       "    </tr>\n",
       "    <tr>\n",
       "      <th>4</th>\n",
       "      <td>Private</td>\n",
       "      <td>Bachelors</td>\n",
       "      <td>Married-civ-spouse</td>\n",
       "      <td>Prof-specialty</td>\n",
       "      <td>Wife</td>\n",
       "      <td>Black</td>\n",
       "      <td>Female</td>\n",
       "      <td>Cuba</td>\n",
       "      <td>0</td>\n",
       "    </tr>\n",
       "    <tr>\n",
       "      <th>...</th>\n",
       "      <td>...</td>\n",
       "      <td>...</td>\n",
       "      <td>...</td>\n",
       "      <td>...</td>\n",
       "      <td>...</td>\n",
       "      <td>...</td>\n",
       "      <td>...</td>\n",
       "      <td>...</td>\n",
       "      <td>...</td>\n",
       "    </tr>\n",
       "    <tr>\n",
       "      <th>32556</th>\n",
       "      <td>Private</td>\n",
       "      <td>Assoc-acdm</td>\n",
       "      <td>Married-civ-spouse</td>\n",
       "      <td>Tech-support</td>\n",
       "      <td>Wife</td>\n",
       "      <td>White</td>\n",
       "      <td>Female</td>\n",
       "      <td>United-States</td>\n",
       "      <td>0</td>\n",
       "    </tr>\n",
       "    <tr>\n",
       "      <th>32557</th>\n",
       "      <td>Private</td>\n",
       "      <td>HS-grad</td>\n",
       "      <td>Married-civ-spouse</td>\n",
       "      <td>Machine-op-inspct</td>\n",
       "      <td>Husband</td>\n",
       "      <td>White</td>\n",
       "      <td>Male</td>\n",
       "      <td>United-States</td>\n",
       "      <td>1</td>\n",
       "    </tr>\n",
       "    <tr>\n",
       "      <th>32558</th>\n",
       "      <td>Private</td>\n",
       "      <td>HS-grad</td>\n",
       "      <td>Widowed</td>\n",
       "      <td>Adm-clerical</td>\n",
       "      <td>Unmarried</td>\n",
       "      <td>White</td>\n",
       "      <td>Female</td>\n",
       "      <td>United-States</td>\n",
       "      <td>0</td>\n",
       "    </tr>\n",
       "    <tr>\n",
       "      <th>32559</th>\n",
       "      <td>Private</td>\n",
       "      <td>HS-grad</td>\n",
       "      <td>Never-married</td>\n",
       "      <td>Adm-clerical</td>\n",
       "      <td>Own-child</td>\n",
       "      <td>White</td>\n",
       "      <td>Male</td>\n",
       "      <td>United-States</td>\n",
       "      <td>0</td>\n",
       "    </tr>\n",
       "    <tr>\n",
       "      <th>32560</th>\n",
       "      <td>Self-emp-inc</td>\n",
       "      <td>HS-grad</td>\n",
       "      <td>Married-civ-spouse</td>\n",
       "      <td>Exec-managerial</td>\n",
       "      <td>Wife</td>\n",
       "      <td>White</td>\n",
       "      <td>Female</td>\n",
       "      <td>United-States</td>\n",
       "      <td>1</td>\n",
       "    </tr>\n",
       "  </tbody>\n",
       "</table>\n",
       "<p>32561 rows × 9 columns</p>\n",
       "</div>"
      ],
      "text/plain": [
       "               workclass    education       marital-status  \\\n",
       "0              State-gov    Bachelors        Never-married   \n",
       "1       Self-emp-not-inc    Bachelors   Married-civ-spouse   \n",
       "2                Private      HS-grad             Divorced   \n",
       "3                Private         11th   Married-civ-spouse   \n",
       "4                Private    Bachelors   Married-civ-spouse   \n",
       "...                  ...          ...                  ...   \n",
       "32556            Private   Assoc-acdm   Married-civ-spouse   \n",
       "32557            Private      HS-grad   Married-civ-spouse   \n",
       "32558            Private      HS-grad              Widowed   \n",
       "32559            Private      HS-grad        Never-married   \n",
       "32560       Self-emp-inc      HS-grad   Married-civ-spouse   \n",
       "\n",
       "               occupation    relationship    race      sex         country  \\\n",
       "0            Adm-clerical   Not-in-family   White     Male   United-States   \n",
       "1         Exec-managerial         Husband   White     Male   United-States   \n",
       "2       Handlers-cleaners   Not-in-family   White     Male   United-States   \n",
       "3       Handlers-cleaners         Husband   Black     Male   United-States   \n",
       "4          Prof-specialty            Wife   Black   Female            Cuba   \n",
       "...                   ...             ...     ...      ...             ...   \n",
       "32556        Tech-support            Wife   White   Female   United-States   \n",
       "32557   Machine-op-inspct         Husband   White     Male   United-States   \n",
       "32558        Adm-clerical       Unmarried   White   Female   United-States   \n",
       "32559        Adm-clerical       Own-child   White     Male   United-States   \n",
       "32560     Exec-managerial            Wife   White   Female   United-States   \n",
       "\n",
       "       salary  \n",
       "0           0  \n",
       "1           0  \n",
       "2           0  \n",
       "3           0  \n",
       "4           0  \n",
       "...       ...  \n",
       "32556       0  \n",
       "32557       1  \n",
       "32558       0  \n",
       "32559       0  \n",
       "32560       1  \n",
       "\n",
       "[32561 rows x 9 columns]"
      ]
     },
     "execution_count": 13,
     "metadata": {},
     "output_type": "execute_result"
    }
   ],
   "source": [
    "categorical_columns"
   ]
  },
  {
   "cell_type": "markdown",
   "id": "7e09535d",
   "metadata": {},
   "source": [
    "# Observation  for the catcategorical_columns"
   ]
  },
  {
   "attachments": {
    "image.png": {
     "image/png": "[encoded data removed]"
    }
   },
   "cell_type": "markdown",
   "id": "5b9d96e2",
   "metadata": {},
   "source": [
    "![image.png](attachment:image.png)"
   ]
  },
  {
   "cell_type": "markdown",
   "id": "73b78bf2",
   "metadata": {},
   "source": [
    "# occupation"
   ]
  },
  {
   "cell_type": "code",
   "execution_count": null,
   "id": "f3ba63b4",
   "metadata": {},
   "outputs": [
    {
     "name": "stdout",
     "output_type": "stream",
     "text": [
      "1)-->unique value lenth 15\n",
      "----------------------------------------------------------------------------------------------------\n",
      "2)-->This is a list of unique names [' Adm-clerical' ' Exec-managerial' ' Handlers-cleaners' ' Prof-specialty'\n",
      " ' Other-service' ' Sales' ' Craft-repair' ' Transport-moving'\n",
      " ' Farming-fishing' ' Machine-op-inspct' ' Tech-support' ' ?'\n",
      " ' Protective-serv' ' Armed-Forces' ' Priv-house-serv']\n",
      "----------------------------------------------------------------------------------------------------\n",
      "3)-->value_counts,  Prof-specialty       4140\n",
      " Craft-repair         4099\n",
      " Exec-managerial      4066\n",
      " Adm-clerical         3770\n",
      " Sales                3650\n",
      " Other-service        3295\n",
      " Machine-op-inspct    2002\n",
      " ?                    1843\n",
      " Transport-moving     1597\n",
      " Handlers-cleaners    1370\n",
      " Farming-fishing       994\n",
      " Tech-support          928\n",
      " Protective-serv       649\n",
      " Priv-house-serv       149\n",
      " Armed-Forces            9\n",
      "Name: occupation, dtype: int64\n"
     ]
    }
   ],
   "source": [
    "print ('1)-->unique value lenth',len(list((categorical_columns['occupation'].unique()))))\n",
    "print('-'*100)\n",
    "print ('2)-->This is a list of unique names',categorical_columns['occupation'].unique())\n",
    "print('-'*100)\n",
    "print (\"3)-->value_counts,\",categorical_columns['occupation'].value_counts())"
   ]
  },
  {
   "cell_type": "code",
   "execution_count": null,
   "id": "ceec46c4",
   "metadata": {},
   "outputs": [],
   "source": [
    "#Here private is the highest mode\n",
    "categorical_columns['occupation']=categorical_columns['occupation'].replace(' ?','Others_occupation')"
   ]
  },
  {
   "cell_type": "markdown",
   "id": "950cd82e",
   "metadata": {},
   "source": [
    "# workclass"
   ]
  },
  {
   "cell_type": "code",
   "execution_count": null,
   "id": "7815a78a",
   "metadata": {},
   "outputs": [
    {
     "name": "stdout",
     "output_type": "stream",
     "text": [
      "1)-->unique value lenth 9\n",
      "----------------------------------------------------------------------------------------------------\n",
      "2)-->This is a list of unique names [' State-gov' ' Self-emp-not-inc' ' Private' ' Federal-gov' ' Local-gov'\n",
      " ' ?' ' Self-emp-inc' ' Without-pay' ' Never-worked']\n",
      "----------------------------------------------------------------------------------------------------\n",
      "3)-->value_counts,  Private             22696\n",
      " Self-emp-not-inc     2541\n",
      " Local-gov            2093\n",
      " ?                    1836\n",
      " State-gov            1298\n",
      " Self-emp-inc         1116\n",
      " Federal-gov           960\n",
      " Without-pay            14\n",
      " Never-worked            7\n",
      "Name: workclass, dtype: int64\n"
     ]
    }
   ],
   "source": [
    "print ('1)-->unique value lenth',len(list((categorical_columns['workclass'].unique()))))\n",
    "print('-'*100)\n",
    "print ('2)-->This is a list of unique names',categorical_columns['workclass'].unique())\n",
    "print('-'*100)\n",
    "print (\"3)-->value_counts,\",categorical_columns['workclass'].value_counts())"
   ]
  },
  {
   "cell_type": "code",
   "execution_count": null,
   "id": "7767899d",
   "metadata": {},
   "outputs": [],
   "source": [
    "categorical_columns['workclass']=categorical_columns['workclass'].replace(' ?',' Private')"
   ]
  },
  {
   "cell_type": "markdown",
   "id": "cee0fb0b",
   "metadata": {},
   "source": [
    "# education"
   ]
  },
  {
   "cell_type": "code",
   "execution_count": null,
   "id": "187bbc7c",
   "metadata": {},
   "outputs": [
    {
     "name": "stdout",
     "output_type": "stream",
     "text": [
      "1)-->unique value lenth 16\n",
      "----------------------------------------------------------------------------------------------------\n",
      "2)-->This is a list of unique names [' Bachelors' ' HS-grad' ' 11th' ' Masters' ' 9th' ' Some-college'\n",
      " ' Assoc-acdm' ' Assoc-voc' ' 7th-8th' ' Doctorate' ' Prof-school'\n",
      " ' 5th-6th' ' 10th' ' 1st-4th' ' Preschool' ' 12th']\n",
      "----------------------------------------------------------------------------------------------------\n",
      "3)-->value_counts,  HS-grad         10501\n",
      " Some-college     7291\n",
      " Bachelors        5355\n",
      " Masters          1723\n",
      " Assoc-voc        1382\n",
      " 11th             1175\n",
      " Assoc-acdm       1067\n",
      " 10th              933\n",
      " 7th-8th           646\n",
      " Prof-school       576\n",
      " 9th               514\n",
      " 12th              433\n",
      " Doctorate         413\n",
      " 5th-6th           333\n",
      " 1st-4th           168\n",
      " Preschool          51\n",
      "Name: education, dtype: int64\n"
     ]
    }
   ],
   "source": [
    "print ('1)-->unique value lenth',len(list((categorical_columns['education'].unique()))))\n",
    "print('-'*100)\n",
    "print ('2)-->This is a list of unique names',categorical_columns['education'].unique())\n",
    "print('-'*100)\n",
    "print (\"3)-->value_counts,\",categorical_columns['education'].value_counts())"
   ]
  },
  {
   "cell_type": "code",
   "execution_count": null,
   "id": "3247956b",
   "metadata": {},
   "outputs": [],
   "source": [
    "# Creating a bins for education column "
   ]
  },
  {
   "cell_type": "code",
   "execution_count": null,
   "id": "57104956",
   "metadata": {},
   "outputs": [],
   "source": [
    "categorical_columns['education']=categorical_columns['education'].replace([' 1st-4th',' 5th-6th',' Prof-school',' Preschool',' 7th-8th',' 9th',' 10th',' 11th',' 12th'],'school')\n",
    "categorical_columns['education']=categorical_columns['education'].replace([' Assoc-acdm',' Assoc-voc'],'Associate')\n",
    "categorical_columns['education']=categorical_columns['education'].replace([' Some-college'],'College')"
   ]
  },
  {
   "cell_type": "markdown",
   "id": "56fd60b3",
   "metadata": {},
   "source": [
    "# marital-status"
   ]
  },
  {
   "cell_type": "code",
   "execution_count": null,
   "id": "270e4cfe",
   "metadata": {},
   "outputs": [
    {
     "name": "stdout",
     "output_type": "stream",
     "text": [
      "1)-->unique value lenth 7\n",
      "----------------------------------------------------------------------------------------------------\n",
      "2)-->This is a list of unique names [' Never-married' ' Married-civ-spouse' ' Divorced'\n",
      " ' Married-spouse-absent' ' Separated' ' Married-AF-spouse' ' Widowed']\n",
      "----------------------------------------------------------------------------------------------------\n",
      "3)-->value_counts,  Married-civ-spouse       14976\n",
      " Never-married            10683\n",
      " Divorced                  4443\n",
      " Separated                 1025\n",
      " Widowed                    993\n",
      " Married-spouse-absent      418\n",
      " Married-AF-spouse           23\n",
      "Name: marital-status, dtype: int64\n"
     ]
    }
   ],
   "source": [
    "print ('1)-->unique value lenth',len(list((categorical_columns['marital-status'].unique()))))\n",
    "print('-'*100)\n",
    "print ('2)-->This is a list of unique names',categorical_columns['marital-status'].unique())\n",
    "print('-'*100)\n",
    "print (\"3)-->value_counts,\",categorical_columns['marital-status'].value_counts())"
   ]
  },
  {
   "cell_type": "markdown",
   "id": "2e63ac34",
   "metadata": {},
   "source": [
    "# relationship"
   ]
  },
  {
   "cell_type": "code",
   "execution_count": null,
   "id": "46292d1f",
   "metadata": {},
   "outputs": [
    {
     "name": "stdout",
     "output_type": "stream",
     "text": [
      "1)-->unique value lenth 6\n",
      "----------------------------------------------------------------------------------------------------\n",
      "2)-->This is a list of unique names [' Not-in-family' ' Husband' ' Wife' ' Own-child' ' Unmarried'\n",
      " ' Other-relative']\n",
      "----------------------------------------------------------------------------------------------------\n",
      "3)-->value_counts,  Husband           13193\n",
      " Not-in-family      8305\n",
      " Own-child          5068\n",
      " Unmarried          3446\n",
      " Wife               1568\n",
      " Other-relative      981\n",
      "Name: relationship, dtype: int64\n"
     ]
    }
   ],
   "source": [
    "print ('1)-->unique value lenth',len(list((categorical_columns['relationship'].unique()))))\n",
    "print('-'*100)\n",
    "print ('2)-->This is a list of unique names',categorical_columns['relationship'].unique())\n",
    "print('-'*100)\n",
    "print (\"3)-->value_counts,\",categorical_columns['relationship'].value_counts())"
   ]
  },
  {
   "cell_type": "markdown",
   "id": "e623c143",
   "metadata": {},
   "source": [
    "# race"
   ]
  },
  {
   "cell_type": "code",
   "execution_count": null,
   "id": "c6e62250",
   "metadata": {},
   "outputs": [
    {
     "name": "stdout",
     "output_type": "stream",
     "text": [
      "1)-->unique value lenth 5\n",
      "----------------------------------------------------------------------------------------------------\n",
      "2)-->This is a list of unique names [' White' ' Black' ' Asian-Pac-Islander' ' Amer-Indian-Eskimo' ' Other']\n",
      "----------------------------------------------------------------------------------------------------\n",
      "3)-->value_counts,  White                 27816\n",
      " Black                  3124\n",
      " Asian-Pac-Islander     1039\n",
      " Amer-Indian-Eskimo      311\n",
      " Other                   271\n",
      "Name: race, dtype: int64\n"
     ]
    }
   ],
   "source": [
    "print ('1)-->unique value lenth',len(list((categorical_columns['race'].unique()))))\n",
    "print('-'*100)\n",
    "print ('2)-->This is a list of unique names',categorical_columns['race'].unique())\n",
    "print('-'*100)\n",
    "print (\"3)-->value_counts,\",categorical_columns['race'].value_counts())"
   ]
  },
  {
   "cell_type": "markdown",
   "id": "3ef4e06f",
   "metadata": {},
   "source": [
    "# sex"
   ]
  },
  {
   "cell_type": "code",
   "execution_count": null,
   "id": "2926d3c7",
   "metadata": {},
   "outputs": [
    {
     "name": "stdout",
     "output_type": "stream",
     "text": [
      "1)-->unique value lenth 2\n",
      "----------------------------------------------------------------------------------------------------\n",
      "2)-->This is a list of unique names [' Male' ' Female']\n",
      "----------------------------------------------------------------------------------------------------\n",
      "3)-->value_counts,  Male      21790\n",
      " Female    10771\n",
      "Name: sex, dtype: int64\n"
     ]
    }
   ],
   "source": [
    "print ('1)-->unique value lenth',len(list((categorical_columns['sex'].unique()))))\n",
    "print('-'*100)\n",
    "print ('2)-->This is a list of unique names',categorical_columns['sex'].unique())\n",
    "print('-'*100)\n",
    "print (\"3)-->value_counts,\",categorical_columns['sex'].value_counts())"
   ]
  },
  {
   "cell_type": "markdown",
   "id": "79ec8e2d",
   "metadata": {},
   "source": [
    "# country"
   ]
  },
  {
   "cell_type": "code",
   "execution_count": null,
   "id": "08bbb63b",
   "metadata": {},
   "outputs": [
    {
     "name": "stdout",
     "output_type": "stream",
     "text": [
      "1)-->unique value lenth 42\n",
      "----------------------------------------------------------------------------------------------------\n",
      "2)-->This is a list of unique names [' United-States' ' Cuba' ' Jamaica' ' India' ' ?' ' Mexico' ' South'\n",
      " ' Puerto-Rico' ' Honduras' ' England' ' Canada' ' Germany' ' Iran'\n",
      " ' Philippines' ' Italy' ' Poland' ' Columbia' ' Cambodia' ' Thailand'\n",
      " ' Ecuador' ' Laos' ' Taiwan' ' Haiti' ' Portugal' ' Dominican-Republic'\n",
      " ' El-Salvador' ' France' ' Guatemala' ' China' ' Japan' ' Yugoslavia'\n",
      " ' Peru' ' Outlying-US(Guam-USVI-etc)' ' Scotland' ' Trinadad&Tobago'\n",
      " ' Greece' ' Nicaragua' ' Vietnam' ' Hong' ' Ireland' ' Hungary'\n",
      " ' Holand-Netherlands']\n",
      "----------------------------------------------------------------------------------------------------\n",
      "3)-->value_counts,  United-States                 29170\n",
      " Mexico                          643\n",
      " ?                               583\n",
      " Philippines                     198\n",
      " Germany                         137\n",
      " Canada                          121\n",
      " Puerto-Rico                     114\n",
      " El-Salvador                     106\n",
      " India                           100\n",
      " Cuba                             95\n",
      " England                          90\n",
      " Jamaica                          81\n",
      " South                            80\n",
      " China                            75\n",
      " Italy                            73\n",
      " Dominican-Republic               70\n",
      " Vietnam                          67\n",
      " Guatemala                        64\n",
      " Japan                            62\n",
      " Poland                           60\n",
      " Columbia                         59\n",
      " Taiwan                           51\n",
      " Haiti                            44\n",
      " Iran                             43\n",
      " Portugal                         37\n",
      " Nicaragua                        34\n",
      " Peru                             31\n",
      " France                           29\n",
      " Greece                           29\n",
      " Ecuador                          28\n",
      " Ireland                          24\n",
      " Hong                             20\n",
      " Cambodia                         19\n",
      " Trinadad&Tobago                  19\n",
      " Laos                             18\n",
      " Thailand                         18\n",
      " Yugoslavia                       16\n",
      " Outlying-US(Guam-USVI-etc)       14\n",
      " Honduras                         13\n",
      " Hungary                          13\n",
      " Scotland                         12\n",
      " Holand-Netherlands                1\n",
      "Name: country, dtype: int64\n"
     ]
    }
   ],
   "source": [
    "print ('1)-->unique value lenth',len(list((categorical_columns['country'].unique()))))\n",
    "print('-'*100)\n",
    "print ('2)-->This is a list of unique names',categorical_columns['country'].unique())\n",
    "print('-'*100)\n",
    "print (\"3)-->value_counts,\",categorical_columns['country'].value_counts())"
   ]
  },
  {
   "cell_type": "code",
   "execution_count": null,
   "id": "76355ba3",
   "metadata": {},
   "outputs": [],
   "source": [
    "categorical_columns['country']=categorical_columns['country'].replace(' ?','Others_country')"
   ]
  },
  {
   "cell_type": "markdown",
   "id": "521454e0",
   "metadata": {},
   "source": [
    "## Checking the relation with target variable"
   ]
  },
  {
   "cell_type": "code",
   "execution_count": null,
   "id": "e8b228a9",
   "metadata": {},
   "outputs": [
    {
     "data": {
      "text/plain": [
       "'#### Assumption(H0): \\nThere is NO relation between the given variables (i.e. The average(mean) values of the numeric Target variable is same for all the groups in the categorical Predictor variable)<br>\\n\\nANOVA Test result: Probability of H0 being true'"
      ]
     },
     "execution_count": 47,
     "metadata": {},
     "output_type": "execute_result"
    }
   ],
   "source": [
    "'''#### Assumption(H0): \n",
    "There is NO relation between the given variables (i.e. The average(mean) values of the numeric Target variable is same for all the groups in the categorical Predictor variable)<br>\n",
    "\n",
    "ANOVA Test result: Probability of H0 being true'''"
   ]
  },
  {
   "cell_type": "code",
   "execution_count": null,
   "id": "c5119ed0",
   "metadata": {},
   "outputs": [],
   "source": [
    "'''# Defining a function to find the statistical relationship with all the categorical variables\n",
    "def FunctionAnova(inpData, TargetVariable, categorical_col):\n",
    "    from scipy.stats import f_oneway\n",
    "\n",
    "    # Creating an empty list of final selected predictors\n",
    "    SelectedPredictors=[]\n",
    "    \n",
    "    print('##### ANOVA Results ##### \\n')\n",
    "    for predictor in categorical_col:\n",
    "        CategoryGroupLists=inpData.groupby(predictor)[TargetVariable].apply(list)\n",
    "        AnovaResults = f_oneway(*CategoryGroupLists)\n",
    "        \n",
    "        # If the ANOVA P-Value is <0.05, that means we reject H0\n",
    "        if (AnovaResults[1] < 0.05):\n",
    "            print(predictor, 'is correlated with', TargetVariable, '| P-Value:', AnovaResults[1])\n",
    "            SelectedPredictors.append(predictor)\n",
    "        else:\n",
    "            print(predictor, 'is NOT correlated with', TargetVariable, '| P-Value:', AnovaResults[1])\n",
    "    \n",
    "    return(SelectedPredictors) '''"
   ]
  },
  {
   "cell_type": "code",
   "execution_count": null,
   "id": "3d34b819",
   "metadata": {},
   "outputs": [
    {
     "data": {
      "text/plain": [
       "\"FunctionAnova(inpData=categorical_columns, \\n              TargetVariable='salary', \\n              categorical_col=categorical_col)\""
      ]
     },
     "execution_count": 46,
     "metadata": {},
     "output_type": "execute_result"
    }
   ],
   "source": [
    "'''FunctionAnova(inpData=categorical_columns, \n",
    "              TargetVariable='salary', \n",
    "              categorical_col=categorical_col)'''"
   ]
  },
  {
   "cell_type": "markdown",
   "id": "456ba82f",
   "metadata": {},
   "source": [
    "# It is time to convert categorical_columns into  numrical value  using get_dummies encoding technique"
   ]
  },
  {
   "cell_type": "code",
   "execution_count": null,
   "id": "9a057dd2",
   "metadata": {},
   "outputs": [],
   "source": [
    "\n",
    "df_dummies = pd.get_dummies(categorical_columns[['workclass', 'education', 'marital-status',\n",
    "                                                'occupation', 'relationship', 'race','sex' , 'country',\n",
    "                                                 ] ], drop_first=True)"
   ]
  },
  {
   "cell_type": "code",
   "execution_count": null,
   "id": "4e3ae79f",
   "metadata": {},
   "outputs": [
    {
     "data": {
      "text/html": [
       "<div>\n",
       "<style scoped>\n",
       "    .dataframe tbody tr th:only-of-type {\n",
       "        vertical-align: middle;\n",
       "    }\n",
       "\n",
       "    .dataframe tbody tr th {\n",
       "        vertical-align: top;\n",
       "    }\n",
       "\n",
       "    .dataframe thead th {\n",
       "        text-align: right;\n",
       "    }\n",
       "</style>\n",
       "<table border=\"1\" class=\"dataframe\">\n",
       "  <thead>\n",
       "    <tr style=\"text-align: right;\">\n",
       "      <th></th>\n",
       "      <th>workclass_ Local-gov</th>\n",
       "      <th>workclass_ Never-worked</th>\n",
       "      <th>workclass_ Private</th>\n",
       "      <th>workclass_ Self-emp-inc</th>\n",
       "      <th>workclass_ Self-emp-not-inc</th>\n",
       "      <th>workclass_ State-gov</th>\n",
       "      <th>workclass_ Without-pay</th>\n",
       "      <th>education_ Doctorate</th>\n",
       "      <th>education_ HS-grad</th>\n",
       "      <th>education_ Masters</th>\n",
       "      <th>...</th>\n",
       "      <th>country_ Puerto-Rico</th>\n",
       "      <th>country_ Scotland</th>\n",
       "      <th>country_ South</th>\n",
       "      <th>country_ Taiwan</th>\n",
       "      <th>country_ Thailand</th>\n",
       "      <th>country_ Trinadad&amp;Tobago</th>\n",
       "      <th>country_ United-States</th>\n",
       "      <th>country_ Vietnam</th>\n",
       "      <th>country_ Yugoslavia</th>\n",
       "      <th>country_Others_country</th>\n",
       "    </tr>\n",
       "  </thead>\n",
       "  <tbody>\n",
       "    <tr>\n",
       "      <th>0</th>\n",
       "      <td>0</td>\n",
       "      <td>0</td>\n",
       "      <td>0</td>\n",
       "      <td>0</td>\n",
       "      <td>0</td>\n",
       "      <td>1</td>\n",
       "      <td>0</td>\n",
       "      <td>0</td>\n",
       "      <td>0</td>\n",
       "      <td>0</td>\n",
       "      <td>...</td>\n",
       "      <td>0</td>\n",
       "      <td>0</td>\n",
       "      <td>0</td>\n",
       "      <td>0</td>\n",
       "      <td>0</td>\n",
       "      <td>0</td>\n",
       "      <td>1</td>\n",
       "      <td>0</td>\n",
       "      <td>0</td>\n",
       "      <td>0</td>\n",
       "    </tr>\n",
       "    <tr>\n",
       "      <th>1</th>\n",
       "      <td>0</td>\n",
       "      <td>0</td>\n",
       "      <td>0</td>\n",
       "      <td>0</td>\n",
       "      <td>1</td>\n",
       "      <td>0</td>\n",
       "      <td>0</td>\n",
       "      <td>0</td>\n",
       "      <td>0</td>\n",
       "      <td>0</td>\n",
       "      <td>...</td>\n",
       "      <td>0</td>\n",
       "      <td>0</td>\n",
       "      <td>0</td>\n",
       "      <td>0</td>\n",
       "      <td>0</td>\n",
       "      <td>0</td>\n",
       "      <td>1</td>\n",
       "      <td>0</td>\n",
       "      <td>0</td>\n",
       "      <td>0</td>\n",
       "    </tr>\n",
       "    <tr>\n",
       "      <th>2</th>\n",
       "      <td>0</td>\n",
       "      <td>0</td>\n",
       "      <td>1</td>\n",
       "      <td>0</td>\n",
       "      <td>0</td>\n",
       "      <td>0</td>\n",
       "      <td>0</td>\n",
       "      <td>0</td>\n",
       "      <td>1</td>\n",
       "      <td>0</td>\n",
       "      <td>...</td>\n",
       "      <td>0</td>\n",
       "      <td>0</td>\n",
       "      <td>0</td>\n",
       "      <td>0</td>\n",
       "      <td>0</td>\n",
       "      <td>0</td>\n",
       "      <td>1</td>\n",
       "      <td>0</td>\n",
       "      <td>0</td>\n",
       "      <td>0</td>\n",
       "    </tr>\n",
       "    <tr>\n",
       "      <th>3</th>\n",
       "      <td>0</td>\n",
       "      <td>0</td>\n",
       "      <td>1</td>\n",
       "      <td>0</td>\n",
       "      <td>0</td>\n",
       "      <td>0</td>\n",
       "      <td>0</td>\n",
       "      <td>0</td>\n",
       "      <td>0</td>\n",
       "      <td>0</td>\n",
       "      <td>...</td>\n",
       "      <td>0</td>\n",
       "      <td>0</td>\n",
       "      <td>0</td>\n",
       "      <td>0</td>\n",
       "      <td>0</td>\n",
       "      <td>0</td>\n",
       "      <td>1</td>\n",
       "      <td>0</td>\n",
       "      <td>0</td>\n",
       "      <td>0</td>\n",
       "    </tr>\n",
       "    <tr>\n",
       "      <th>4</th>\n",
       "      <td>0</td>\n",
       "      <td>0</td>\n",
       "      <td>1</td>\n",
       "      <td>0</td>\n",
       "      <td>0</td>\n",
       "      <td>0</td>\n",
       "      <td>0</td>\n",
       "      <td>0</td>\n",
       "      <td>0</td>\n",
       "      <td>0</td>\n",
       "      <td>...</td>\n",
       "      <td>0</td>\n",
       "      <td>0</td>\n",
       "      <td>0</td>\n",
       "      <td>0</td>\n",
       "      <td>0</td>\n",
       "      <td>0</td>\n",
       "      <td>0</td>\n",
       "      <td>0</td>\n",
       "      <td>0</td>\n",
       "      <td>0</td>\n",
       "    </tr>\n",
       "    <tr>\n",
       "      <th>...</th>\n",
       "      <td>...</td>\n",
       "      <td>...</td>\n",
       "      <td>...</td>\n",
       "      <td>...</td>\n",
       "      <td>...</td>\n",
       "      <td>...</td>\n",
       "      <td>...</td>\n",
       "      <td>...</td>\n",
       "      <td>...</td>\n",
       "      <td>...</td>\n",
       "      <td>...</td>\n",
       "      <td>...</td>\n",
       "      <td>...</td>\n",
       "      <td>...</td>\n",
       "      <td>...</td>\n",
       "      <td>...</td>\n",
       "      <td>...</td>\n",
       "      <td>...</td>\n",
       "      <td>...</td>\n",
       "      <td>...</td>\n",
       "      <td>...</td>\n",
       "    </tr>\n",
       "    <tr>\n",
       "      <th>32556</th>\n",
       "      <td>0</td>\n",
       "      <td>0</td>\n",
       "      <td>1</td>\n",
       "      <td>0</td>\n",
       "      <td>0</td>\n",
       "      <td>0</td>\n",
       "      <td>0</td>\n",
       "      <td>0</td>\n",
       "      <td>0</td>\n",
       "      <td>0</td>\n",
       "      <td>...</td>\n",
       "      <td>0</td>\n",
       "      <td>0</td>\n",
       "      <td>0</td>\n",
       "      <td>0</td>\n",
       "      <td>0</td>\n",
       "      <td>0</td>\n",
       "      <td>1</td>\n",
       "      <td>0</td>\n",
       "      <td>0</td>\n",
       "      <td>0</td>\n",
       "    </tr>\n",
       "    <tr>\n",
       "      <th>32557</th>\n",
       "      <td>0</td>\n",
       "      <td>0</td>\n",
       "      <td>1</td>\n",
       "      <td>0</td>\n",
       "      <td>0</td>\n",
       "      <td>0</td>\n",
       "      <td>0</td>\n",
       "      <td>0</td>\n",
       "      <td>1</td>\n",
       "      <td>0</td>\n",
       "      <td>...</td>\n",
       "      <td>0</td>\n",
       "      <td>0</td>\n",
       "      <td>0</td>\n",
       "      <td>0</td>\n",
       "      <td>0</td>\n",
       "      <td>0</td>\n",
       "      <td>1</td>\n",
       "      <td>0</td>\n",
       "      <td>0</td>\n",
       "      <td>0</td>\n",
       "    </tr>\n",
       "    <tr>\n",
       "      <th>32558</th>\n",
       "      <td>0</td>\n",
       "      <td>0</td>\n",
       "      <td>1</td>\n",
       "      <td>0</td>\n",
       "      <td>0</td>\n",
       "      <td>0</td>\n",
       "      <td>0</td>\n",
       "      <td>0</td>\n",
       "      <td>1</td>\n",
       "      <td>0</td>\n",
       "      <td>...</td>\n",
       "      <td>0</td>\n",
       "      <td>0</td>\n",
       "      <td>0</td>\n",
       "      <td>0</td>\n",
       "      <td>0</td>\n",
       "      <td>0</td>\n",
       "      <td>1</td>\n",
       "      <td>0</td>\n",
       "      <td>0</td>\n",
       "      <td>0</td>\n",
       "    </tr>\n",
       "    <tr>\n",
       "      <th>32559</th>\n",
       "      <td>0</td>\n",
       "      <td>0</td>\n",
       "      <td>1</td>\n",
       "      <td>0</td>\n",
       "      <td>0</td>\n",
       "      <td>0</td>\n",
       "      <td>0</td>\n",
       "      <td>0</td>\n",
       "      <td>1</td>\n",
       "      <td>0</td>\n",
       "      <td>...</td>\n",
       "      <td>0</td>\n",
       "      <td>0</td>\n",
       "      <td>0</td>\n",
       "      <td>0</td>\n",
       "      <td>0</td>\n",
       "      <td>0</td>\n",
       "      <td>1</td>\n",
       "      <td>0</td>\n",
       "      <td>0</td>\n",
       "      <td>0</td>\n",
       "    </tr>\n",
       "    <tr>\n",
       "      <th>32560</th>\n",
       "      <td>0</td>\n",
       "      <td>0</td>\n",
       "      <td>0</td>\n",
       "      <td>1</td>\n",
       "      <td>0</td>\n",
       "      <td>0</td>\n",
       "      <td>0</td>\n",
       "      <td>0</td>\n",
       "      <td>1</td>\n",
       "      <td>0</td>\n",
       "      <td>...</td>\n",
       "      <td>0</td>\n",
       "      <td>0</td>\n",
       "      <td>0</td>\n",
       "      <td>0</td>\n",
       "      <td>0</td>\n",
       "      <td>0</td>\n",
       "      <td>1</td>\n",
       "      <td>0</td>\n",
       "      <td>0</td>\n",
       "      <td>0</td>\n",
       "    </tr>\n",
       "  </tbody>\n",
       "</table>\n",
       "<p>32561 rows × 84 columns</p>\n",
       "</div>"
      ],
      "text/plain": [
       "       workclass_ Local-gov  workclass_ Never-worked  workclass_ Private  \\\n",
       "0                         0                        0                   0   \n",
       "1                         0                        0                   0   \n",
       "2                         0                        0                   1   \n",
       "3                         0                        0                   1   \n",
       "4                         0                        0                   1   \n",
       "...                     ...                      ...                 ...   \n",
       "32556                     0                        0                   1   \n",
       "32557                     0                        0                   1   \n",
       "32558                     0                        0                   1   \n",
       "32559                     0                        0                   1   \n",
       "32560                     0                        0                   0   \n",
       "\n",
       "       workclass_ Self-emp-inc  workclass_ Self-emp-not-inc  \\\n",
       "0                            0                            0   \n",
       "1                            0                            1   \n",
       "2                            0                            0   \n",
       "3                            0                            0   \n",
       "4                            0                            0   \n",
       "...                        ...                          ...   \n",
       "32556                        0                            0   \n",
       "32557                        0                            0   \n",
       "32558                        0                            0   \n",
       "32559                        0                            0   \n",
       "32560                        1                            0   \n",
       "\n",
       "       workclass_ State-gov  workclass_ Without-pay  education_ Doctorate  \\\n",
       "0                         1                       0                     0   \n",
       "1                         0                       0                     0   \n",
       "2                         0                       0                     0   \n",
       "3                         0                       0                     0   \n",
       "4                         0                       0                     0   \n",
       "...                     ...                     ...                   ...   \n",
       "32556                     0                       0                     0   \n",
       "32557                     0                       0                     0   \n",
       "32558                     0                       0                     0   \n",
       "32559                     0                       0                     0   \n",
       "32560                     0                       0                     0   \n",
       "\n",
       "       education_ HS-grad  education_ Masters  ...  country_ Puerto-Rico  \\\n",
       "0                       0                   0  ...                     0   \n",
       "1                       0                   0  ...                     0   \n",
       "2                       1                   0  ...                     0   \n",
       "3                       0                   0  ...                     0   \n",
       "4                       0                   0  ...                     0   \n",
       "...                   ...                 ...  ...                   ...   \n",
       "32556                   0                   0  ...                     0   \n",
       "32557                   1                   0  ...                     0   \n",
       "32558                   1                   0  ...                     0   \n",
       "32559                   1                   0  ...                     0   \n",
       "32560                   1                   0  ...                     0   \n",
       "\n",
       "       country_ Scotland  country_ South  country_ Taiwan  country_ Thailand  \\\n",
       "0                      0               0                0                  0   \n",
       "1                      0               0                0                  0   \n",
       "2                      0               0                0                  0   \n",
       "3                      0               0                0                  0   \n",
       "4                      0               0                0                  0   \n",
       "...                  ...             ...              ...                ...   \n",
       "32556                  0               0                0                  0   \n",
       "32557                  0               0                0                  0   \n",
       "32558                  0               0                0                  0   \n",
       "32559                  0               0                0                  0   \n",
       "32560                  0               0                0                  0   \n",
       "\n",
       "       country_ Trinadad&Tobago  country_ United-States  country_ Vietnam  \\\n",
       "0                             0                       1                 0   \n",
       "1                             0                       1                 0   \n",
       "2                             0                       1                 0   \n",
       "3                             0                       1                 0   \n",
       "4                             0                       0                 0   \n",
       "...                         ...                     ...               ...   \n",
       "32556                         0                       1                 0   \n",
       "32557                         0                       1                 0   \n",
       "32558                         0                       1                 0   \n",
       "32559                         0                       1                 0   \n",
       "32560                         0                       1                 0   \n",
       "\n",
       "       country_ Yugoslavia  country_Others_country  \n",
       "0                        0                       0  \n",
       "1                        0                       0  \n",
       "2                        0                       0  \n",
       "3                        0                       0  \n",
       "4                        0                       0  \n",
       "...                    ...                     ...  \n",
       "32556                    0                       0  \n",
       "32557                    0                       0  \n",
       "32558                    0                       0  \n",
       "32559                    0                       0  \n",
       "32560                    0                       0  \n",
       "\n",
       "[32561 rows x 84 columns]"
      ]
     },
     "execution_count": 50,
     "metadata": {},
     "output_type": "execute_result"
    }
   ],
   "source": [
    "df_dummies"
   ]
  },
  {
   "cell_type": "code",
   "execution_count": null,
   "id": "0d2bb8a7",
   "metadata": {},
   "outputs": [],
   "source": [
    "### 2ND FEATURE SELECTION TECHNIQUE (SELECT PERCENTILE FEATURE , CHI2)\n",
    "from sklearn.feature_selection import SelectPercentile , chi2"
   ]
  },
  {
   "cell_type": "code",
   "execution_count": null,
   "id": "c6e26fa6",
   "metadata": {},
   "outputs": [],
   "source": [
    "# instantiate selectpercentile an fit (feature and label)\n",
    "Spercentile = SelectPercentile(score_func = chi2 , percentile = 80)\n",
    "sp = Spercentile.fit(df_dummies,categorical_columns['salary']) "
   ]
  },
  {
   "cell_type": "code",
   "execution_count": null,
   "id": "7a24059c",
   "metadata": {},
   "outputs": [
    {
     "name": "stdout",
     "output_type": "stream",
     "text": [
      "feature index [ 0  1  2  3  4  5  6  7  8  9 10 11 12 13 14 15 16 17 18 20 21 22 23 24\n",
      " 25 26 27 28 29 30 31 32 33 34 35 36 37 38 39 40 41 42 43 45 47 49 50 51\n",
      " 52 54 55 57 60 61 63 64 65 67 68 69 70 71 73 74 77 80 81]\n",
      "feature ['workclass_ Local-gov', 'workclass_ Never-worked', 'workclass_ Private', 'workclass_ Self-emp-inc', 'workclass_ Self-emp-not-inc', 'workclass_ State-gov', 'workclass_ Without-pay', 'education_ Doctorate', 'education_ HS-grad', 'education_ Masters', 'education_Associate', 'education_College', 'education_school', 'marital-status_ Married-AF-spouse', 'marital-status_ Married-civ-spouse', 'marital-status_ Married-spouse-absent', 'marital-status_ Never-married', 'marital-status_ Separated', 'marital-status_ Widowed', 'occupation_ Craft-repair', 'occupation_ Exec-managerial', 'occupation_ Farming-fishing', 'occupation_ Handlers-cleaners', 'occupation_ Machine-op-inspct', 'occupation_ Other-service', 'occupation_ Priv-house-serv', 'occupation_ Prof-specialty', 'occupation_ Protective-serv', 'occupation_ Sales', 'occupation_ Tech-support', 'occupation_ Transport-moving', 'occupation_Others_occupation', 'relationship_ Not-in-family', 'relationship_ Other-relative', 'relationship_ Own-child', 'relationship_ Unmarried', 'relationship_ Wife', 'race_ Asian-Pac-Islander', 'race_ Black', 'race_ Other', 'race_ White', 'sex_ Male', 'country_ Canada', 'country_ Columbia', 'country_ Dominican-Republic', 'country_ El-Salvador', 'country_ England', 'country_ France', 'country_ Germany', 'country_ Guatemala', 'country_ Haiti', 'country_ Honduras', 'country_ India', 'country_ Iran', 'country_ Italy', 'country_ Jamaica', 'country_ Japan', 'country_ Mexico', 'country_ Nicaragua', 'country_ Outlying-US(Guam-USVI-etc)', 'country_ Peru', 'country_ Philippines', 'country_ Portugal', 'country_ Puerto-Rico', 'country_ Taiwan', 'country_ United-States', 'country_ Vietnam']\n"
     ]
    }
   ],
   "source": [
    "# seperate the feature to check the p value\n",
    "cols = Spercentile.get_support(indices = True)  # this will give you index of 80% feature\n",
    "print ('feature index'  , cols)\n",
    "\n",
    "feature = df_dummies.columns[cols]              # this will give you name of that 80% feature\n",
    "print('feature' , list(feature))"
   ]
  },
  {
   "cell_type": "code",
   "execution_count": null,
   "id": "d36b3845",
   "metadata": {},
   "outputs": [
    {
     "data": {
      "text/html": [
       "<div>\n",
       "<style scoped>\n",
       "    .dataframe tbody tr th:only-of-type {\n",
       "        vertical-align: middle;\n",
       "    }\n",
       "\n",
       "    .dataframe tbody tr th {\n",
       "        vertical-align: top;\n",
       "    }\n",
       "\n",
       "    .dataframe thead th {\n",
       "        text-align: right;\n",
       "    }\n",
       "</style>\n",
       "<table border=\"1\" class=\"dataframe\">\n",
       "  <thead>\n",
       "    <tr style=\"text-align: right;\">\n",
       "      <th></th>\n",
       "      <th>feature</th>\n",
       "      <th>chi2_score</th>\n",
       "      <th>p_value</th>\n",
       "    </tr>\n",
       "  </thead>\n",
       "  <tbody>\n",
       "    <tr>\n",
       "      <th>14</th>\n",
       "      <td>marital-status_ Married-civ-spouse</td>\n",
       "      <td>3477.515877</td>\n",
       "      <td>0.000000e+00</td>\n",
       "    </tr>\n",
       "    <tr>\n",
       "      <th>16</th>\n",
       "      <td>marital-status_ Never-married</td>\n",
       "      <td>2218.521977</td>\n",
       "      <td>0.000000e+00</td>\n",
       "    </tr>\n",
       "    <tr>\n",
       "      <th>35</th>\n",
       "      <td>relationship_ Own-child</td>\n",
       "      <td>1435.873016</td>\n",
       "      <td>0.000000e+00</td>\n",
       "    </tr>\n",
       "    <tr>\n",
       "      <th>21</th>\n",
       "      <td>occupation_ Exec-managerial</td>\n",
       "      <td>1315.482632</td>\n",
       "      <td>4.882518e-288</td>\n",
       "    </tr>\n",
       "    <tr>\n",
       "      <th>27</th>\n",
       "      <td>occupation_ Prof-specialty</td>\n",
       "      <td>981.835068</td>\n",
       "      <td>1.594790e-215</td>\n",
       "    </tr>\n",
       "    <tr>\n",
       "      <th>...</th>\n",
       "      <td>...</td>\n",
       "      <td>...</td>\n",
       "      <td>...</td>\n",
       "    </tr>\n",
       "    <tr>\n",
       "      <th>46</th>\n",
       "      <td>country_ Cuba</td>\n",
       "      <td>0.259531</td>\n",
       "      <td>6.104424e-01</td>\n",
       "    </tr>\n",
       "    <tr>\n",
       "      <th>53</th>\n",
       "      <td>country_ Greece</td>\n",
       "      <td>0.194900</td>\n",
       "      <td>6.588693e-01</td>\n",
       "    </tr>\n",
       "    <tr>\n",
       "      <th>62</th>\n",
       "      <td>country_ Ireland</td>\n",
       "      <td>0.138458</td>\n",
       "      <td>7.098189e-01</td>\n",
       "    </tr>\n",
       "    <tr>\n",
       "      <th>59</th>\n",
       "      <td>country_ Hungary</td>\n",
       "      <td>0.007168</td>\n",
       "      <td>9.325272e-01</td>\n",
       "    </tr>\n",
       "    <tr>\n",
       "      <th>75</th>\n",
       "      <td>country_ Scotland</td>\n",
       "      <td>0.005544</td>\n",
       "      <td>9.406455e-01</td>\n",
       "    </tr>\n",
       "  </tbody>\n",
       "</table>\n",
       "<p>84 rows × 3 columns</p>\n",
       "</div>"
      ],
      "text/plain": [
       "                               feature   chi2_score        p_value\n",
       "14  marital-status_ Married-civ-spouse  3477.515877   0.000000e+00\n",
       "16       marital-status_ Never-married  2218.521977   0.000000e+00\n",
       "35             relationship_ Own-child  1435.873016   0.000000e+00\n",
       "21         occupation_ Exec-managerial  1315.482632  4.882518e-288\n",
       "27          occupation_ Prof-specialty   981.835068  1.594790e-215\n",
       "..                                 ...          ...            ...\n",
       "46                       country_ Cuba     0.259531   6.104424e-01\n",
       "53                     country_ Greece     0.194900   6.588693e-01\n",
       "62                    country_ Ireland     0.138458   7.098189e-01\n",
       "59                    country_ Hungary     0.007168   9.325272e-01\n",
       "75                   country_ Scotland     0.005544   9.406455e-01\n",
       "\n",
       "[84 rows x 3 columns]"
      ]
     },
     "execution_count": 55,
     "metadata": {},
     "output_type": "execute_result"
    }
   ],
   "source": [
    "# lets se all the feature vs chi2 score vs pvalue\n",
    "df_score = pd.DataFrame ({'feature':df_dummies.columns , 'chi2_score': Spercentile.scores_ , 'p_value': Spercentile.pvalues_})\n",
    "# this will give all 100% but we have to select 80%\n",
    "df_score.sort_values (by = 'chi2_score' , ascending = False)   "
   ]
  },
  {
   "cell_type": "code",
   "execution_count": null,
   "id": "292e2998",
   "metadata": {},
   "outputs": [],
   "source": [
    "from statsmodels.stats.outliers_influence import variance_inflation_factor\n",
    "#Finding variance inflation factor in each scaled column i.e X_scaled.shape [1] (1/(1-R2))\n",
    "vif = pd.DataFrame()\n",
    "vif[\"vif\"]= [variance_inflation_factor (df_dummies, i) for i in range (df_dummies.shape[1])]\n",
    "vif[\"Features\"] = df_dummies. columns\n",
    "#Let's check the values"
   ]
  },
  {
   "cell_type": "code",
   "execution_count": null,
   "id": "eb26f87a",
   "metadata": {},
   "outputs": [
    {
     "data": {
      "text/html": [
       "<div>\n",
       "<style scoped>\n",
       "    .dataframe tbody tr th:only-of-type {\n",
       "        vertical-align: middle;\n",
       "    }\n",
       "\n",
       "    .dataframe tbody tr th {\n",
       "        vertical-align: top;\n",
       "    }\n",
       "\n",
       "    .dataframe thead th {\n",
       "        text-align: right;\n",
       "    }\n",
       "</style>\n",
       "<table border=\"1\" class=\"dataframe\">\n",
       "  <thead>\n",
       "    <tr style=\"text-align: right;\">\n",
       "      <th></th>\n",
       "      <th>vif</th>\n",
       "      <th>Features</th>\n",
       "    </tr>\n",
       "  </thead>\n",
       "  <tbody>\n",
       "    <tr>\n",
       "      <th>0</th>\n",
       "      <td>0.070876</td>\n",
       "      <td>workclass_ Local-gov</td>\n",
       "    </tr>\n",
       "    <tr>\n",
       "      <th>1</th>\n",
       "      <td>1.012629</td>\n",
       "      <td>workclass_ Never-worked</td>\n",
       "    </tr>\n",
       "    <tr>\n",
       "      <th>2</th>\n",
       "      <td>0.238034</td>\n",
       "      <td>workclass_ Private</td>\n",
       "    </tr>\n",
       "    <tr>\n",
       "      <th>3</th>\n",
       "      <td>0.185621</td>\n",
       "      <td>workclass_ Self-emp-inc</td>\n",
       "    </tr>\n",
       "    <tr>\n",
       "      <th>4</th>\n",
       "      <td>0.360645</td>\n",
       "      <td>workclass_ Self-emp-not-inc</td>\n",
       "    </tr>\n",
       "    <tr>\n",
       "      <th>...</th>\n",
       "      <td>...</td>\n",
       "      <td>...</td>\n",
       "    </tr>\n",
       "    <tr>\n",
       "      <th>79</th>\n",
       "      <td>1.161481</td>\n",
       "      <td>country_ Trinadad&amp;Tobago</td>\n",
       "    </tr>\n",
       "    <tr>\n",
       "      <th>80</th>\n",
       "      <td>1.996720</td>\n",
       "      <td>country_ United-States</td>\n",
       "    </tr>\n",
       "    <tr>\n",
       "      <th>81</th>\n",
       "      <td>1.652101</td>\n",
       "      <td>country_ Vietnam</td>\n",
       "    </tr>\n",
       "    <tr>\n",
       "      <th>82</th>\n",
       "      <td>1.132738</td>\n",
       "      <td>country_ Yugoslavia</td>\n",
       "    </tr>\n",
       "    <tr>\n",
       "      <th>83</th>\n",
       "      <td>0.706597</td>\n",
       "      <td>country_Others_country</td>\n",
       "    </tr>\n",
       "  </tbody>\n",
       "</table>\n",
       "<p>84 rows × 2 columns</p>\n",
       "</div>"
      ],
      "text/plain": [
       "         vif                     Features\n",
       "0   0.070876         workclass_ Local-gov\n",
       "1   1.012629      workclass_ Never-worked\n",
       "2   0.238034           workclass_ Private\n",
       "3   0.185621      workclass_ Self-emp-inc\n",
       "4   0.360645  workclass_ Self-emp-not-inc\n",
       "..       ...                          ...\n",
       "79  1.161481     country_ Trinadad&Tobago\n",
       "80  1.996720       country_ United-States\n",
       "81  1.652101             country_ Vietnam\n",
       "82  1.132738          country_ Yugoslavia\n",
       "83  0.706597       country_Others_country\n",
       "\n",
       "[84 rows x 2 columns]"
      ]
     },
     "execution_count": 57,
     "metadata": {},
     "output_type": "execute_result"
    }
   ],
   "source": [
    "vif"
   ]
  },
  {
   "cell_type": "markdown",
   "id": "5d3da7ce",
   "metadata": {},
   "source": [
    "# Moving Towards continuous_columns_"
   ]
  },
  {
   "cell_type": "code",
   "execution_count": null,
   "id": "a2356c62",
   "metadata": {},
   "outputs": [],
   "source": [
    "df1['salary']=df1['salary'].replace(' <=50K', 0)\n",
    "df1['salary']=df1['salary'].replace(' >50K', 1)"
   ]
  },
  {
   "cell_type": "code",
   "execution_count": null,
   "id": "27060e76",
   "metadata": {},
   "outputs": [
    {
     "name": "stdout",
     "output_type": "stream",
     "text": [
      "continuous_columns_: ['age', 'fnlwgt', 'education-num', 'capital-gain', 'capital-loss', 'hours-per-week', 'salary']\n"
     ]
    }
   ],
   "source": [
    "# get all the continuous columns name\n",
    "num_cols = list(df1.select_dtypes(exclude='object').columns)\n",
    "print(f'continuous_columns_: {num_cols}')"
   ]
  },
  {
   "cell_type": "code",
   "execution_count": null,
   "id": "9b45d53b",
   "metadata": {},
   "outputs": [],
   "source": [
    "continuous_columns_=['age','fnlwgt','capital-gain','capital-loss','hours-per-week','salary']"
   ]
  },
  {
   "cell_type": "code",
   "execution_count": null,
   "id": "723c1c7f",
   "metadata": {},
   "outputs": [],
   "source": [
    "continuous_columns=df1[continuous_columns_].copy()"
   ]
  },
  {
   "cell_type": "code",
   "execution_count": null,
   "id": "ad49885d",
   "metadata": {},
   "outputs": [
    {
     "data": {
      "text/html": [
       "<div>\n",
       "<style scoped>\n",
       "    .dataframe tbody tr th:only-of-type {\n",
       "        vertical-align: middle;\n",
       "    }\n",
       "\n",
       "    .dataframe tbody tr th {\n",
       "        vertical-align: top;\n",
       "    }\n",
       "\n",
       "    .dataframe thead th {\n",
       "        text-align: right;\n",
       "    }\n",
       "</style>\n",
       "<table border=\"1\" class=\"dataframe\">\n",
       "  <thead>\n",
       "    <tr style=\"text-align: right;\">\n",
       "      <th></th>\n",
       "      <th>age</th>\n",
       "      <th>fnlwgt</th>\n",
       "      <th>capital-gain</th>\n",
       "      <th>capital-loss</th>\n",
       "      <th>hours-per-week</th>\n",
       "      <th>salary</th>\n",
       "    </tr>\n",
       "  </thead>\n",
       "  <tbody>\n",
       "    <tr>\n",
       "      <th>0</th>\n",
       "      <td>39</td>\n",
       "      <td>77516</td>\n",
       "      <td>2174</td>\n",
       "      <td>0</td>\n",
       "      <td>40</td>\n",
       "      <td>0</td>\n",
       "    </tr>\n",
       "    <tr>\n",
       "      <th>1</th>\n",
       "      <td>50</td>\n",
       "      <td>83311</td>\n",
       "      <td>0</td>\n",
       "      <td>0</td>\n",
       "      <td>13</td>\n",
       "      <td>0</td>\n",
       "    </tr>\n",
       "    <tr>\n",
       "      <th>2</th>\n",
       "      <td>38</td>\n",
       "      <td>215646</td>\n",
       "      <td>0</td>\n",
       "      <td>0</td>\n",
       "      <td>40</td>\n",
       "      <td>0</td>\n",
       "    </tr>\n",
       "    <tr>\n",
       "      <th>3</th>\n",
       "      <td>53</td>\n",
       "      <td>234721</td>\n",
       "      <td>0</td>\n",
       "      <td>0</td>\n",
       "      <td>40</td>\n",
       "      <td>0</td>\n",
       "    </tr>\n",
       "    <tr>\n",
       "      <th>4</th>\n",
       "      <td>28</td>\n",
       "      <td>338409</td>\n",
       "      <td>0</td>\n",
       "      <td>0</td>\n",
       "      <td>40</td>\n",
       "      <td>0</td>\n",
       "    </tr>\n",
       "    <tr>\n",
       "      <th>...</th>\n",
       "      <td>...</td>\n",
       "      <td>...</td>\n",
       "      <td>...</td>\n",
       "      <td>...</td>\n",
       "      <td>...</td>\n",
       "      <td>...</td>\n",
       "    </tr>\n",
       "    <tr>\n",
       "      <th>32556</th>\n",
       "      <td>27</td>\n",
       "      <td>257302</td>\n",
       "      <td>0</td>\n",
       "      <td>0</td>\n",
       "      <td>38</td>\n",
       "      <td>0</td>\n",
       "    </tr>\n",
       "    <tr>\n",
       "      <th>32557</th>\n",
       "      <td>40</td>\n",
       "      <td>154374</td>\n",
       "      <td>0</td>\n",
       "      <td>0</td>\n",
       "      <td>40</td>\n",
       "      <td>1</td>\n",
       "    </tr>\n",
       "    <tr>\n",
       "      <th>32558</th>\n",
       "      <td>58</td>\n",
       "      <td>151910</td>\n",
       "      <td>0</td>\n",
       "      <td>0</td>\n",
       "      <td>40</td>\n",
       "      <td>0</td>\n",
       "    </tr>\n",
       "    <tr>\n",
       "      <th>32559</th>\n",
       "      <td>22</td>\n",
       "      <td>201490</td>\n",
       "      <td>0</td>\n",
       "      <td>0</td>\n",
       "      <td>20</td>\n",
       "      <td>0</td>\n",
       "    </tr>\n",
       "    <tr>\n",
       "      <th>32560</th>\n",
       "      <td>52</td>\n",
       "      <td>287927</td>\n",
       "      <td>15024</td>\n",
       "      <td>0</td>\n",
       "      <td>40</td>\n",
       "      <td>1</td>\n",
       "    </tr>\n",
       "  </tbody>\n",
       "</table>\n",
       "<p>32561 rows × 6 columns</p>\n",
       "</div>"
      ],
      "text/plain": [
       "       age  fnlwgt  capital-gain  capital-loss  hours-per-week  salary\n",
       "0       39   77516          2174             0              40       0\n",
       "1       50   83311             0             0              13       0\n",
       "2       38  215646             0             0              40       0\n",
       "3       53  234721             0             0              40       0\n",
       "4       28  338409             0             0              40       0\n",
       "...    ...     ...           ...           ...             ...     ...\n",
       "32556   27  257302             0             0              38       0\n",
       "32557   40  154374             0             0              40       1\n",
       "32558   58  151910             0             0              40       0\n",
       "32559   22  201490             0             0              20       0\n",
       "32560   52  287927         15024             0              40       1\n",
       "\n",
       "[32561 rows x 6 columns]"
      ]
     },
     "execution_count": 73,
     "metadata": {},
     "output_type": "execute_result"
    }
   ],
   "source": [
    "continuous_columns"
   ]
  },
  {
   "cell_type": "code",
   "execution_count": null,
   "id": "84d35e3e",
   "metadata": {},
   "outputs": [
    {
     "name": "stdout",
     "output_type": "stream",
     "text": [
      "null value----> 0\n",
      "uniqu value----> [40 13 16 45 50 80 30 35 60 20 52 44 15 25 38 43 55 48 58 32 70  2 22 56\n",
      " 41 28 36 24 46 42 12 65  1 10 34 75 98 33 54  8  6 64 19 18 72  5  9 47\n",
      " 37 21 26 14  4 59  7 99 53 39 62 57 78 90 66 11 49 84  3 17 68 27 85 31\n",
      " 51 77 63 23 87 88 73 89 97 94 29 96 67 82 86 91 81 76 92 61 74 95]\n",
      "skewness----> 0.22764253680450092\n"
     ]
    }
   ],
   "source": [
    "print('null value---->',continuous_columns['hours-per-week'].isnull().sum())\n",
    "print('uniqu value---->',continuous_columns['hours-per-week'].unique())\n",
    "print('skewness---->',continuous_columns['hours-per-week'].skew())"
   ]
  },
  {
   "cell_type": "code",
   "execution_count": null,
   "id": "b748f480",
   "metadata": {},
   "outputs": [
    {
     "name": "stdout",
     "output_type": "stream",
     "text": [
      "null value----> 0\n",
      "uniqu value----> [   0 2042 1408 1902 1573 1887 1719 1762 1564 2179 1816 1980 1977 1876\n",
      " 1340 2206 1741 1485 2339 2415 1380 1721 2051 2377 1669 2352 1672  653\n",
      " 2392 1504 2001 1590 1651 1628 1848 1740 2002 1579 2258 1602  419 2547\n",
      " 2174 2205 1726 2444 1138 2238  625  213 1539  880 1668 1092 1594 3004\n",
      " 2231 1844  810 2824 2559 2057 1974  974 2149 1825 1735 1258 2129 2603\n",
      " 2282  323 4356 2246 1617 1648 2489 3770 1755 3683 2267 2080 2457  155\n",
      " 3900 2201 1944 2467 2163 2754 2472 1411]\n",
      "skewness----> 4.594629121679692\n"
     ]
    }
   ],
   "source": [
    "print('null value---->',continuous_columns['capital-loss'].isnull().sum())\n",
    "print('uniqu value---->',continuous_columns['capital-loss'].unique())\n",
    "print('skewness---->',continuous_columns['capital-loss'].skew())"
   ]
  },
  {
   "cell_type": "code",
   "execution_count": null,
   "id": "f50a4ede",
   "metadata": {},
   "outputs": [
    {
     "name": "stdout",
     "output_type": "stream",
     "text": [
      "null value----> 0\n",
      "uniqu value----> [ 2174     0 14084  5178  5013  2407 14344 15024  7688 34095  4064  4386\n",
      "  7298  1409  3674  1055  3464  2050  2176   594 20051  6849  4101  1111\n",
      "  8614  3411  2597 25236  4650  9386  2463  3103 10605  2964  3325  2580\n",
      "  3471  4865 99999  6514  1471  2329  2105  2885 25124 10520  2202  2961\n",
      " 27828  6767  2228  1506 13550  2635  5556  4787  3781  3137  3818  3942\n",
      "   914   401  2829  2977  4934  2062  2354  5455 15020  1424  3273 22040\n",
      "  4416  3908 10566   991  4931  1086  7430  6497   114  7896  2346  3418\n",
      "  3432  2907  1151  2414  2290 15831 41310  4508  2538  3456  6418  1848\n",
      "  3887  5721  9562  1455  2036  1831 11678  2936  2993  7443  6360  1797\n",
      "  1173  4687  6723  2009  6097  2653  1639 18481  7978  2387  5060]\n",
      "skewness----> 11.953847687699799\n"
     ]
    }
   ],
   "source": [
    "print('null value---->',continuous_columns['capital-gain'].isnull().sum())\n",
    "print('uniqu value---->',continuous_columns['capital-gain'].unique())\n",
    "print('skewness---->',continuous_columns['capital-gain'].skew())"
   ]
  },
  {
   "cell_type": "code",
   "execution_count": null,
   "id": "7408b9ab",
   "metadata": {},
   "outputs": [
    {
     "name": "stdout",
     "output_type": "stream",
     "text": [
      "null value----> 0\n",
      "uniqu value----> [ 77516  83311 215646 ...  34066  84661 257302]\n",
      "skewness----> 1.4469800945789826\n"
     ]
    }
   ],
   "source": [
    "print('null value---->',continuous_columns['fnlwgt'].isnull().sum())\n",
    "print('uniqu value---->',continuous_columns['fnlwgt'].unique())\n",
    "print('skewness---->',continuous_columns['fnlwgt'].skew())"
   ]
  },
  {
   "cell_type": "code",
   "execution_count": null,
   "id": "54392ce4",
   "metadata": {},
   "outputs": [
    {
     "name": "stdout",
     "output_type": "stream",
     "text": [
      "null value----> 0\n",
      "uniqu value----> [39 50 38 53 28 37 49 52 31 42 30 23 32 40 34 25 43 54 35 59 56 19 20 45\n",
      " 22 48 21 24 57 44 41 29 18 47 46 36 79 27 67 33 76 17 55 61 70 64 71 68\n",
      " 66 51 58 26 60 90 75 65 77 62 63 80 72 74 69 73 81 78 88 82 83 84 85 86\n",
      " 87]\n",
      "skewness----> 0.5587433694130484\n"
     ]
    }
   ],
   "source": [
    "print('null value---->',continuous_columns['age'].isnull().sum())\n",
    "print('uniqu value---->',continuous_columns['age'].unique())\n",
    "print('skewness---->',continuous_columns['age'].skew())"
   ]
  },
  {
   "cell_type": "markdown",
   "id": "22f58c24",
   "metadata": {},
   "source": [
    "# correlation with target\n",
    "- Corr with target \n",
    "- heatmap\n",
    "- ANOVA test"
   ]
  },
  {
   "cell_type": "code",
   "execution_count": null,
   "id": "780cb77d",
   "metadata": {},
   "outputs": [],
   "source": [
    "from statsmodels.stats.outliers_influence import variance_inflation_factor\n",
    "#Finding variance inflation factor in each scaled column i.e X_scaled.shape [1] (1/(1-R2))\n",
    "vif = pd.DataFrame()\n",
    "vif[\"vif\"]= [variance_inflation_factor (continuous_columns, i) for i in range (continuous_columns.shape[1])]\n",
    "vif[\"Features\"] = continuous_columns. columns\n",
    "#vif must be done after scaling the data \n",
    "#Let's check the values"
   ]
  },
  {
   "cell_type": "code",
   "execution_count": null,
   "id": "627d682b",
   "metadata": {},
   "outputs": [
    {
     "data": {
      "text/html": [
       "<div>\n",
       "<style scoped>\n",
       "    .dataframe tbody tr th:only-of-type {\n",
       "        vertical-align: middle;\n",
       "    }\n",
       "\n",
       "    .dataframe tbody tr th {\n",
       "        vertical-align: top;\n",
       "    }\n",
       "\n",
       "    .dataframe thead th {\n",
       "        text-align: right;\n",
       "    }\n",
       "</style>\n",
       "<table border=\"1\" class=\"dataframe\">\n",
       "  <thead>\n",
       "    <tr style=\"text-align: right;\">\n",
       "      <th></th>\n",
       "      <th>vif</th>\n",
       "      <th>Features</th>\n",
       "    </tr>\n",
       "  </thead>\n",
       "  <tbody>\n",
       "    <tr>\n",
       "      <th>0</th>\n",
       "      <td>6.218057</td>\n",
       "      <td>age</td>\n",
       "    </tr>\n",
       "    <tr>\n",
       "      <th>1</th>\n",
       "      <td>3.480254</td>\n",
       "      <td>fnlwgt</td>\n",
       "    </tr>\n",
       "    <tr>\n",
       "      <th>2</th>\n",
       "      <td>1.080619</td>\n",
       "      <td>capital-gain</td>\n",
       "    </tr>\n",
       "    <tr>\n",
       "      <th>3</th>\n",
       "      <td>1.077404</td>\n",
       "      <td>capital-loss</td>\n",
       "    </tr>\n",
       "    <tr>\n",
       "      <th>4</th>\n",
       "      <td>6.918160</td>\n",
       "      <td>hours-per-week</td>\n",
       "    </tr>\n",
       "    <tr>\n",
       "      <th>5</th>\n",
       "      <td>1.519501</td>\n",
       "      <td>salary</td>\n",
       "    </tr>\n",
       "  </tbody>\n",
       "</table>\n",
       "</div>"
      ],
      "text/plain": [
       "        vif        Features\n",
       "0  6.218057             age\n",
       "1  3.480254          fnlwgt\n",
       "2  1.080619    capital-gain\n",
       "3  1.077404    capital-loss\n",
       "4  6.918160  hours-per-week\n",
       "5  1.519501          salary"
      ]
     },
     "execution_count": 80,
     "metadata": {},
     "output_type": "execute_result"
    }
   ],
   "source": [
    "vif"
   ]
  },
  {
   "cell_type": "code",
   "execution_count": null,
   "id": "64877be0",
   "metadata": {},
   "outputs": [
    {
     "data": {
      "text/plain": [
       "age               0.234037\n",
       "fnlwgt           -0.009463\n",
       "capital-gain      0.223329\n",
       "capital-loss      0.150526\n",
       "hours-per-week    0.229689\n",
       "salary            1.000000\n",
       "dtype: float64"
      ]
     },
     "execution_count": 82,
     "metadata": {},
     "output_type": "execute_result"
    }
   ],
   "source": [
    "continuous_columns.corrwith(categorical_columns['salary'])"
   ]
  },
  {
   "cell_type": "code",
   "execution_count": null,
   "id": "d5ddf4ac",
   "metadata": {},
   "outputs": [
    {
     "data": {
      "text/plain": [
       "<AxesSubplot:>"
      ]
     },
     "execution_count": 81,
     "metadata": {},
     "output_type": "execute_result"
    },
    {
     "data": {
      "image/png": "[encoded data removed]",
      "text/plain": [
       "<Figure size 1584x504 with 2 Axes>"
      ]
     },
     "metadata": {
      "needs_background": "light"
     },
     "output_type": "display_data"
    }
   ],
   "source": [
    "plt.figure(figsize=(22,7)) # ploting the heat map\n",
    "sns.heatmap(continuous_columns.corr(),annot=True,linewidths=0.1,linecolor=\"black\",fmt=\"0.2f\")"
   ]
  },
  {
   "cell_type": "code",
   "execution_count": null,
   "id": "e6625a44",
   "metadata": {},
   "outputs": [],
   "source": [
    "from sklearn. feature_selection import SelectKBest, f_classif"
   ]
  },
  {
   "cell_type": "code",
   "execution_count": null,
   "id": "3fa03e6a",
   "metadata": {},
   "outputs": [],
   "source": [
    "# Defining a function to find the statistical relationship with all the categorical variables\n",
    "def FunctionAnova(inpData, TargetVariable, categorical_col):\n",
    "    from scipy.stats import f_oneway\n",
    "\n",
    "    # Creating an empty list of final selected predictors\n",
    "    SelectedPredictors=[]\n",
    "    \n",
    "    print('##### ANOVA Results ##### \\n')\n",
    "    for predictor in categorical_col:\n",
    "        CategoryGroupLists=inpData.groupby(predictor)[TargetVariable].apply(list)\n",
    "        AnovaResults = f_oneway(*CategoryGroupLists)\n",
    "        \n",
    "        # If the ANOVA P-Value is <0.05, that means we reject H0\n",
    "        if (AnovaResults[1] < 0.05):\n",
    "            print(predictor, 'is correlated with', TargetVariable, '| P-Value:', AnovaResults[1])\n",
    "            SelectedPredictors.append(predictor)\n",
    "        else:\n",
    "            print(predictor, 'is NOT correlated with', TargetVariable, '| P-Value:', AnovaResults[1])\n",
    "    \n",
    "    return(SelectedPredictors)"
   ]
  },
  {
   "cell_type": "code",
   "execution_count": null,
   "id": "f9bf3bde",
   "metadata": {},
   "outputs": [
    {
     "name": "stdout",
     "output_type": "stream",
     "text": [
      "##### ANOVA Results ##### \n",
      "\n",
      "age is correlated with salary | P-Value: 0.0\n",
      "fnlwgt is correlated with salary | P-Value: 1.5629979058448007e-18\n",
      "capital-gain is correlated with salary | P-Value: 0.0\n",
      "capital-loss is correlated with salary | P-Value: 0.0\n",
      "hours-per-week is correlated with salary | P-Value: 0.0\n",
      "salary is correlated with salary | P-Value: 0.0\n"
     ]
    },
    {
     "data": {
      "text/plain": [
       "['age', 'fnlwgt', 'capital-gain', 'capital-loss', 'hours-per-week', 'salary']"
      ]
     },
     "execution_count": 88,
     "metadata": {},
     "output_type": "execute_result"
    }
   ],
   "source": [
    "FunctionAnova(inpData=continuous_columns, \n",
    "              TargetVariable='salary', \n",
    "              categorical_col=continuous_columns)"
   ]
  },
  {
   "cell_type": "markdown",
   "id": "48339ceb",
   "metadata": {},
   "source": [
    "# Visual Distribution for continuous predictors\n",
    "- displot --> skewness\n",
    "- box plot --> outlires "
   ]
  },
  {
   "cell_type": "markdown",
   "id": "861db95e",
   "metadata": {},
   "source": [
    "# 1 age"
   ]
  },
  {
   "cell_type": "code",
   "execution_count": null,
   "id": "fe7e5a71",
   "metadata": {},
   "outputs": [
    {
     "data": {
      "text/plain": [
       "<AxesSubplot:xlabel='age', ylabel='Density'>"
      ]
     },
     "execution_count": 83,
     "metadata": {},
     "output_type": "execute_result"
    },
    {
     "data": {
      "image/png": "[encoded data removed]",
      "text/plain": [
       "<Figure size 432x288 with 1 Axes>"
      ]
     },
     "metadata": {
      "needs_background": "light"
     },
     "output_type": "display_data"
    }
   ],
   "source": [
    "\n",
    "sns.distplot(continuous_columns['age'])"
   ]
  },
  {
   "cell_type": "code",
   "execution_count": null,
   "id": "5c32b52e",
   "metadata": {},
   "outputs": [
    {
     "data": {
      "text/plain": [
       "<AxesSubplot:xlabel='age'>"
      ]
     },
     "execution_count": 84,
     "metadata": {},
     "output_type": "execute_result"
    },
    {
     "data": {
      "image/png": "[encoded data removed]",
      "text/plain": [
       "<Figure size 432x288 with 1 Axes>"
      ]
     },
     "metadata": {
      "needs_background": "light"
     },
     "output_type": "display_data"
    }
   ],
   "source": [
    "sns.boxplot(continuous_columns['age'])"
   ]
  },
  {
   "cell_type": "markdown",
   "id": "3b7d39a6",
   "metadata": {},
   "source": [
    "# 2 fnlwgt "
   ]
  },
  {
   "cell_type": "code",
   "execution_count": null,
   "id": "e5873367",
   "metadata": {},
   "outputs": [
    {
     "data": {
      "text/plain": [
       "<AxesSubplot:xlabel='fnlwgt', ylabel='Density'>"
      ]
     },
     "execution_count": 97,
     "metadata": {},
     "output_type": "execute_result"
    },
    {
     "data": {
      "image/png": "[encoded data removed]",
      "text/plain": [
       "<Figure size 432x288 with 1 Axes>"
      ]
     },
     "metadata": {
      "needs_background": "light"
     },
     "output_type": "display_data"
    }
   ],
   "source": [
    "sns.distplot(continuous_columns['fnlwgt'])"
   ]
  },
  {
   "cell_type": "code",
   "execution_count": null,
   "id": "9f9c37d8",
   "metadata": {},
   "outputs": [
    {
     "data": {
      "text/plain": [
       "<AxesSubplot:xlabel='fnlwgt'>"
      ]
     },
     "execution_count": 98,
     "metadata": {},
     "output_type": "execute_result"
    },
    {
     "data": {
      "image/png": "[encoded data removed]",
      "text/plain": [
       "<Figure size 432x288 with 1 Axes>"
      ]
     },
     "metadata": {
      "needs_background": "light"
     },
     "output_type": "display_data"
    }
   ],
   "source": [
    "sns.boxplot(continuous_columns['fnlwgt'])"
   ]
  },
  {
   "cell_type": "markdown",
   "id": "c8915129",
   "metadata": {},
   "source": [
    "# 3  capital-gain"
   ]
  },
  {
   "cell_type": "code",
   "execution_count": null,
   "id": "18278732",
   "metadata": {},
   "outputs": [
    {
     "data": {
      "text/plain": [
       "<AxesSubplot:xlabel='capital-gain', ylabel='Density'>"
      ]
     },
     "execution_count": 99,
     "metadata": {},
     "output_type": "execute_result"
    },
    {
     "data": {
      "image/png": "[encoded data removed]",
      "text/plain": [
       "<Figure size 432x288 with 1 Axes>"
      ]
     },
     "metadata": {
      "needs_background": "light"
     },
     "output_type": "display_data"
    }
   ],
   "source": [
    "sns.distplot(continuous_columns['capital-gain'])"
   ]
  },
  {
   "cell_type": "code",
   "execution_count": null,
   "id": "ac9090a3",
   "metadata": {},
   "outputs": [
    {
     "data": {
      "text/plain": [
       "<AxesSubplot:xlabel='capital-gain'>"
      ]
     },
     "execution_count": 100,
     "metadata": {},
     "output_type": "execute_result"
    },
    {
     "data": {
      "image/png": "[encoded data removed]",
      "text/plain": [
       "<Figure size 432x288 with 1 Axes>"
      ]
     },
     "metadata": {
      "needs_background": "light"
     },
     "output_type": "display_data"
    }
   ],
   "source": [
    "sns.boxplot(continuous_columns['capital-gain'])"
   ]
  },
  {
   "cell_type": "markdown",
   "id": "a468b289",
   "metadata": {},
   "source": [
    "# 4 capital-loss"
   ]
  },
  {
   "cell_type": "code",
   "execution_count": null,
   "id": "f05abfb5",
   "metadata": {},
   "outputs": [
    {
     "data": {
      "text/plain": [
       "<AxesSubplot:xlabel='capital-loss', ylabel='Density'>"
      ]
     },
     "execution_count": 101,
     "metadata": {},
     "output_type": "execute_result"
    },
    {
     "data": {
      "image/png": "[encoded data removed]",
      "text/plain": [
       "<Figure size 432x288 with 1 Axes>"
      ]
     },
     "metadata": {
      "needs_background": "light"
     },
     "output_type": "display_data"
    }
   ],
   "source": [
    "sns.distplot(continuous_columns['capital-loss'])"
   ]
  },
  {
   "cell_type": "code",
   "execution_count": null,
   "id": "d02b8b24",
   "metadata": {},
   "outputs": [
    {
     "data": {
      "text/plain": [
       "<AxesSubplot:xlabel='capital-loss'>"
      ]
     },
     "execution_count": 102,
     "metadata": {},
     "output_type": "execute_result"
    },
    {
     "data": {
      "image/png": "[encoded data removed]",
      "text/plain": [
       "<Figure size 432x288 with 1 Axes>"
      ]
     },
     "metadata": {
      "needs_background": "light"
     },
     "output_type": "display_data"
    }
   ],
   "source": [
    "sns.boxplot(continuous_columns['capital-loss'])"
   ]
  },
  {
   "cell_type": "markdown",
   "id": "f86c6306",
   "metadata": {},
   "source": [
    "# 5 hours-per-week"
   ]
  },
  {
   "cell_type": "code",
   "execution_count": null,
   "id": "41bd1212",
   "metadata": {},
   "outputs": [
    {
     "data": {
      "text/plain": [
       "<AxesSubplot:xlabel='hours-per-week', ylabel='Density'>"
      ]
     },
     "execution_count": 104,
     "metadata": {},
     "output_type": "execute_result"
    },
    {
     "data": {
      "image/png": "[encoded data removed]",
      "text/plain": [
       "<Figure size 432x288 with 1 Axes>"
      ]
     },
     "metadata": {
      "needs_background": "light"
     },
     "output_type": "display_data"
    }
   ],
   "source": [
    "sns.distplot(continuous_columns['hours-per-week'])"
   ]
  },
  {
   "cell_type": "code",
   "execution_count": null,
   "id": "a95a4ae7",
   "metadata": {},
   "outputs": [
    {
     "data": {
      "text/plain": [
       "<AxesSubplot:xlabel='hours-per-week'>"
      ]
     },
     "execution_count": 105,
     "metadata": {},
     "output_type": "execute_result"
    },
    {
     "data": {
      "image/png": "[encoded data removed]",
      "text/plain": [
       "<Figure size 432x288 with 1 Axes>"
      ]
     },
     "metadata": {
      "needs_background": "light"
     },
     "output_type": "display_data"
    }
   ],
   "source": [
    "sns.boxplot(continuous_columns['hours-per-week'])"
   ]
  },
  {
   "cell_type": "code",
   "execution_count": null,
   "id": "cd7e1353",
   "metadata": {},
   "outputs": [],
   "source": []
  },
  {
   "cell_type": "code",
   "execution_count": null,
   "id": "e85afb66",
   "metadata": {},
   "outputs": [],
   "source": []
  },
  {
   "cell_type": "markdown",
   "id": "52d7a31e",
   "metadata": {},
   "source": [
    "# skewness treatment \n",
    "### for the below columns \n",
    "1) age  ---> PowerTransformer--> box-cox <br>\n",
    "\n",
    "2) capital-gain ---> PowerTransformer-->yeo-johnson <br>   \n",
    "3) capital-loss---> PowerTransformer-->  yeo-johnson<br>"
   ]
  },
  {
   "cell_type": "markdown",
   "id": "03ddb853",
   "metadata": {},
   "source": [
    "# 1"
   ]
  },
  {
   "cell_type": "code",
   "execution_count": null,
   "id": "4a1a6827",
   "metadata": {},
   "outputs": [],
   "source": [
    "from sklearn.preprocessing import PowerTransformer\n",
    "scaler = PowerTransformer (method='box-cox')\n",
    "continuous_columns['age'] = scaler.fit_transform(continuous_columns[['age']].values)"
   ]
  },
  {
   "cell_type": "code",
   "execution_count": null,
   "id": "26c88e42",
   "metadata": {},
   "outputs": [
    {
     "data": {
      "text/plain": [
       "-0.016122155859744396"
      ]
     },
     "execution_count": 91,
     "metadata": {},
     "output_type": "execute_result"
    }
   ],
   "source": [
    "continuous_columns[ 'age'].skew()"
   ]
  },
  {
   "cell_type": "code",
   "execution_count": null,
   "id": "523caa86",
   "metadata": {},
   "outputs": [
    {
     "data": {
      "text/plain": [
       "<AxesSubplot:xlabel='age'>"
      ]
     },
     "execution_count": 92,
     "metadata": {},
     "output_type": "execute_result"
    },
    {
     "data": {
      "image/png": "[encoded data removed]",
      "text/plain": [
       "<Figure size 432x288 with 1 Axes>"
      ]
     },
     "metadata": {
      "needs_background": "light"
     },
     "output_type": "display_data"
    }
   ],
   "source": [
    "sns.boxplot(continuous_columns['age']) # Final"
   ]
  },
  {
   "cell_type": "markdown",
   "id": "24ec23c7",
   "metadata": {},
   "source": [
    "# 2"
   ]
  },
  {
   "cell_type": "code",
   "execution_count": null,
   "id": "4c5bbfb4",
   "metadata": {},
   "outputs": [],
   "source": [
    "from sklearn.preprocessing import PowerTransformer\n",
    "scaler = PowerTransformer (method='yeo-johnson')\n",
    "continuous_columns['capital-gain'] = scaler.fit_transform(continuous_columns[['capital-gain']].values)"
   ]
  },
  {
   "cell_type": "code",
   "execution_count": null,
   "id": "843b5cdb",
   "metadata": {},
   "outputs": [
    {
     "data": {
      "text/plain": [
       "3.0162831749223002"
      ]
     },
     "execution_count": 94,
     "metadata": {},
     "output_type": "execute_result"
    }
   ],
   "source": [
    "continuous_columns['capital-gain'].skew()"
   ]
  },
  {
   "cell_type": "markdown",
   "id": "548f2f61",
   "metadata": {},
   "source": [
    "# 3"
   ]
  },
  {
   "cell_type": "code",
   "execution_count": null,
   "id": "48de60d3",
   "metadata": {},
   "outputs": [],
   "source": [
    "from sklearn.preprocessing import PowerTransformer\n",
    "scaler = PowerTransformer (method='yeo-johnson')\n",
    "continuous_columns['capital-loss'] = scaler.fit_transform(continuous_columns[['capital-loss']].values)"
   ]
  },
  {
   "cell_type": "code",
   "execution_count": null,
   "id": "763d37ea",
   "metadata": {},
   "outputs": [
    {
     "data": {
      "text/plain": [
       "4.299587185399981"
      ]
     },
     "execution_count": 96,
     "metadata": {},
     "output_type": "execute_result"
    }
   ],
   "source": [
    "continuous_columns['capital-loss'].skew()"
   ]
  },
  {
   "cell_type": "code",
   "execution_count": null,
   "id": "c5ce75dc",
   "metadata": {},
   "outputs": [],
   "source": [
    "from sklearn.preprocessing import PowerTransformer\n",
    "scaler = PowerTransformer (method='yeo-johnson')\n",
    "continuous_columns['fnlwgt'] = scaler.fit_transform(continuous_columns[['fnlwgt']].values)"
   ]
  },
  {
   "cell_type": "code",
   "execution_count": null,
   "id": "98765a12",
   "metadata": {},
   "outputs": [
    {
     "data": {
      "text/plain": [
       "0.016901991421126465"
      ]
     },
     "execution_count": 109,
     "metadata": {},
     "output_type": "execute_result"
    }
   ],
   "source": [
    "continuous_columns['fnlwgt'].skew()"
   ]
  },
  {
   "cell_type": "code",
   "execution_count": null,
   "id": "e8044eb5",
   "metadata": {},
   "outputs": [],
   "source": [
    "X = continuous_columns.drop('salary', axis=1)\n",
    "y = continuous_columns.salary"
   ]
  },
  {
   "cell_type": "code",
   "execution_count": null,
   "id": "06c619b5",
   "metadata": {},
   "outputs": [],
   "source": [
    "from statsmodels.stats.outliers_influence import variance_inflation_factor\n",
    "#Finding variance inflation factor in each scaled column i.e X_scaled.shape [1] (1/(1-R2))\n",
    "vif = pd.DataFrame()\n",
    "vif[\"vif\"]= [variance_inflation_factor (continuous_columns, i) for i in range (continuous_columns.shape[1])]\n",
    "vif[\"Features\"] = continuous_columns. columns\n",
    "#vif must be done after scaling the data \n",
    "#Let's check the values"
   ]
  },
  {
   "cell_type": "code",
   "execution_count": null,
   "id": "e026af1b",
   "metadata": {},
   "outputs": [
    {
     "data": {
      "text/html": [
       "<div>\n",
       "<style scoped>\n",
       "    .dataframe tbody tr th:only-of-type {\n",
       "        vertical-align: middle;\n",
       "    }\n",
       "\n",
       "    .dataframe tbody tr th {\n",
       "        vertical-align: top;\n",
       "    }\n",
       "\n",
       "    .dataframe thead th {\n",
       "        text-align: right;\n",
       "    }\n",
       "</style>\n",
       "<table border=\"1\" class=\"dataframe\">\n",
       "  <thead>\n",
       "    <tr style=\"text-align: right;\">\n",
       "      <th></th>\n",
       "      <th>vif</th>\n",
       "      <th>Features</th>\n",
       "    </tr>\n",
       "  </thead>\n",
       "  <tbody>\n",
       "    <tr>\n",
       "      <th>0</th>\n",
       "      <td>1.075574</td>\n",
       "      <td>age</td>\n",
       "    </tr>\n",
       "    <tr>\n",
       "      <th>1</th>\n",
       "      <td>1.005114</td>\n",
       "      <td>fnlwgt</td>\n",
       "    </tr>\n",
       "    <tr>\n",
       "      <th>2</th>\n",
       "      <td>1.074315</td>\n",
       "      <td>capital-gain</td>\n",
       "    </tr>\n",
       "    <tr>\n",
       "      <th>3</th>\n",
       "      <td>1.026838</td>\n",
       "      <td>capital-loss</td>\n",
       "    </tr>\n",
       "    <tr>\n",
       "      <th>4</th>\n",
       "      <td>1.051184</td>\n",
       "      <td>hours-per-week</td>\n",
       "    </tr>\n",
       "    <tr>\n",
       "      <th>5</th>\n",
       "      <td>1.155016</td>\n",
       "      <td>salary</td>\n",
       "    </tr>\n",
       "  </tbody>\n",
       "</table>\n",
       "</div>"
      ],
      "text/plain": [
       "        vif        Features\n",
       "0  1.075574             age\n",
       "1  1.005114          fnlwgt\n",
       "2  1.074315    capital-gain\n",
       "3  1.026838    capital-loss\n",
       "4  1.051184  hours-per-week\n",
       "5  1.155016          salary"
      ]
     },
     "execution_count": 112,
     "metadata": {},
     "output_type": "execute_result"
    }
   ],
   "source": [
    "vif"
   ]
  },
  {
   "cell_type": "markdown",
   "id": "4fd45579",
   "metadata": {},
   "source": [
    "# Select the best predictors  Using SelectKBest technique"
   ]
  },
  {
   "cell_type": "code",
   "execution_count": null,
   "id": "e3b93934",
   "metadata": {},
   "outputs": [
    {
     "name": "stdout",
     "output_type": "stream",
     "text": [
      "     Feature_Name        Score\n",
      "2    capital-gain  2482.512830\n",
      "0             age  2441.170993\n",
      "4  hours-per-week  1813.350200\n",
      "3    capital-loss   638.575003\n"
     ]
    }
   ],
   "source": [
    "best_features = SelectKBest(score_func=f_classif, k=4) # k means how many feature we want to select from  out off\n",
    "fit= best_features.fit (X,y)\n",
    "\n",
    "df_scores = pd.DataFrame (fit.scores_)\n",
    "df_columns= pd.DataFrame (X.columns)\n",
    "#concatenate dataframes\n",
    "feature_scores = pd.concat([df_columns, df_scores], axis=1)\n",
    "feature_scores.columns = ['Feature_Name', 'Score'] # name output columns\n",
    "\n",
    "print (feature_scores.nlargest (4, 'Score')) # print 17 best features"
   ]
  },
  {
   "cell_type": "code",
   "execution_count": null,
   "id": "a8d4d0c2",
   "metadata": {},
   "outputs": [],
   "source": [
    "continuous_columns.drop(columns=['fnlwgt'],axis=1,inplace=True)"
   ]
  },
  {
   "cell_type": "markdown",
   "id": "eda2e141",
   "metadata": {},
   "source": [
    "# Selecting final predictors for Machine Learning model"
   ]
  },
  {
   "cell_type": "code",
   "execution_count": null,
   "id": "f4010315",
   "metadata": {},
   "outputs": [],
   "source": [
    "SelectedColumns=[df_dummies.columns,continuous_columns.columns]"
   ]
  },
  {
   "cell_type": "code",
   "execution_count": null,
   "id": "93b4874e",
   "metadata": {},
   "outputs": [
    {
     "data": {
      "text/plain": [
       "[Index(['workclass_ Local-gov', 'workclass_ Never-worked', 'workclass_ Private',\n",
       "        'workclass_ Self-emp-inc', 'workclass_ Self-emp-not-inc',\n",
       "        'workclass_ State-gov', 'workclass_ Without-pay',\n",
       "        'education_ Doctorate', 'education_ HS-grad', 'education_ Masters',\n",
       "        'education_Associate', 'education_College', 'education_school',\n",
       "        'marital-status_ Married-AF-spouse',\n",
       "        'marital-status_ Married-civ-spouse',\n",
       "        'marital-status_ Married-spouse-absent',\n",
       "        'marital-status_ Never-married', 'marital-status_ Separated',\n",
       "        'marital-status_ Widowed', 'occupation_ Armed-Forces',\n",
       "        'occupation_ Craft-repair', 'occupation_ Exec-managerial',\n",
       "        'occupation_ Farming-fishing', 'occupation_ Handlers-cleaners',\n",
       "        'occupation_ Machine-op-inspct', 'occupation_ Other-service',\n",
       "        'occupation_ Priv-house-serv', 'occupation_ Prof-specialty',\n",
       "        'occupation_ Protective-serv', 'occupation_ Sales',\n",
       "        'occupation_ Tech-support', 'occupation_ Transport-moving',\n",
       "        'occupation_Others_occupation', 'relationship_ Not-in-family',\n",
       "        'relationship_ Other-relative', 'relationship_ Own-child',\n",
       "        'relationship_ Unmarried', 'relationship_ Wife',\n",
       "        'race_ Asian-Pac-Islander', 'race_ Black', 'race_ Other', 'race_ White',\n",
       "        'sex_ Male', 'country_ Canada', 'country_ China', 'country_ Columbia',\n",
       "        'country_ Cuba', 'country_ Dominican-Republic', 'country_ Ecuador',\n",
       "        'country_ El-Salvador', 'country_ England', 'country_ France',\n",
       "        'country_ Germany', 'country_ Greece', 'country_ Guatemala',\n",
       "        'country_ Haiti', 'country_ Holand-Netherlands', 'country_ Honduras',\n",
       "        'country_ Hong', 'country_ Hungary', 'country_ India', 'country_ Iran',\n",
       "        'country_ Ireland', 'country_ Italy', 'country_ Jamaica',\n",
       "        'country_ Japan', 'country_ Laos', 'country_ Mexico',\n",
       "        'country_ Nicaragua', 'country_ Outlying-US(Guam-USVI-etc)',\n",
       "        'country_ Peru', 'country_ Philippines', 'country_ Poland',\n",
       "        'country_ Portugal', 'country_ Puerto-Rico', 'country_ Scotland',\n",
       "        'country_ South', 'country_ Taiwan', 'country_ Thailand',\n",
       "        'country_ Trinadad&Tobago', 'country_ United-States',\n",
       "        'country_ Vietnam', 'country_ Yugoslavia', 'country_Others_country'],\n",
       "       dtype='object'),\n",
       " Index(['age', 'capital-gain', 'capital-loss', 'hours-per-week', 'salary'], dtype='object')]"
      ]
     },
     "execution_count": 118,
     "metadata": {},
     "output_type": "execute_result"
    }
   ],
   "source": [
    "SelectedColumns"
   ]
  },
  {
   "cell_type": "code",
   "execution_count": null,
   "id": "1e720a46",
   "metadata": {},
   "outputs": [],
   "source": [
    "# Concatenation\n",
    "features_for_ml= dfcat2 = pd.concat([continuous_columns,df_dummies],axis=1)"
   ]
  },
  {
   "cell_type": "code",
   "execution_count": null,
   "id": "80ff49f4",
   "metadata": {},
   "outputs": [],
   "source": [
    "x = features_for_ml.drop (columns = ['salary'])\n",
    "y = features_for_ml[ 'salary']"
   ]
  },
  {
   "cell_type": "markdown",
   "id": "9d8c2231",
   "metadata": {},
   "source": [
    "# Using SMOTE to balance the data set "
   ]
  },
  {
   "cell_type": "code",
   "execution_count": null,
   "id": "42c458c2",
   "metadata": {},
   "outputs": [
    {
     "name": "stdout",
     "output_type": "stream",
     "text": [
      "(32561, 88) (32561,)\n",
      "(49440, 88) (49440,)\n"
     ]
    }
   ],
   "source": [
    "from imblearn.over_sampling import SMOTE\n",
    "\n",
    "\n",
    "print(x.shape,y.shape)\n",
    "oversample = SMOTE()\n",
    "f, l = oversample.fit_resample(x, y)\n",
    "print(f.shape,l.shape)"
   ]
  },
  {
   "cell_type": "code",
   "execution_count": null,
   "id": "ee3d3af8",
   "metadata": {},
   "outputs": [
    {
     "data": {
      "text/plain": [
       "<AxesSubplot:xlabel='salary', ylabel='count'>"
      ]
     },
     "execution_count": 124,
     "metadata": {},
     "output_type": "execute_result"
    },
    {
     "data": {
      "image/png": "[encoded data removed]",
      "text/plain": [
       "<Figure size 432x288 with 1 Axes>"
      ]
     },
     "metadata": {
      "needs_background": "light"
     },
     "output_type": "display_data"
    }
   ],
   "source": [
    "sns.countplot(x=l)"
   ]
  },
  {
   "cell_type": "code",
   "execution_count": null,
   "id": "6922489b",
   "metadata": {},
   "outputs": [],
   "source": [
    "log_reg = LogisticRegression ()"
   ]
  },
  {
   "cell_type": "code",
   "execution_count": null,
   "id": "3326bad6",
   "metadata": {},
   "outputs": [
    {
     "name": "stdout",
     "output_type": "stream",
     "text": [
      "accuracy_score:- 0.8425026968716289 Random state:- 51\n"
     ]
    }
   ],
   "source": [
    "maxacc=0\n",
    "maxrn\n",
    "\n",
    "for i in range(1,100):\n",
    "    x_train,x_test,y_train,y_test=train_test_split(f,l,test_size=.30,random_state=i)\n",
    "    log_reg.fit(x_train,y_train)\n",
    "    pred=log_reg.predict(x_test)\n",
    "    score=accuracy_score(pred,y_test)\n",
    "    if score>maxacc:\n",
    "        maxacc=score\n",
    "        maxrn=i\n",
    "print('accuracy_score:-',maxacc,'Random state:-',maxrn)"
   ]
  },
  {
   "cell_type": "code",
   "execution_count": null,
   "id": "f5b66187",
   "metadata": {},
   "outputs": [],
   "source": [
    "x_train,x_test,y_train,y_test= train_test_split(f , l, test_size= 0.25, random_state = 51)"
   ]
  },
  {
   "cell_type": "code",
   "execution_count": null,
   "id": "8c4496aa",
   "metadata": {},
   "outputs": [
    {
     "data": {
      "text/html": [
       "<style>#sk-container-id-3 {color: black;background-color: white;}#sk-container-id-3 pre{padding: 0;}#sk-container-id-3 div.sk-toggleable {background-color: white;}#sk-container-id-3 label.sk-toggleable__label {cursor: pointer;display: block;width: 100%;margin-bottom: 0;padding: 0.3em;box-sizing: border-box;text-align: center;}#sk-container-id-3 label.sk-toggleable__label-arrow:before {content: \"▸\";float: left;margin-right: 0.25em;color: #696969;}#sk-container-id-3 label.sk-toggleable__label-arrow:hover:before {color: black;}#sk-container-id-3 div.sk-estimator:hover label.sk-toggleable__label-arrow:before {color: black;}#sk-container-id-3 div.sk-toggleable__content {max-height: 0;max-width: 0;overflow: hidden;text-align: left;background-color: #f0f8ff;}#sk-container-id-3 div.sk-toggleable__content pre {margin: 0.2em;color: black;border-radius: 0.25em;background-color: #f0f8ff;}#sk-container-id-3 input.sk-toggleable__control:checked~div.sk-toggleable__content {max-height: 200px;max-width: 100%;overflow: auto;}#sk-container-id-3 input.sk-toggleable__control:checked~label.sk-toggleable__label-arrow:before {content: \"▾\";}#sk-container-id-3 div.sk-estimator input.sk-toggleable__control:checked~label.sk-toggleable__label {background-color: #d4ebff;}#sk-container-id-3 div.sk-label input.sk-toggleable__control:checked~label.sk-toggleable__label {background-color: #d4ebff;}#sk-container-id-3 input.sk-hidden--visually {border: 0;clip: rect(1px 1px 1px 1px);clip: rect(1px, 1px, 1px, 1px);height: 1px;margin: -1px;overflow: hidden;padding: 0;position: absolute;width: 1px;}#sk-container-id-3 div.sk-estimator {font-family: monospace;background-color: #f0f8ff;border: 1px dotted black;border-radius: 0.25em;box-sizing: border-box;margin-bottom: 0.5em;}#sk-container-id-3 div.sk-estimator:hover {background-color: #d4ebff;}#sk-container-id-3 div.sk-parallel-item::after {content: \"\";width: 100%;border-bottom: 1px solid gray;flex-grow: 1;}#sk-container-id-3 div.sk-label:hover label.sk-toggleable__label {background-color: #d4ebff;}#sk-container-id-3 div.sk-serial::before {content: \"\";position: absolute;border-left: 1px solid gray;box-sizing: border-box;top: 0;bottom: 0;left: 50%;z-index: 0;}#sk-container-id-3 div.sk-serial {display: flex;flex-direction: column;align-items: center;background-color: white;padding-right: 0.2em;padding-left: 0.2em;position: relative;}#sk-container-id-3 div.sk-item {position: relative;z-index: 1;}#sk-container-id-3 div.sk-parallel {display: flex;align-items: stretch;justify-content: center;background-color: white;position: relative;}#sk-container-id-3 div.sk-item::before, #sk-container-id-3 div.sk-parallel-item::before {content: \"\";position: absolute;border-left: 1px solid gray;box-sizing: border-box;top: 0;bottom: 0;left: 50%;z-index: -1;}#sk-container-id-3 div.sk-parallel-item {display: flex;flex-direction: column;z-index: 1;position: relative;background-color: white;}#sk-container-id-3 div.sk-parallel-item:first-child::after {align-self: flex-end;width: 50%;}#sk-container-id-3 div.sk-parallel-item:last-child::after {align-self: flex-start;width: 50%;}#sk-container-id-3 div.sk-parallel-item:only-child::after {width: 0;}#sk-container-id-3 div.sk-dashed-wrapped {border: 1px dashed gray;margin: 0 0.4em 0.5em 0.4em;box-sizing: border-box;padding-bottom: 0.4em;background-color: white;}#sk-container-id-3 div.sk-label label {font-family: monospace;font-weight: bold;display: inline-block;line-height: 1.2em;}#sk-container-id-3 div.sk-label-container {text-align: center;}#sk-container-id-3 div.sk-container {/* jupyter's `normalize.less` sets `[hidden] { display: none; }` but bootstrap.min.css set `[hidden] { display: none !important; }` so we also need the `!important` here to be able to override the default hidden behavior on the sphinx rendered scikit-learn.org. See: https://github.com/scikit-learn/scikit-learn/issues/21755 */display: inline-block !important;position: relative;}#sk-container-id-3 div.sk-text-repr-fallback {display: none;}</style><div id=\"sk-container-id-3\" class=\"sk-top-container\"><div class=\"sk-text-repr-fallback\"><pre>LogisticRegression()</pre><b>In a Jupyter environment, please rerun this cell to show the HTML representation or trust the notebook. <br />On GitHub, the HTML representation is unable to render, please try loading this page with nbviewer.org.</b></div><div class=\"sk-container\" hidden><div class=\"sk-item\"><div class=\"sk-estimator sk-toggleable\"><input class=\"sk-toggleable__control sk-hidden--visually\" id=\"sk-estimator-id-3\" type=\"checkbox\" checked><label for=\"sk-estimator-id-3\" class=\"sk-toggleable__label sk-toggleable__label-arrow\">LogisticRegression</label><div class=\"sk-toggleable__content\"><pre>LogisticRegression()</pre></div></div></div></div></div>"
      ],
      "text/plain": [
       "LogisticRegression()"
      ]
     },
     "execution_count": 133,
     "metadata": {},
     "output_type": "execute_result"
    }
   ],
   "source": [
    "log_reg.fit(x_train, y_train)"
   ]
  },
  {
   "cell_type": "code",
   "execution_count": null,
   "id": "7a4e8c94",
   "metadata": {},
   "outputs": [],
   "source": [
    "from sklearn.metrics import classification_report"
   ]
  },
  {
   "cell_type": "code",
   "execution_count": null,
   "id": "f18683af",
   "metadata": {},
   "outputs": [
    {
     "data": {
      "text/plain": [
       "array([0, 0, 1, ..., 1, 0, 1], dtype=int64)"
      ]
     },
     "execution_count": 135,
     "metadata": {},
     "output_type": "execute_result"
    }
   ],
   "source": [
    "y_pred = log_reg.predict(x_test)\n",
    "y_pred"
   ]
  },
  {
   "cell_type": "code",
   "execution_count": null,
   "id": "24c4d514",
   "metadata": {},
   "outputs": [
    {
     "data": {
      "text/plain": [
       "0.8418284789644013"
      ]
     },
     "execution_count": 136,
     "metadata": {},
     "output_type": "execute_result"
    }
   ],
   "source": [
    "#Model Accuracy\n",
    "accuracy = accuracy_score(y_test,y_pred)\n",
    "accuracy"
   ]
  },
  {
   "cell_type": "code",
   "execution_count": null,
   "id": "4be026ed",
   "metadata": {},
   "outputs": [
    {
     "data": {
      "text/plain": [
       "array([[5008, 1174],\n",
       "       [ 781, 5397]], dtype=int64)"
      ]
     },
     "execution_count": 137,
     "metadata": {},
     "output_type": "execute_result"
    }
   ],
   "source": [
    "# Confusion Matrix\n",
    "conf_mat = confusion_matrix(y_test,y_pred)\n",
    "conf_mat"
   ]
  },
  {
   "cell_type": "code",
   "execution_count": null,
   "id": "3df22736",
   "metadata": {},
   "outputs": [
    {
     "name": "stdout",
     "output_type": "stream",
     "text": [
      "              precision    recall  f1-score   support\n",
      "\n",
      "           0       0.87      0.81      0.84      6182\n",
      "           1       0.82      0.87      0.85      6178\n",
      "\n",
      "    accuracy                           0.84     12360\n",
      "   macro avg       0.84      0.84      0.84     12360\n",
      "weighted avg       0.84      0.84      0.84     12360\n",
      "\n"
     ]
    }
   ],
   "source": [
    "print (classification_report(y_test,y_pred))"
   ]
  },
  {
   "cell_type": "code",
   "execution_count": null,
   "id": "9c74b0db",
   "metadata": {},
   "outputs": [],
   "source": [
    "# ROC Curve\n",
    "from sklearn.metrics import accuracy_score, confusion_matrix, roc_curve, roc_auc_score\n",
    "fpr, tpr, thresholds = roc_curve (y_test, y_pred)"
   ]
  },
  {
   "cell_type": "code",
   "execution_count": null,
   "id": "1a3c7899",
   "metadata": {},
   "outputs": [
    {
     "name": "stdout",
     "output_type": "stream",
     "text": [
      "Threshold = [2 1 0]\n",
      "True Positive rate =  [0.         0.87358368 1.        ]\n",
      "False Positive rate =  [0.         0.18990618 1.        ]\n"
     ]
    }
   ],
   "source": [
    "# thresholds [0] means no instances predicted (It should be read from 0-max)\n",
    "print ('Threshold =', thresholds)\n",
    "print ('True Positive rate = ',tpr)\n",
    "print ('False Positive rate = ',fpr)"
   ]
  },
  {
   "cell_type": "code",
   "execution_count": null,
   "id": "6f8b4820",
   "metadata": {},
   "outputs": [
    {
     "data": {
      "text/plain": [
       "<matplotlib.legend.Legend at 0x19922631d30>"
      ]
     },
     "execution_count": 141,
     "metadata": {},
     "output_type": "execute_result"
    },
    {
     "data": {
      "image/png": "[encoded data removed]",
      "text/plain": [
       "<Figure size 432x288 with 1 Axes>"
      ]
     },
     "metadata": {
      "needs_background": "light"
     },
     "output_type": "display_data"
    }
   ],
   "source": [
    "plt.plot(fpr, tpr, color='orange', label='ROC')\n",
    "plt.plot([0, 1], [0, 1], color='darkblue', linestyle='--' )\n",
    "plt.xlabel('False Positive Rate')\n",
    "plt.ylabel('True Positive Rate')\n",
    "plt.title('Receiver Operating Characteristic (ROC) Curve')\n",
    "plt.legend()"
   ]
  },
  {
   "cell_type": "code",
   "execution_count": null,
   "id": "f2cf590c",
   "metadata": {},
   "outputs": [
    {
     "name": "stdout",
     "output_type": "stream",
     "text": [
      "0.8418387524050598\n"
     ]
    }
   ],
   "source": [
    "# How much area it is covering (AUC)\n",
    "\n",
    "auc_score = roc_auc_score (y_test,y_pred)\n",
    "print (auc_score)"
   ]
  },
  {
   "cell_type": "code",
   "execution_count": null,
   "id": "b92c5a72",
   "metadata": {},
   "outputs": [
    {
     "name": "stdout",
     "output_type": "stream",
     "text": [
      "accuracy_score:- 0.8520091693635383 Random state:- 46\n"
     ]
    }
   ],
   "source": [
    "knn=KNeighborsClassifier()\n",
    "maxacc=0\n",
    "maxrn=0\n",
    "\n",
    "for i in range(1,100):\n",
    "    x_train,x_test,y_train,y_test=train_test_split(f,l,test_size=.30,random_state=i)\n",
    "    knn.fit(x_train,y_train)\n",
    "    pred=knn.predict(x_test)\n",
    "    score=accuracy_score(pred,y_test)\n",
    "    if score>maxacc:\n",
    "        maxacc=score\n",
    "        maxrn=i\n",
    "print('accuracy_score:-',maxacc,'Random state:-',maxrn)"
   ]
  },
  {
   "cell_type": "code",
   "execution_count": null,
   "id": "c14c765e",
   "metadata": {},
   "outputs": [],
   "source": [
    "x_train,x_test,y_train,y_test=train_test_split(f,l,test_size=0.3,random_state=46)"
   ]
  },
  {
   "cell_type": "code",
   "execution_count": null,
   "id": "ded144c0",
   "metadata": {},
   "outputs": [
    {
     "name": "stdout",
     "output_type": "stream",
     "text": [
      "accuracy score through logistic regression is \n",
      "0.852\n",
      "classification report is\n",
      "              precision    recall  f1-score   support\n",
      "\n",
      "           0       0.91      0.78      0.84      7392\n",
      "           1       0.81      0.92      0.86      7440\n",
      "\n",
      "    accuracy                           0.85     14832\n",
      "   macro avg       0.86      0.85      0.85     14832\n",
      "weighted avg       0.86      0.85      0.85     14832\n",
      "\n",
      "confusion matrix is\n",
      "[[5802 1590]\n",
      " [ 605 6835]]\n",
      "\n",
      "\n"
     ]
    }
   ],
   "source": [
    "knn.fit(x_train,y_train)\n",
    "pred=knn.predict(x_test)\n",
    "print('accuracy score through logistic regression is ')\n",
    "print(round((accuracy_score(y_test,pred)),3))\n",
    "print('classification report is')\n",
    "print(classification_report(y_test,pred))\n",
    "print('confusion matrix is')\n",
    "print(confusion_matrix(y_test,pred))\n",
    "print('\\n')"
   ]
  },
  {
   "cell_type": "code",
   "execution_count": null,
   "id": "f733935e",
   "metadata": {},
   "outputs": [
    {
     "data": {
      "text/plain": [
       "array([0.82898463, 0.84142395, 0.85264968, 0.86043689, 0.85851537])"
      ]
     },
     "execution_count": 146,
     "metadata": {},
     "output_type": "execute_result"
    }
   ],
   "source": [
    "cross_val_score (knn, f, l, cv=5)"
   ]
  },
  {
   "cell_type": "code",
   "execution_count": null,
   "id": "3385b0e0",
   "metadata": {},
   "outputs": [
    {
     "data": {
      "text/plain": [
       "0.8484021035598704"
      ]
     },
     "execution_count": 147,
     "metadata": {},
     "output_type": "execute_result"
    }
   ],
   "source": [
    "cross_val_score (knn, f, l, cv=5).mean()"
   ]
  },
  {
   "cell_type": "markdown",
   "id": "a0cd4d15",
   "metadata": {},
   "source": [
    "# Lets use Ensemble approch\n",
    "####  Bagging and boosting"
   ]
  },
  {
   "attachments": {
    "image.png": {
     "image/png": "[encoded data removed]"
    }
   },
   "cell_type": "markdown",
   "id": "07331f7f",
   "metadata": {},
   "source": [
    "![image.png](attachment:image.png)"
   ]
  },
  {
   "cell_type": "code",
   "execution_count": null,
   "id": "f6b92d72",
   "metadata": {},
   "outputs": [],
   "source": [
    "from sklearn.ensemble import BaggingClassifier"
   ]
  },
  {
   "cell_type": "code",
   "execution_count": null,
   "id": "ac790702",
   "metadata": {},
   "outputs": [],
   "source": [
    "bag_knn = BaggingClassifier(\n",
    "                             KNeighborsClassifier (n_neighbors=5), # value of k = 5 \n",
    "                             n_estimators=9, max_samples=0.7, # n_estimators means 9 model you have build \n",
    "                             bootstrap=True, random_state=3, oob_score=True\n",
    "                            )"
   ]
  },
  {
   "cell_type": "code",
   "execution_count": null,
   "id": "0908def2",
   "metadata": {},
   "outputs": [
    {
     "data": {
      "text/plain": [
       "0.8457389428263214"
      ]
     },
     "execution_count": 151,
     "metadata": {},
     "output_type": "execute_result"
    }
   ],
   "source": [
    "bag_knn.fit (x_train, y_train)\n",
    "bag_knn.score (x_test, y_test)"
   ]
  },
  {
   "cell_type": "code",
   "execution_count": null,
   "id": "9576983a",
   "metadata": {},
   "outputs": [],
   "source": [
    "from sklearn.ensemble import RandomForestClassifier"
   ]
  },
  {
   "cell_type": "code",
   "execution_count": null,
   "id": "2b256753",
   "metadata": {},
   "outputs": [],
   "source": [
    "# Write one function and call as many as times to check accuracy_score of different models\n",
    "def metric_score (clf, x_train,x_test,y_train,y_test, train=True):\n",
    "    if train:\n",
    "        y_pred = clf.predict (x_train)\n",
    "        print(\"\\n================Train Result=====\")\n",
    "        print (f\"Accuracy Score: {accuracy_score(y_train, y_pred) * 100:.2f}%\")\n",
    "    elif train==False:\n",
    "        pred = clf.predict(x_test)\n",
    "        print(\"\\n=================Test Result================\")\n",
    "        print (f\"Accuracy Score: {accuracy_score(y_test, pred)* 100:.2f}%\")\n",
    "        print ('\\n \\n Test Classification Report \\n', classification_report(y_test, pred, digits=2)) ## Model confidence/accuracy"
   ]
  },
  {
   "cell_type": "code",
   "execution_count": null,
   "id": "28b0173f",
   "metadata": {},
   "outputs": [
    {
     "data": {
      "text/html": [
       "<style>#sk-container-id-4 {color: black;background-color: white;}#sk-container-id-4 pre{padding: 0;}#sk-container-id-4 div.sk-toggleable {background-color: white;}#sk-container-id-4 label.sk-toggleable__label {cursor: pointer;display: block;width: 100%;margin-bottom: 0;padding: 0.3em;box-sizing: border-box;text-align: center;}#sk-container-id-4 label.sk-toggleable__label-arrow:before {content: \"▸\";float: left;margin-right: 0.25em;color: #696969;}#sk-container-id-4 label.sk-toggleable__label-arrow:hover:before {color: black;}#sk-container-id-4 div.sk-estimator:hover label.sk-toggleable__label-arrow:before {color: black;}#sk-container-id-4 div.sk-toggleable__content {max-height: 0;max-width: 0;overflow: hidden;text-align: left;background-color: #f0f8ff;}#sk-container-id-4 div.sk-toggleable__content pre {margin: 0.2em;color: black;border-radius: 0.25em;background-color: #f0f8ff;}#sk-container-id-4 input.sk-toggleable__control:checked~div.sk-toggleable__content {max-height: 200px;max-width: 100%;overflow: auto;}#sk-container-id-4 input.sk-toggleable__control:checked~label.sk-toggleable__label-arrow:before {content: \"▾\";}#sk-container-id-4 div.sk-estimator input.sk-toggleable__control:checked~label.sk-toggleable__label {background-color: #d4ebff;}#sk-container-id-4 div.sk-label input.sk-toggleable__control:checked~label.sk-toggleable__label {background-color: #d4ebff;}#sk-container-id-4 input.sk-hidden--visually {border: 0;clip: rect(1px 1px 1px 1px);clip: rect(1px, 1px, 1px, 1px);height: 1px;margin: -1px;overflow: hidden;padding: 0;position: absolute;width: 1px;}#sk-container-id-4 div.sk-estimator {font-family: monospace;background-color: #f0f8ff;border: 1px dotted black;border-radius: 0.25em;box-sizing: border-box;margin-bottom: 0.5em;}#sk-container-id-4 div.sk-estimator:hover {background-color: #d4ebff;}#sk-container-id-4 div.sk-parallel-item::after {content: \"\";width: 100%;border-bottom: 1px solid gray;flex-grow: 1;}#sk-container-id-4 div.sk-label:hover label.sk-toggleable__label {background-color: #d4ebff;}#sk-container-id-4 div.sk-serial::before {content: \"\";position: absolute;border-left: 1px solid gray;box-sizing: border-box;top: 0;bottom: 0;left: 50%;z-index: 0;}#sk-container-id-4 div.sk-serial {display: flex;flex-direction: column;align-items: center;background-color: white;padding-right: 0.2em;padding-left: 0.2em;position: relative;}#sk-container-id-4 div.sk-item {position: relative;z-index: 1;}#sk-container-id-4 div.sk-parallel {display: flex;align-items: stretch;justify-content: center;background-color: white;position: relative;}#sk-container-id-4 div.sk-item::before, #sk-container-id-4 div.sk-parallel-item::before {content: \"\";position: absolute;border-left: 1px solid gray;box-sizing: border-box;top: 0;bottom: 0;left: 50%;z-index: -1;}#sk-container-id-4 div.sk-parallel-item {display: flex;flex-direction: column;z-index: 1;position: relative;background-color: white;}#sk-container-id-4 div.sk-parallel-item:first-child::after {align-self: flex-end;width: 50%;}#sk-container-id-4 div.sk-parallel-item:last-child::after {align-self: flex-start;width: 50%;}#sk-container-id-4 div.sk-parallel-item:only-child::after {width: 0;}#sk-container-id-4 div.sk-dashed-wrapped {border: 1px dashed gray;margin: 0 0.4em 0.5em 0.4em;box-sizing: border-box;padding-bottom: 0.4em;background-color: white;}#sk-container-id-4 div.sk-label label {font-family: monospace;font-weight: bold;display: inline-block;line-height: 1.2em;}#sk-container-id-4 div.sk-label-container {text-align: center;}#sk-container-id-4 div.sk-container {/* jupyter's `normalize.less` sets `[hidden] { display: none; }` but bootstrap.min.css set `[hidden] { display: none !important; }` so we also need the `!important` here to be able to override the default hidden behavior on the sphinx rendered scikit-learn.org. See: https://github.com/scikit-learn/scikit-learn/issues/21755 */display: inline-block !important;position: relative;}#sk-container-id-4 div.sk-text-repr-fallback {display: none;}</style><div id=\"sk-container-id-4\" class=\"sk-top-container\"><div class=\"sk-text-repr-fallback\"><pre>RandomForestClassifier()</pre><b>In a Jupyter environment, please rerun this cell to show the HTML representation or trust the notebook. <br />On GitHub, the HTML representation is unable to render, please try loading this page with nbviewer.org.</b></div><div class=\"sk-container\" hidden><div class=\"sk-item\"><div class=\"sk-estimator sk-toggleable\"><input class=\"sk-toggleable__control sk-hidden--visually\" id=\"sk-estimator-id-4\" type=\"checkbox\" checked><label for=\"sk-estimator-id-4\" class=\"sk-toggleable__label sk-toggleable__label-arrow\">RandomForestClassifier</label><div class=\"sk-toggleable__content\"><pre>RandomForestClassifier()</pre></div></div></div></div></div>"
      ],
      "text/plain": [
       "RandomForestClassifier()"
      ]
     },
     "execution_count": 154,
     "metadata": {},
     "output_type": "execute_result"
    }
   ],
   "source": [
    "# Initiate Decision Tree Classifier with new parameters and train\n",
    "random_clf = RandomForestClassifier()\n",
    "# Train the model\n",
    "random_clf.fit(x_train,y_train)"
   ]
  },
  {
   "cell_type": "code",
   "execution_count": null,
   "id": "b699ee53",
   "metadata": {},
   "outputs": [
    {
     "name": "stdout",
     "output_type": "stream",
     "text": [
      "\n",
      "================Train Result=====\n",
      "Accuracy Score: 98.42%\n",
      "\n",
      "=================Test Result================\n",
      "Accuracy Score: 87.94%\n",
      "\n",
      " \n",
      " Test Classification Report \n",
      "               precision    recall  f1-score   support\n",
      "\n",
      "           0       0.89      0.87      0.88      7392\n",
      "           1       0.87      0.89      0.88      7440\n",
      "\n",
      "    accuracy                           0.88     14832\n",
      "   macro avg       0.88      0.88      0.88     14832\n",
      "weighted avg       0.88      0.88      0.88     14832\n",
      "\n"
     ]
    }
   ],
   "source": [
    "# Call the function and pass dataset to check train and test score\n",
    "metric_score (random_clf,x_train, x_test, y_train,y_test, train=True) # This is for training socre\n",
    " # This is for testing score\n",
    "metric_score(random_clf,x_train,x_test,y_train,y_test,train=False)"
   ]
  },
  {
   "cell_type": "code",
   "execution_count": null,
   "id": "a27a0883",
   "metadata": {},
   "outputs": [],
   "source": []
  },
  {
   "cell_type": "markdown",
   "id": "f20228b5",
   "metadata": {},
   "source": [
    " <font face = \"Verdana\" size = \"3\">\n",
    "<b>Within the boosting we have few algorithms we are going to work on that</b><br>\n",
    "           <font face = \"Verdana\" size = \"3\"><mark>1) Adaptive boosting 2) Gradient boosting3)XGB"
   ]
  },
  {
   "cell_type": "code",
   "execution_count": null,
   "id": "a85dad95",
   "metadata": {},
   "outputs": [],
   "source": [
    "from sklearn.ensemble import AdaBoostClassifier"
   ]
  },
  {
   "cell_type": "code",
   "execution_count": null,
   "id": "0e66c70e",
   "metadata": {},
   "outputs": [],
   "source": [
    "ada=AdaBoostRegressor()"
   ]
  },
  {
   "cell_type": "code",
   "execution_count": null,
   "id": "b515b0b3",
   "metadata": {},
   "outputs": [],
   "source": [
    "x_train,x_test,y_train,y_test= train_test_split(f , l, test_size= 0.25, random_state = 51)"
   ]
  },
  {
   "cell_type": "code",
   "execution_count": null,
   "id": "3ccf774c",
   "metadata": {},
   "outputs": [
    {
     "data": {
      "text/html": [
       "<style>#sk-container-id-7 {color: black;background-color: white;}#sk-container-id-7 pre{padding: 0;}#sk-container-id-7 div.sk-toggleable {background-color: white;}#sk-container-id-7 label.sk-toggleable__label {cursor: pointer;display: block;width: 100%;margin-bottom: 0;padding: 0.3em;box-sizing: border-box;text-align: center;}#sk-container-id-7 label.sk-toggleable__label-arrow:before {content: \"▸\";float: left;margin-right: 0.25em;color: #696969;}#sk-container-id-7 label.sk-toggleable__label-arrow:hover:before {color: black;}#sk-container-id-7 div.sk-estimator:hover label.sk-toggleable__label-arrow:before {color: black;}#sk-container-id-7 div.sk-toggleable__content {max-height: 0;max-width: 0;overflow: hidden;text-align: left;background-color: #f0f8ff;}#sk-container-id-7 div.sk-toggleable__content pre {margin: 0.2em;color: black;border-radius: 0.25em;background-color: #f0f8ff;}#sk-container-id-7 input.sk-toggleable__control:checked~div.sk-toggleable__content {max-height: 200px;max-width: 100%;overflow: auto;}#sk-container-id-7 input.sk-toggleable__control:checked~label.sk-toggleable__label-arrow:before {content: \"▾\";}#sk-container-id-7 div.sk-estimator input.sk-toggleable__control:checked~label.sk-toggleable__label {background-color: #d4ebff;}#sk-container-id-7 div.sk-label input.sk-toggleable__control:checked~label.sk-toggleable__label {background-color: #d4ebff;}#sk-container-id-7 input.sk-hidden--visually {border: 0;clip: rect(1px 1px 1px 1px);clip: rect(1px, 1px, 1px, 1px);height: 1px;margin: -1px;overflow: hidden;padding: 0;position: absolute;width: 1px;}#sk-container-id-7 div.sk-estimator {font-family: monospace;background-color: #f0f8ff;border: 1px dotted black;border-radius: 0.25em;box-sizing: border-box;margin-bottom: 0.5em;}#sk-container-id-7 div.sk-estimator:hover {background-color: #d4ebff;}#sk-container-id-7 div.sk-parallel-item::after {content: \"\";width: 100%;border-bottom: 1px solid gray;flex-grow: 1;}#sk-container-id-7 div.sk-label:hover label.sk-toggleable__label {background-color: #d4ebff;}#sk-container-id-7 div.sk-serial::before {content: \"\";position: absolute;border-left: 1px solid gray;box-sizing: border-box;top: 0;bottom: 0;left: 50%;z-index: 0;}#sk-container-id-7 div.sk-serial {display: flex;flex-direction: column;align-items: center;background-color: white;padding-right: 0.2em;padding-left: 0.2em;position: relative;}#sk-container-id-7 div.sk-item {position: relative;z-index: 1;}#sk-container-id-7 div.sk-parallel {display: flex;align-items: stretch;justify-content: center;background-color: white;position: relative;}#sk-container-id-7 div.sk-item::before, #sk-container-id-7 div.sk-parallel-item::before {content: \"\";position: absolute;border-left: 1px solid gray;box-sizing: border-box;top: 0;bottom: 0;left: 50%;z-index: -1;}#sk-container-id-7 div.sk-parallel-item {display: flex;flex-direction: column;z-index: 1;position: relative;background-color: white;}#sk-container-id-7 div.sk-parallel-item:first-child::after {align-self: flex-end;width: 50%;}#sk-container-id-7 div.sk-parallel-item:last-child::after {align-self: flex-start;width: 50%;}#sk-container-id-7 div.sk-parallel-item:only-child::after {width: 0;}#sk-container-id-7 div.sk-dashed-wrapped {border: 1px dashed gray;margin: 0 0.4em 0.5em 0.4em;box-sizing: border-box;padding-bottom: 0.4em;background-color: white;}#sk-container-id-7 div.sk-label label {font-family: monospace;font-weight: bold;display: inline-block;line-height: 1.2em;}#sk-container-id-7 div.sk-label-container {text-align: center;}#sk-container-id-7 div.sk-container {/* jupyter's `normalize.less` sets `[hidden] { display: none; }` but bootstrap.min.css set `[hidden] { display: none !important; }` so we also need the `!important` here to be able to override the default hidden behavior on the sphinx rendered scikit-learn.org. See: https://github.com/scikit-learn/scikit-learn/issues/21755 */display: inline-block !important;position: relative;}#sk-container-id-7 div.sk-text-repr-fallback {display: none;}</style><div id=\"sk-container-id-7\" class=\"sk-top-container\"><div class=\"sk-text-repr-fallback\"><pre>AdaBoostRegressor()</pre><b>In a Jupyter environment, please rerun this cell to show the HTML representation or trust the notebook. <br />On GitHub, the HTML representation is unable to render, please try loading this page with nbviewer.org.</b></div><div class=\"sk-container\" hidden><div class=\"sk-item\"><div class=\"sk-estimator sk-toggleable\"><input class=\"sk-toggleable__control sk-hidden--visually\" id=\"sk-estimator-id-7\" type=\"checkbox\" checked><label for=\"sk-estimator-id-7\" class=\"sk-toggleable__label sk-toggleable__label-arrow\">AdaBoostRegressor</label><div class=\"sk-toggleable__content\"><pre>AdaBoostRegressor()</pre></div></div></div></div></div>"
      ],
      "text/plain": [
       "AdaBoostRegressor()"
      ]
     },
     "execution_count": 168,
     "metadata": {},
     "output_type": "execute_result"
    }
   ],
   "source": [
    "ada. fit (x_train,y_train)"
   ]
  },
  {
   "cell_type": "code",
   "execution_count": null,
   "id": "78692735",
   "metadata": {},
   "outputs": [
    {
     "data": {
      "text/plain": [
       "0.4321108813805845"
      ]
     },
     "execution_count": 170,
     "metadata": {},
     "output_type": "execute_result"
    }
   ],
   "source": [
    "ada.fit (x_train, y_train)\n",
    "ada.score (x_test, y_test)"
   ]
  },
  {
   "cell_type": "code",
   "execution_count": null,
   "id": "6dc38864",
   "metadata": {},
   "outputs": [],
   "source": [
    "#graident boosting classifier\n",
    "from sklearn.ensemble import GradientBoostingClassifier # GradientBoostingRegressor If we have regression problem \n",
    "from sklearn.metrics import classification_report , accuracy_score"
   ]
  },
  {
   "cell_type": "code",
   "execution_count": null,
   "id": "e1d80995",
   "metadata": {},
   "outputs": [],
   "source": [
    "XX_train,XX_test,y_train,y_test=train_test_split(f , l, test_size= 0.25, random_state = 51)"
   ]
  },
  {
   "cell_type": "code",
   "execution_count": null,
   "id": "4e036979",
   "metadata": {},
   "outputs": [],
   "source": [
    "def mertric_Score (clf,XX_train,XX_test,y_train,y_test,train= True):\n",
    "    if train:\n",
    "        y_pred=clf.predict(XX_train)\n",
    "        print('=== Training Score ===')\n",
    "        print(f\"Accuracy score : {accuracy_score(y_train,y_pred)*100 : 2f} %\")\n",
    "        \n",
    "    elif train==False:\n",
    "        pred = clf.predict(XX_test)\n",
    "        print('=== Testing Score ===')\n",
    "        print(f\"Accuracy Score : {accuracy_score(y_test,pred)*100 : 2f}%\")\n",
    "        \n",
    "        print ('\\n \\n Classification Report \\n' , classification_report(y_test,pred,digits=2))"
   ]
  },
  {
   "cell_type": "code",
   "execution_count": null,
   "id": "4557e069",
   "metadata": {},
   "outputs": [
    {
     "data": {
      "text/html": [
       "<style>#sk-container-id-8 {color: black;background-color: white;}#sk-container-id-8 pre{padding: 0;}#sk-container-id-8 div.sk-toggleable {background-color: white;}#sk-container-id-8 label.sk-toggleable__label {cursor: pointer;display: block;width: 100%;margin-bottom: 0;padding: 0.3em;box-sizing: border-box;text-align: center;}#sk-container-id-8 label.sk-toggleable__label-arrow:before {content: \"▸\";float: left;margin-right: 0.25em;color: #696969;}#sk-container-id-8 label.sk-toggleable__label-arrow:hover:before {color: black;}#sk-container-id-8 div.sk-estimator:hover label.sk-toggleable__label-arrow:before {color: black;}#sk-container-id-8 div.sk-toggleable__content {max-height: 0;max-width: 0;overflow: hidden;text-align: left;background-color: #f0f8ff;}#sk-container-id-8 div.sk-toggleable__content pre {margin: 0.2em;color: black;border-radius: 0.25em;background-color: #f0f8ff;}#sk-container-id-8 input.sk-toggleable__control:checked~div.sk-toggleable__content {max-height: 200px;max-width: 100%;overflow: auto;}#sk-container-id-8 input.sk-toggleable__control:checked~label.sk-toggleable__label-arrow:before {content: \"▾\";}#sk-container-id-8 div.sk-estimator input.sk-toggleable__control:checked~label.sk-toggleable__label {background-color: #d4ebff;}#sk-container-id-8 div.sk-label input.sk-toggleable__control:checked~label.sk-toggleable__label {background-color: #d4ebff;}#sk-container-id-8 input.sk-hidden--visually {border: 0;clip: rect(1px 1px 1px 1px);clip: rect(1px, 1px, 1px, 1px);height: 1px;margin: -1px;overflow: hidden;padding: 0;position: absolute;width: 1px;}#sk-container-id-8 div.sk-estimator {font-family: monospace;background-color: #f0f8ff;border: 1px dotted black;border-radius: 0.25em;box-sizing: border-box;margin-bottom: 0.5em;}#sk-container-id-8 div.sk-estimator:hover {background-color: #d4ebff;}#sk-container-id-8 div.sk-parallel-item::after {content: \"\";width: 100%;border-bottom: 1px solid gray;flex-grow: 1;}#sk-container-id-8 div.sk-label:hover label.sk-toggleable__label {background-color: #d4ebff;}#sk-container-id-8 div.sk-serial::before {content: \"\";position: absolute;border-left: 1px solid gray;box-sizing: border-box;top: 0;bottom: 0;left: 50%;z-index: 0;}#sk-container-id-8 div.sk-serial {display: flex;flex-direction: column;align-items: center;background-color: white;padding-right: 0.2em;padding-left: 0.2em;position: relative;}#sk-container-id-8 div.sk-item {position: relative;z-index: 1;}#sk-container-id-8 div.sk-parallel {display: flex;align-items: stretch;justify-content: center;background-color: white;position: relative;}#sk-container-id-8 div.sk-item::before, #sk-container-id-8 div.sk-parallel-item::before {content: \"\";position: absolute;border-left: 1px solid gray;box-sizing: border-box;top: 0;bottom: 0;left: 50%;z-index: -1;}#sk-container-id-8 div.sk-parallel-item {display: flex;flex-direction: column;z-index: 1;position: relative;background-color: white;}#sk-container-id-8 div.sk-parallel-item:first-child::after {align-self: flex-end;width: 50%;}#sk-container-id-8 div.sk-parallel-item:last-child::after {align-self: flex-start;width: 50%;}#sk-container-id-8 div.sk-parallel-item:only-child::after {width: 0;}#sk-container-id-8 div.sk-dashed-wrapped {border: 1px dashed gray;margin: 0 0.4em 0.5em 0.4em;box-sizing: border-box;padding-bottom: 0.4em;background-color: white;}#sk-container-id-8 div.sk-label label {font-family: monospace;font-weight: bold;display: inline-block;line-height: 1.2em;}#sk-container-id-8 div.sk-label-container {text-align: center;}#sk-container-id-8 div.sk-container {/* jupyter's `normalize.less` sets `[hidden] { display: none; }` but bootstrap.min.css set `[hidden] { display: none !important; }` so we also need the `!important` here to be able to override the default hidden behavior on the sphinx rendered scikit-learn.org. See: https://github.com/scikit-learn/scikit-learn/issues/21755 */display: inline-block !important;position: relative;}#sk-container-id-8 div.sk-text-repr-fallback {display: none;}</style><div id=\"sk-container-id-8\" class=\"sk-top-container\"><div class=\"sk-text-repr-fallback\"><pre>GradientBoostingClassifier()</pre><b>In a Jupyter environment, please rerun this cell to show the HTML representation or trust the notebook. <br />On GitHub, the HTML representation is unable to render, please try loading this page with nbviewer.org.</b></div><div class=\"sk-container\" hidden><div class=\"sk-item\"><div class=\"sk-estimator sk-toggleable\"><input class=\"sk-toggleable__control sk-hidden--visually\" id=\"sk-estimator-id-8\" type=\"checkbox\" checked><label for=\"sk-estimator-id-8\" class=\"sk-toggleable__label sk-toggleable__label-arrow\">GradientBoostingClassifier</label><div class=\"sk-toggleable__content\"><pre>GradientBoostingClassifier()</pre></div></div></div></div></div>"
      ],
      "text/plain": [
       "GradientBoostingClassifier()"
      ]
     },
     "execution_count": 175,
     "metadata": {},
     "output_type": "execute_result"
    }
   ],
   "source": [
    "# initiate GradientBoostingClassifier\n",
    "gbdt_clf = GradientBoostingClassifier()\n",
    "gbdt_clf.fit(XX_train , y_train)"
   ]
  },
  {
   "cell_type": "code",
   "execution_count": null,
   "id": "2d809016",
   "metadata": {},
   "outputs": [
    {
     "name": "stdout",
     "output_type": "stream",
     "text": [
      "=== Training Score ===\n",
      "Accuracy score :  85.304746 %\n",
      "=== Testing Score ===\n",
      "Accuracy Score :  84.635922%\n",
      "\n",
      " \n",
      " Classification Report \n",
      "               precision    recall  f1-score   support\n",
      "\n",
      "           0       0.88      0.80      0.84      6182\n",
      "           1       0.82      0.89      0.85      6178\n",
      "\n",
      "    accuracy                           0.85     12360\n",
      "   macro avg       0.85      0.85      0.85     12360\n",
      "weighted avg       0.85      0.85      0.85     12360\n",
      "\n"
     ]
    }
   ],
   "source": [
    "# call the function\n",
    "mertric_Score(gbdt_clf,XX_train,XX_test,y_train,y_test,train=True)\n",
    "mertric_Score(gbdt_clf,XX_train,XX_test,y_train,y_test,train=False)"
   ]
  },
  {
   "cell_type": "code",
   "execution_count": null,
   "id": "e8984433",
   "metadata": {},
   "outputs": [
    {
     "data": {
      "text/plain": [
       "array([0.82504045, 0.83990696, 0.85214401, 0.85871764, 0.8638754 ])"
      ]
     },
     "execution_count": 177,
     "metadata": {},
     "output_type": "execute_result"
    }
   ],
   "source": [
    "cross_val_score (gbdt_clf, f, l, cv=5)"
   ]
  },
  {
   "cell_type": "code",
   "execution_count": null,
   "id": "ac8dfa2c",
   "metadata": {},
   "outputs": [
    {
     "data": {
      "text/plain": [
       "0.8479368932038834"
      ]
     },
     "execution_count": 178,
     "metadata": {},
     "output_type": "execute_result"
    }
   ],
   "source": [
    "cross_val_score (gbdt_clf, f, l, cv=5).mean()"
   ]
  },
  {
   "cell_type": "markdown",
   "id": "f4c5498c",
   "metadata": {},
   "source": [
    "# You can save the model and later you can use it for prediction"
   ]
  },
  {
   "cell_type": "code",
   "execution_count": null,
   "id": "36b87351",
   "metadata": {},
   "outputs": [],
   "source": [
    "import pickle"
   ]
  },
  {
   "cell_type": "code",
   "execution_count": null,
   "id": "69564201",
   "metadata": {},
   "outputs": [],
   "source": [
    "# saving the model to the local file system\n",
    "pickle.dump (gbdt_clf, open('gbdt_clf_i_p', 'wb'))"
   ]
  },
  {
   "cell_type": "code",
   "execution_count": null,
   "id": "a5c2ec93",
   "metadata": {},
   "outputs": [],
   "source": [
    "a=x_train.iloc[0]"
   ]
  },
  {
   "cell_type": "code",
   "execution_count": null,
   "id": "2331ccfd",
   "metadata": {},
   "outputs": [],
   "source": [
    "ab=pd.DataFrame(a)"
   ]
  },
  {
   "cell_type": "code",
   "execution_count": null,
   "id": "7a453da2",
   "metadata": {},
   "outputs": [
    {
     "data": {
      "text/html": [
       "<div>\n",
       "<style scoped>\n",
       "    .dataframe tbody tr th:only-of-type {\n",
       "        vertical-align: middle;\n",
       "    }\n",
       "\n",
       "    .dataframe tbody tr th {\n",
       "        vertical-align: top;\n",
       "    }\n",
       "\n",
       "    .dataframe thead th {\n",
       "        text-align: right;\n",
       "    }\n",
       "</style>\n",
       "<table border=\"1\" class=\"dataframe\">\n",
       "  <thead>\n",
       "    <tr style=\"text-align: right;\">\n",
       "      <th></th>\n",
       "      <th>40018</th>\n",
       "    </tr>\n",
       "  </thead>\n",
       "  <tbody>\n",
       "    <tr>\n",
       "      <th>age</th>\n",
       "      <td>-0.259391</td>\n",
       "    </tr>\n",
       "    <tr>\n",
       "      <th>capital-gain</th>\n",
       "      <td>-0.301425</td>\n",
       "    </tr>\n",
       "    <tr>\n",
       "      <th>capital-loss</th>\n",
       "      <td>-0.221210</td>\n",
       "    </tr>\n",
       "    <tr>\n",
       "      <th>hours-per-week</th>\n",
       "      <td>4.745146</td>\n",
       "    </tr>\n",
       "    <tr>\n",
       "      <th>workclass_ Local-gov</th>\n",
       "      <td>0.000000</td>\n",
       "    </tr>\n",
       "    <tr>\n",
       "      <th>...</th>\n",
       "      <td>...</td>\n",
       "    </tr>\n",
       "    <tr>\n",
       "      <th>country_ Trinadad&amp;Tobago</th>\n",
       "      <td>0.000000</td>\n",
       "    </tr>\n",
       "    <tr>\n",
       "      <th>country_ United-States</th>\n",
       "      <td>1.000000</td>\n",
       "    </tr>\n",
       "    <tr>\n",
       "      <th>country_ Vietnam</th>\n",
       "      <td>0.000000</td>\n",
       "    </tr>\n",
       "    <tr>\n",
       "      <th>country_ Yugoslavia</th>\n",
       "      <td>0.000000</td>\n",
       "    </tr>\n",
       "    <tr>\n",
       "      <th>country_Others_country</th>\n",
       "      <td>0.000000</td>\n",
       "    </tr>\n",
       "  </tbody>\n",
       "</table>\n",
       "<p>88 rows × 1 columns</p>\n",
       "</div>"
      ],
      "text/plain": [
       "                             40018\n",
       "age                      -0.259391\n",
       "capital-gain             -0.301425\n",
       "capital-loss             -0.221210\n",
       "hours-per-week            4.745146\n",
       "workclass_ Local-gov      0.000000\n",
       "...                            ...\n",
       "country_ Trinadad&Tobago  0.000000\n",
       "country_ United-States    1.000000\n",
       "country_ Vietnam          0.000000\n",
       "country_ Yugoslavia       0.000000\n",
       "country_Others_country    0.000000\n",
       "\n",
       "[88 rows x 1 columns]"
      ]
     },
     "execution_count": 193,
     "metadata": {},
     "output_type": "execute_result"
    }
   ],
   "source": [
    "ab"
   ]
  },
  {
   "cell_type": "code",
   "execution_count": null,
   "id": "8613e845",
   "metadata": {},
   "outputs": [
    {
     "name": "stdout",
     "output_type": "stream",
     "text": [
      "-0.2593909632035156\n",
      "-0.30142547100632877\n",
      "-0.22120963524525747\n",
      "4.745146235780529\n",
      "0.0\n",
      "0.0\n",
      "1.0\n",
      "0.0\n",
      "0.0\n",
      "0.0\n",
      "0.0\n",
      "0.0\n",
      "0.0\n",
      "0.0\n",
      "0.0\n",
      "0.0\n",
      "0.0\n",
      "0.0\n",
      "1.0\n",
      "0.0\n",
      "0.0\n",
      "0.0\n",
      "0.0\n",
      "0.0\n",
      "0.0\n",
      "0.0\n",
      "0.0\n",
      "0.0\n",
      "0.0\n",
      "0.0\n",
      "0.0\n",
      "0.0\n",
      "0.0\n",
      "0.0\n",
      "0.0\n",
      "0.0\n",
      "0.0\n",
      "0.0\n",
      "0.0\n",
      "0.0\n",
      "0.0\n",
      "0.0\n",
      "0.0\n",
      "0.0\n",
      "0.0\n",
      "1.0\n",
      "1.0\n",
      "0.0\n",
      "0.0\n",
      "0.0\n",
      "0.0\n",
      "0.0\n",
      "0.0\n",
      "0.0\n",
      "0.0\n",
      "0.0\n",
      "0.0\n",
      "0.0\n",
      "0.0\n",
      "0.0\n",
      "0.0\n",
      "0.0\n",
      "0.0\n",
      "0.0\n",
      "0.0\n",
      "0.0\n",
      "0.0\n",
      "0.0\n",
      "0.0\n",
      "0.0\n",
      "0.0\n",
      "0.0\n",
      "0.0\n",
      "0.0\n",
      "0.0\n",
      "0.0\n",
      "0.0\n",
      "0.0\n",
      "0.0\n",
      "0.0\n",
      "0.0\n",
      "0.0\n",
      "0.0\n",
      "0.0\n",
      "1.0\n",
      "0.0\n",
      "0.0\n",
      "0.0\n"
     ]
    }
   ],
   "source": [
    "\n",
    "for i in ab[40018]:\n",
    "    print(i)"
   ]
  },
  {
   "cell_type": "code",
   "execution_count": null,
   "id": "c981ce99",
   "metadata": {},
   "outputs": [],
   "source": []
  },
  {
   "cell_type": "code",
   "execution_count": null,
   "id": "2e406537",
   "metadata": {},
   "outputs": [],
   "source": []
  },
  {
   "cell_type": "code",
   "execution_count": null,
   "id": "630d230a",
   "metadata": {},
   "outputs": [],
   "source": []
  },
  {
   "cell_type": "code",
   "execution_count": null,
   "id": "806a123c",
   "metadata": {},
   "outputs": [],
   "source": []
  },
  {
   "cell_type": "code",
   "execution_count": null,
   "id": "c1b64f14",
   "metadata": {},
   "outputs": [],
   "source": []
  },
  {
   "cell_type": "code",
   "execution_count": null,
   "id": "f2a5cef5",
   "metadata": {},
   "outputs": [],
   "source": []
  },
  {
   "cell_type": "code",
   "execution_count": null,
   "id": "7a1fb83f",
   "metadata": {},
   "outputs": [],
   "source": []
  },
  {
   "cell_type": "code",
   "execution_count": null,
   "id": "f95bef9b",
   "metadata": {},
   "outputs": [],
   "source": []
  },
  {
   "cell_type": "code",
   "execution_count": null,
   "id": "f83dd2ac",
   "metadata": {},
   "outputs": [],
   "source": []
  }
 ],
 "metadata": {
  "kernelspec": {
   "display_name": "Python 3.11.1 64-bit",
   "language": "python",
   "name": "python3"
  },
  "language_info": {
   "codemirror_mode": {
    "name": "ipython",
    "version": 3
   },
   "file_extension": ".py",
   "mimetype": "text/x-python",
   "name": "python",
   "nbconvert_exporter": "python",
   "pygments_lexer": "ipython3",
   "version": "3.11.1"
  },
  "vscode": {
   "interpreter": {
    "hash": "1f6a27bcfbe46a917dbd192f4a82657396dda26148bae633192e8d28c70725f1"
   }
  }
 },
 "nbformat": 4,
 "nbformat_minor": 5
}
