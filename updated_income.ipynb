{
 "cells": [
  {
   "cell_type": "markdown",
   "id": "7b0730ee",
   "metadata": {},
   "source": [
    "# importing library"
   ]
  },
  {
   "cell_type": "code",
   "execution_count": 108,
   "id": "f4f828a0",
   "metadata": {},
   "outputs": [],
   "source": [
    "import sklearn\n",
    "import pandas as pd\n",
    "import numpy as np\n",
    "import matplotlib.pyplot as plt\n",
    "import seaborn as sns\n",
    "from sklearn.linear_model import LogisticRegression\n",
    "from sklearn.model_selection import train_test_split\n",
    "from sklearn.metrics import accuracy_score,confusion_matrix,classification_report\n",
    "from sklearn.naive_bayes import GaussianNB\n",
    "from sklearn.svm import SVC\n",
    "from sklearn.tree import DecisionTreeClassifier\n",
    "from sklearn.neighbors import KNeighborsClassifier\n",
    "from sklearn.ensemble import RandomForestClassifier\n",
    "from sklearn.ensemble import AdaBoostClassifier\n",
    "from sklearn.model_selection import cross_val_score\n",
    "from sklearn.model_selection import GridSearchCV\n",
    "from sklearn.svm import LinearSVC\n",
    "from scipy import stats\n",
    "import warnings\n",
    "warnings.filterwarnings('ignore')\n",
    "from sklearn.preprocessing import LabelEncoder"
   ]
  },
  {
   "cell_type": "code",
   "execution_count": 109,
   "id": "2237044f",
   "metadata": {},
   "outputs": [],
   "source": [
    "df1 = pd.read_csv(\"adult.csv\") #reading the file"
   ]
  },
  {
   "cell_type": "code",
   "execution_count": 110,
   "id": "f44c42ed",
   "metadata": {},
   "outputs": [
    {
     "data": {
      "text/html": [
       "<div>\n",
       "<style scoped>\n",
       "    .dataframe tbody tr th:only-of-type {\n",
       "        vertical-align: middle;\n",
       "    }\n",
       "\n",
       "    .dataframe tbody tr th {\n",
       "        vertical-align: top;\n",
       "    }\n",
       "\n",
       "    .dataframe thead th {\n",
       "        text-align: right;\n",
       "    }\n",
       "</style>\n",
       "<table border=\"1\" class=\"dataframe\">\n",
       "  <thead>\n",
       "    <tr style=\"text-align: right;\">\n",
       "      <th></th>\n",
       "      <th>age</th>\n",
       "      <th>workclass</th>\n",
       "      <th>fnlwgt</th>\n",
       "      <th>education</th>\n",
       "      <th>education-num</th>\n",
       "      <th>marital-status</th>\n",
       "      <th>occupation</th>\n",
       "      <th>relationship</th>\n",
       "      <th>race</th>\n",
       "      <th>sex</th>\n",
       "      <th>capital-gain</th>\n",
       "      <th>capital-loss</th>\n",
       "      <th>hours-per-week</th>\n",
       "      <th>country</th>\n",
       "      <th>salary</th>\n",
       "    </tr>\n",
       "  </thead>\n",
       "  <tbody>\n",
       "    <tr>\n",
       "      <th>0</th>\n",
       "      <td>39</td>\n",
       "      <td>State-gov</td>\n",
       "      <td>77516</td>\n",
       "      <td>Bachelors</td>\n",
       "      <td>13</td>\n",
       "      <td>Never-married</td>\n",
       "      <td>Adm-clerical</td>\n",
       "      <td>Not-in-family</td>\n",
       "      <td>White</td>\n",
       "      <td>Male</td>\n",
       "      <td>2174</td>\n",
       "      <td>0</td>\n",
       "      <td>40</td>\n",
       "      <td>United-States</td>\n",
       "      <td>&lt;=50K</td>\n",
       "    </tr>\n",
       "    <tr>\n",
       "      <th>1</th>\n",
       "      <td>50</td>\n",
       "      <td>Self-emp-not-inc</td>\n",
       "      <td>83311</td>\n",
       "      <td>Bachelors</td>\n",
       "      <td>13</td>\n",
       "      <td>Married-civ-spouse</td>\n",
       "      <td>Exec-managerial</td>\n",
       "      <td>Husband</td>\n",
       "      <td>White</td>\n",
       "      <td>Male</td>\n",
       "      <td>0</td>\n",
       "      <td>0</td>\n",
       "      <td>13</td>\n",
       "      <td>United-States</td>\n",
       "      <td>&lt;=50K</td>\n",
       "    </tr>\n",
       "    <tr>\n",
       "      <th>2</th>\n",
       "      <td>38</td>\n",
       "      <td>Private</td>\n",
       "      <td>215646</td>\n",
       "      <td>HS-grad</td>\n",
       "      <td>9</td>\n",
       "      <td>Divorced</td>\n",
       "      <td>Handlers-cleaners</td>\n",
       "      <td>Not-in-family</td>\n",
       "      <td>White</td>\n",
       "      <td>Male</td>\n",
       "      <td>0</td>\n",
       "      <td>0</td>\n",
       "      <td>40</td>\n",
       "      <td>United-States</td>\n",
       "      <td>&lt;=50K</td>\n",
       "    </tr>\n",
       "    <tr>\n",
       "      <th>3</th>\n",
       "      <td>53</td>\n",
       "      <td>Private</td>\n",
       "      <td>234721</td>\n",
       "      <td>11th</td>\n",
       "      <td>7</td>\n",
       "      <td>Married-civ-spouse</td>\n",
       "      <td>Handlers-cleaners</td>\n",
       "      <td>Husband</td>\n",
       "      <td>Black</td>\n",
       "      <td>Male</td>\n",
       "      <td>0</td>\n",
       "      <td>0</td>\n",
       "      <td>40</td>\n",
       "      <td>United-States</td>\n",
       "      <td>&lt;=50K</td>\n",
       "    </tr>\n",
       "    <tr>\n",
       "      <th>4</th>\n",
       "      <td>28</td>\n",
       "      <td>Private</td>\n",
       "      <td>338409</td>\n",
       "      <td>Bachelors</td>\n",
       "      <td>13</td>\n",
       "      <td>Married-civ-spouse</td>\n",
       "      <td>Prof-specialty</td>\n",
       "      <td>Wife</td>\n",
       "      <td>Black</td>\n",
       "      <td>Female</td>\n",
       "      <td>0</td>\n",
       "      <td>0</td>\n",
       "      <td>40</td>\n",
       "      <td>Cuba</td>\n",
       "      <td>&lt;=50K</td>\n",
       "    </tr>\n",
       "    <tr>\n",
       "      <th>5</th>\n",
       "      <td>37</td>\n",
       "      <td>Private</td>\n",
       "      <td>284582</td>\n",
       "      <td>Masters</td>\n",
       "      <td>14</td>\n",
       "      <td>Married-civ-spouse</td>\n",
       "      <td>Exec-managerial</td>\n",
       "      <td>Wife</td>\n",
       "      <td>White</td>\n",
       "      <td>Female</td>\n",
       "      <td>0</td>\n",
       "      <td>0</td>\n",
       "      <td>40</td>\n",
       "      <td>United-States</td>\n",
       "      <td>&lt;=50K</td>\n",
       "    </tr>\n",
       "    <tr>\n",
       "      <th>6</th>\n",
       "      <td>49</td>\n",
       "      <td>Private</td>\n",
       "      <td>160187</td>\n",
       "      <td>9th</td>\n",
       "      <td>5</td>\n",
       "      <td>Married-spouse-absent</td>\n",
       "      <td>Other-service</td>\n",
       "      <td>Not-in-family</td>\n",
       "      <td>Black</td>\n",
       "      <td>Female</td>\n",
       "      <td>0</td>\n",
       "      <td>0</td>\n",
       "      <td>16</td>\n",
       "      <td>Jamaica</td>\n",
       "      <td>&lt;=50K</td>\n",
       "    </tr>\n",
       "    <tr>\n",
       "      <th>7</th>\n",
       "      <td>52</td>\n",
       "      <td>Self-emp-not-inc</td>\n",
       "      <td>209642</td>\n",
       "      <td>HS-grad</td>\n",
       "      <td>9</td>\n",
       "      <td>Married-civ-spouse</td>\n",
       "      <td>Exec-managerial</td>\n",
       "      <td>Husband</td>\n",
       "      <td>White</td>\n",
       "      <td>Male</td>\n",
       "      <td>0</td>\n",
       "      <td>0</td>\n",
       "      <td>45</td>\n",
       "      <td>United-States</td>\n",
       "      <td>&gt;50K</td>\n",
       "    </tr>\n",
       "    <tr>\n",
       "      <th>8</th>\n",
       "      <td>31</td>\n",
       "      <td>Private</td>\n",
       "      <td>45781</td>\n",
       "      <td>Masters</td>\n",
       "      <td>14</td>\n",
       "      <td>Never-married</td>\n",
       "      <td>Prof-specialty</td>\n",
       "      <td>Not-in-family</td>\n",
       "      <td>White</td>\n",
       "      <td>Female</td>\n",
       "      <td>14084</td>\n",
       "      <td>0</td>\n",
       "      <td>50</td>\n",
       "      <td>United-States</td>\n",
       "      <td>&gt;50K</td>\n",
       "    </tr>\n",
       "    <tr>\n",
       "      <th>9</th>\n",
       "      <td>42</td>\n",
       "      <td>Private</td>\n",
       "      <td>159449</td>\n",
       "      <td>Bachelors</td>\n",
       "      <td>13</td>\n",
       "      <td>Married-civ-spouse</td>\n",
       "      <td>Exec-managerial</td>\n",
       "      <td>Husband</td>\n",
       "      <td>White</td>\n",
       "      <td>Male</td>\n",
       "      <td>5178</td>\n",
       "      <td>0</td>\n",
       "      <td>40</td>\n",
       "      <td>United-States</td>\n",
       "      <td>&gt;50K</td>\n",
       "    </tr>\n",
       "    <tr>\n",
       "      <th>10</th>\n",
       "      <td>37</td>\n",
       "      <td>Private</td>\n",
       "      <td>280464</td>\n",
       "      <td>Some-college</td>\n",
       "      <td>10</td>\n",
       "      <td>Married-civ-spouse</td>\n",
       "      <td>Exec-managerial</td>\n",
       "      <td>Husband</td>\n",
       "      <td>Black</td>\n",
       "      <td>Male</td>\n",
       "      <td>0</td>\n",
       "      <td>0</td>\n",
       "      <td>80</td>\n",
       "      <td>United-States</td>\n",
       "      <td>&gt;50K</td>\n",
       "    </tr>\n",
       "    <tr>\n",
       "      <th>11</th>\n",
       "      <td>30</td>\n",
       "      <td>State-gov</td>\n",
       "      <td>141297</td>\n",
       "      <td>Bachelors</td>\n",
       "      <td>13</td>\n",
       "      <td>Married-civ-spouse</td>\n",
       "      <td>Prof-specialty</td>\n",
       "      <td>Husband</td>\n",
       "      <td>Asian-Pac-Islander</td>\n",
       "      <td>Male</td>\n",
       "      <td>0</td>\n",
       "      <td>0</td>\n",
       "      <td>40</td>\n",
       "      <td>India</td>\n",
       "      <td>&gt;50K</td>\n",
       "    </tr>\n",
       "    <tr>\n",
       "      <th>12</th>\n",
       "      <td>23</td>\n",
       "      <td>Private</td>\n",
       "      <td>122272</td>\n",
       "      <td>Bachelors</td>\n",
       "      <td>13</td>\n",
       "      <td>Never-married</td>\n",
       "      <td>Adm-clerical</td>\n",
       "      <td>Own-child</td>\n",
       "      <td>White</td>\n",
       "      <td>Female</td>\n",
       "      <td>0</td>\n",
       "      <td>0</td>\n",
       "      <td>30</td>\n",
       "      <td>United-States</td>\n",
       "      <td>&lt;=50K</td>\n",
       "    </tr>\n",
       "    <tr>\n",
       "      <th>13</th>\n",
       "      <td>32</td>\n",
       "      <td>Private</td>\n",
       "      <td>205019</td>\n",
       "      <td>Assoc-acdm</td>\n",
       "      <td>12</td>\n",
       "      <td>Never-married</td>\n",
       "      <td>Sales</td>\n",
       "      <td>Not-in-family</td>\n",
       "      <td>Black</td>\n",
       "      <td>Male</td>\n",
       "      <td>0</td>\n",
       "      <td>0</td>\n",
       "      <td>50</td>\n",
       "      <td>United-States</td>\n",
       "      <td>&lt;=50K</td>\n",
       "    </tr>\n",
       "    <tr>\n",
       "      <th>14</th>\n",
       "      <td>40</td>\n",
       "      <td>Private</td>\n",
       "      <td>121772</td>\n",
       "      <td>Assoc-voc</td>\n",
       "      <td>11</td>\n",
       "      <td>Married-civ-spouse</td>\n",
       "      <td>Craft-repair</td>\n",
       "      <td>Husband</td>\n",
       "      <td>Asian-Pac-Islander</td>\n",
       "      <td>Male</td>\n",
       "      <td>0</td>\n",
       "      <td>0</td>\n",
       "      <td>40</td>\n",
       "      <td>?</td>\n",
       "      <td>&gt;50K</td>\n",
       "    </tr>\n",
       "    <tr>\n",
       "      <th>15</th>\n",
       "      <td>34</td>\n",
       "      <td>Private</td>\n",
       "      <td>245487</td>\n",
       "      <td>7th-8th</td>\n",
       "      <td>4</td>\n",
       "      <td>Married-civ-spouse</td>\n",
       "      <td>Transport-moving</td>\n",
       "      <td>Husband</td>\n",
       "      <td>Amer-Indian-Eskimo</td>\n",
       "      <td>Male</td>\n",
       "      <td>0</td>\n",
       "      <td>0</td>\n",
       "      <td>45</td>\n",
       "      <td>Mexico</td>\n",
       "      <td>&lt;=50K</td>\n",
       "    </tr>\n",
       "    <tr>\n",
       "      <th>16</th>\n",
       "      <td>25</td>\n",
       "      <td>Self-emp-not-inc</td>\n",
       "      <td>176756</td>\n",
       "      <td>HS-grad</td>\n",
       "      <td>9</td>\n",
       "      <td>Never-married</td>\n",
       "      <td>Farming-fishing</td>\n",
       "      <td>Own-child</td>\n",
       "      <td>White</td>\n",
       "      <td>Male</td>\n",
       "      <td>0</td>\n",
       "      <td>0</td>\n",
       "      <td>35</td>\n",
       "      <td>United-States</td>\n",
       "      <td>&lt;=50K</td>\n",
       "    </tr>\n",
       "    <tr>\n",
       "      <th>17</th>\n",
       "      <td>32</td>\n",
       "      <td>Private</td>\n",
       "      <td>186824</td>\n",
       "      <td>HS-grad</td>\n",
       "      <td>9</td>\n",
       "      <td>Never-married</td>\n",
       "      <td>Machine-op-inspct</td>\n",
       "      <td>Unmarried</td>\n",
       "      <td>White</td>\n",
       "      <td>Male</td>\n",
       "      <td>0</td>\n",
       "      <td>0</td>\n",
       "      <td>40</td>\n",
       "      <td>United-States</td>\n",
       "      <td>&lt;=50K</td>\n",
       "    </tr>\n",
       "    <tr>\n",
       "      <th>18</th>\n",
       "      <td>38</td>\n",
       "      <td>Private</td>\n",
       "      <td>28887</td>\n",
       "      <td>11th</td>\n",
       "      <td>7</td>\n",
       "      <td>Married-civ-spouse</td>\n",
       "      <td>Sales</td>\n",
       "      <td>Husband</td>\n",
       "      <td>White</td>\n",
       "      <td>Male</td>\n",
       "      <td>0</td>\n",
       "      <td>0</td>\n",
       "      <td>50</td>\n",
       "      <td>United-States</td>\n",
       "      <td>&lt;=50K</td>\n",
       "    </tr>\n",
       "    <tr>\n",
       "      <th>19</th>\n",
       "      <td>43</td>\n",
       "      <td>Self-emp-not-inc</td>\n",
       "      <td>292175</td>\n",
       "      <td>Masters</td>\n",
       "      <td>14</td>\n",
       "      <td>Divorced</td>\n",
       "      <td>Exec-managerial</td>\n",
       "      <td>Unmarried</td>\n",
       "      <td>White</td>\n",
       "      <td>Female</td>\n",
       "      <td>0</td>\n",
       "      <td>0</td>\n",
       "      <td>45</td>\n",
       "      <td>United-States</td>\n",
       "      <td>&gt;50K</td>\n",
       "    </tr>\n",
       "    <tr>\n",
       "      <th>20</th>\n",
       "      <td>40</td>\n",
       "      <td>Private</td>\n",
       "      <td>193524</td>\n",
       "      <td>Doctorate</td>\n",
       "      <td>16</td>\n",
       "      <td>Married-civ-spouse</td>\n",
       "      <td>Prof-specialty</td>\n",
       "      <td>Husband</td>\n",
       "      <td>White</td>\n",
       "      <td>Male</td>\n",
       "      <td>0</td>\n",
       "      <td>0</td>\n",
       "      <td>60</td>\n",
       "      <td>United-States</td>\n",
       "      <td>&gt;50K</td>\n",
       "    </tr>\n",
       "    <tr>\n",
       "      <th>21</th>\n",
       "      <td>54</td>\n",
       "      <td>Private</td>\n",
       "      <td>302146</td>\n",
       "      <td>HS-grad</td>\n",
       "      <td>9</td>\n",
       "      <td>Separated</td>\n",
       "      <td>Other-service</td>\n",
       "      <td>Unmarried</td>\n",
       "      <td>Black</td>\n",
       "      <td>Female</td>\n",
       "      <td>0</td>\n",
       "      <td>0</td>\n",
       "      <td>20</td>\n",
       "      <td>United-States</td>\n",
       "      <td>&lt;=50K</td>\n",
       "    </tr>\n",
       "    <tr>\n",
       "      <th>22</th>\n",
       "      <td>35</td>\n",
       "      <td>Federal-gov</td>\n",
       "      <td>76845</td>\n",
       "      <td>9th</td>\n",
       "      <td>5</td>\n",
       "      <td>Married-civ-spouse</td>\n",
       "      <td>Farming-fishing</td>\n",
       "      <td>Husband</td>\n",
       "      <td>Black</td>\n",
       "      <td>Male</td>\n",
       "      <td>0</td>\n",
       "      <td>0</td>\n",
       "      <td>40</td>\n",
       "      <td>United-States</td>\n",
       "      <td>&lt;=50K</td>\n",
       "    </tr>\n",
       "    <tr>\n",
       "      <th>23</th>\n",
       "      <td>43</td>\n",
       "      <td>Private</td>\n",
       "      <td>117037</td>\n",
       "      <td>11th</td>\n",
       "      <td>7</td>\n",
       "      <td>Married-civ-spouse</td>\n",
       "      <td>Transport-moving</td>\n",
       "      <td>Husband</td>\n",
       "      <td>White</td>\n",
       "      <td>Male</td>\n",
       "      <td>0</td>\n",
       "      <td>2042</td>\n",
       "      <td>40</td>\n",
       "      <td>United-States</td>\n",
       "      <td>&lt;=50K</td>\n",
       "    </tr>\n",
       "    <tr>\n",
       "      <th>24</th>\n",
       "      <td>59</td>\n",
       "      <td>Private</td>\n",
       "      <td>109015</td>\n",
       "      <td>HS-grad</td>\n",
       "      <td>9</td>\n",
       "      <td>Divorced</td>\n",
       "      <td>Tech-support</td>\n",
       "      <td>Unmarried</td>\n",
       "      <td>White</td>\n",
       "      <td>Female</td>\n",
       "      <td>0</td>\n",
       "      <td>0</td>\n",
       "      <td>40</td>\n",
       "      <td>United-States</td>\n",
       "      <td>&lt;=50K</td>\n",
       "    </tr>\n",
       "    <tr>\n",
       "      <th>25</th>\n",
       "      <td>56</td>\n",
       "      <td>Local-gov</td>\n",
       "      <td>216851</td>\n",
       "      <td>Bachelors</td>\n",
       "      <td>13</td>\n",
       "      <td>Married-civ-spouse</td>\n",
       "      <td>Tech-support</td>\n",
       "      <td>Husband</td>\n",
       "      <td>White</td>\n",
       "      <td>Male</td>\n",
       "      <td>0</td>\n",
       "      <td>0</td>\n",
       "      <td>40</td>\n",
       "      <td>United-States</td>\n",
       "      <td>&gt;50K</td>\n",
       "    </tr>\n",
       "    <tr>\n",
       "      <th>26</th>\n",
       "      <td>19</td>\n",
       "      <td>Private</td>\n",
       "      <td>168294</td>\n",
       "      <td>HS-grad</td>\n",
       "      <td>9</td>\n",
       "      <td>Never-married</td>\n",
       "      <td>Craft-repair</td>\n",
       "      <td>Own-child</td>\n",
       "      <td>White</td>\n",
       "      <td>Male</td>\n",
       "      <td>0</td>\n",
       "      <td>0</td>\n",
       "      <td>40</td>\n",
       "      <td>United-States</td>\n",
       "      <td>&lt;=50K</td>\n",
       "    </tr>\n",
       "    <tr>\n",
       "      <th>27</th>\n",
       "      <td>54</td>\n",
       "      <td>?</td>\n",
       "      <td>180211</td>\n",
       "      <td>Some-college</td>\n",
       "      <td>10</td>\n",
       "      <td>Married-civ-spouse</td>\n",
       "      <td>?</td>\n",
       "      <td>Husband</td>\n",
       "      <td>Asian-Pac-Islander</td>\n",
       "      <td>Male</td>\n",
       "      <td>0</td>\n",
       "      <td>0</td>\n",
       "      <td>60</td>\n",
       "      <td>South</td>\n",
       "      <td>&gt;50K</td>\n",
       "    </tr>\n",
       "    <tr>\n",
       "      <th>28</th>\n",
       "      <td>39</td>\n",
       "      <td>Private</td>\n",
       "      <td>367260</td>\n",
       "      <td>HS-grad</td>\n",
       "      <td>9</td>\n",
       "      <td>Divorced</td>\n",
       "      <td>Exec-managerial</td>\n",
       "      <td>Not-in-family</td>\n",
       "      <td>White</td>\n",
       "      <td>Male</td>\n",
       "      <td>0</td>\n",
       "      <td>0</td>\n",
       "      <td>80</td>\n",
       "      <td>United-States</td>\n",
       "      <td>&lt;=50K</td>\n",
       "    </tr>\n",
       "    <tr>\n",
       "      <th>29</th>\n",
       "      <td>49</td>\n",
       "      <td>Private</td>\n",
       "      <td>193366</td>\n",
       "      <td>HS-grad</td>\n",
       "      <td>9</td>\n",
       "      <td>Married-civ-spouse</td>\n",
       "      <td>Craft-repair</td>\n",
       "      <td>Husband</td>\n",
       "      <td>White</td>\n",
       "      <td>Male</td>\n",
       "      <td>0</td>\n",
       "      <td>0</td>\n",
       "      <td>40</td>\n",
       "      <td>United-States</td>\n",
       "      <td>&lt;=50K</td>\n",
       "    </tr>\n",
       "    <tr>\n",
       "      <th>30</th>\n",
       "      <td>23</td>\n",
       "      <td>Local-gov</td>\n",
       "      <td>190709</td>\n",
       "      <td>Assoc-acdm</td>\n",
       "      <td>12</td>\n",
       "      <td>Never-married</td>\n",
       "      <td>Protective-serv</td>\n",
       "      <td>Not-in-family</td>\n",
       "      <td>White</td>\n",
       "      <td>Male</td>\n",
       "      <td>0</td>\n",
       "      <td>0</td>\n",
       "      <td>52</td>\n",
       "      <td>United-States</td>\n",
       "      <td>&lt;=50K</td>\n",
       "    </tr>\n",
       "    <tr>\n",
       "      <th>31</th>\n",
       "      <td>20</td>\n",
       "      <td>Private</td>\n",
       "      <td>266015</td>\n",
       "      <td>Some-college</td>\n",
       "      <td>10</td>\n",
       "      <td>Never-married</td>\n",
       "      <td>Sales</td>\n",
       "      <td>Own-child</td>\n",
       "      <td>Black</td>\n",
       "      <td>Male</td>\n",
       "      <td>0</td>\n",
       "      <td>0</td>\n",
       "      <td>44</td>\n",
       "      <td>United-States</td>\n",
       "      <td>&lt;=50K</td>\n",
       "    </tr>\n",
       "    <tr>\n",
       "      <th>32</th>\n",
       "      <td>45</td>\n",
       "      <td>Private</td>\n",
       "      <td>386940</td>\n",
       "      <td>Bachelors</td>\n",
       "      <td>13</td>\n",
       "      <td>Divorced</td>\n",
       "      <td>Exec-managerial</td>\n",
       "      <td>Own-child</td>\n",
       "      <td>White</td>\n",
       "      <td>Male</td>\n",
       "      <td>0</td>\n",
       "      <td>1408</td>\n",
       "      <td>40</td>\n",
       "      <td>United-States</td>\n",
       "      <td>&lt;=50K</td>\n",
       "    </tr>\n",
       "    <tr>\n",
       "      <th>33</th>\n",
       "      <td>30</td>\n",
       "      <td>Federal-gov</td>\n",
       "      <td>59951</td>\n",
       "      <td>Some-college</td>\n",
       "      <td>10</td>\n",
       "      <td>Married-civ-spouse</td>\n",
       "      <td>Adm-clerical</td>\n",
       "      <td>Own-child</td>\n",
       "      <td>White</td>\n",
       "      <td>Male</td>\n",
       "      <td>0</td>\n",
       "      <td>0</td>\n",
       "      <td>40</td>\n",
       "      <td>United-States</td>\n",
       "      <td>&lt;=50K</td>\n",
       "    </tr>\n",
       "    <tr>\n",
       "      <th>34</th>\n",
       "      <td>22</td>\n",
       "      <td>State-gov</td>\n",
       "      <td>311512</td>\n",
       "      <td>Some-college</td>\n",
       "      <td>10</td>\n",
       "      <td>Married-civ-spouse</td>\n",
       "      <td>Other-service</td>\n",
       "      <td>Husband</td>\n",
       "      <td>Black</td>\n",
       "      <td>Male</td>\n",
       "      <td>0</td>\n",
       "      <td>0</td>\n",
       "      <td>15</td>\n",
       "      <td>United-States</td>\n",
       "      <td>&lt;=50K</td>\n",
       "    </tr>\n",
       "    <tr>\n",
       "      <th>35</th>\n",
       "      <td>48</td>\n",
       "      <td>Private</td>\n",
       "      <td>242406</td>\n",
       "      <td>11th</td>\n",
       "      <td>7</td>\n",
       "      <td>Never-married</td>\n",
       "      <td>Machine-op-inspct</td>\n",
       "      <td>Unmarried</td>\n",
       "      <td>White</td>\n",
       "      <td>Male</td>\n",
       "      <td>0</td>\n",
       "      <td>0</td>\n",
       "      <td>40</td>\n",
       "      <td>Puerto-Rico</td>\n",
       "      <td>&lt;=50K</td>\n",
       "    </tr>\n",
       "    <tr>\n",
       "      <th>36</th>\n",
       "      <td>21</td>\n",
       "      <td>Private</td>\n",
       "      <td>197200</td>\n",
       "      <td>Some-college</td>\n",
       "      <td>10</td>\n",
       "      <td>Never-married</td>\n",
       "      <td>Machine-op-inspct</td>\n",
       "      <td>Own-child</td>\n",
       "      <td>White</td>\n",
       "      <td>Male</td>\n",
       "      <td>0</td>\n",
       "      <td>0</td>\n",
       "      <td>40</td>\n",
       "      <td>United-States</td>\n",
       "      <td>&lt;=50K</td>\n",
       "    </tr>\n",
       "    <tr>\n",
       "      <th>37</th>\n",
       "      <td>19</td>\n",
       "      <td>Private</td>\n",
       "      <td>544091</td>\n",
       "      <td>HS-grad</td>\n",
       "      <td>9</td>\n",
       "      <td>Married-AF-spouse</td>\n",
       "      <td>Adm-clerical</td>\n",
       "      <td>Wife</td>\n",
       "      <td>White</td>\n",
       "      <td>Female</td>\n",
       "      <td>0</td>\n",
       "      <td>0</td>\n",
       "      <td>25</td>\n",
       "      <td>United-States</td>\n",
       "      <td>&lt;=50K</td>\n",
       "    </tr>\n",
       "    <tr>\n",
       "      <th>38</th>\n",
       "      <td>31</td>\n",
       "      <td>Private</td>\n",
       "      <td>84154</td>\n",
       "      <td>Some-college</td>\n",
       "      <td>10</td>\n",
       "      <td>Married-civ-spouse</td>\n",
       "      <td>Sales</td>\n",
       "      <td>Husband</td>\n",
       "      <td>White</td>\n",
       "      <td>Male</td>\n",
       "      <td>0</td>\n",
       "      <td>0</td>\n",
       "      <td>38</td>\n",
       "      <td>?</td>\n",
       "      <td>&gt;50K</td>\n",
       "    </tr>\n",
       "    <tr>\n",
       "      <th>39</th>\n",
       "      <td>48</td>\n",
       "      <td>Self-emp-not-inc</td>\n",
       "      <td>265477</td>\n",
       "      <td>Assoc-acdm</td>\n",
       "      <td>12</td>\n",
       "      <td>Married-civ-spouse</td>\n",
       "      <td>Prof-specialty</td>\n",
       "      <td>Husband</td>\n",
       "      <td>White</td>\n",
       "      <td>Male</td>\n",
       "      <td>0</td>\n",
       "      <td>0</td>\n",
       "      <td>40</td>\n",
       "      <td>United-States</td>\n",
       "      <td>&lt;=50K</td>\n",
       "    </tr>\n",
       "    <tr>\n",
       "      <th>40</th>\n",
       "      <td>31</td>\n",
       "      <td>Private</td>\n",
       "      <td>507875</td>\n",
       "      <td>9th</td>\n",
       "      <td>5</td>\n",
       "      <td>Married-civ-spouse</td>\n",
       "      <td>Machine-op-inspct</td>\n",
       "      <td>Husband</td>\n",
       "      <td>White</td>\n",
       "      <td>Male</td>\n",
       "      <td>0</td>\n",
       "      <td>0</td>\n",
       "      <td>43</td>\n",
       "      <td>United-States</td>\n",
       "      <td>&lt;=50K</td>\n",
       "    </tr>\n",
       "    <tr>\n",
       "      <th>41</th>\n",
       "      <td>53</td>\n",
       "      <td>Self-emp-not-inc</td>\n",
       "      <td>88506</td>\n",
       "      <td>Bachelors</td>\n",
       "      <td>13</td>\n",
       "      <td>Married-civ-spouse</td>\n",
       "      <td>Prof-specialty</td>\n",
       "      <td>Husband</td>\n",
       "      <td>White</td>\n",
       "      <td>Male</td>\n",
       "      <td>0</td>\n",
       "      <td>0</td>\n",
       "      <td>40</td>\n",
       "      <td>United-States</td>\n",
       "      <td>&lt;=50K</td>\n",
       "    </tr>\n",
       "    <tr>\n",
       "      <th>42</th>\n",
       "      <td>24</td>\n",
       "      <td>Private</td>\n",
       "      <td>172987</td>\n",
       "      <td>Bachelors</td>\n",
       "      <td>13</td>\n",
       "      <td>Married-civ-spouse</td>\n",
       "      <td>Tech-support</td>\n",
       "      <td>Husband</td>\n",
       "      <td>White</td>\n",
       "      <td>Male</td>\n",
       "      <td>0</td>\n",
       "      <td>0</td>\n",
       "      <td>50</td>\n",
       "      <td>United-States</td>\n",
       "      <td>&lt;=50K</td>\n",
       "    </tr>\n",
       "    <tr>\n",
       "      <th>43</th>\n",
       "      <td>49</td>\n",
       "      <td>Private</td>\n",
       "      <td>94638</td>\n",
       "      <td>HS-grad</td>\n",
       "      <td>9</td>\n",
       "      <td>Separated</td>\n",
       "      <td>Adm-clerical</td>\n",
       "      <td>Unmarried</td>\n",
       "      <td>White</td>\n",
       "      <td>Female</td>\n",
       "      <td>0</td>\n",
       "      <td>0</td>\n",
       "      <td>40</td>\n",
       "      <td>United-States</td>\n",
       "      <td>&lt;=50K</td>\n",
       "    </tr>\n",
       "    <tr>\n",
       "      <th>44</th>\n",
       "      <td>25</td>\n",
       "      <td>Private</td>\n",
       "      <td>289980</td>\n",
       "      <td>HS-grad</td>\n",
       "      <td>9</td>\n",
       "      <td>Never-married</td>\n",
       "      <td>Handlers-cleaners</td>\n",
       "      <td>Not-in-family</td>\n",
       "      <td>White</td>\n",
       "      <td>Male</td>\n",
       "      <td>0</td>\n",
       "      <td>0</td>\n",
       "      <td>35</td>\n",
       "      <td>United-States</td>\n",
       "      <td>&lt;=50K</td>\n",
       "    </tr>\n",
       "    <tr>\n",
       "      <th>45</th>\n",
       "      <td>57</td>\n",
       "      <td>Federal-gov</td>\n",
       "      <td>337895</td>\n",
       "      <td>Bachelors</td>\n",
       "      <td>13</td>\n",
       "      <td>Married-civ-spouse</td>\n",
       "      <td>Prof-specialty</td>\n",
       "      <td>Husband</td>\n",
       "      <td>Black</td>\n",
       "      <td>Male</td>\n",
       "      <td>0</td>\n",
       "      <td>0</td>\n",
       "      <td>40</td>\n",
       "      <td>United-States</td>\n",
       "      <td>&gt;50K</td>\n",
       "    </tr>\n",
       "    <tr>\n",
       "      <th>46</th>\n",
       "      <td>53</td>\n",
       "      <td>Private</td>\n",
       "      <td>144361</td>\n",
       "      <td>HS-grad</td>\n",
       "      <td>9</td>\n",
       "      <td>Married-civ-spouse</td>\n",
       "      <td>Machine-op-inspct</td>\n",
       "      <td>Husband</td>\n",
       "      <td>White</td>\n",
       "      <td>Male</td>\n",
       "      <td>0</td>\n",
       "      <td>0</td>\n",
       "      <td>38</td>\n",
       "      <td>United-States</td>\n",
       "      <td>&lt;=50K</td>\n",
       "    </tr>\n",
       "    <tr>\n",
       "      <th>47</th>\n",
       "      <td>44</td>\n",
       "      <td>Private</td>\n",
       "      <td>128354</td>\n",
       "      <td>Masters</td>\n",
       "      <td>14</td>\n",
       "      <td>Divorced</td>\n",
       "      <td>Exec-managerial</td>\n",
       "      <td>Unmarried</td>\n",
       "      <td>White</td>\n",
       "      <td>Female</td>\n",
       "      <td>0</td>\n",
       "      <td>0</td>\n",
       "      <td>40</td>\n",
       "      <td>United-States</td>\n",
       "      <td>&lt;=50K</td>\n",
       "    </tr>\n",
       "    <tr>\n",
       "      <th>48</th>\n",
       "      <td>41</td>\n",
       "      <td>State-gov</td>\n",
       "      <td>101603</td>\n",
       "      <td>Assoc-voc</td>\n",
       "      <td>11</td>\n",
       "      <td>Married-civ-spouse</td>\n",
       "      <td>Craft-repair</td>\n",
       "      <td>Husband</td>\n",
       "      <td>White</td>\n",
       "      <td>Male</td>\n",
       "      <td>0</td>\n",
       "      <td>0</td>\n",
       "      <td>40</td>\n",
       "      <td>United-States</td>\n",
       "      <td>&lt;=50K</td>\n",
       "    </tr>\n",
       "    <tr>\n",
       "      <th>49</th>\n",
       "      <td>29</td>\n",
       "      <td>Private</td>\n",
       "      <td>271466</td>\n",
       "      <td>Assoc-voc</td>\n",
       "      <td>11</td>\n",
       "      <td>Never-married</td>\n",
       "      <td>Prof-specialty</td>\n",
       "      <td>Not-in-family</td>\n",
       "      <td>White</td>\n",
       "      <td>Male</td>\n",
       "      <td>0</td>\n",
       "      <td>0</td>\n",
       "      <td>43</td>\n",
       "      <td>United-States</td>\n",
       "      <td>&lt;=50K</td>\n",
       "    </tr>\n",
       "  </tbody>\n",
       "</table>\n",
       "</div>"
      ],
      "text/plain": [
       "    age          workclass  fnlwgt      education  education-num  \\\n",
       "0    39          State-gov   77516      Bachelors             13   \n",
       "1    50   Self-emp-not-inc   83311      Bachelors             13   \n",
       "2    38            Private  215646        HS-grad              9   \n",
       "3    53            Private  234721           11th              7   \n",
       "4    28            Private  338409      Bachelors             13   \n",
       "5    37            Private  284582        Masters             14   \n",
       "6    49            Private  160187            9th              5   \n",
       "7    52   Self-emp-not-inc  209642        HS-grad              9   \n",
       "8    31            Private   45781        Masters             14   \n",
       "9    42            Private  159449      Bachelors             13   \n",
       "10   37            Private  280464   Some-college             10   \n",
       "11   30          State-gov  141297      Bachelors             13   \n",
       "12   23            Private  122272      Bachelors             13   \n",
       "13   32            Private  205019     Assoc-acdm             12   \n",
       "14   40            Private  121772      Assoc-voc             11   \n",
       "15   34            Private  245487        7th-8th              4   \n",
       "16   25   Self-emp-not-inc  176756        HS-grad              9   \n",
       "17   32            Private  186824        HS-grad              9   \n",
       "18   38            Private   28887           11th              7   \n",
       "19   43   Self-emp-not-inc  292175        Masters             14   \n",
       "20   40            Private  193524      Doctorate             16   \n",
       "21   54            Private  302146        HS-grad              9   \n",
       "22   35        Federal-gov   76845            9th              5   \n",
       "23   43            Private  117037           11th              7   \n",
       "24   59            Private  109015        HS-grad              9   \n",
       "25   56          Local-gov  216851      Bachelors             13   \n",
       "26   19            Private  168294        HS-grad              9   \n",
       "27   54                  ?  180211   Some-college             10   \n",
       "28   39            Private  367260        HS-grad              9   \n",
       "29   49            Private  193366        HS-grad              9   \n",
       "30   23          Local-gov  190709     Assoc-acdm             12   \n",
       "31   20            Private  266015   Some-college             10   \n",
       "32   45            Private  386940      Bachelors             13   \n",
       "33   30        Federal-gov   59951   Some-college             10   \n",
       "34   22          State-gov  311512   Some-college             10   \n",
       "35   48            Private  242406           11th              7   \n",
       "36   21            Private  197200   Some-college             10   \n",
       "37   19            Private  544091        HS-grad              9   \n",
       "38   31            Private   84154   Some-college             10   \n",
       "39   48   Self-emp-not-inc  265477     Assoc-acdm             12   \n",
       "40   31            Private  507875            9th              5   \n",
       "41   53   Self-emp-not-inc   88506      Bachelors             13   \n",
       "42   24            Private  172987      Bachelors             13   \n",
       "43   49            Private   94638        HS-grad              9   \n",
       "44   25            Private  289980        HS-grad              9   \n",
       "45   57        Federal-gov  337895      Bachelors             13   \n",
       "46   53            Private  144361        HS-grad              9   \n",
       "47   44            Private  128354        Masters             14   \n",
       "48   41          State-gov  101603      Assoc-voc             11   \n",
       "49   29            Private  271466      Assoc-voc             11   \n",
       "\n",
       "            marital-status          occupation    relationship  \\\n",
       "0            Never-married        Adm-clerical   Not-in-family   \n",
       "1       Married-civ-spouse     Exec-managerial         Husband   \n",
       "2                 Divorced   Handlers-cleaners   Not-in-family   \n",
       "3       Married-civ-spouse   Handlers-cleaners         Husband   \n",
       "4       Married-civ-spouse      Prof-specialty            Wife   \n",
       "5       Married-civ-spouse     Exec-managerial            Wife   \n",
       "6    Married-spouse-absent       Other-service   Not-in-family   \n",
       "7       Married-civ-spouse     Exec-managerial         Husband   \n",
       "8            Never-married      Prof-specialty   Not-in-family   \n",
       "9       Married-civ-spouse     Exec-managerial         Husband   \n",
       "10      Married-civ-spouse     Exec-managerial         Husband   \n",
       "11      Married-civ-spouse      Prof-specialty         Husband   \n",
       "12           Never-married        Adm-clerical       Own-child   \n",
       "13           Never-married               Sales   Not-in-family   \n",
       "14      Married-civ-spouse        Craft-repair         Husband   \n",
       "15      Married-civ-spouse    Transport-moving         Husband   \n",
       "16           Never-married     Farming-fishing       Own-child   \n",
       "17           Never-married   Machine-op-inspct       Unmarried   \n",
       "18      Married-civ-spouse               Sales         Husband   \n",
       "19                Divorced     Exec-managerial       Unmarried   \n",
       "20      Married-civ-spouse      Prof-specialty         Husband   \n",
       "21               Separated       Other-service       Unmarried   \n",
       "22      Married-civ-spouse     Farming-fishing         Husband   \n",
       "23      Married-civ-spouse    Transport-moving         Husband   \n",
       "24                Divorced        Tech-support       Unmarried   \n",
       "25      Married-civ-spouse        Tech-support         Husband   \n",
       "26           Never-married        Craft-repair       Own-child   \n",
       "27      Married-civ-spouse                   ?         Husband   \n",
       "28                Divorced     Exec-managerial   Not-in-family   \n",
       "29      Married-civ-spouse        Craft-repair         Husband   \n",
       "30           Never-married     Protective-serv   Not-in-family   \n",
       "31           Never-married               Sales       Own-child   \n",
       "32                Divorced     Exec-managerial       Own-child   \n",
       "33      Married-civ-spouse        Adm-clerical       Own-child   \n",
       "34      Married-civ-spouse       Other-service         Husband   \n",
       "35           Never-married   Machine-op-inspct       Unmarried   \n",
       "36           Never-married   Machine-op-inspct       Own-child   \n",
       "37       Married-AF-spouse        Adm-clerical            Wife   \n",
       "38      Married-civ-spouse               Sales         Husband   \n",
       "39      Married-civ-spouse      Prof-specialty         Husband   \n",
       "40      Married-civ-spouse   Machine-op-inspct         Husband   \n",
       "41      Married-civ-spouse      Prof-specialty         Husband   \n",
       "42      Married-civ-spouse        Tech-support         Husband   \n",
       "43               Separated        Adm-clerical       Unmarried   \n",
       "44           Never-married   Handlers-cleaners   Not-in-family   \n",
       "45      Married-civ-spouse      Prof-specialty         Husband   \n",
       "46      Married-civ-spouse   Machine-op-inspct         Husband   \n",
       "47                Divorced     Exec-managerial       Unmarried   \n",
       "48      Married-civ-spouse        Craft-repair         Husband   \n",
       "49           Never-married      Prof-specialty   Not-in-family   \n",
       "\n",
       "                   race      sex  capital-gain  capital-loss  hours-per-week  \\\n",
       "0                 White     Male          2174             0              40   \n",
       "1                 White     Male             0             0              13   \n",
       "2                 White     Male             0             0              40   \n",
       "3                 Black     Male             0             0              40   \n",
       "4                 Black   Female             0             0              40   \n",
       "5                 White   Female             0             0              40   \n",
       "6                 Black   Female             0             0              16   \n",
       "7                 White     Male             0             0              45   \n",
       "8                 White   Female         14084             0              50   \n",
       "9                 White     Male          5178             0              40   \n",
       "10                Black     Male             0             0              80   \n",
       "11   Asian-Pac-Islander     Male             0             0              40   \n",
       "12                White   Female             0             0              30   \n",
       "13                Black     Male             0             0              50   \n",
       "14   Asian-Pac-Islander     Male             0             0              40   \n",
       "15   Amer-Indian-Eskimo     Male             0             0              45   \n",
       "16                White     Male             0             0              35   \n",
       "17                White     Male             0             0              40   \n",
       "18                White     Male             0             0              50   \n",
       "19                White   Female             0             0              45   \n",
       "20                White     Male             0             0              60   \n",
       "21                Black   Female             0             0              20   \n",
       "22                Black     Male             0             0              40   \n",
       "23                White     Male             0          2042              40   \n",
       "24                White   Female             0             0              40   \n",
       "25                White     Male             0             0              40   \n",
       "26                White     Male             0             0              40   \n",
       "27   Asian-Pac-Islander     Male             0             0              60   \n",
       "28                White     Male             0             0              80   \n",
       "29                White     Male             0             0              40   \n",
       "30                White     Male             0             0              52   \n",
       "31                Black     Male             0             0              44   \n",
       "32                White     Male             0          1408              40   \n",
       "33                White     Male             0             0              40   \n",
       "34                Black     Male             0             0              15   \n",
       "35                White     Male             0             0              40   \n",
       "36                White     Male             0             0              40   \n",
       "37                White   Female             0             0              25   \n",
       "38                White     Male             0             0              38   \n",
       "39                White     Male             0             0              40   \n",
       "40                White     Male             0             0              43   \n",
       "41                White     Male             0             0              40   \n",
       "42                White     Male             0             0              50   \n",
       "43                White   Female             0             0              40   \n",
       "44                White     Male             0             0              35   \n",
       "45                Black     Male             0             0              40   \n",
       "46                White     Male             0             0              38   \n",
       "47                White   Female             0             0              40   \n",
       "48                White     Male             0             0              40   \n",
       "49                White     Male             0             0              43   \n",
       "\n",
       "           country  salary  \n",
       "0    United-States   <=50K  \n",
       "1    United-States   <=50K  \n",
       "2    United-States   <=50K  \n",
       "3    United-States   <=50K  \n",
       "4             Cuba   <=50K  \n",
       "5    United-States   <=50K  \n",
       "6          Jamaica   <=50K  \n",
       "7    United-States    >50K  \n",
       "8    United-States    >50K  \n",
       "9    United-States    >50K  \n",
       "10   United-States    >50K  \n",
       "11           India    >50K  \n",
       "12   United-States   <=50K  \n",
       "13   United-States   <=50K  \n",
       "14               ?    >50K  \n",
       "15          Mexico   <=50K  \n",
       "16   United-States   <=50K  \n",
       "17   United-States   <=50K  \n",
       "18   United-States   <=50K  \n",
       "19   United-States    >50K  \n",
       "20   United-States    >50K  \n",
       "21   United-States   <=50K  \n",
       "22   United-States   <=50K  \n",
       "23   United-States   <=50K  \n",
       "24   United-States   <=50K  \n",
       "25   United-States    >50K  \n",
       "26   United-States   <=50K  \n",
       "27           South    >50K  \n",
       "28   United-States   <=50K  \n",
       "29   United-States   <=50K  \n",
       "30   United-States   <=50K  \n",
       "31   United-States   <=50K  \n",
       "32   United-States   <=50K  \n",
       "33   United-States   <=50K  \n",
       "34   United-States   <=50K  \n",
       "35     Puerto-Rico   <=50K  \n",
       "36   United-States   <=50K  \n",
       "37   United-States   <=50K  \n",
       "38               ?    >50K  \n",
       "39   United-States   <=50K  \n",
       "40   United-States   <=50K  \n",
       "41   United-States   <=50K  \n",
       "42   United-States   <=50K  \n",
       "43   United-States   <=50K  \n",
       "44   United-States   <=50K  \n",
       "45   United-States    >50K  \n",
       "46   United-States   <=50K  \n",
       "47   United-States   <=50K  \n",
       "48   United-States   <=50K  \n",
       "49   United-States   <=50K  "
      ]
     },
     "execution_count": 110,
     "metadata": {},
     "output_type": "execute_result"
    }
   ],
   "source": [
    "df1.head(50)"
   ]
  },
  {
   "cell_type": "code",
   "execution_count": 111,
   "id": "fcff9390",
   "metadata": {},
   "outputs": [
    {
     "data": {
      "text/plain": [
       "Index(['age', 'workclass', 'fnlwgt', 'education', 'education-num',\n",
       "       'marital-status', 'occupation', 'relationship', 'race', 'sex',\n",
       "       'capital-gain', 'capital-loss', 'hours-per-week', 'country', 'salary'],\n",
       "      dtype='object')"
      ]
     },
     "execution_count": 111,
     "metadata": {},
     "output_type": "execute_result"
    }
   ],
   "source": [
    "df1.columns # column in the data frame "
   ]
  },
  {
   "cell_type": "code",
   "execution_count": 112,
   "id": "ae21d4a1",
   "metadata": {},
   "outputs": [
    {
     "data": {
      "text/plain": [
       "age                int64\n",
       "workclass         object\n",
       "fnlwgt             int64\n",
       "education         object\n",
       "education-num      int64\n",
       "marital-status    object\n",
       "occupation        object\n",
       "relationship      object\n",
       "race              object\n",
       "sex               object\n",
       "capital-gain       int64\n",
       "capital-loss       int64\n",
       "hours-per-week     int64\n",
       "country           object\n",
       "salary            object\n",
       "dtype: object"
      ]
     },
     "execution_count": 112,
     "metadata": {},
     "output_type": "execute_result"
    }
   ],
   "source": [
    "df1.dtypes # columns data types "
   ]
  },
  {
   "cell_type": "code",
   "execution_count": 113,
   "id": "315361df",
   "metadata": {},
   "outputs": [],
   "source": [
    "# get all the categorical columns name\n",
    "#cat_cols = list(df1.select_dtypes(include='object').columns)\n",
    "#print(f'Categorical columns: {cat_cols}')"
   ]
  },
  {
   "cell_type": "code",
   "execution_count": 114,
   "id": "38a4b8dd",
   "metadata": {},
   "outputs": [],
   "source": [
    "# get all the continuous columns name\n",
    "#num_cols = list(df1.select_dtypes(exclude='object').columns)\n",
    "#print(f'Continuous columns: {num_cols}')"
   ]
  },
  {
   "cell_type": "markdown",
   "id": "5e0a86d7",
   "metadata": {},
   "source": [
    "# filter categorical data and numerical data"
   ]
  },
  {
   "cell_type": "code",
   "execution_count": 115,
   "id": "6c6c8dac",
   "metadata": {},
   "outputs": [],
   "source": [
    "# filter categorical data and numerical data\n",
    "# categorical_columns =df[[cat_col_1,cat_col_2,cat_col_3,cat_col_4]].copy() # diffrent way of writing \n",
    "\n",
    "# all categorical data we need to first encode them \n",
    "\n",
    "numerics= ['int8' , 'int16' , 'int32' , 'int64' , 'float16' , 'float32' , 'float64'] \n",
    "\n",
    "categorical_col=[]   \n",
    "    \n",
    "features = df1.columns.values.tolist()   \n",
    "for col in features:\n",
    "    if df1[col].dtype in numerics:  \n",
    "    \n",
    "        continue\n",
    "        \n",
    "    categorical_col.append(col) "
   ]
  },
  {
   "cell_type": "code",
   "execution_count": 116,
   "id": "9d5f67f3",
   "metadata": {},
   "outputs": [],
   "source": [
    "categorical_columns=df1[categorical_col].copy()"
   ]
  },
  {
   "cell_type": "code",
   "execution_count": 117,
   "id": "58a84d40",
   "metadata": {},
   "outputs": [
    {
     "data": {
      "text/plain": [
       "['workclass',\n",
       " 'education',\n",
       " 'marital-status',\n",
       " 'occupation',\n",
       " 'relationship',\n",
       " 'race',\n",
       " 'sex',\n",
       " 'country',\n",
       " 'salary']"
      ]
     },
     "execution_count": 117,
     "metadata": {},
     "output_type": "execute_result"
    }
   ],
   "source": [
    "categorical_col # List of categorical_columns in the data frame "
   ]
  },
  {
   "cell_type": "markdown",
   "id": "f3fdd322",
   "metadata": {},
   "source": [
    "# Encoding the target varible "
   ]
  },
  {
   "cell_type": "code",
   "execution_count": 262,
   "id": "c37c7a65",
   "metadata": {},
   "outputs": [],
   "source": [
    "categorical_columns['salary']=categorical_columns['salary'].replace('<=50K', 0)\n",
    "categorical_columns['salary']=categorical_columns['salary'].replace('>50K', 1)"
   ]
  },
  {
   "cell_type": "code",
   "execution_count": 263,
   "id": "ef92be9e",
   "metadata": {},
   "outputs": [
    {
     "data": {
      "text/html": [
       "<div>\n",
       "<style scoped>\n",
       "    .dataframe tbody tr th:only-of-type {\n",
       "        vertical-align: middle;\n",
       "    }\n",
       "\n",
       "    .dataframe tbody tr th {\n",
       "        vertical-align: top;\n",
       "    }\n",
       "\n",
       "    .dataframe thead th {\n",
       "        text-align: right;\n",
       "    }\n",
       "</style>\n",
       "<table border=\"1\" class=\"dataframe\">\n",
       "  <thead>\n",
       "    <tr style=\"text-align: right;\">\n",
       "      <th></th>\n",
       "      <th>workclass</th>\n",
       "      <th>education</th>\n",
       "      <th>marital_status</th>\n",
       "      <th>occupation</th>\n",
       "      <th>relationship</th>\n",
       "      <th>race</th>\n",
       "      <th>sex</th>\n",
       "      <th>country</th>\n",
       "      <th>salary</th>\n",
       "    </tr>\n",
       "  </thead>\n",
       "  <tbody>\n",
       "    <tr>\n",
       "      <th>0</th>\n",
       "      <td>State_gov</td>\n",
       "      <td>Bachelors</td>\n",
       "      <td>Never_married</td>\n",
       "      <td>Adm_clerical</td>\n",
       "      <td>Not_in_family</td>\n",
       "      <td>White</td>\n",
       "      <td>Male</td>\n",
       "      <td>United_States</td>\n",
       "      <td>0</td>\n",
       "    </tr>\n",
       "    <tr>\n",
       "      <th>1</th>\n",
       "      <td>Self_emp_not_inc</td>\n",
       "      <td>Bachelors</td>\n",
       "      <td>Married_civ_spouse</td>\n",
       "      <td>Exec_managerial</td>\n",
       "      <td>Husband</td>\n",
       "      <td>White</td>\n",
       "      <td>Male</td>\n",
       "      <td>United_States</td>\n",
       "      <td>0</td>\n",
       "    </tr>\n",
       "    <tr>\n",
       "      <th>2</th>\n",
       "      <td>Private</td>\n",
       "      <td>school</td>\n",
       "      <td>Divorced</td>\n",
       "      <td>Handlers_cleaners</td>\n",
       "      <td>Not_in_family</td>\n",
       "      <td>White</td>\n",
       "      <td>Male</td>\n",
       "      <td>United_States</td>\n",
       "      <td>0</td>\n",
       "    </tr>\n",
       "    <tr>\n",
       "      <th>3</th>\n",
       "      <td>Private</td>\n",
       "      <td>school</td>\n",
       "      <td>Married_civ_spouse</td>\n",
       "      <td>Handlers_cleaners</td>\n",
       "      <td>Husband</td>\n",
       "      <td>Black</td>\n",
       "      <td>Male</td>\n",
       "      <td>United_States</td>\n",
       "      <td>0</td>\n",
       "    </tr>\n",
       "    <tr>\n",
       "      <th>4</th>\n",
       "      <td>Private</td>\n",
       "      <td>Bachelors</td>\n",
       "      <td>Married_civ_spouse</td>\n",
       "      <td>Prof_specialty</td>\n",
       "      <td>Wife</td>\n",
       "      <td>Black</td>\n",
       "      <td>Female</td>\n",
       "      <td>Cuba</td>\n",
       "      <td>0</td>\n",
       "    </tr>\n",
       "    <tr>\n",
       "      <th>...</th>\n",
       "      <td>...</td>\n",
       "      <td>...</td>\n",
       "      <td>...</td>\n",
       "      <td>...</td>\n",
       "      <td>...</td>\n",
       "      <td>...</td>\n",
       "      <td>...</td>\n",
       "      <td>...</td>\n",
       "      <td>...</td>\n",
       "    </tr>\n",
       "    <tr>\n",
       "      <th>32556</th>\n",
       "      <td>Private</td>\n",
       "      <td>Associate</td>\n",
       "      <td>Married_civ_spouse</td>\n",
       "      <td>Tech_support</td>\n",
       "      <td>Wife</td>\n",
       "      <td>White</td>\n",
       "      <td>Female</td>\n",
       "      <td>United_States</td>\n",
       "      <td>0</td>\n",
       "    </tr>\n",
       "    <tr>\n",
       "      <th>32557</th>\n",
       "      <td>Private</td>\n",
       "      <td>school</td>\n",
       "      <td>Married_civ_spouse</td>\n",
       "      <td>Machine_op_inspct</td>\n",
       "      <td>Husband</td>\n",
       "      <td>White</td>\n",
       "      <td>Male</td>\n",
       "      <td>United_States</td>\n",
       "      <td>1</td>\n",
       "    </tr>\n",
       "    <tr>\n",
       "      <th>32558</th>\n",
       "      <td>Private</td>\n",
       "      <td>school</td>\n",
       "      <td>Widowed</td>\n",
       "      <td>Adm_clerical</td>\n",
       "      <td>Unmarried</td>\n",
       "      <td>White</td>\n",
       "      <td>Female</td>\n",
       "      <td>United_States</td>\n",
       "      <td>0</td>\n",
       "    </tr>\n",
       "    <tr>\n",
       "      <th>32559</th>\n",
       "      <td>Private</td>\n",
       "      <td>school</td>\n",
       "      <td>Never_married</td>\n",
       "      <td>Adm_clerical</td>\n",
       "      <td>Own_child</td>\n",
       "      <td>White</td>\n",
       "      <td>Male</td>\n",
       "      <td>United_States</td>\n",
       "      <td>0</td>\n",
       "    </tr>\n",
       "    <tr>\n",
       "      <th>32560</th>\n",
       "      <td>Self_emp_inc</td>\n",
       "      <td>school</td>\n",
       "      <td>Married_civ_spouse</td>\n",
       "      <td>Exec_managerial</td>\n",
       "      <td>Wife</td>\n",
       "      <td>White</td>\n",
       "      <td>Female</td>\n",
       "      <td>United_States</td>\n",
       "      <td>1</td>\n",
       "    </tr>\n",
       "  </tbody>\n",
       "</table>\n",
       "<p>32561 rows × 9 columns</p>\n",
       "</div>"
      ],
      "text/plain": [
       "              workclass  education      marital_status         occupation  \\\n",
       "0             State_gov  Bachelors       Never_married       Adm_clerical   \n",
       "1      Self_emp_not_inc  Bachelors  Married_civ_spouse    Exec_managerial   \n",
       "2               Private     school            Divorced  Handlers_cleaners   \n",
       "3               Private     school  Married_civ_spouse  Handlers_cleaners   \n",
       "4               Private  Bachelors  Married_civ_spouse     Prof_specialty   \n",
       "...                 ...        ...                 ...                ...   \n",
       "32556           Private  Associate  Married_civ_spouse       Tech_support   \n",
       "32557           Private     school  Married_civ_spouse  Machine_op_inspct   \n",
       "32558           Private     school             Widowed       Adm_clerical   \n",
       "32559           Private     school       Never_married       Adm_clerical   \n",
       "32560      Self_emp_inc     school  Married_civ_spouse    Exec_managerial   \n",
       "\n",
       "        relationship   race     sex        country  salary  \n",
       "0      Not_in_family  White    Male  United_States       0  \n",
       "1            Husband  White    Male  United_States       0  \n",
       "2      Not_in_family  White    Male  United_States       0  \n",
       "3            Husband  Black    Male  United_States       0  \n",
       "4               Wife  Black  Female           Cuba       0  \n",
       "...              ...    ...     ...            ...     ...  \n",
       "32556           Wife  White  Female  United_States       0  \n",
       "32557        Husband  White    Male  United_States       1  \n",
       "32558      Unmarried  White  Female  United_States       0  \n",
       "32559      Own_child  White    Male  United_States       0  \n",
       "32560           Wife  White  Female  United_States       1  \n",
       "\n",
       "[32561 rows x 9 columns]"
      ]
     },
     "execution_count": 263,
     "metadata": {},
     "output_type": "execute_result"
    }
   ],
   "source": [
    "categorical_columns"
   ]
  },
  {
   "cell_type": "code",
   "execution_count": 120,
   "id": "f0f4e903",
   "metadata": {},
   "outputs": [],
   "source": [
    "categorical_columns.rename(columns={\"marital-status\": \"marital_status\"}, inplace=True)"
   ]
  },
  {
   "cell_type": "code",
   "execution_count": 121,
   "id": "a905d775",
   "metadata": {},
   "outputs": [
    {
     "data": {
      "text/html": [
       "<div>\n",
       "<style scoped>\n",
       "    .dataframe tbody tr th:only-of-type {\n",
       "        vertical-align: middle;\n",
       "    }\n",
       "\n",
       "    .dataframe tbody tr th {\n",
       "        vertical-align: top;\n",
       "    }\n",
       "\n",
       "    .dataframe thead th {\n",
       "        text-align: right;\n",
       "    }\n",
       "</style>\n",
       "<table border=\"1\" class=\"dataframe\">\n",
       "  <thead>\n",
       "    <tr style=\"text-align: right;\">\n",
       "      <th></th>\n",
       "      <th>workclass</th>\n",
       "      <th>education</th>\n",
       "      <th>marital_status</th>\n",
       "      <th>occupation</th>\n",
       "      <th>relationship</th>\n",
       "      <th>race</th>\n",
       "      <th>sex</th>\n",
       "      <th>country</th>\n",
       "      <th>salary</th>\n",
       "    </tr>\n",
       "  </thead>\n",
       "  <tbody>\n",
       "    <tr>\n",
       "      <th>0</th>\n",
       "      <td>State-gov</td>\n",
       "      <td>Bachelors</td>\n",
       "      <td>Never-married</td>\n",
       "      <td>Adm-clerical</td>\n",
       "      <td>Not-in-family</td>\n",
       "      <td>White</td>\n",
       "      <td>Male</td>\n",
       "      <td>United-States</td>\n",
       "      <td>0</td>\n",
       "    </tr>\n",
       "    <tr>\n",
       "      <th>1</th>\n",
       "      <td>Self-emp-not-inc</td>\n",
       "      <td>Bachelors</td>\n",
       "      <td>Married-civ-spouse</td>\n",
       "      <td>Exec-managerial</td>\n",
       "      <td>Husband</td>\n",
       "      <td>White</td>\n",
       "      <td>Male</td>\n",
       "      <td>United-States</td>\n",
       "      <td>0</td>\n",
       "    </tr>\n",
       "    <tr>\n",
       "      <th>2</th>\n",
       "      <td>Private</td>\n",
       "      <td>HS-grad</td>\n",
       "      <td>Divorced</td>\n",
       "      <td>Handlers-cleaners</td>\n",
       "      <td>Not-in-family</td>\n",
       "      <td>White</td>\n",
       "      <td>Male</td>\n",
       "      <td>United-States</td>\n",
       "      <td>0</td>\n",
       "    </tr>\n",
       "    <tr>\n",
       "      <th>3</th>\n",
       "      <td>Private</td>\n",
       "      <td>11th</td>\n",
       "      <td>Married-civ-spouse</td>\n",
       "      <td>Handlers-cleaners</td>\n",
       "      <td>Husband</td>\n",
       "      <td>Black</td>\n",
       "      <td>Male</td>\n",
       "      <td>United-States</td>\n",
       "      <td>0</td>\n",
       "    </tr>\n",
       "    <tr>\n",
       "      <th>4</th>\n",
       "      <td>Private</td>\n",
       "      <td>Bachelors</td>\n",
       "      <td>Married-civ-spouse</td>\n",
       "      <td>Prof-specialty</td>\n",
       "      <td>Wife</td>\n",
       "      <td>Black</td>\n",
       "      <td>Female</td>\n",
       "      <td>Cuba</td>\n",
       "      <td>0</td>\n",
       "    </tr>\n",
       "    <tr>\n",
       "      <th>...</th>\n",
       "      <td>...</td>\n",
       "      <td>...</td>\n",
       "      <td>...</td>\n",
       "      <td>...</td>\n",
       "      <td>...</td>\n",
       "      <td>...</td>\n",
       "      <td>...</td>\n",
       "      <td>...</td>\n",
       "      <td>...</td>\n",
       "    </tr>\n",
       "    <tr>\n",
       "      <th>32556</th>\n",
       "      <td>Private</td>\n",
       "      <td>Assoc-acdm</td>\n",
       "      <td>Married-civ-spouse</td>\n",
       "      <td>Tech-support</td>\n",
       "      <td>Wife</td>\n",
       "      <td>White</td>\n",
       "      <td>Female</td>\n",
       "      <td>United-States</td>\n",
       "      <td>0</td>\n",
       "    </tr>\n",
       "    <tr>\n",
       "      <th>32557</th>\n",
       "      <td>Private</td>\n",
       "      <td>HS-grad</td>\n",
       "      <td>Married-civ-spouse</td>\n",
       "      <td>Machine-op-inspct</td>\n",
       "      <td>Husband</td>\n",
       "      <td>White</td>\n",
       "      <td>Male</td>\n",
       "      <td>United-States</td>\n",
       "      <td>1</td>\n",
       "    </tr>\n",
       "    <tr>\n",
       "      <th>32558</th>\n",
       "      <td>Private</td>\n",
       "      <td>HS-grad</td>\n",
       "      <td>Widowed</td>\n",
       "      <td>Adm-clerical</td>\n",
       "      <td>Unmarried</td>\n",
       "      <td>White</td>\n",
       "      <td>Female</td>\n",
       "      <td>United-States</td>\n",
       "      <td>0</td>\n",
       "    </tr>\n",
       "    <tr>\n",
       "      <th>32559</th>\n",
       "      <td>Private</td>\n",
       "      <td>HS-grad</td>\n",
       "      <td>Never-married</td>\n",
       "      <td>Adm-clerical</td>\n",
       "      <td>Own-child</td>\n",
       "      <td>White</td>\n",
       "      <td>Male</td>\n",
       "      <td>United-States</td>\n",
       "      <td>0</td>\n",
       "    </tr>\n",
       "    <tr>\n",
       "      <th>32560</th>\n",
       "      <td>Self-emp-inc</td>\n",
       "      <td>HS-grad</td>\n",
       "      <td>Married-civ-spouse</td>\n",
       "      <td>Exec-managerial</td>\n",
       "      <td>Wife</td>\n",
       "      <td>White</td>\n",
       "      <td>Female</td>\n",
       "      <td>United-States</td>\n",
       "      <td>1</td>\n",
       "    </tr>\n",
       "  </tbody>\n",
       "</table>\n",
       "<p>32561 rows × 9 columns</p>\n",
       "</div>"
      ],
      "text/plain": [
       "               workclass    education       marital_status  \\\n",
       "0              State-gov    Bachelors        Never-married   \n",
       "1       Self-emp-not-inc    Bachelors   Married-civ-spouse   \n",
       "2                Private      HS-grad             Divorced   \n",
       "3                Private         11th   Married-civ-spouse   \n",
       "4                Private    Bachelors   Married-civ-spouse   \n",
       "...                  ...          ...                  ...   \n",
       "32556            Private   Assoc-acdm   Married-civ-spouse   \n",
       "32557            Private      HS-grad   Married-civ-spouse   \n",
       "32558            Private      HS-grad              Widowed   \n",
       "32559            Private      HS-grad        Never-married   \n",
       "32560       Self-emp-inc      HS-grad   Married-civ-spouse   \n",
       "\n",
       "               occupation    relationship    race      sex         country  \\\n",
       "0            Adm-clerical   Not-in-family   White     Male   United-States   \n",
       "1         Exec-managerial         Husband   White     Male   United-States   \n",
       "2       Handlers-cleaners   Not-in-family   White     Male   United-States   \n",
       "3       Handlers-cleaners         Husband   Black     Male   United-States   \n",
       "4          Prof-specialty            Wife   Black   Female            Cuba   \n",
       "...                   ...             ...     ...      ...             ...   \n",
       "32556        Tech-support            Wife   White   Female   United-States   \n",
       "32557   Machine-op-inspct         Husband   White     Male   United-States   \n",
       "32558        Adm-clerical       Unmarried   White   Female   United-States   \n",
       "32559        Adm-clerical       Own-child   White     Male   United-States   \n",
       "32560     Exec-managerial            Wife   White   Female   United-States   \n",
       "\n",
       "       salary  \n",
       "0           0  \n",
       "1           0  \n",
       "2           0  \n",
       "3           0  \n",
       "4           0  \n",
       "...       ...  \n",
       "32556       0  \n",
       "32557       1  \n",
       "32558       0  \n",
       "32559       0  \n",
       "32560       1  \n",
       "\n",
       "[32561 rows x 9 columns]"
      ]
     },
     "execution_count": 121,
     "metadata": {},
     "output_type": "execute_result"
    }
   ],
   "source": [
    "categorical_columns"
   ]
  },
  {
   "cell_type": "code",
   "execution_count": 122,
   "id": "d9fd5c64",
   "metadata": {},
   "outputs": [],
   "source": [
    "df5=categorical_columns['workclass']\n",
    "b= []\n",
    "for i in  df5:\n",
    "    b.append('_'.join(i.split('-')).strip())\n",
    "    \n",
    "\n",
    "categorical_columns['workclass']=b"
   ]
  },
  {
   "cell_type": "code",
   "execution_count": 123,
   "id": "b4564dde",
   "metadata": {},
   "outputs": [],
   "source": [
    "df5=categorical_columns['education']\n",
    "b= []\n",
    "for i in  df5:\n",
    "    b.append('_'.join(i.split('-')).strip())\n",
    "    \n",
    "\n",
    "categorical_columns['education']=b"
   ]
  },
  {
   "cell_type": "code",
   "execution_count": 124,
   "id": "72d02822",
   "metadata": {},
   "outputs": [],
   "source": [
    "df5=categorical_columns['marital_status']\n",
    "b= []\n",
    "for i in  df5:\n",
    "    b.append('_'.join(i.split('-')).strip())\n",
    "    \n",
    "\n",
    "categorical_columns['marital_status']=b"
   ]
  },
  {
   "cell_type": "code",
   "execution_count": 125,
   "id": "2fc64b24",
   "metadata": {},
   "outputs": [],
   "source": [
    "df5=categorical_columns['occupation']\n",
    "b= []\n",
    "for i in  df5:\n",
    "    b.append('_'.join(i.split('-')).strip())\n",
    "    \n",
    "\n",
    "categorical_columns['occupation']=b"
   ]
  },
  {
   "cell_type": "code",
   "execution_count": 126,
   "id": "231ac7ac",
   "metadata": {},
   "outputs": [],
   "source": [
    "df5=categorical_columns['relationship']\n",
    "b= []\n",
    "for i in  df5:\n",
    "    b.append('_'.join(i.split('-')).strip())\n",
    "    \n",
    "\n",
    "categorical_columns['relationship']=b"
   ]
  },
  {
   "cell_type": "code",
   "execution_count": 127,
   "id": "46abadc9",
   "metadata": {},
   "outputs": [],
   "source": [
    "df5=categorical_columns['country']\n",
    "b= []\n",
    "for i in  df5:\n",
    "    b.append('_'.join(i.split('-')).strip())\n",
    "    \n",
    "\n",
    "categorical_columns['country']=b"
   ]
  },
  {
   "cell_type": "code",
   "execution_count": 128,
   "id": "fddf3c27",
   "metadata": {},
   "outputs": [],
   "source": [
    "df5=categorical_columns['sex']\n",
    "b= []\n",
    "for i in  df5:\n",
    "    b.append('_'.join(i.split('-')).strip())\n",
    "    \n",
    "\n",
    "categorical_columns['sex']=b"
   ]
  },
  {
   "cell_type": "code",
   "execution_count": 129,
   "id": "517c3c28",
   "metadata": {},
   "outputs": [],
   "source": [
    "df5=categorical_columns['race']\n",
    "b= []\n",
    "for i in  df5:\n",
    "    b.append('_'.join(i.split('-')).strip())\n",
    "    \n",
    "\n",
    "categorical_columns['race']=b"
   ]
  },
  {
   "cell_type": "code",
   "execution_count": 130,
   "id": "93006210",
   "metadata": {},
   "outputs": [
    {
     "data": {
      "text/html": [
       "<div>\n",
       "<style scoped>\n",
       "    .dataframe tbody tr th:only-of-type {\n",
       "        vertical-align: middle;\n",
       "    }\n",
       "\n",
       "    .dataframe tbody tr th {\n",
       "        vertical-align: top;\n",
       "    }\n",
       "\n",
       "    .dataframe thead th {\n",
       "        text-align: right;\n",
       "    }\n",
       "</style>\n",
       "<table border=\"1\" class=\"dataframe\">\n",
       "  <thead>\n",
       "    <tr style=\"text-align: right;\">\n",
       "      <th></th>\n",
       "      <th>workclass</th>\n",
       "      <th>education</th>\n",
       "      <th>marital_status</th>\n",
       "      <th>occupation</th>\n",
       "      <th>relationship</th>\n",
       "      <th>race</th>\n",
       "      <th>sex</th>\n",
       "      <th>country</th>\n",
       "      <th>salary</th>\n",
       "    </tr>\n",
       "  </thead>\n",
       "  <tbody>\n",
       "    <tr>\n",
       "      <th>0</th>\n",
       "      <td>State_gov</td>\n",
       "      <td>Bachelors</td>\n",
       "      <td>Never_married</td>\n",
       "      <td>Adm_clerical</td>\n",
       "      <td>Not_in_family</td>\n",
       "      <td>White</td>\n",
       "      <td>Male</td>\n",
       "      <td>United_States</td>\n",
       "      <td>0</td>\n",
       "    </tr>\n",
       "    <tr>\n",
       "      <th>1</th>\n",
       "      <td>Self_emp_not_inc</td>\n",
       "      <td>Bachelors</td>\n",
       "      <td>Married_civ_spouse</td>\n",
       "      <td>Exec_managerial</td>\n",
       "      <td>Husband</td>\n",
       "      <td>White</td>\n",
       "      <td>Male</td>\n",
       "      <td>United_States</td>\n",
       "      <td>0</td>\n",
       "    </tr>\n",
       "    <tr>\n",
       "      <th>2</th>\n",
       "      <td>Private</td>\n",
       "      <td>HS_grad</td>\n",
       "      <td>Divorced</td>\n",
       "      <td>Handlers_cleaners</td>\n",
       "      <td>Not_in_family</td>\n",
       "      <td>White</td>\n",
       "      <td>Male</td>\n",
       "      <td>United_States</td>\n",
       "      <td>0</td>\n",
       "    </tr>\n",
       "    <tr>\n",
       "      <th>3</th>\n",
       "      <td>Private</td>\n",
       "      <td>11th</td>\n",
       "      <td>Married_civ_spouse</td>\n",
       "      <td>Handlers_cleaners</td>\n",
       "      <td>Husband</td>\n",
       "      <td>Black</td>\n",
       "      <td>Male</td>\n",
       "      <td>United_States</td>\n",
       "      <td>0</td>\n",
       "    </tr>\n",
       "    <tr>\n",
       "      <th>4</th>\n",
       "      <td>Private</td>\n",
       "      <td>Bachelors</td>\n",
       "      <td>Married_civ_spouse</td>\n",
       "      <td>Prof_specialty</td>\n",
       "      <td>Wife</td>\n",
       "      <td>Black</td>\n",
       "      <td>Female</td>\n",
       "      <td>Cuba</td>\n",
       "      <td>0</td>\n",
       "    </tr>\n",
       "    <tr>\n",
       "      <th>...</th>\n",
       "      <td>...</td>\n",
       "      <td>...</td>\n",
       "      <td>...</td>\n",
       "      <td>...</td>\n",
       "      <td>...</td>\n",
       "      <td>...</td>\n",
       "      <td>...</td>\n",
       "      <td>...</td>\n",
       "      <td>...</td>\n",
       "    </tr>\n",
       "    <tr>\n",
       "      <th>32556</th>\n",
       "      <td>Private</td>\n",
       "      <td>Assoc_acdm</td>\n",
       "      <td>Married_civ_spouse</td>\n",
       "      <td>Tech_support</td>\n",
       "      <td>Wife</td>\n",
       "      <td>White</td>\n",
       "      <td>Female</td>\n",
       "      <td>United_States</td>\n",
       "      <td>0</td>\n",
       "    </tr>\n",
       "    <tr>\n",
       "      <th>32557</th>\n",
       "      <td>Private</td>\n",
       "      <td>HS_grad</td>\n",
       "      <td>Married_civ_spouse</td>\n",
       "      <td>Machine_op_inspct</td>\n",
       "      <td>Husband</td>\n",
       "      <td>White</td>\n",
       "      <td>Male</td>\n",
       "      <td>United_States</td>\n",
       "      <td>1</td>\n",
       "    </tr>\n",
       "    <tr>\n",
       "      <th>32558</th>\n",
       "      <td>Private</td>\n",
       "      <td>HS_grad</td>\n",
       "      <td>Widowed</td>\n",
       "      <td>Adm_clerical</td>\n",
       "      <td>Unmarried</td>\n",
       "      <td>White</td>\n",
       "      <td>Female</td>\n",
       "      <td>United_States</td>\n",
       "      <td>0</td>\n",
       "    </tr>\n",
       "    <tr>\n",
       "      <th>32559</th>\n",
       "      <td>Private</td>\n",
       "      <td>HS_grad</td>\n",
       "      <td>Never_married</td>\n",
       "      <td>Adm_clerical</td>\n",
       "      <td>Own_child</td>\n",
       "      <td>White</td>\n",
       "      <td>Male</td>\n",
       "      <td>United_States</td>\n",
       "      <td>0</td>\n",
       "    </tr>\n",
       "    <tr>\n",
       "      <th>32560</th>\n",
       "      <td>Self_emp_inc</td>\n",
       "      <td>HS_grad</td>\n",
       "      <td>Married_civ_spouse</td>\n",
       "      <td>Exec_managerial</td>\n",
       "      <td>Wife</td>\n",
       "      <td>White</td>\n",
       "      <td>Female</td>\n",
       "      <td>United_States</td>\n",
       "      <td>1</td>\n",
       "    </tr>\n",
       "  </tbody>\n",
       "</table>\n",
       "<p>32561 rows × 9 columns</p>\n",
       "</div>"
      ],
      "text/plain": [
       "              workclass   education      marital_status         occupation  \\\n",
       "0             State_gov   Bachelors       Never_married       Adm_clerical   \n",
       "1      Self_emp_not_inc   Bachelors  Married_civ_spouse    Exec_managerial   \n",
       "2               Private     HS_grad            Divorced  Handlers_cleaners   \n",
       "3               Private        11th  Married_civ_spouse  Handlers_cleaners   \n",
       "4               Private   Bachelors  Married_civ_spouse     Prof_specialty   \n",
       "...                 ...         ...                 ...                ...   \n",
       "32556           Private  Assoc_acdm  Married_civ_spouse       Tech_support   \n",
       "32557           Private     HS_grad  Married_civ_spouse  Machine_op_inspct   \n",
       "32558           Private     HS_grad             Widowed       Adm_clerical   \n",
       "32559           Private     HS_grad       Never_married       Adm_clerical   \n",
       "32560      Self_emp_inc     HS_grad  Married_civ_spouse    Exec_managerial   \n",
       "\n",
       "        relationship   race     sex        country  salary  \n",
       "0      Not_in_family  White    Male  United_States       0  \n",
       "1            Husband  White    Male  United_States       0  \n",
       "2      Not_in_family  White    Male  United_States       0  \n",
       "3            Husband  Black    Male  United_States       0  \n",
       "4               Wife  Black  Female           Cuba       0  \n",
       "...              ...    ...     ...            ...     ...  \n",
       "32556           Wife  White  Female  United_States       0  \n",
       "32557        Husband  White    Male  United_States       1  \n",
       "32558      Unmarried  White  Female  United_States       0  \n",
       "32559      Own_child  White    Male  United_States       0  \n",
       "32560           Wife  White  Female  United_States       1  \n",
       "\n",
       "[32561 rows x 9 columns]"
      ]
     },
     "execution_count": 130,
     "metadata": {},
     "output_type": "execute_result"
    }
   ],
   "source": [
    "categorical_columns"
   ]
  },
  {
   "cell_type": "code",
   "execution_count": 131,
   "id": "868f68d3",
   "metadata": {},
   "outputs": [
    {
     "data": {
      "text/plain": [
       "array(['State_gov', 'Self_emp_not_inc', 'Private', 'Federal_gov',\n",
       "       'Local_gov', '?', 'Self_emp_inc', 'Without_pay', 'Never_worked'],\n",
       "      dtype=object)"
      ]
     },
     "execution_count": 131,
     "metadata": {},
     "output_type": "execute_result"
    }
   ],
   "source": [
    "categorical_columns['workclass'].unique()"
   ]
  },
  {
   "cell_type": "code",
   "execution_count": 132,
   "id": "251c5632",
   "metadata": {},
   "outputs": [
    {
     "data": {
      "text/plain": [
       "array(['Male', 'Female'], dtype=object)"
      ]
     },
     "execution_count": 132,
     "metadata": {},
     "output_type": "execute_result"
    }
   ],
   "source": [
    "categorical_columns[\"sex\"].unique()"
   ]
  },
  {
   "cell_type": "code",
   "execution_count": 133,
   "id": "210e248c",
   "metadata": {},
   "outputs": [
    {
     "data": {
      "text/plain": [
       "array(['White', 'Black', 'Asian_Pac_Islander', 'Amer_Indian_Eskimo',\n",
       "       'Other'], dtype=object)"
      ]
     },
     "execution_count": 133,
     "metadata": {},
     "output_type": "execute_result"
    }
   ],
   "source": [
    "categorical_columns[\"race\"].unique()"
   ]
  },
  {
   "cell_type": "code",
   "execution_count": 134,
   "id": "5abaa204",
   "metadata": {},
   "outputs": [
    {
     "data": {
      "text/html": [
       "<div>\n",
       "<style scoped>\n",
       "    .dataframe tbody tr th:only-of-type {\n",
       "        vertical-align: middle;\n",
       "    }\n",
       "\n",
       "    .dataframe tbody tr th {\n",
       "        vertical-align: top;\n",
       "    }\n",
       "\n",
       "    .dataframe thead th {\n",
       "        text-align: right;\n",
       "    }\n",
       "</style>\n",
       "<table border=\"1\" class=\"dataframe\">\n",
       "  <thead>\n",
       "    <tr style=\"text-align: right;\">\n",
       "      <th></th>\n",
       "      <th>workclass</th>\n",
       "      <th>education</th>\n",
       "      <th>marital_status</th>\n",
       "      <th>occupation</th>\n",
       "      <th>relationship</th>\n",
       "      <th>race</th>\n",
       "      <th>sex</th>\n",
       "      <th>country</th>\n",
       "      <th>salary</th>\n",
       "    </tr>\n",
       "  </thead>\n",
       "  <tbody>\n",
       "    <tr>\n",
       "      <th>0</th>\n",
       "      <td>State_gov</td>\n",
       "      <td>Bachelors</td>\n",
       "      <td>Never_married</td>\n",
       "      <td>Adm_clerical</td>\n",
       "      <td>Not_in_family</td>\n",
       "      <td>White</td>\n",
       "      <td>Male</td>\n",
       "      <td>United_States</td>\n",
       "      <td>0</td>\n",
       "    </tr>\n",
       "    <tr>\n",
       "      <th>1</th>\n",
       "      <td>Self_emp_not_inc</td>\n",
       "      <td>Bachelors</td>\n",
       "      <td>Married_civ_spouse</td>\n",
       "      <td>Exec_managerial</td>\n",
       "      <td>Husband</td>\n",
       "      <td>White</td>\n",
       "      <td>Male</td>\n",
       "      <td>United_States</td>\n",
       "      <td>0</td>\n",
       "    </tr>\n",
       "    <tr>\n",
       "      <th>2</th>\n",
       "      <td>Private</td>\n",
       "      <td>HS_grad</td>\n",
       "      <td>Divorced</td>\n",
       "      <td>Handlers_cleaners</td>\n",
       "      <td>Not_in_family</td>\n",
       "      <td>White</td>\n",
       "      <td>Male</td>\n",
       "      <td>United_States</td>\n",
       "      <td>0</td>\n",
       "    </tr>\n",
       "    <tr>\n",
       "      <th>3</th>\n",
       "      <td>Private</td>\n",
       "      <td>11th</td>\n",
       "      <td>Married_civ_spouse</td>\n",
       "      <td>Handlers_cleaners</td>\n",
       "      <td>Husband</td>\n",
       "      <td>Black</td>\n",
       "      <td>Male</td>\n",
       "      <td>United_States</td>\n",
       "      <td>0</td>\n",
       "    </tr>\n",
       "    <tr>\n",
       "      <th>4</th>\n",
       "      <td>Private</td>\n",
       "      <td>Bachelors</td>\n",
       "      <td>Married_civ_spouse</td>\n",
       "      <td>Prof_specialty</td>\n",
       "      <td>Wife</td>\n",
       "      <td>Black</td>\n",
       "      <td>Female</td>\n",
       "      <td>Cuba</td>\n",
       "      <td>0</td>\n",
       "    </tr>\n",
       "    <tr>\n",
       "      <th>...</th>\n",
       "      <td>...</td>\n",
       "      <td>...</td>\n",
       "      <td>...</td>\n",
       "      <td>...</td>\n",
       "      <td>...</td>\n",
       "      <td>...</td>\n",
       "      <td>...</td>\n",
       "      <td>...</td>\n",
       "      <td>...</td>\n",
       "    </tr>\n",
       "    <tr>\n",
       "      <th>32556</th>\n",
       "      <td>Private</td>\n",
       "      <td>Assoc_acdm</td>\n",
       "      <td>Married_civ_spouse</td>\n",
       "      <td>Tech_support</td>\n",
       "      <td>Wife</td>\n",
       "      <td>White</td>\n",
       "      <td>Female</td>\n",
       "      <td>United_States</td>\n",
       "      <td>0</td>\n",
       "    </tr>\n",
       "    <tr>\n",
       "      <th>32557</th>\n",
       "      <td>Private</td>\n",
       "      <td>HS_grad</td>\n",
       "      <td>Married_civ_spouse</td>\n",
       "      <td>Machine_op_inspct</td>\n",
       "      <td>Husband</td>\n",
       "      <td>White</td>\n",
       "      <td>Male</td>\n",
       "      <td>United_States</td>\n",
       "      <td>1</td>\n",
       "    </tr>\n",
       "    <tr>\n",
       "      <th>32558</th>\n",
       "      <td>Private</td>\n",
       "      <td>HS_grad</td>\n",
       "      <td>Widowed</td>\n",
       "      <td>Adm_clerical</td>\n",
       "      <td>Unmarried</td>\n",
       "      <td>White</td>\n",
       "      <td>Female</td>\n",
       "      <td>United_States</td>\n",
       "      <td>0</td>\n",
       "    </tr>\n",
       "    <tr>\n",
       "      <th>32559</th>\n",
       "      <td>Private</td>\n",
       "      <td>HS_grad</td>\n",
       "      <td>Never_married</td>\n",
       "      <td>Adm_clerical</td>\n",
       "      <td>Own_child</td>\n",
       "      <td>White</td>\n",
       "      <td>Male</td>\n",
       "      <td>United_States</td>\n",
       "      <td>0</td>\n",
       "    </tr>\n",
       "    <tr>\n",
       "      <th>32560</th>\n",
       "      <td>Self_emp_inc</td>\n",
       "      <td>HS_grad</td>\n",
       "      <td>Married_civ_spouse</td>\n",
       "      <td>Exec_managerial</td>\n",
       "      <td>Wife</td>\n",
       "      <td>White</td>\n",
       "      <td>Female</td>\n",
       "      <td>United_States</td>\n",
       "      <td>1</td>\n",
       "    </tr>\n",
       "  </tbody>\n",
       "</table>\n",
       "<p>32561 rows × 9 columns</p>\n",
       "</div>"
      ],
      "text/plain": [
       "              workclass   education      marital_status         occupation  \\\n",
       "0             State_gov   Bachelors       Never_married       Adm_clerical   \n",
       "1      Self_emp_not_inc   Bachelors  Married_civ_spouse    Exec_managerial   \n",
       "2               Private     HS_grad            Divorced  Handlers_cleaners   \n",
       "3               Private        11th  Married_civ_spouse  Handlers_cleaners   \n",
       "4               Private   Bachelors  Married_civ_spouse     Prof_specialty   \n",
       "...                 ...         ...                 ...                ...   \n",
       "32556           Private  Assoc_acdm  Married_civ_spouse       Tech_support   \n",
       "32557           Private     HS_grad  Married_civ_spouse  Machine_op_inspct   \n",
       "32558           Private     HS_grad             Widowed       Adm_clerical   \n",
       "32559           Private     HS_grad       Never_married       Adm_clerical   \n",
       "32560      Self_emp_inc     HS_grad  Married_civ_spouse    Exec_managerial   \n",
       "\n",
       "        relationship   race     sex        country  salary  \n",
       "0      Not_in_family  White    Male  United_States       0  \n",
       "1            Husband  White    Male  United_States       0  \n",
       "2      Not_in_family  White    Male  United_States       0  \n",
       "3            Husband  Black    Male  United_States       0  \n",
       "4               Wife  Black  Female           Cuba       0  \n",
       "...              ...    ...     ...            ...     ...  \n",
       "32556           Wife  White  Female  United_States       0  \n",
       "32557        Husband  White    Male  United_States       1  \n",
       "32558      Unmarried  White  Female  United_States       0  \n",
       "32559      Own_child  White    Male  United_States       0  \n",
       "32560           Wife  White  Female  United_States       1  \n",
       "\n",
       "[32561 rows x 9 columns]"
      ]
     },
     "execution_count": 134,
     "metadata": {},
     "output_type": "execute_result"
    }
   ],
   "source": [
    "categorical_columns"
   ]
  },
  {
   "cell_type": "code",
   "execution_count": 135,
   "id": "59dad866",
   "metadata": {},
   "outputs": [
    {
     "name": "stdout",
     "output_type": "stream",
     "text": [
      "['White' 'Black' 'Asian_Pac_Islander' 'Amer_Indian_Eskimo' 'Other']\n",
      "['Male' 'Female']\n",
      "['United_States' 'Cuba' 'Jamaica' 'India' '?' 'Mexico' 'South'\n",
      " 'Puerto_Rico' 'Honduras' 'England' 'Canada' 'Germany' 'Iran'\n",
      " 'Philippines' 'Italy' 'Poland' 'Columbia' 'Cambodia' 'Thailand' 'Ecuador'\n",
      " 'Laos' 'Taiwan' 'Haiti' 'Portugal' 'Dominican_Republic' 'El_Salvador'\n",
      " 'France' 'Guatemala' 'China' 'Japan' 'Yugoslavia' 'Peru'\n",
      " 'Outlying_US(Guam_USVI_etc)' 'Scotland' 'Trinadad&Tobago' 'Greece'\n",
      " 'Nicaragua' 'Vietnam' 'Hong' 'Ireland' 'Hungary' 'Holand_Netherlands']\n",
      "['Not_in_family' 'Husband' 'Wife' 'Own_child' 'Unmarried' 'Other_relative']\n",
      "['Adm_clerical' 'Exec_managerial' 'Handlers_cleaners' 'Prof_specialty'\n",
      " 'Other_service' 'Sales' 'Craft_repair' 'Transport_moving'\n",
      " 'Farming_fishing' 'Machine_op_inspct' 'Tech_support' '?'\n",
      " 'Protective_serv' 'Armed_Forces' 'Priv_house_serv']\n",
      "['Never_married' 'Married_civ_spouse' 'Divorced' 'Married_spouse_absent'\n",
      " 'Separated' 'Married_AF_spouse' 'Widowed']\n",
      "['Bachelors' 'HS_grad' '11th' 'Masters' '9th' 'Some_college' 'Assoc_acdm'\n",
      " 'Assoc_voc' '7th_8th' 'Doctorate' 'Prof_school' '5th_6th' '10th'\n",
      " '1st_4th' 'Preschool' '12th']\n",
      "['State_gov' 'Self_emp_not_inc' 'Private' 'Federal_gov' 'Local_gov' '?'\n",
      " 'Self_emp_inc' 'Without_pay' 'Never_worked']\n"
     ]
    }
   ],
   "source": [
    "print(categorical_columns[\"race\"].unique())\n",
    "print(categorical_columns[\"sex\"].unique())\n",
    "print(categorical_columns[\"country\"].unique())\n",
    "print(categorical_columns[\"relationship\"].unique())\n",
    "print(categorical_columns[\"occupation\"].unique())\n",
    "print(categorical_columns[\"marital_status\"].unique())\n",
    "print(categorical_columns[\"education\"].unique())\n",
    "print(categorical_columns[\"workclass\"].unique())"
   ]
  },
  {
   "cell_type": "markdown",
   "id": "7e09535d",
   "metadata": {},
   "source": [
    "# Observation  for the catcategorical_columns"
   ]
  },
  {
   "attachments": {
    "image.png": {
     "image/png": "[encoded data removed]"
    }
   },
   "cell_type": "markdown",
   "id": "5b9d96e2",
   "metadata": {},
   "source": [
    "![image.png](attachment:image.png)"
   ]
  },
  {
   "cell_type": "markdown",
   "id": "73b78bf2",
   "metadata": {},
   "source": [
    "# occupation"
   ]
  },
  {
   "cell_type": "code",
   "execution_count": 136,
   "id": "f3ba63b4",
   "metadata": {},
   "outputs": [
    {
     "name": "stdout",
     "output_type": "stream",
     "text": [
      "1)-->unique value lenth 15\n",
      "----------------------------------------------------------------------------------------------------\n",
      "2)-->This is a list of unique names ['Adm_clerical' 'Exec_managerial' 'Handlers_cleaners' 'Prof_specialty'\n",
      " 'Other_service' 'Sales' 'Craft_repair' 'Transport_moving'\n",
      " 'Farming_fishing' 'Machine_op_inspct' 'Tech_support' '?'\n",
      " 'Protective_serv' 'Armed_Forces' 'Priv_house_serv']\n",
      "----------------------------------------------------------------------------------------------------\n",
      "3)-->value_counts, Prof_specialty       4140\n",
      "Craft_repair         4099\n",
      "Exec_managerial      4066\n",
      "Adm_clerical         3770\n",
      "Sales                3650\n",
      "Other_service        3295\n",
      "Machine_op_inspct    2002\n",
      "?                    1843\n",
      "Transport_moving     1597\n",
      "Handlers_cleaners    1370\n",
      "Farming_fishing       994\n",
      "Tech_support          928\n",
      "Protective_serv       649\n",
      "Priv_house_serv       149\n",
      "Armed_Forces            9\n",
      "Name: occupation, dtype: int64\n"
     ]
    }
   ],
   "source": [
    "print ('1)-->unique value lenth',len(list((categorical_columns['occupation'].unique()))))\n",
    "print('-'*100)\n",
    "print ('2)-->This is a list of unique names',categorical_columns['occupation'].unique())\n",
    "print('-'*100)\n",
    "print (\"3)-->value_counts,\",categorical_columns['occupation'].value_counts())"
   ]
  },
  {
   "cell_type": "code",
   "execution_count": 137,
   "id": "ceec46c4",
   "metadata": {},
   "outputs": [],
   "source": [
    "#Here private is the highest mode\n",
    "categorical_columns['occupation']=categorical_columns['occupation'].replace(' ?','Others_occupation')"
   ]
  },
  {
   "cell_type": "markdown",
   "id": "950cd82e",
   "metadata": {},
   "source": [
    "# workclass"
   ]
  },
  {
   "cell_type": "code",
   "execution_count": 138,
   "id": "7815a78a",
   "metadata": {},
   "outputs": [
    {
     "name": "stdout",
     "output_type": "stream",
     "text": [
      "1)-->unique value lenth 9\n",
      "----------------------------------------------------------------------------------------------------\n",
      "2)-->This is a list of unique names ['State_gov' 'Self_emp_not_inc' 'Private' 'Federal_gov' 'Local_gov' '?'\n",
      " 'Self_emp_inc' 'Without_pay' 'Never_worked']\n",
      "----------------------------------------------------------------------------------------------------\n",
      "3)-->value_counts, Private             22696\n",
      "Self_emp_not_inc     2541\n",
      "Local_gov            2093\n",
      "?                    1836\n",
      "State_gov            1298\n",
      "Self_emp_inc         1116\n",
      "Federal_gov           960\n",
      "Without_pay            14\n",
      "Never_worked            7\n",
      "Name: workclass, dtype: int64\n"
     ]
    }
   ],
   "source": [
    "print ('1)-->unique value lenth',len(list((categorical_columns['workclass'].unique()))))\n",
    "print('-'*100)\n",
    "print ('2)-->This is a list of unique names',categorical_columns['workclass'].unique())\n",
    "print('-'*100)\n",
    "print (\"3)-->value_counts,\",categorical_columns['workclass'].value_counts())"
   ]
  },
  {
   "cell_type": "code",
   "execution_count": 139,
   "id": "7767899d",
   "metadata": {},
   "outputs": [],
   "source": [
    "categorical_columns['workclass']=categorical_columns['workclass'].replace(' ?',' Private')"
   ]
  },
  {
   "cell_type": "markdown",
   "id": "cee0fb0b",
   "metadata": {},
   "source": [
    "# education"
   ]
  },
  {
   "cell_type": "code",
   "execution_count": 140,
   "id": "187bbc7c",
   "metadata": {},
   "outputs": [
    {
     "name": "stdout",
     "output_type": "stream",
     "text": [
      "1)-->unique value lenth 16\n",
      "----------------------------------------------------------------------------------------------------\n",
      "2)-->This is a list of unique names ['Bachelors' 'HS_grad' '11th' 'Masters' '9th' 'Some_college' 'Assoc_acdm'\n",
      " 'Assoc_voc' '7th_8th' 'Doctorate' 'Prof_school' '5th_6th' '10th'\n",
      " '1st_4th' 'Preschool' '12th']\n",
      "----------------------------------------------------------------------------------------------------\n",
      "3)-->value_counts, HS_grad         10501\n",
      "Some_college     7291\n",
      "Bachelors        5355\n",
      "Masters          1723\n",
      "Assoc_voc        1382\n",
      "11th             1175\n",
      "Assoc_acdm       1067\n",
      "10th              933\n",
      "7th_8th           646\n",
      "Prof_school       576\n",
      "9th               514\n",
      "12th              433\n",
      "Doctorate         413\n",
      "5th_6th           333\n",
      "1st_4th           168\n",
      "Preschool          51\n",
      "Name: education, dtype: int64\n"
     ]
    }
   ],
   "source": [
    "print ('1)-->unique value lenth',len(list((categorical_columns['education'].unique()))))\n",
    "print('-'*100)\n",
    "print ('2)-->This is a list of unique names',categorical_columns['education'].unique())\n",
    "print('-'*100)\n",
    "print (\"3)-->value_counts,\",categorical_columns['education'].value_counts())"
   ]
  },
  {
   "cell_type": "code",
   "execution_count": 141,
   "id": "3247956b",
   "metadata": {},
   "outputs": [],
   "source": [
    "# Creating a bins for education column "
   ]
  },
  {
   "cell_type": "code",
   "execution_count": 142,
   "id": "ef9f6155",
   "metadata": {},
   "outputs": [
    {
     "data": {
      "text/plain": [
       "array(['Bachelors', 'HS_grad', '11th', 'Masters', '9th', 'Some_college',\n",
       "       'Assoc_acdm', 'Assoc_voc', '7th_8th', 'Doctorate', 'Prof_school',\n",
       "       '5th_6th', '10th', '1st_4th', 'Preschool', '12th'], dtype=object)"
      ]
     },
     "execution_count": 142,
     "metadata": {},
     "output_type": "execute_result"
    }
   ],
   "source": [
    "categorical_columns['education'].unique()"
   ]
  },
  {
   "cell_type": "code",
   "execution_count": 143,
   "id": "57104956",
   "metadata": {},
   "outputs": [],
   "source": [
    "categorical_columns['education']=categorical_columns['education'].replace(['1st_4th','5th_6th','Prof_school','Preschool','7th_8th','9th','10th','11th','12th','HS_grad'],'school')\n",
    "categorical_columns['education']=categorical_columns['education'].replace(['Assoc_acdm','Assoc_voc'],'Associate')\n",
    "categorical_columns['education']=categorical_columns['education'].replace(['Some_college'],'College')"
   ]
  },
  {
   "cell_type": "markdown",
   "id": "56fd60b3",
   "metadata": {},
   "source": [
    "# marital-status"
   ]
  },
  {
   "cell_type": "code",
   "execution_count": 144,
   "id": "270e4cfe",
   "metadata": {},
   "outputs": [
    {
     "name": "stdout",
     "output_type": "stream",
     "text": [
      "1)-->unique value lenth 7\n",
      "----------------------------------------------------------------------------------------------------\n",
      "2)-->This is a list of unique names ['Never_married' 'Married_civ_spouse' 'Divorced' 'Married_spouse_absent'\n",
      " 'Separated' 'Married_AF_spouse' 'Widowed']\n",
      "----------------------------------------------------------------------------------------------------\n",
      "3)-->value_counts, Married_civ_spouse       14976\n",
      "Never_married            10683\n",
      "Divorced                  4443\n",
      "Separated                 1025\n",
      "Widowed                    993\n",
      "Married_spouse_absent      418\n",
      "Married_AF_spouse           23\n",
      "Name: marital_status, dtype: int64\n"
     ]
    }
   ],
   "source": [
    "print ('1)-->unique value lenth',len(list((categorical_columns['marital_status'].unique()))))\n",
    "print('-'*100)\n",
    "print ('2)-->This is a list of unique names',categorical_columns['marital_status'].unique())\n",
    "print('-'*100)\n",
    "print (\"3)-->value_counts,\",categorical_columns['marital_status'].value_counts())"
   ]
  },
  {
   "cell_type": "markdown",
   "id": "2e63ac34",
   "metadata": {},
   "source": [
    "# relationship"
   ]
  },
  {
   "cell_type": "code",
   "execution_count": 145,
   "id": "46292d1f",
   "metadata": {},
   "outputs": [
    {
     "name": "stdout",
     "output_type": "stream",
     "text": [
      "1)-->unique value lenth 6\n",
      "----------------------------------------------------------------------------------------------------\n",
      "2)-->This is a list of unique names ['Not_in_family' 'Husband' 'Wife' 'Own_child' 'Unmarried' 'Other_relative']\n",
      "----------------------------------------------------------------------------------------------------\n",
      "3)-->value_counts, Husband           13193\n",
      "Not_in_family      8305\n",
      "Own_child          5068\n",
      "Unmarried          3446\n",
      "Wife               1568\n",
      "Other_relative      981\n",
      "Name: relationship, dtype: int64\n"
     ]
    }
   ],
   "source": [
    "print ('1)-->unique value lenth',len(list((categorical_columns['relationship'].unique()))))\n",
    "print('-'*100)\n",
    "print ('2)-->This is a list of unique names',categorical_columns['relationship'].unique())\n",
    "print('-'*100)\n",
    "print (\"3)-->value_counts,\",categorical_columns['relationship'].value_counts())"
   ]
  },
  {
   "cell_type": "markdown",
   "id": "1b89631a",
   "metadata": {},
   "source": [
    "### Workclass"
   ]
  },
  {
   "cell_type": "code",
   "execution_count": 146,
   "id": "bc89d905",
   "metadata": {},
   "outputs": [
    {
     "name": "stdout",
     "output_type": "stream",
     "text": [
      "1)-->unique value lenth 9\n",
      "----------------------------------------------------------------------------------------------------\n",
      "2)-->This is a list of unique names ['State_gov' 'Self_emp_not_inc' 'Private' 'Federal_gov' 'Local_gov' '?'\n",
      " 'Self_emp_inc' 'Without_pay' 'Never_worked']\n",
      "----------------------------------------------------------------------------------------------------\n",
      "3)-->value_counts, Private             22696\n",
      "Self_emp_not_inc     2541\n",
      "Local_gov            2093\n",
      "?                    1836\n",
      "State_gov            1298\n",
      "Self_emp_inc         1116\n",
      "Federal_gov           960\n",
      "Without_pay            14\n",
      "Never_worked            7\n",
      "Name: workclass, dtype: int64\n"
     ]
    }
   ],
   "source": [
    "print ('1)-->unique value lenth',len(list((categorical_columns['workclass'].unique()))))\n",
    "print('-'*100)\n",
    "print ('2)-->This is a list of unique names',categorical_columns['workclass'].unique())\n",
    "print('-'*100)\n",
    "print (\"3)-->value_counts,\",categorical_columns['workclass'].value_counts())"
   ]
  },
  {
   "cell_type": "code",
   "execution_count": 147,
   "id": "6d81c67f",
   "metadata": {},
   "outputs": [],
   "source": [
    "categorical_columns['workclass']=categorical_columns['workclass'].replace('?','Private')"
   ]
  },
  {
   "cell_type": "code",
   "execution_count": 148,
   "id": "3b63d275",
   "metadata": {},
   "outputs": [],
   "source": [
    "df5=categorical_columns['workclass']\n",
    "b= []\n",
    "for i in  df5:\n",
    "    b.append('_'.join(i.split('-')).strip())\n",
    "    \n",
    "\n",
    "categorical_columns['workclass']=b"
   ]
  },
  {
   "cell_type": "markdown",
   "id": "e623c143",
   "metadata": {},
   "source": [
    "# race"
   ]
  },
  {
   "cell_type": "code",
   "execution_count": 149,
   "id": "c6e62250",
   "metadata": {},
   "outputs": [
    {
     "name": "stdout",
     "output_type": "stream",
     "text": [
      "1)-->unique value lenth 5\n",
      "----------------------------------------------------------------------------------------------------\n",
      "2)-->This is a list of unique names ['White' 'Black' 'Asian_Pac_Islander' 'Amer_Indian_Eskimo' 'Other']\n",
      "----------------------------------------------------------------------------------------------------\n",
      "3)-->value_counts, White                 27816\n",
      "Black                  3124\n",
      "Asian_Pac_Islander     1039\n",
      "Amer_Indian_Eskimo      311\n",
      "Other                   271\n",
      "Name: race, dtype: int64\n"
     ]
    }
   ],
   "source": [
    "print ('1)-->unique value lenth',len(list((categorical_columns['race'].unique()))))\n",
    "print('-'*100)\n",
    "print ('2)-->This is a list of unique names',categorical_columns['race'].unique())\n",
    "print('-'*100)\n",
    "print (\"3)-->value_counts,\",categorical_columns['race'].value_counts())"
   ]
  },
  {
   "cell_type": "markdown",
   "id": "3ef4e06f",
   "metadata": {},
   "source": [
    "# sex"
   ]
  },
  {
   "cell_type": "code",
   "execution_count": 150,
   "id": "2926d3c7",
   "metadata": {},
   "outputs": [
    {
     "name": "stdout",
     "output_type": "stream",
     "text": [
      "1)-->unique value lenth 2\n",
      "----------------------------------------------------------------------------------------------------\n",
      "2)-->This is a list of unique names ['Male' 'Female']\n",
      "----------------------------------------------------------------------------------------------------\n",
      "3)-->value_counts, Male      21790\n",
      "Female    10771\n",
      "Name: sex, dtype: int64\n"
     ]
    }
   ],
   "source": [
    "print ('1)-->unique value lenth',len(list((categorical_columns['sex'].unique()))))\n",
    "print('-'*100)\n",
    "print ('2)-->This is a list of unique names',categorical_columns['sex'].unique())\n",
    "print('-'*100)\n",
    "print (\"3)-->value_counts,\",categorical_columns['sex'].value_counts())"
   ]
  },
  {
   "cell_type": "markdown",
   "id": "79ec8e2d",
   "metadata": {},
   "source": [
    "# country"
   ]
  },
  {
   "cell_type": "code",
   "execution_count": 151,
   "id": "08bbb63b",
   "metadata": {},
   "outputs": [
    {
     "name": "stdout",
     "output_type": "stream",
     "text": [
      "1)-->unique value lenth 42\n",
      "----------------------------------------------------------------------------------------------------\n",
      "2)-->This is a list of unique names ['United_States' 'Cuba' 'Jamaica' 'India' '?' 'Mexico' 'South'\n",
      " 'Puerto_Rico' 'Honduras' 'England' 'Canada' 'Germany' 'Iran'\n",
      " 'Philippines' 'Italy' 'Poland' 'Columbia' 'Cambodia' 'Thailand' 'Ecuador'\n",
      " 'Laos' 'Taiwan' 'Haiti' 'Portugal' 'Dominican_Republic' 'El_Salvador'\n",
      " 'France' 'Guatemala' 'China' 'Japan' 'Yugoslavia' 'Peru'\n",
      " 'Outlying_US(Guam_USVI_etc)' 'Scotland' 'Trinadad&Tobago' 'Greece'\n",
      " 'Nicaragua' 'Vietnam' 'Hong' 'Ireland' 'Hungary' 'Holand_Netherlands']\n",
      "----------------------------------------------------------------------------------------------------\n",
      "3)-->value_counts, United_States                 29170\n",
      "Mexico                          643\n",
      "?                               583\n",
      "Philippines                     198\n",
      "Germany                         137\n",
      "Canada                          121\n",
      "Puerto_Rico                     114\n",
      "El_Salvador                     106\n",
      "India                           100\n",
      "Cuba                             95\n",
      "England                          90\n",
      "Jamaica                          81\n",
      "South                            80\n",
      "China                            75\n",
      "Italy                            73\n",
      "Dominican_Republic               70\n",
      "Vietnam                          67\n",
      "Guatemala                        64\n",
      "Japan                            62\n",
      "Poland                           60\n",
      "Columbia                         59\n",
      "Taiwan                           51\n",
      "Haiti                            44\n",
      "Iran                             43\n",
      "Portugal                         37\n",
      "Nicaragua                        34\n",
      "Peru                             31\n",
      "France                           29\n",
      "Greece                           29\n",
      "Ecuador                          28\n",
      "Ireland                          24\n",
      "Hong                             20\n",
      "Cambodia                         19\n",
      "Trinadad&Tobago                  19\n",
      "Laos                             18\n",
      "Thailand                         18\n",
      "Yugoslavia                       16\n",
      "Outlying_US(Guam_USVI_etc)       14\n",
      "Honduras                         13\n",
      "Hungary                          13\n",
      "Scotland                         12\n",
      "Holand_Netherlands                1\n",
      "Name: country, dtype: int64\n"
     ]
    }
   ],
   "source": [
    "print ('1)-->unique value lenth',len(list((categorical_columns['country'].unique()))))\n",
    "print('-'*100)\n",
    "print ('2)-->This is a list of unique names',categorical_columns['country'].unique())\n",
    "print('-'*100)\n",
    "print (\"3)-->value_counts,\",categorical_columns['country'].value_counts())"
   ]
  },
  {
   "cell_type": "code",
   "execution_count": 152,
   "id": "76355ba3",
   "metadata": {},
   "outputs": [],
   "source": [
    "categorical_columns['country']=categorical_columns['country'].replace('?','Others_country')\n",
    "categorical_columns['country']=categorical_columns['country'].replace('Outlying_US(Guam_USVI_etc)','Outlying_US_Guam_USVI_etc')\n",
    "categorical_columns['country']=categorical_columns['country'].replace('Trinadad&Tobago','Trinadad_Tobago')"
   ]
  },
  {
   "cell_type": "code",
   "execution_count": 153,
   "id": "9ba04248",
   "metadata": {},
   "outputs": [
    {
     "data": {
      "text/html": [
       "<div>\n",
       "<style scoped>\n",
       "    .dataframe tbody tr th:only-of-type {\n",
       "        vertical-align: middle;\n",
       "    }\n",
       "\n",
       "    .dataframe tbody tr th {\n",
       "        vertical-align: top;\n",
       "    }\n",
       "\n",
       "    .dataframe thead th {\n",
       "        text-align: right;\n",
       "    }\n",
       "</style>\n",
       "<table border=\"1\" class=\"dataframe\">\n",
       "  <thead>\n",
       "    <tr style=\"text-align: right;\">\n",
       "      <th></th>\n",
       "      <th>workclass</th>\n",
       "      <th>education</th>\n",
       "      <th>marital_status</th>\n",
       "      <th>occupation</th>\n",
       "      <th>relationship</th>\n",
       "      <th>race</th>\n",
       "      <th>sex</th>\n",
       "      <th>country</th>\n",
       "      <th>salary</th>\n",
       "    </tr>\n",
       "  </thead>\n",
       "  <tbody>\n",
       "    <tr>\n",
       "      <th>0</th>\n",
       "      <td>State_gov</td>\n",
       "      <td>Bachelors</td>\n",
       "      <td>Never_married</td>\n",
       "      <td>Adm_clerical</td>\n",
       "      <td>Not_in_family</td>\n",
       "      <td>White</td>\n",
       "      <td>Male</td>\n",
       "      <td>United_States</td>\n",
       "      <td>0</td>\n",
       "    </tr>\n",
       "    <tr>\n",
       "      <th>1</th>\n",
       "      <td>Self_emp_not_inc</td>\n",
       "      <td>Bachelors</td>\n",
       "      <td>Married_civ_spouse</td>\n",
       "      <td>Exec_managerial</td>\n",
       "      <td>Husband</td>\n",
       "      <td>White</td>\n",
       "      <td>Male</td>\n",
       "      <td>United_States</td>\n",
       "      <td>0</td>\n",
       "    </tr>\n",
       "    <tr>\n",
       "      <th>2</th>\n",
       "      <td>Private</td>\n",
       "      <td>school</td>\n",
       "      <td>Divorced</td>\n",
       "      <td>Handlers_cleaners</td>\n",
       "      <td>Not_in_family</td>\n",
       "      <td>White</td>\n",
       "      <td>Male</td>\n",
       "      <td>United_States</td>\n",
       "      <td>0</td>\n",
       "    </tr>\n",
       "    <tr>\n",
       "      <th>3</th>\n",
       "      <td>Private</td>\n",
       "      <td>school</td>\n",
       "      <td>Married_civ_spouse</td>\n",
       "      <td>Handlers_cleaners</td>\n",
       "      <td>Husband</td>\n",
       "      <td>Black</td>\n",
       "      <td>Male</td>\n",
       "      <td>United_States</td>\n",
       "      <td>0</td>\n",
       "    </tr>\n",
       "    <tr>\n",
       "      <th>4</th>\n",
       "      <td>Private</td>\n",
       "      <td>Bachelors</td>\n",
       "      <td>Married_civ_spouse</td>\n",
       "      <td>Prof_specialty</td>\n",
       "      <td>Wife</td>\n",
       "      <td>Black</td>\n",
       "      <td>Female</td>\n",
       "      <td>Cuba</td>\n",
       "      <td>0</td>\n",
       "    </tr>\n",
       "    <tr>\n",
       "      <th>...</th>\n",
       "      <td>...</td>\n",
       "      <td>...</td>\n",
       "      <td>...</td>\n",
       "      <td>...</td>\n",
       "      <td>...</td>\n",
       "      <td>...</td>\n",
       "      <td>...</td>\n",
       "      <td>...</td>\n",
       "      <td>...</td>\n",
       "    </tr>\n",
       "    <tr>\n",
       "      <th>32556</th>\n",
       "      <td>Private</td>\n",
       "      <td>Associate</td>\n",
       "      <td>Married_civ_spouse</td>\n",
       "      <td>Tech_support</td>\n",
       "      <td>Wife</td>\n",
       "      <td>White</td>\n",
       "      <td>Female</td>\n",
       "      <td>United_States</td>\n",
       "      <td>0</td>\n",
       "    </tr>\n",
       "    <tr>\n",
       "      <th>32557</th>\n",
       "      <td>Private</td>\n",
       "      <td>school</td>\n",
       "      <td>Married_civ_spouse</td>\n",
       "      <td>Machine_op_inspct</td>\n",
       "      <td>Husband</td>\n",
       "      <td>White</td>\n",
       "      <td>Male</td>\n",
       "      <td>United_States</td>\n",
       "      <td>1</td>\n",
       "    </tr>\n",
       "    <tr>\n",
       "      <th>32558</th>\n",
       "      <td>Private</td>\n",
       "      <td>school</td>\n",
       "      <td>Widowed</td>\n",
       "      <td>Adm_clerical</td>\n",
       "      <td>Unmarried</td>\n",
       "      <td>White</td>\n",
       "      <td>Female</td>\n",
       "      <td>United_States</td>\n",
       "      <td>0</td>\n",
       "    </tr>\n",
       "    <tr>\n",
       "      <th>32559</th>\n",
       "      <td>Private</td>\n",
       "      <td>school</td>\n",
       "      <td>Never_married</td>\n",
       "      <td>Adm_clerical</td>\n",
       "      <td>Own_child</td>\n",
       "      <td>White</td>\n",
       "      <td>Male</td>\n",
       "      <td>United_States</td>\n",
       "      <td>0</td>\n",
       "    </tr>\n",
       "    <tr>\n",
       "      <th>32560</th>\n",
       "      <td>Self_emp_inc</td>\n",
       "      <td>school</td>\n",
       "      <td>Married_civ_spouse</td>\n",
       "      <td>Exec_managerial</td>\n",
       "      <td>Wife</td>\n",
       "      <td>White</td>\n",
       "      <td>Female</td>\n",
       "      <td>United_States</td>\n",
       "      <td>1</td>\n",
       "    </tr>\n",
       "  </tbody>\n",
       "</table>\n",
       "<p>32561 rows × 9 columns</p>\n",
       "</div>"
      ],
      "text/plain": [
       "              workclass  education      marital_status         occupation  \\\n",
       "0             State_gov  Bachelors       Never_married       Adm_clerical   \n",
       "1      Self_emp_not_inc  Bachelors  Married_civ_spouse    Exec_managerial   \n",
       "2               Private     school            Divorced  Handlers_cleaners   \n",
       "3               Private     school  Married_civ_spouse  Handlers_cleaners   \n",
       "4               Private  Bachelors  Married_civ_spouse     Prof_specialty   \n",
       "...                 ...        ...                 ...                ...   \n",
       "32556           Private  Associate  Married_civ_spouse       Tech_support   \n",
       "32557           Private     school  Married_civ_spouse  Machine_op_inspct   \n",
       "32558           Private     school             Widowed       Adm_clerical   \n",
       "32559           Private     school       Never_married       Adm_clerical   \n",
       "32560      Self_emp_inc     school  Married_civ_spouse    Exec_managerial   \n",
       "\n",
       "        relationship   race     sex        country  salary  \n",
       "0      Not_in_family  White    Male  United_States       0  \n",
       "1            Husband  White    Male  United_States       0  \n",
       "2      Not_in_family  White    Male  United_States       0  \n",
       "3            Husband  Black    Male  United_States       0  \n",
       "4               Wife  Black  Female           Cuba       0  \n",
       "...              ...    ...     ...            ...     ...  \n",
       "32556           Wife  White  Female  United_States       0  \n",
       "32557        Husband  White    Male  United_States       1  \n",
       "32558      Unmarried  White  Female  United_States       0  \n",
       "32559      Own_child  White    Male  United_States       0  \n",
       "32560           Wife  White  Female  United_States       1  \n",
       "\n",
       "[32561 rows x 9 columns]"
      ]
     },
     "execution_count": 153,
     "metadata": {},
     "output_type": "execute_result"
    }
   ],
   "source": [
    "categorical_columns"
   ]
  },
  {
   "cell_type": "markdown",
   "id": "f02613b5",
   "metadata": {},
   "source": [
    "### Occupation"
   ]
  },
  {
   "cell_type": "code",
   "execution_count": 154,
   "id": "79fdba74",
   "metadata": {},
   "outputs": [
    {
     "name": "stdout",
     "output_type": "stream",
     "text": [
      "1)-->unique value lenth 15\n",
      "----------------------------------------------------------------------------------------------------\n",
      "2)-->This is a list of unique names ['Adm_clerical' 'Exec_managerial' 'Handlers_cleaners' 'Prof_specialty'\n",
      " 'Other_service' 'Sales' 'Craft_repair' 'Transport_moving'\n",
      " 'Farming_fishing' 'Machine_op_inspct' 'Tech_support' '?'\n",
      " 'Protective_serv' 'Armed_Forces' 'Priv_house_serv']\n",
      "----------------------------------------------------------------------------------------------------\n",
      "3)-->value_counts, Prof_specialty       4140\n",
      "Craft_repair         4099\n",
      "Exec_managerial      4066\n",
      "Adm_clerical         3770\n",
      "Sales                3650\n",
      "Other_service        3295\n",
      "Machine_op_inspct    2002\n",
      "?                    1843\n",
      "Transport_moving     1597\n",
      "Handlers_cleaners    1370\n",
      "Farming_fishing       994\n",
      "Tech_support          928\n",
      "Protective_serv       649\n",
      "Priv_house_serv       149\n",
      "Armed_Forces            9\n",
      "Name: occupation, dtype: int64\n"
     ]
    }
   ],
   "source": [
    "print ('1)-->unique value lenth',len(list((categorical_columns['occupation'].unique()))))\n",
    "print('-'*100)\n",
    "print ('2)-->This is a list of unique names',categorical_columns['occupation'].unique())\n",
    "print('-'*100)\n",
    "print (\"3)-->value_counts,\",categorical_columns['occupation'].value_counts())"
   ]
  },
  {
   "cell_type": "code",
   "execution_count": 155,
   "id": "7aa55740",
   "metadata": {},
   "outputs": [],
   "source": [
    "categorical_columns['occupation']=categorical_columns['occupation'].replace('?','Others_occupation')"
   ]
  },
  {
   "cell_type": "code",
   "execution_count": 156,
   "id": "7775831d",
   "metadata": {},
   "outputs": [
    {
     "name": "stdout",
     "output_type": "stream",
     "text": [
      "['White' 'Black' 'Asian_Pac_Islander' 'Amer_Indian_Eskimo' 'Other']\n",
      "['Male' 'Female']\n",
      "['United_States' 'Cuba' 'Jamaica' 'India' 'Others_country' 'Mexico'\n",
      " 'South' 'Puerto_Rico' 'Honduras' 'England' 'Canada' 'Germany' 'Iran'\n",
      " 'Philippines' 'Italy' 'Poland' 'Columbia' 'Cambodia' 'Thailand' 'Ecuador'\n",
      " 'Laos' 'Taiwan' 'Haiti' 'Portugal' 'Dominican_Republic' 'El_Salvador'\n",
      " 'France' 'Guatemala' 'China' 'Japan' 'Yugoslavia' 'Peru'\n",
      " 'Outlying_US_Guam_USVI_etc' 'Scotland' 'Trinadad_Tobago' 'Greece'\n",
      " 'Nicaragua' 'Vietnam' 'Hong' 'Ireland' 'Hungary' 'Holand_Netherlands']\n",
      "['Not_in_family' 'Husband' 'Wife' 'Own_child' 'Unmarried' 'Other_relative']\n",
      "['Adm_clerical' 'Exec_managerial' 'Handlers_cleaners' 'Prof_specialty'\n",
      " 'Other_service' 'Sales' 'Craft_repair' 'Transport_moving'\n",
      " 'Farming_fishing' 'Machine_op_inspct' 'Tech_support' 'Others_occupation'\n",
      " 'Protective_serv' 'Armed_Forces' 'Priv_house_serv']\n",
      "['Never_married' 'Married_civ_spouse' 'Divorced' 'Married_spouse_absent'\n",
      " 'Separated' 'Married_AF_spouse' 'Widowed']\n",
      "['Bachelors' 'school' 'Masters' 'College' 'Associate' 'Doctorate']\n",
      "['State_gov' 'Self_emp_not_inc' 'Private' 'Federal_gov' 'Local_gov'\n",
      " 'Self_emp_inc' 'Without_pay' 'Never_worked']\n"
     ]
    }
   ],
   "source": [
    "print(categorical_columns[\"race\"].unique())\n",
    "print(categorical_columns[\"sex\"].unique())\n",
    "print(categorical_columns[\"country\"].unique())\n",
    "print(categorical_columns[\"relationship\"].unique())\n",
    "print(categorical_columns[\"occupation\"].unique())\n",
    "print(categorical_columns[\"marital_status\"].unique())\n",
    "print(categorical_columns[\"education\"].unique())\n",
    "print(categorical_columns[\"workclass\"].unique())"
   ]
  },
  {
   "cell_type": "markdown",
   "id": "521454e0",
   "metadata": {},
   "source": [
    "## Checking the relation with target variable"
   ]
  },
  {
   "cell_type": "raw",
   "id": "44cfc3cf",
   "metadata": {},
   "source": [
    "'''#### Assumption(H0): \n",
    "There is NO relation between the given variables (i.e. The average(mean) values of the numeric Target variable is same for all the groups in the categorical Predictor variable)<br>\n",
    "\n",
    "ANOVA Test result: Probability of H0 being true'''"
   ]
  },
  {
   "cell_type": "raw",
   "id": "1893a005",
   "metadata": {},
   "source": [
    "'''# Defining a function to find the statistical relationship with all the categorical variables\n",
    "def FunctionAnova(inpData, TargetVariable, categorical_col):\n",
    "    from scipy.stats import f_oneway\n",
    "\n",
    "    # Creating an empty list of final selected predictors\n",
    "    SelectedPredictors=[]\n",
    "    \n",
    "    print('##### ANOVA Results ##### \\n')\n",
    "    for predictor in categorical_col:\n",
    "        CategoryGroupLists=inpData.groupby(predictor)[TargetVariable].apply(list)\n",
    "        AnovaResults = f_oneway(*CategoryGroupLists)\n",
    "        \n",
    "        # If the ANOVA P-Value is <0.05, that means we reject H0\n",
    "        if (AnovaResults[1] < 0.05):\n",
    "            print(predictor, 'is correlated with', TargetVariable, '| P-Value:', AnovaResults[1])\n",
    "            SelectedPredictors.append(predictor)\n",
    "        else:\n",
    "            print(predictor, 'is NOT correlated with', TargetVariable, '| P-Value:', AnovaResults[1])\n",
    "    \n",
    "    return(SelectedPredictors) '''"
   ]
  },
  {
   "cell_type": "raw",
   "id": "6a7d3ce0",
   "metadata": {},
   "source": [
    "'''FunctionAnova(inpData=categorical_columns, \n",
    "              TargetVariable='salary', \n",
    "              categorical_col=categorical_col)'''"
   ]
  },
  {
   "cell_type": "markdown",
   "id": "456ba82f",
   "metadata": {},
   "source": [
    "# It is time to convert categorical_columns into  numrical value  using get_dummies encoding technique"
   ]
  },
  {
   "cell_type": "code",
   "execution_count": 157,
   "id": "9a057dd2",
   "metadata": {},
   "outputs": [],
   "source": [
    "\n",
    "df_dummies = pd.get_dummies(categorical_columns[['workclass', 'education', 'marital_status',\n",
    "                                                'occupation', 'relationship', 'race','sex' , 'country',\n",
    "                                                 ] ], drop_first=True)"
   ]
  },
  {
   "cell_type": "code",
   "execution_count": 158,
   "id": "4e3ae79f",
   "metadata": {},
   "outputs": [
    {
     "data": {
      "text/html": [
       "<div>\n",
       "<style scoped>\n",
       "    .dataframe tbody tr th:only-of-type {\n",
       "        vertical-align: middle;\n",
       "    }\n",
       "\n",
       "    .dataframe tbody tr th {\n",
       "        vertical-align: top;\n",
       "    }\n",
       "\n",
       "    .dataframe thead th {\n",
       "        text-align: right;\n",
       "    }\n",
       "</style>\n",
       "<table border=\"1\" class=\"dataframe\">\n",
       "  <thead>\n",
       "    <tr style=\"text-align: right;\">\n",
       "      <th></th>\n",
       "      <th>workclass_Local_gov</th>\n",
       "      <th>workclass_Never_worked</th>\n",
       "      <th>workclass_Private</th>\n",
       "      <th>workclass_Self_emp_inc</th>\n",
       "      <th>workclass_Self_emp_not_inc</th>\n",
       "      <th>workclass_State_gov</th>\n",
       "      <th>workclass_Without_pay</th>\n",
       "      <th>education_Bachelors</th>\n",
       "      <th>education_College</th>\n",
       "      <th>education_Doctorate</th>\n",
       "      <th>...</th>\n",
       "      <th>country_Portugal</th>\n",
       "      <th>country_Puerto_Rico</th>\n",
       "      <th>country_Scotland</th>\n",
       "      <th>country_South</th>\n",
       "      <th>country_Taiwan</th>\n",
       "      <th>country_Thailand</th>\n",
       "      <th>country_Trinadad_Tobago</th>\n",
       "      <th>country_United_States</th>\n",
       "      <th>country_Vietnam</th>\n",
       "      <th>country_Yugoslavia</th>\n",
       "    </tr>\n",
       "  </thead>\n",
       "  <tbody>\n",
       "    <tr>\n",
       "      <th>0</th>\n",
       "      <td>0</td>\n",
       "      <td>0</td>\n",
       "      <td>0</td>\n",
       "      <td>0</td>\n",
       "      <td>0</td>\n",
       "      <td>1</td>\n",
       "      <td>0</td>\n",
       "      <td>1</td>\n",
       "      <td>0</td>\n",
       "      <td>0</td>\n",
       "      <td>...</td>\n",
       "      <td>0</td>\n",
       "      <td>0</td>\n",
       "      <td>0</td>\n",
       "      <td>0</td>\n",
       "      <td>0</td>\n",
       "      <td>0</td>\n",
       "      <td>0</td>\n",
       "      <td>1</td>\n",
       "      <td>0</td>\n",
       "      <td>0</td>\n",
       "    </tr>\n",
       "    <tr>\n",
       "      <th>1</th>\n",
       "      <td>0</td>\n",
       "      <td>0</td>\n",
       "      <td>0</td>\n",
       "      <td>0</td>\n",
       "      <td>1</td>\n",
       "      <td>0</td>\n",
       "      <td>0</td>\n",
       "      <td>1</td>\n",
       "      <td>0</td>\n",
       "      <td>0</td>\n",
       "      <td>...</td>\n",
       "      <td>0</td>\n",
       "      <td>0</td>\n",
       "      <td>0</td>\n",
       "      <td>0</td>\n",
       "      <td>0</td>\n",
       "      <td>0</td>\n",
       "      <td>0</td>\n",
       "      <td>1</td>\n",
       "      <td>0</td>\n",
       "      <td>0</td>\n",
       "    </tr>\n",
       "    <tr>\n",
       "      <th>2</th>\n",
       "      <td>0</td>\n",
       "      <td>0</td>\n",
       "      <td>1</td>\n",
       "      <td>0</td>\n",
       "      <td>0</td>\n",
       "      <td>0</td>\n",
       "      <td>0</td>\n",
       "      <td>0</td>\n",
       "      <td>0</td>\n",
       "      <td>0</td>\n",
       "      <td>...</td>\n",
       "      <td>0</td>\n",
       "      <td>0</td>\n",
       "      <td>0</td>\n",
       "      <td>0</td>\n",
       "      <td>0</td>\n",
       "      <td>0</td>\n",
       "      <td>0</td>\n",
       "      <td>1</td>\n",
       "      <td>0</td>\n",
       "      <td>0</td>\n",
       "    </tr>\n",
       "    <tr>\n",
       "      <th>3</th>\n",
       "      <td>0</td>\n",
       "      <td>0</td>\n",
       "      <td>1</td>\n",
       "      <td>0</td>\n",
       "      <td>0</td>\n",
       "      <td>0</td>\n",
       "      <td>0</td>\n",
       "      <td>0</td>\n",
       "      <td>0</td>\n",
       "      <td>0</td>\n",
       "      <td>...</td>\n",
       "      <td>0</td>\n",
       "      <td>0</td>\n",
       "      <td>0</td>\n",
       "      <td>0</td>\n",
       "      <td>0</td>\n",
       "      <td>0</td>\n",
       "      <td>0</td>\n",
       "      <td>1</td>\n",
       "      <td>0</td>\n",
       "      <td>0</td>\n",
       "    </tr>\n",
       "    <tr>\n",
       "      <th>4</th>\n",
       "      <td>0</td>\n",
       "      <td>0</td>\n",
       "      <td>1</td>\n",
       "      <td>0</td>\n",
       "      <td>0</td>\n",
       "      <td>0</td>\n",
       "      <td>0</td>\n",
       "      <td>1</td>\n",
       "      <td>0</td>\n",
       "      <td>0</td>\n",
       "      <td>...</td>\n",
       "      <td>0</td>\n",
       "      <td>0</td>\n",
       "      <td>0</td>\n",
       "      <td>0</td>\n",
       "      <td>0</td>\n",
       "      <td>0</td>\n",
       "      <td>0</td>\n",
       "      <td>0</td>\n",
       "      <td>0</td>\n",
       "      <td>0</td>\n",
       "    </tr>\n",
       "    <tr>\n",
       "      <th>...</th>\n",
       "      <td>...</td>\n",
       "      <td>...</td>\n",
       "      <td>...</td>\n",
       "      <td>...</td>\n",
       "      <td>...</td>\n",
       "      <td>...</td>\n",
       "      <td>...</td>\n",
       "      <td>...</td>\n",
       "      <td>...</td>\n",
       "      <td>...</td>\n",
       "      <td>...</td>\n",
       "      <td>...</td>\n",
       "      <td>...</td>\n",
       "      <td>...</td>\n",
       "      <td>...</td>\n",
       "      <td>...</td>\n",
       "      <td>...</td>\n",
       "      <td>...</td>\n",
       "      <td>...</td>\n",
       "      <td>...</td>\n",
       "      <td>...</td>\n",
       "    </tr>\n",
       "    <tr>\n",
       "      <th>32556</th>\n",
       "      <td>0</td>\n",
       "      <td>0</td>\n",
       "      <td>1</td>\n",
       "      <td>0</td>\n",
       "      <td>0</td>\n",
       "      <td>0</td>\n",
       "      <td>0</td>\n",
       "      <td>0</td>\n",
       "      <td>0</td>\n",
       "      <td>0</td>\n",
       "      <td>...</td>\n",
       "      <td>0</td>\n",
       "      <td>0</td>\n",
       "      <td>0</td>\n",
       "      <td>0</td>\n",
       "      <td>0</td>\n",
       "      <td>0</td>\n",
       "      <td>0</td>\n",
       "      <td>1</td>\n",
       "      <td>0</td>\n",
       "      <td>0</td>\n",
       "    </tr>\n",
       "    <tr>\n",
       "      <th>32557</th>\n",
       "      <td>0</td>\n",
       "      <td>0</td>\n",
       "      <td>1</td>\n",
       "      <td>0</td>\n",
       "      <td>0</td>\n",
       "      <td>0</td>\n",
       "      <td>0</td>\n",
       "      <td>0</td>\n",
       "      <td>0</td>\n",
       "      <td>0</td>\n",
       "      <td>...</td>\n",
       "      <td>0</td>\n",
       "      <td>0</td>\n",
       "      <td>0</td>\n",
       "      <td>0</td>\n",
       "      <td>0</td>\n",
       "      <td>0</td>\n",
       "      <td>0</td>\n",
       "      <td>1</td>\n",
       "      <td>0</td>\n",
       "      <td>0</td>\n",
       "    </tr>\n",
       "    <tr>\n",
       "      <th>32558</th>\n",
       "      <td>0</td>\n",
       "      <td>0</td>\n",
       "      <td>1</td>\n",
       "      <td>0</td>\n",
       "      <td>0</td>\n",
       "      <td>0</td>\n",
       "      <td>0</td>\n",
       "      <td>0</td>\n",
       "      <td>0</td>\n",
       "      <td>0</td>\n",
       "      <td>...</td>\n",
       "      <td>0</td>\n",
       "      <td>0</td>\n",
       "      <td>0</td>\n",
       "      <td>0</td>\n",
       "      <td>0</td>\n",
       "      <td>0</td>\n",
       "      <td>0</td>\n",
       "      <td>1</td>\n",
       "      <td>0</td>\n",
       "      <td>0</td>\n",
       "    </tr>\n",
       "    <tr>\n",
       "      <th>32559</th>\n",
       "      <td>0</td>\n",
       "      <td>0</td>\n",
       "      <td>1</td>\n",
       "      <td>0</td>\n",
       "      <td>0</td>\n",
       "      <td>0</td>\n",
       "      <td>0</td>\n",
       "      <td>0</td>\n",
       "      <td>0</td>\n",
       "      <td>0</td>\n",
       "      <td>...</td>\n",
       "      <td>0</td>\n",
       "      <td>0</td>\n",
       "      <td>0</td>\n",
       "      <td>0</td>\n",
       "      <td>0</td>\n",
       "      <td>0</td>\n",
       "      <td>0</td>\n",
       "      <td>1</td>\n",
       "      <td>0</td>\n",
       "      <td>0</td>\n",
       "    </tr>\n",
       "    <tr>\n",
       "      <th>32560</th>\n",
       "      <td>0</td>\n",
       "      <td>0</td>\n",
       "      <td>0</td>\n",
       "      <td>1</td>\n",
       "      <td>0</td>\n",
       "      <td>0</td>\n",
       "      <td>0</td>\n",
       "      <td>0</td>\n",
       "      <td>0</td>\n",
       "      <td>0</td>\n",
       "      <td>...</td>\n",
       "      <td>0</td>\n",
       "      <td>0</td>\n",
       "      <td>0</td>\n",
       "      <td>0</td>\n",
       "      <td>0</td>\n",
       "      <td>0</td>\n",
       "      <td>0</td>\n",
       "      <td>1</td>\n",
       "      <td>0</td>\n",
       "      <td>0</td>\n",
       "    </tr>\n",
       "  </tbody>\n",
       "</table>\n",
       "<p>32561 rows × 83 columns</p>\n",
       "</div>"
      ],
      "text/plain": [
       "       workclass_Local_gov  workclass_Never_worked  workclass_Private  \\\n",
       "0                        0                       0                  0   \n",
       "1                        0                       0                  0   \n",
       "2                        0                       0                  1   \n",
       "3                        0                       0                  1   \n",
       "4                        0                       0                  1   \n",
       "...                    ...                     ...                ...   \n",
       "32556                    0                       0                  1   \n",
       "32557                    0                       0                  1   \n",
       "32558                    0                       0                  1   \n",
       "32559                    0                       0                  1   \n",
       "32560                    0                       0                  0   \n",
       "\n",
       "       workclass_Self_emp_inc  workclass_Self_emp_not_inc  \\\n",
       "0                           0                           0   \n",
       "1                           0                           1   \n",
       "2                           0                           0   \n",
       "3                           0                           0   \n",
       "4                           0                           0   \n",
       "...                       ...                         ...   \n",
       "32556                       0                           0   \n",
       "32557                       0                           0   \n",
       "32558                       0                           0   \n",
       "32559                       0                           0   \n",
       "32560                       1                           0   \n",
       "\n",
       "       workclass_State_gov  workclass_Without_pay  education_Bachelors  \\\n",
       "0                        1                      0                    1   \n",
       "1                        0                      0                    1   \n",
       "2                        0                      0                    0   \n",
       "3                        0                      0                    0   \n",
       "4                        0                      0                    1   \n",
       "...                    ...                    ...                  ...   \n",
       "32556                    0                      0                    0   \n",
       "32557                    0                      0                    0   \n",
       "32558                    0                      0                    0   \n",
       "32559                    0                      0                    0   \n",
       "32560                    0                      0                    0   \n",
       "\n",
       "       education_College  education_Doctorate  ...  country_Portugal  \\\n",
       "0                      0                    0  ...                 0   \n",
       "1                      0                    0  ...                 0   \n",
       "2                      0                    0  ...                 0   \n",
       "3                      0                    0  ...                 0   \n",
       "4                      0                    0  ...                 0   \n",
       "...                  ...                  ...  ...               ...   \n",
       "32556                  0                    0  ...                 0   \n",
       "32557                  0                    0  ...                 0   \n",
       "32558                  0                    0  ...                 0   \n",
       "32559                  0                    0  ...                 0   \n",
       "32560                  0                    0  ...                 0   \n",
       "\n",
       "       country_Puerto_Rico  country_Scotland  country_South  country_Taiwan  \\\n",
       "0                        0                 0              0               0   \n",
       "1                        0                 0              0               0   \n",
       "2                        0                 0              0               0   \n",
       "3                        0                 0              0               0   \n",
       "4                        0                 0              0               0   \n",
       "...                    ...               ...            ...             ...   \n",
       "32556                    0                 0              0               0   \n",
       "32557                    0                 0              0               0   \n",
       "32558                    0                 0              0               0   \n",
       "32559                    0                 0              0               0   \n",
       "32560                    0                 0              0               0   \n",
       "\n",
       "       country_Thailand  country_Trinadad_Tobago  country_United_States  \\\n",
       "0                     0                        0                      1   \n",
       "1                     0                        0                      1   \n",
       "2                     0                        0                      1   \n",
       "3                     0                        0                      1   \n",
       "4                     0                        0                      0   \n",
       "...                 ...                      ...                    ...   \n",
       "32556                 0                        0                      1   \n",
       "32557                 0                        0                      1   \n",
       "32558                 0                        0                      1   \n",
       "32559                 0                        0                      1   \n",
       "32560                 0                        0                      1   \n",
       "\n",
       "       country_Vietnam  country_Yugoslavia  \n",
       "0                    0                   0  \n",
       "1                    0                   0  \n",
       "2                    0                   0  \n",
       "3                    0                   0  \n",
       "4                    0                   0  \n",
       "...                ...                 ...  \n",
       "32556                0                   0  \n",
       "32557                0                   0  \n",
       "32558                0                   0  \n",
       "32559                0                   0  \n",
       "32560                0                   0  \n",
       "\n",
       "[32561 rows x 83 columns]"
      ]
     },
     "execution_count": 158,
     "metadata": {},
     "output_type": "execute_result"
    }
   ],
   "source": [
    "df_dummies"
   ]
  },
  {
   "cell_type": "code",
   "execution_count": 159,
   "id": "0d2bb8a7",
   "metadata": {},
   "outputs": [],
   "source": [
    "### 2ND FEATURE SELECTION TECHNIQUE (SELECT PERCENTILE FEATURE , CHI2)\n",
    "from sklearn.feature_selection import SelectPercentile , chi2"
   ]
  },
  {
   "cell_type": "code",
   "execution_count": 160,
   "id": "c6e26fa6",
   "metadata": {},
   "outputs": [],
   "source": [
    "# instantiate selectpercentile an fit (feature and label)\n",
    "Spercentile = SelectPercentile(score_func = chi2 , percentile = 80)\n",
    "sp = Spercentile.fit(df_dummies,categorical_columns['salary']) "
   ]
  },
  {
   "cell_type": "code",
   "execution_count": 161,
   "id": "7a24059c",
   "metadata": {},
   "outputs": [
    {
     "name": "stdout",
     "output_type": "stream",
     "text": [
      "feature index [ 0  1  2  3  4  5  6  7  8  9 10 11 12 13 14 15 16 17 19 20 21 22 23 24\n",
      " 25 26 27 28 29 30 31 32 33 34 35 36 37 38 39 40 41 42 44 46 48 49 50 51\n",
      " 53 54 56 59 60 62 63 64 66 67 69 70 71 73 74 77 80 81]\n",
      "feature ['workclass_Local_gov', 'workclass_Never_worked', 'workclass_Private', 'workclass_Self_emp_inc', 'workclass_Self_emp_not_inc', 'workclass_State_gov', 'workclass_Without_pay', 'education_Bachelors', 'education_College', 'education_Doctorate', 'education_Masters', 'education_school', 'marital_status_Married_AF_spouse', 'marital_status_Married_civ_spouse', 'marital_status_Married_spouse_absent', 'marital_status_Never_married', 'marital_status_Separated', 'marital_status_Widowed', 'occupation_Craft_repair', 'occupation_Exec_managerial', 'occupation_Farming_fishing', 'occupation_Handlers_cleaners', 'occupation_Machine_op_inspct', 'occupation_Other_service', 'occupation_Others_occupation', 'occupation_Priv_house_serv', 'occupation_Prof_specialty', 'occupation_Protective_serv', 'occupation_Sales', 'occupation_Tech_support', 'occupation_Transport_moving', 'relationship_Not_in_family', 'relationship_Other_relative', 'relationship_Own_child', 'relationship_Unmarried', 'relationship_Wife', 'race_Asian_Pac_Islander', 'race_Black', 'race_Other', 'race_White', 'sex_Male', 'country_Canada', 'country_Columbia', 'country_Dominican_Republic', 'country_El_Salvador', 'country_England', 'country_France', 'country_Germany', 'country_Guatemala', 'country_Haiti', 'country_Honduras', 'country_India', 'country_Iran', 'country_Italy', 'country_Jamaica', 'country_Japan', 'country_Mexico', 'country_Nicaragua', 'country_Outlying_US_Guam_USVI_etc', 'country_Peru', 'country_Philippines', 'country_Portugal', 'country_Puerto_Rico', 'country_Taiwan', 'country_United_States', 'country_Vietnam']\n"
     ]
    }
   ],
   "source": [
    "# seperate the feature to check the p value\n",
    "cols = Spercentile.get_support(indices = True)  # this will give you index of 80% feature\n",
    "print ('feature index'  , cols)\n",
    "\n",
    "feature = df_dummies.columns[cols]              # this will give you name of that 80% feature\n",
    "print('feature' , list(feature))"
   ]
  },
  {
   "cell_type": "code",
   "execution_count": 162,
   "id": "d36b3845",
   "metadata": {},
   "outputs": [
    {
     "data": {
      "text/html": [
       "<div>\n",
       "<style scoped>\n",
       "    .dataframe tbody tr th:only-of-type {\n",
       "        vertical-align: middle;\n",
       "    }\n",
       "\n",
       "    .dataframe tbody tr th {\n",
       "        vertical-align: top;\n",
       "    }\n",
       "\n",
       "    .dataframe thead th {\n",
       "        text-align: right;\n",
       "    }\n",
       "</style>\n",
       "<table border=\"1\" class=\"dataframe\">\n",
       "  <thead>\n",
       "    <tr style=\"text-align: right;\">\n",
       "      <th></th>\n",
       "      <th>feature</th>\n",
       "      <th>chi2_score</th>\n",
       "      <th>p_value</th>\n",
       "    </tr>\n",
       "  </thead>\n",
       "  <tbody>\n",
       "    <tr>\n",
       "      <th>13</th>\n",
       "      <td>marital_status_Married_civ_spouse</td>\n",
       "      <td>3477.515877</td>\n",
       "      <td>0.000000e+00</td>\n",
       "    </tr>\n",
       "    <tr>\n",
       "      <th>15</th>\n",
       "      <td>marital_status_Never_married</td>\n",
       "      <td>2218.521977</td>\n",
       "      <td>0.000000e+00</td>\n",
       "    </tr>\n",
       "    <tr>\n",
       "      <th>34</th>\n",
       "      <td>relationship_Own_child</td>\n",
       "      <td>1435.873016</td>\n",
       "      <td>0.000000e+00</td>\n",
       "    </tr>\n",
       "    <tr>\n",
       "      <th>20</th>\n",
       "      <td>occupation_Exec_managerial</td>\n",
       "      <td>1315.482632</td>\n",
       "      <td>4.882518e-288</td>\n",
       "    </tr>\n",
       "    <tr>\n",
       "      <th>27</th>\n",
       "      <td>occupation_Prof_specialty</td>\n",
       "      <td>981.835068</td>\n",
       "      <td>1.594790e-215</td>\n",
       "    </tr>\n",
       "    <tr>\n",
       "      <th>...</th>\n",
       "      <td>...</td>\n",
       "      <td>...</td>\n",
       "      <td>...</td>\n",
       "    </tr>\n",
       "    <tr>\n",
       "      <th>45</th>\n",
       "      <td>country_Cuba</td>\n",
       "      <td>0.259531</td>\n",
       "      <td>6.104424e-01</td>\n",
       "    </tr>\n",
       "    <tr>\n",
       "      <th>52</th>\n",
       "      <td>country_Greece</td>\n",
       "      <td>0.194900</td>\n",
       "      <td>6.588693e-01</td>\n",
       "    </tr>\n",
       "    <tr>\n",
       "      <th>61</th>\n",
       "      <td>country_Ireland</td>\n",
       "      <td>0.138458</td>\n",
       "      <td>7.098189e-01</td>\n",
       "    </tr>\n",
       "    <tr>\n",
       "      <th>58</th>\n",
       "      <td>country_Hungary</td>\n",
       "      <td>0.007168</td>\n",
       "      <td>9.325272e-01</td>\n",
       "    </tr>\n",
       "    <tr>\n",
       "      <th>75</th>\n",
       "      <td>country_Scotland</td>\n",
       "      <td>0.005544</td>\n",
       "      <td>9.406455e-01</td>\n",
       "    </tr>\n",
       "  </tbody>\n",
       "</table>\n",
       "<p>83 rows × 3 columns</p>\n",
       "</div>"
      ],
      "text/plain": [
       "                              feature   chi2_score        p_value\n",
       "13  marital_status_Married_civ_spouse  3477.515877   0.000000e+00\n",
       "15       marital_status_Never_married  2218.521977   0.000000e+00\n",
       "34             relationship_Own_child  1435.873016   0.000000e+00\n",
       "20         occupation_Exec_managerial  1315.482632  4.882518e-288\n",
       "27          occupation_Prof_specialty   981.835068  1.594790e-215\n",
       "..                                ...          ...            ...\n",
       "45                       country_Cuba     0.259531   6.104424e-01\n",
       "52                     country_Greece     0.194900   6.588693e-01\n",
       "61                    country_Ireland     0.138458   7.098189e-01\n",
       "58                    country_Hungary     0.007168   9.325272e-01\n",
       "75                   country_Scotland     0.005544   9.406455e-01\n",
       "\n",
       "[83 rows x 3 columns]"
      ]
     },
     "execution_count": 162,
     "metadata": {},
     "output_type": "execute_result"
    }
   ],
   "source": [
    "# lets se all the feature vs chi2 score vs pvalue\n",
    "df_score = pd.DataFrame ({'feature':df_dummies.columns , 'chi2_score': Spercentile.scores_ , 'p_value': Spercentile.pvalues_})\n",
    "# this will give all 100% but we have to select 80%\n",
    "df_score.sort_values (by = 'chi2_score' , ascending = False)   "
   ]
  },
  {
   "cell_type": "code",
   "execution_count": 163,
   "id": "292e2998",
   "metadata": {},
   "outputs": [],
   "source": [
    "from statsmodels.stats.outliers_influence import variance_inflation_factor\n",
    "#Finding variance inflation factor in each scaled column i.e X_scaled.shape [1] (1/(1-R2))\n",
    "vif = pd.DataFrame()\n",
    "vif[\"vif\"]= [variance_inflation_factor (df_dummies, i) for i in range (df_dummies.shape[1])]\n",
    "vif[\"Features\"] = df_dummies. columns\n",
    "#Let's check the values"
   ]
  },
  {
   "cell_type": "code",
   "execution_count": 164,
   "id": "eb26f87a",
   "metadata": {},
   "outputs": [
    {
     "data": {
      "text/html": [
       "<div>\n",
       "<style scoped>\n",
       "    .dataframe tbody tr th:only-of-type {\n",
       "        vertical-align: middle;\n",
       "    }\n",
       "\n",
       "    .dataframe tbody tr th {\n",
       "        vertical-align: top;\n",
       "    }\n",
       "\n",
       "    .dataframe thead th {\n",
       "        text-align: right;\n",
       "    }\n",
       "</style>\n",
       "<table border=\"1\" class=\"dataframe\">\n",
       "  <thead>\n",
       "    <tr style=\"text-align: right;\">\n",
       "      <th></th>\n",
       "      <th>vif</th>\n",
       "      <th>Features</th>\n",
       "    </tr>\n",
       "  </thead>\n",
       "  <tbody>\n",
       "    <tr>\n",
       "      <th>0</th>\n",
       "      <td>0.070891</td>\n",
       "      <td>workclass_Local_gov</td>\n",
       "    </tr>\n",
       "    <tr>\n",
       "      <th>1</th>\n",
       "      <td>1.012446</td>\n",
       "      <td>workclass_Never_worked</td>\n",
       "    </tr>\n",
       "    <tr>\n",
       "      <th>2</th>\n",
       "      <td>0.238010</td>\n",
       "      <td>workclass_Private</td>\n",
       "    </tr>\n",
       "    <tr>\n",
       "      <th>3</th>\n",
       "      <td>0.185553</td>\n",
       "      <td>workclass_Self_emp_inc</td>\n",
       "    </tr>\n",
       "    <tr>\n",
       "      <th>4</th>\n",
       "      <td>0.360520</td>\n",
       "      <td>workclass_Self_emp_not_inc</td>\n",
       "    </tr>\n",
       "    <tr>\n",
       "      <th>...</th>\n",
       "      <td>...</td>\n",
       "      <td>...</td>\n",
       "    </tr>\n",
       "    <tr>\n",
       "      <th>78</th>\n",
       "      <td>1.171524</td>\n",
       "      <td>country_Thailand</td>\n",
       "    </tr>\n",
       "    <tr>\n",
       "      <th>79</th>\n",
       "      <td>1.162200</td>\n",
       "      <td>country_Trinadad_Tobago</td>\n",
       "    </tr>\n",
       "    <tr>\n",
       "      <th>80</th>\n",
       "      <td>2.009274</td>\n",
       "      <td>country_United_States</td>\n",
       "    </tr>\n",
       "    <tr>\n",
       "      <th>81</th>\n",
       "      <td>1.658682</td>\n",
       "      <td>country_Vietnam</td>\n",
       "    </tr>\n",
       "    <tr>\n",
       "      <th>82</th>\n",
       "      <td>1.132858</td>\n",
       "      <td>country_Yugoslavia</td>\n",
       "    </tr>\n",
       "  </tbody>\n",
       "</table>\n",
       "<p>83 rows × 2 columns</p>\n",
       "</div>"
      ],
      "text/plain": [
       "         vif                    Features\n",
       "0   0.070891         workclass_Local_gov\n",
       "1   1.012446      workclass_Never_worked\n",
       "2   0.238010           workclass_Private\n",
       "3   0.185553      workclass_Self_emp_inc\n",
       "4   0.360520  workclass_Self_emp_not_inc\n",
       "..       ...                         ...\n",
       "78  1.171524            country_Thailand\n",
       "79  1.162200     country_Trinadad_Tobago\n",
       "80  2.009274       country_United_States\n",
       "81  1.658682             country_Vietnam\n",
       "82  1.132858          country_Yugoslavia\n",
       "\n",
       "[83 rows x 2 columns]"
      ]
     },
     "execution_count": 164,
     "metadata": {},
     "output_type": "execute_result"
    }
   ],
   "source": [
    "vif"
   ]
  },
  {
   "cell_type": "markdown",
   "id": "5d3da7ce",
   "metadata": {},
   "source": [
    "# Moving Towards continuous_columns_"
   ]
  },
  {
   "cell_type": "code",
   "execution_count": 165,
   "id": "3d6436c2",
   "metadata": {},
   "outputs": [],
   "source": [
    "df2 = pd.read_csv(\"adult.csv\") #reading the file"
   ]
  },
  {
   "cell_type": "code",
   "execution_count": 166,
   "id": "a2356c62",
   "metadata": {},
   "outputs": [],
   "source": [
    "df2['salary']=df2['salary'].replace(' <=50K', 0)\n",
    "df2['salary']=df2['salary'].replace(' >50K', 1)"
   ]
  },
  {
   "cell_type": "code",
   "execution_count": 167,
   "id": "27060e76",
   "metadata": {},
   "outputs": [
    {
     "name": "stdout",
     "output_type": "stream",
     "text": [
      "continuous_columns_: ['age', 'fnlwgt', 'education-num', 'capital-gain', 'capital-loss', 'hours-per-week', 'salary']\n"
     ]
    }
   ],
   "source": [
    "# get all the continuous columns name\n",
    "num_cols = list(df2.select_dtypes(exclude='object').columns)\n",
    "print(f'continuous_columns_: {num_cols}')"
   ]
  },
  {
   "cell_type": "code",
   "execution_count": 168,
   "id": "c5390275",
   "metadata": {},
   "outputs": [],
   "source": [
    "continuous_columns_=['age','fnlwgt','capital-gain','capital-loss','hours-per-week','salary']"
   ]
  },
  {
   "cell_type": "code",
   "execution_count": 169,
   "id": "723c1c7f",
   "metadata": {},
   "outputs": [],
   "source": [
    "continuous_columns=df2[continuous_columns_].copy()"
   ]
  },
  {
   "cell_type": "code",
   "execution_count": 170,
   "id": "9b45d53b",
   "metadata": {},
   "outputs": [],
   "source": [
    "continuous_columns.rename(columns={\"capital-gain\": \"capital_gain\", \"capital-loss\": \"capital_loss\", \"hours-per-week\": \"hours_per_week\"}, inplace=True)"
   ]
  },
  {
   "cell_type": "code",
   "execution_count": 171,
   "id": "ad49885d",
   "metadata": {},
   "outputs": [
    {
     "data": {
      "text/html": [
       "<div>\n",
       "<style scoped>\n",
       "    .dataframe tbody tr th:only-of-type {\n",
       "        vertical-align: middle;\n",
       "    }\n",
       "\n",
       "    .dataframe tbody tr th {\n",
       "        vertical-align: top;\n",
       "    }\n",
       "\n",
       "    .dataframe thead th {\n",
       "        text-align: right;\n",
       "    }\n",
       "</style>\n",
       "<table border=\"1\" class=\"dataframe\">\n",
       "  <thead>\n",
       "    <tr style=\"text-align: right;\">\n",
       "      <th></th>\n",
       "      <th>age</th>\n",
       "      <th>fnlwgt</th>\n",
       "      <th>capital_gain</th>\n",
       "      <th>capital_loss</th>\n",
       "      <th>hours_per_week</th>\n",
       "      <th>salary</th>\n",
       "    </tr>\n",
       "  </thead>\n",
       "  <tbody>\n",
       "    <tr>\n",
       "      <th>0</th>\n",
       "      <td>39</td>\n",
       "      <td>77516</td>\n",
       "      <td>2174</td>\n",
       "      <td>0</td>\n",
       "      <td>40</td>\n",
       "      <td>0</td>\n",
       "    </tr>\n",
       "    <tr>\n",
       "      <th>1</th>\n",
       "      <td>50</td>\n",
       "      <td>83311</td>\n",
       "      <td>0</td>\n",
       "      <td>0</td>\n",
       "      <td>13</td>\n",
       "      <td>0</td>\n",
       "    </tr>\n",
       "    <tr>\n",
       "      <th>2</th>\n",
       "      <td>38</td>\n",
       "      <td>215646</td>\n",
       "      <td>0</td>\n",
       "      <td>0</td>\n",
       "      <td>40</td>\n",
       "      <td>0</td>\n",
       "    </tr>\n",
       "    <tr>\n",
       "      <th>3</th>\n",
       "      <td>53</td>\n",
       "      <td>234721</td>\n",
       "      <td>0</td>\n",
       "      <td>0</td>\n",
       "      <td>40</td>\n",
       "      <td>0</td>\n",
       "    </tr>\n",
       "    <tr>\n",
       "      <th>4</th>\n",
       "      <td>28</td>\n",
       "      <td>338409</td>\n",
       "      <td>0</td>\n",
       "      <td>0</td>\n",
       "      <td>40</td>\n",
       "      <td>0</td>\n",
       "    </tr>\n",
       "    <tr>\n",
       "      <th>...</th>\n",
       "      <td>...</td>\n",
       "      <td>...</td>\n",
       "      <td>...</td>\n",
       "      <td>...</td>\n",
       "      <td>...</td>\n",
       "      <td>...</td>\n",
       "    </tr>\n",
       "    <tr>\n",
       "      <th>32556</th>\n",
       "      <td>27</td>\n",
       "      <td>257302</td>\n",
       "      <td>0</td>\n",
       "      <td>0</td>\n",
       "      <td>38</td>\n",
       "      <td>0</td>\n",
       "    </tr>\n",
       "    <tr>\n",
       "      <th>32557</th>\n",
       "      <td>40</td>\n",
       "      <td>154374</td>\n",
       "      <td>0</td>\n",
       "      <td>0</td>\n",
       "      <td>40</td>\n",
       "      <td>1</td>\n",
       "    </tr>\n",
       "    <tr>\n",
       "      <th>32558</th>\n",
       "      <td>58</td>\n",
       "      <td>151910</td>\n",
       "      <td>0</td>\n",
       "      <td>0</td>\n",
       "      <td>40</td>\n",
       "      <td>0</td>\n",
       "    </tr>\n",
       "    <tr>\n",
       "      <th>32559</th>\n",
       "      <td>22</td>\n",
       "      <td>201490</td>\n",
       "      <td>0</td>\n",
       "      <td>0</td>\n",
       "      <td>20</td>\n",
       "      <td>0</td>\n",
       "    </tr>\n",
       "    <tr>\n",
       "      <th>32560</th>\n",
       "      <td>52</td>\n",
       "      <td>287927</td>\n",
       "      <td>15024</td>\n",
       "      <td>0</td>\n",
       "      <td>40</td>\n",
       "      <td>1</td>\n",
       "    </tr>\n",
       "  </tbody>\n",
       "</table>\n",
       "<p>32561 rows × 6 columns</p>\n",
       "</div>"
      ],
      "text/plain": [
       "       age  fnlwgt  capital_gain  capital_loss  hours_per_week  salary\n",
       "0       39   77516          2174             0              40       0\n",
       "1       50   83311             0             0              13       0\n",
       "2       38  215646             0             0              40       0\n",
       "3       53  234721             0             0              40       0\n",
       "4       28  338409             0             0              40       0\n",
       "...    ...     ...           ...           ...             ...     ...\n",
       "32556   27  257302             0             0              38       0\n",
       "32557   40  154374             0             0              40       1\n",
       "32558   58  151910             0             0              40       0\n",
       "32559   22  201490             0             0              20       0\n",
       "32560   52  287927         15024             0              40       1\n",
       "\n",
       "[32561 rows x 6 columns]"
      ]
     },
     "execution_count": 171,
     "metadata": {},
     "output_type": "execute_result"
    }
   ],
   "source": [
    "continuous_columns"
   ]
  },
  {
   "cell_type": "code",
   "execution_count": 172,
   "id": "84d35e3e",
   "metadata": {},
   "outputs": [
    {
     "name": "stdout",
     "output_type": "stream",
     "text": [
      "null value____> 0\n",
      "uniqu value____> [40 13 16 45 50 80 30 35 60 20 52 44 15 25 38 43 55 48 58 32 70  2 22 56\n",
      " 41 28 36 24 46 42 12 65  1 10 34 75 98 33 54  8  6 64 19 18 72  5  9 47\n",
      " 37 21 26 14  4 59  7 99 53 39 62 57 78 90 66 11 49 84  3 17 68 27 85 31\n",
      " 51 77 63 23 87 88 73 89 97 94 29 96 67 82 86 91 81 76 92 61 74 95]\n",
      "skewness____> 0.22764253680450092\n"
     ]
    }
   ],
   "source": [
    "print('null value____>',continuous_columns['hours_per_week'].isnull().sum())\n",
    "print('uniqu value____>',continuous_columns['hours_per_week'].unique())\n",
    "print('skewness____>',continuous_columns['hours_per_week'].skew())"
   ]
  },
  {
   "cell_type": "code",
   "execution_count": 173,
   "id": "b748f480",
   "metadata": {},
   "outputs": [
    {
     "name": "stdout",
     "output_type": "stream",
     "text": [
      "null value____> 0\n",
      "uniqu value____> [   0 2042 1408 1902 1573 1887 1719 1762 1564 2179 1816 1980 1977 1876\n",
      " 1340 2206 1741 1485 2339 2415 1380 1721 2051 2377 1669 2352 1672  653\n",
      " 2392 1504 2001 1590 1651 1628 1848 1740 2002 1579 2258 1602  419 2547\n",
      " 2174 2205 1726 2444 1138 2238  625  213 1539  880 1668 1092 1594 3004\n",
      " 2231 1844  810 2824 2559 2057 1974  974 2149 1825 1735 1258 2129 2603\n",
      " 2282  323 4356 2246 1617 1648 2489 3770 1755 3683 2267 2080 2457  155\n",
      " 3900 2201 1944 2467 2163 2754 2472 1411]\n",
      "skewness____> 4.594629121679692\n"
     ]
    }
   ],
   "source": [
    "print('null value____>',continuous_columns['capital_loss'].isnull().sum())\n",
    "print('uniqu value____>',continuous_columns['capital_loss'].unique())\n",
    "print('skewness____>',continuous_columns['capital_loss'].skew())"
   ]
  },
  {
   "cell_type": "code",
   "execution_count": 174,
   "id": "f50a4ede",
   "metadata": {},
   "outputs": [
    {
     "name": "stdout",
     "output_type": "stream",
     "text": [
      "null value____> 0\n",
      "uniqu value____> [ 2174     0 14084  5178  5013  2407 14344 15024  7688 34095  4064  4386\n",
      "  7298  1409  3674  1055  3464  2050  2176   594 20051  6849  4101  1111\n",
      "  8614  3411  2597 25236  4650  9386  2463  3103 10605  2964  3325  2580\n",
      "  3471  4865 99999  6514  1471  2329  2105  2885 25124 10520  2202  2961\n",
      " 27828  6767  2228  1506 13550  2635  5556  4787  3781  3137  3818  3942\n",
      "   914   401  2829  2977  4934  2062  2354  5455 15020  1424  3273 22040\n",
      "  4416  3908 10566   991  4931  1086  7430  6497   114  7896  2346  3418\n",
      "  3432  2907  1151  2414  2290 15831 41310  4508  2538  3456  6418  1848\n",
      "  3887  5721  9562  1455  2036  1831 11678  2936  2993  7443  6360  1797\n",
      "  1173  4687  6723  2009  6097  2653  1639 18481  7978  2387  5060]\n",
      "skewness____> 11.953847687699799\n"
     ]
    }
   ],
   "source": [
    "print('null value____>',continuous_columns['capital_gain'].isnull().sum())\n",
    "print('uniqu value____>',continuous_columns['capital_gain'].unique())\n",
    "print('skewness____>',continuous_columns['capital_gain'].skew())"
   ]
  },
  {
   "cell_type": "code",
   "execution_count": 175,
   "id": "7408b9ab",
   "metadata": {},
   "outputs": [
    {
     "name": "stdout",
     "output_type": "stream",
     "text": [
      "null value----> 0\n",
      "uniqu value----> [ 77516  83311 215646 ...  34066  84661 257302]\n",
      "skewness----> 1.4469800945789826\n"
     ]
    }
   ],
   "source": [
    "print('null value---->',continuous_columns['fnlwgt'].isnull().sum())\n",
    "print('uniqu value---->',continuous_columns['fnlwgt'].unique())\n",
    "print('skewness---->',continuous_columns['fnlwgt'].skew())"
   ]
  },
  {
   "cell_type": "code",
   "execution_count": 176,
   "id": "54392ce4",
   "metadata": {},
   "outputs": [
    {
     "name": "stdout",
     "output_type": "stream",
     "text": [
      "null value----> 0\n",
      "uniqu value----> [39 50 38 53 28 37 49 52 31 42 30 23 32 40 34 25 43 54 35 59 56 19 20 45\n",
      " 22 48 21 24 57 44 41 29 18 47 46 36 79 27 67 33 76 17 55 61 70 64 71 68\n",
      " 66 51 58 26 60 90 75 65 77 62 63 80 72 74 69 73 81 78 88 82 83 84 85 86\n",
      " 87]\n",
      "skewness----> 0.5587433694130484\n"
     ]
    }
   ],
   "source": [
    "print('null value---->',continuous_columns['age'].isnull().sum())\n",
    "print('uniqu value---->',continuous_columns['age'].unique())\n",
    "print('skewness---->',continuous_columns['age'].skew())"
   ]
  },
  {
   "cell_type": "markdown",
   "id": "22f58c24",
   "metadata": {},
   "source": [
    "# correlation with target\n",
    "- Corr with target \n",
    "- heatmap\n",
    "- ANOVA test"
   ]
  },
  {
   "cell_type": "code",
   "execution_count": 177,
   "id": "780cb77d",
   "metadata": {},
   "outputs": [],
   "source": [
    "from statsmodels.stats.outliers_influence import variance_inflation_factor\n",
    "#Finding variance inflation factor in each scaled column i.e X_scaled.shape [1] (1/(1-R2))\n",
    "vif = pd.DataFrame()\n",
    "vif[\"vif\"]= [variance_inflation_factor (continuous_columns, i) for i in range (continuous_columns.shape[1])]\n",
    "vif[\"Features\"] = continuous_columns. columns\n",
    "#vif must be done after scaling the data \n",
    "#Let's check the values"
   ]
  },
  {
   "cell_type": "code",
   "execution_count": 178,
   "id": "627d682b",
   "metadata": {},
   "outputs": [
    {
     "data": {
      "text/html": [
       "<div>\n",
       "<style scoped>\n",
       "    .dataframe tbody tr th:only-of-type {\n",
       "        vertical-align: middle;\n",
       "    }\n",
       "\n",
       "    .dataframe tbody tr th {\n",
       "        vertical-align: top;\n",
       "    }\n",
       "\n",
       "    .dataframe thead th {\n",
       "        text-align: right;\n",
       "    }\n",
       "</style>\n",
       "<table border=\"1\" class=\"dataframe\">\n",
       "  <thead>\n",
       "    <tr style=\"text-align: right;\">\n",
       "      <th></th>\n",
       "      <th>vif</th>\n",
       "      <th>Features</th>\n",
       "    </tr>\n",
       "  </thead>\n",
       "  <tbody>\n",
       "    <tr>\n",
       "      <th>0</th>\n",
       "      <td>6.218057</td>\n",
       "      <td>age</td>\n",
       "    </tr>\n",
       "    <tr>\n",
       "      <th>1</th>\n",
       "      <td>3.480254</td>\n",
       "      <td>fnlwgt</td>\n",
       "    </tr>\n",
       "    <tr>\n",
       "      <th>2</th>\n",
       "      <td>1.080619</td>\n",
       "      <td>capital_gain</td>\n",
       "    </tr>\n",
       "    <tr>\n",
       "      <th>3</th>\n",
       "      <td>1.077404</td>\n",
       "      <td>capital_loss</td>\n",
       "    </tr>\n",
       "    <tr>\n",
       "      <th>4</th>\n",
       "      <td>6.918160</td>\n",
       "      <td>hours_per_week</td>\n",
       "    </tr>\n",
       "    <tr>\n",
       "      <th>5</th>\n",
       "      <td>1.519501</td>\n",
       "      <td>salary</td>\n",
       "    </tr>\n",
       "  </tbody>\n",
       "</table>\n",
       "</div>"
      ],
      "text/plain": [
       "        vif        Features\n",
       "0  6.218057             age\n",
       "1  3.480254          fnlwgt\n",
       "2  1.080619    capital_gain\n",
       "3  1.077404    capital_loss\n",
       "4  6.918160  hours_per_week\n",
       "5  1.519501          salary"
      ]
     },
     "execution_count": 178,
     "metadata": {},
     "output_type": "execute_result"
    }
   ],
   "source": [
    "vif"
   ]
  },
  {
   "cell_type": "code",
   "execution_count": 179,
   "id": "64877be0",
   "metadata": {},
   "outputs": [
    {
     "data": {
      "text/plain": [
       "age               0.234037\n",
       "fnlwgt           -0.009463\n",
       "capital_gain      0.223329\n",
       "capital_loss      0.150526\n",
       "hours_per_week    0.229689\n",
       "salary            1.000000\n",
       "dtype: float64"
      ]
     },
     "execution_count": 179,
     "metadata": {},
     "output_type": "execute_result"
    }
   ],
   "source": [
    "continuous_columns.corrwith(categorical_columns['salary'])"
   ]
  },
  {
   "cell_type": "code",
   "execution_count": 180,
   "id": "d5ddf4ac",
   "metadata": {},
   "outputs": [
    {
     "data": {
      "text/plain": [
       "<AxesSubplot: >"
      ]
     },
     "execution_count": 180,
     "metadata": {},
     "output_type": "execute_result"
    },
    {
     "data": {
      "image/png": "[encoded data removed]",
      "text/plain": [
       "<Figure size 2200x700 with 2 Axes>"
      ]
     },
     "metadata": {},
     "output_type": "display_data"
    }
   ],
   "source": [
    "plt.figure(figsize=(22,7)) # ploting the heat map\n",
    "sns.heatmap(continuous_columns.corr(),annot=True,linewidths=0.1,linecolor=\"black\",fmt=\"0.2f\")"
   ]
  },
  {
   "cell_type": "code",
   "execution_count": 181,
   "id": "e6625a44",
   "metadata": {},
   "outputs": [],
   "source": [
    "from sklearn. feature_selection import SelectKBest, f_classif"
   ]
  },
  {
   "cell_type": "code",
   "execution_count": 182,
   "id": "3fa03e6a",
   "metadata": {},
   "outputs": [],
   "source": [
    "# Defining a function to find the statistical relationship with all the categorical variables\n",
    "def FunctionAnova(inpData, TargetVariable, categorical_col):\n",
    "    from scipy.stats import f_oneway\n",
    "\n",
    "    # Creating an empty list of final selected predictors\n",
    "    SelectedPredictors=[]\n",
    "    \n",
    "    print('##### ANOVA Results ##### \\n')\n",
    "    for predictor in categorical_col:\n",
    "        CategoryGroupLists=inpData.groupby(predictor)[TargetVariable].apply(list)\n",
    "        AnovaResults = f_oneway(*CategoryGroupLists)\n",
    "        \n",
    "        # If the ANOVA P-Value is <0.05, that means we reject H0\n",
    "        if (AnovaResults[1] < 0.05):\n",
    "            print(predictor, 'is correlated with', TargetVariable, '| P-Value:', AnovaResults[1])\n",
    "            SelectedPredictors.append(predictor)\n",
    "        else:\n",
    "            print(predictor, 'is NOT correlated with', TargetVariable, '| P-Value:', AnovaResults[1])\n",
    "    \n",
    "    return(SelectedPredictors)"
   ]
  },
  {
   "cell_type": "code",
   "execution_count": 183,
   "id": "f9bf3bde",
   "metadata": {},
   "outputs": [
    {
     "name": "stdout",
     "output_type": "stream",
     "text": [
      "##### ANOVA Results ##### \n",
      "\n",
      "age is correlated with salary | P-Value: 0.0\n",
      "fnlwgt is correlated with salary | P-Value: 1.5629979058448005e-18\n",
      "capital_gain is correlated with salary | P-Value: 0.0\n",
      "capital_loss is correlated with salary | P-Value: 0.0\n",
      "hours_per_week is correlated with salary | P-Value: 0.0\n",
      "salary is correlated with salary | P-Value: 0.0\n"
     ]
    },
    {
     "data": {
      "text/plain": [
       "['age', 'fnlwgt', 'capital_gain', 'capital_loss', 'hours_per_week', 'salary']"
      ]
     },
     "execution_count": 183,
     "metadata": {},
     "output_type": "execute_result"
    }
   ],
   "source": [
    "FunctionAnova(inpData=continuous_columns, \n",
    "              TargetVariable='salary', \n",
    "              categorical_col=continuous_columns)"
   ]
  },
  {
   "cell_type": "markdown",
   "id": "48339ceb",
   "metadata": {},
   "source": [
    "# Visual Distribution for continuous predictors\n",
    "- displot --> skewness\n",
    "- box plot --> outlires "
   ]
  },
  {
   "cell_type": "markdown",
   "id": "861db95e",
   "metadata": {},
   "source": [
    "# 1 age"
   ]
  },
  {
   "cell_type": "code",
   "execution_count": 184,
   "id": "fe7e5a71",
   "metadata": {},
   "outputs": [
    {
     "data": {
      "text/plain": [
       "<AxesSubplot: xlabel='age', ylabel='Density'>"
      ]
     },
     "execution_count": 184,
     "metadata": {},
     "output_type": "execute_result"
    },
    {
     "data": {
      "image/png": "[encoded data removed]",
      "text/plain": [
       "<Figure size 640x480 with 1 Axes>"
      ]
     },
     "metadata": {},
     "output_type": "display_data"
    }
   ],
   "source": [
    "\n",
    "sns.distplot(continuous_columns['age'])"
   ]
  },
  {
   "cell_type": "code",
   "execution_count": 185,
   "id": "5c32b52e",
   "metadata": {},
   "outputs": [
    {
     "data": {
      "text/plain": [
       "<AxesSubplot: >"
      ]
     },
     "execution_count": 185,
     "metadata": {},
     "output_type": "execute_result"
    },
    {
     "data": {
      "image/png": "[encoded data removed]",
      "text/plain": [
       "<Figure size 640x480 with 1 Axes>"
      ]
     },
     "metadata": {},
     "output_type": "display_data"
    }
   ],
   "source": [
    "sns.boxplot(continuous_columns['age'])"
   ]
  },
  {
   "cell_type": "markdown",
   "id": "3b7d39a6",
   "metadata": {},
   "source": [
    "# 2 fnlwgt "
   ]
  },
  {
   "cell_type": "code",
   "execution_count": 186,
   "id": "e5873367",
   "metadata": {},
   "outputs": [
    {
     "data": {
      "text/plain": [
       "<AxesSubplot: xlabel='fnlwgt', ylabel='Density'>"
      ]
     },
     "execution_count": 186,
     "metadata": {},
     "output_type": "execute_result"
    },
    {
     "data": {
      "image/png": "[encoded data removed]",
      "text/plain": [
       "<Figure size 640x480 with 1 Axes>"
      ]
     },
     "metadata": {},
     "output_type": "display_data"
    }
   ],
   "source": [
    "sns.distplot(continuous_columns['fnlwgt'])"
   ]
  },
  {
   "cell_type": "code",
   "execution_count": 187,
   "id": "9f9c37d8",
   "metadata": {},
   "outputs": [
    {
     "data": {
      "text/plain": [
       "<AxesSubplot: >"
      ]
     },
     "execution_count": 187,
     "metadata": {},
     "output_type": "execute_result"
    },
    {
     "data": {
      "image/png": "[encoded data removed]",
      "text/plain": [
       "<Figure size 640x480 with 1 Axes>"
      ]
     },
     "metadata": {},
     "output_type": "display_data"
    }
   ],
   "source": [
    "sns.boxplot(continuous_columns['fnlwgt'])"
   ]
  },
  {
   "cell_type": "markdown",
   "id": "c8915129",
   "metadata": {},
   "source": [
    "# 3  capital-gain"
   ]
  },
  {
   "cell_type": "code",
   "execution_count": 188,
   "id": "18278732",
   "metadata": {},
   "outputs": [
    {
     "data": {
      "text/plain": [
       "<AxesSubplot: xlabel='capital_gain', ylabel='Density'>"
      ]
     },
     "execution_count": 188,
     "metadata": {},
     "output_type": "execute_result"
    },
    {
     "data": {
      "image/png": "[encoded data removed]",
      "text/plain": [
       "<Figure size 640x480 with 1 Axes>"
      ]
     },
     "metadata": {},
     "output_type": "display_data"
    }
   ],
   "source": [
    "sns.distplot(continuous_columns['capital_gain'])"
   ]
  },
  {
   "cell_type": "code",
   "execution_count": 189,
   "id": "ac9090a3",
   "metadata": {},
   "outputs": [
    {
     "data": {
      "text/plain": [
       "<AxesSubplot: >"
      ]
     },
     "execution_count": 189,
     "metadata": {},
     "output_type": "execute_result"
    },
    {
     "data": {
      "image/png": "[encoded data removed]",
      "text/plain": [
       "<Figure size 640x480 with 1 Axes>"
      ]
     },
     "metadata": {},
     "output_type": "display_data"
    }
   ],
   "source": [
    "sns.boxplot(continuous_columns['capital_gain'])"
   ]
  },
  {
   "cell_type": "markdown",
   "id": "a468b289",
   "metadata": {},
   "source": [
    "# 4 capital-loss"
   ]
  },
  {
   "cell_type": "code",
   "execution_count": 190,
   "id": "f05abfb5",
   "metadata": {},
   "outputs": [
    {
     "data": {
      "text/plain": [
       "<AxesSubplot: xlabel='capital_loss', ylabel='Density'>"
      ]
     },
     "execution_count": 190,
     "metadata": {},
     "output_type": "execute_result"
    },
    {
     "data": {
      "image/png": "[encoded data removed]",
      "text/plain": [
       "<Figure size 640x480 with 1 Axes>"
      ]
     },
     "metadata": {},
     "output_type": "display_data"
    }
   ],
   "source": [
    "sns.distplot(continuous_columns['capital_loss'])"
   ]
  },
  {
   "cell_type": "code",
   "execution_count": 191,
   "id": "d02b8b24",
   "metadata": {},
   "outputs": [
    {
     "data": {
      "text/plain": [
       "<AxesSubplot: >"
      ]
     },
     "execution_count": 191,
     "metadata": {},
     "output_type": "execute_result"
    },
    {
     "data": {
      "image/png": "[encoded data removed]",
      "text/plain": [
       "<Figure size 640x480 with 1 Axes>"
      ]
     },
     "metadata": {},
     "output_type": "display_data"
    }
   ],
   "source": [
    "sns.boxplot(continuous_columns['capital_loss'])"
   ]
  },
  {
   "cell_type": "markdown",
   "id": "f86c6306",
   "metadata": {},
   "source": [
    "# 5 hours-per-week"
   ]
  },
  {
   "cell_type": "code",
   "execution_count": 192,
   "id": "41bd1212",
   "metadata": {},
   "outputs": [
    {
     "data": {
      "text/plain": [
       "<AxesSubplot: xlabel='hours_per_week', ylabel='Density'>"
      ]
     },
     "execution_count": 192,
     "metadata": {},
     "output_type": "execute_result"
    },
    {
     "data": {
      "image/png": "[encoded data removed]",
      "text/plain": [
       "<Figure size 640x480 with 1 Axes>"
      ]
     },
     "metadata": {},
     "output_type": "display_data"
    }
   ],
   "source": [
    "sns.distplot(continuous_columns['hours_per_week'])"
   ]
  },
  {
   "cell_type": "code",
   "execution_count": 193,
   "id": "a95a4ae7",
   "metadata": {},
   "outputs": [
    {
     "data": {
      "text/plain": [
       "<AxesSubplot: >"
      ]
     },
     "execution_count": 193,
     "metadata": {},
     "output_type": "execute_result"
    },
    {
     "data": {
      "image/png": "[encoded data removed]",
      "text/plain": [
       "<Figure size 640x480 with 1 Axes>"
      ]
     },
     "metadata": {},
     "output_type": "display_data"
    }
   ],
   "source": [
    "sns.boxplot(continuous_columns['hours_per_week'])"
   ]
  },
  {
   "cell_type": "markdown",
   "id": "52d7a31e",
   "metadata": {},
   "source": [
    "# skewness treatment \n",
    "### for the below columns \n",
    "1) age  ---> PowerTransformer--> box-cox <br>\n",
    "\n",
    "2) capital-gain ---> PowerTransformer-->yeo-johnson <br>   \n",
    "3) capital-loss---> PowerTransformer-->  yeo-johnson<br>"
   ]
  },
  {
   "cell_type": "markdown",
   "id": "03ddb853",
   "metadata": {},
   "source": [
    "# 1"
   ]
  },
  {
   "cell_type": "code",
   "execution_count": 194,
   "id": "4a1a6827",
   "metadata": {},
   "outputs": [],
   "source": [
    "from sklearn.preprocessing import PowerTransformer\n",
    "scaler = PowerTransformer (method='box-cox')\n",
    "continuous_columns['age'] = scaler.fit_transform(continuous_columns[['age']].values)"
   ]
  },
  {
   "cell_type": "code",
   "execution_count": 195,
   "id": "26c88e42",
   "metadata": {},
   "outputs": [
    {
     "data": {
      "text/plain": [
       "-0.016122155859744178"
      ]
     },
     "execution_count": 195,
     "metadata": {},
     "output_type": "execute_result"
    }
   ],
   "source": [
    "continuous_columns[ 'age'].skew()"
   ]
  },
  {
   "cell_type": "code",
   "execution_count": 196,
   "id": "523caa86",
   "metadata": {},
   "outputs": [
    {
     "data": {
      "text/plain": [
       "<AxesSubplot: >"
      ]
     },
     "execution_count": 196,
     "metadata": {},
     "output_type": "execute_result"
    },
    {
     "data": {
      "image/png": "[encoded data removed]",
      "text/plain": [
       "<Figure size 640x480 with 1 Axes>"
      ]
     },
     "metadata": {},
     "output_type": "display_data"
    }
   ],
   "source": [
    "sns.boxplot(continuous_columns['age']) # Final"
   ]
  },
  {
   "cell_type": "markdown",
   "id": "24ec23c7",
   "metadata": {},
   "source": [
    "# 2"
   ]
  },
  {
   "cell_type": "code",
   "execution_count": 197,
   "id": "4c5bbfb4",
   "metadata": {},
   "outputs": [],
   "source": [
    "from sklearn.preprocessing import PowerTransformer\n",
    "scaler = PowerTransformer (method='yeo-johnson')\n",
    "continuous_columns['capital_gain'] = scaler.fit_transform(continuous_columns[['capital_gain']].values)"
   ]
  },
  {
   "cell_type": "code",
   "execution_count": 198,
   "id": "843b5cdb",
   "metadata": {},
   "outputs": [
    {
     "data": {
      "text/plain": [
       "3.0162831749223002"
      ]
     },
     "execution_count": 198,
     "metadata": {},
     "output_type": "execute_result"
    }
   ],
   "source": [
    "continuous_columns['capital_gain'].skew()"
   ]
  },
  {
   "cell_type": "markdown",
   "id": "548f2f61",
   "metadata": {},
   "source": [
    "# 3"
   ]
  },
  {
   "cell_type": "code",
   "execution_count": 199,
   "id": "48de60d3",
   "metadata": {},
   "outputs": [],
   "source": [
    "from sklearn.preprocessing import PowerTransformer\n",
    "scaler = PowerTransformer (method='yeo-johnson')\n",
    "continuous_columns['capital_loss'] = scaler.fit_transform(continuous_columns[['capital_loss']].values)"
   ]
  },
  {
   "cell_type": "code",
   "execution_count": 200,
   "id": "763d37ea",
   "metadata": {},
   "outputs": [
    {
     "data": {
      "text/plain": [
       "4.299587185399981"
      ]
     },
     "execution_count": 200,
     "metadata": {},
     "output_type": "execute_result"
    }
   ],
   "source": [
    "continuous_columns['capital_loss'].skew()"
   ]
  },
  {
   "cell_type": "code",
   "execution_count": 201,
   "id": "c5ce75dc",
   "metadata": {},
   "outputs": [],
   "source": [
    "from sklearn.preprocessing import PowerTransformer\n",
    "scaler = PowerTransformer (method='yeo-johnson')\n",
    "continuous_columns['fnlwgt'] = scaler.fit_transform(continuous_columns[['fnlwgt']].values)"
   ]
  },
  {
   "cell_type": "code",
   "execution_count": 202,
   "id": "98765a12",
   "metadata": {},
   "outputs": [
    {
     "data": {
      "text/plain": [
       "0.016901991421126465"
      ]
     },
     "execution_count": 202,
     "metadata": {},
     "output_type": "execute_result"
    }
   ],
   "source": [
    "continuous_columns['fnlwgt'].skew()"
   ]
  },
  {
   "cell_type": "code",
   "execution_count": 203,
   "id": "e8044eb5",
   "metadata": {},
   "outputs": [],
   "source": [
    "X = continuous_columns.drop('salary', axis=1)\n",
    "y = continuous_columns.salary"
   ]
  },
  {
   "cell_type": "code",
   "execution_count": 204,
   "id": "06c619b5",
   "metadata": {},
   "outputs": [],
   "source": [
    "from statsmodels.stats.outliers_influence import variance_inflation_factor\n",
    "#Finding variance inflation factor in each scaled column i.e X_scaled.shape [1] (1/(1-R2))\n",
    "vif = pd.DataFrame()\n",
    "vif[\"vif\"]= [variance_inflation_factor (continuous_columns, i) for i in range (continuous_columns.shape[1])]\n",
    "vif[\"Features\"] = continuous_columns. columns\n",
    "#vif must be done after scaling the data \n",
    "#Let's check the values"
   ]
  },
  {
   "cell_type": "code",
   "execution_count": 205,
   "id": "e026af1b",
   "metadata": {},
   "outputs": [
    {
     "data": {
      "text/html": [
       "<div>\n",
       "<style scoped>\n",
       "    .dataframe tbody tr th:only-of-type {\n",
       "        vertical-align: middle;\n",
       "    }\n",
       "\n",
       "    .dataframe tbody tr th {\n",
       "        vertical-align: top;\n",
       "    }\n",
       "\n",
       "    .dataframe thead th {\n",
       "        text-align: right;\n",
       "    }\n",
       "</style>\n",
       "<table border=\"1\" class=\"dataframe\">\n",
       "  <thead>\n",
       "    <tr style=\"text-align: right;\">\n",
       "      <th></th>\n",
       "      <th>vif</th>\n",
       "      <th>Features</th>\n",
       "    </tr>\n",
       "  </thead>\n",
       "  <tbody>\n",
       "    <tr>\n",
       "      <th>0</th>\n",
       "      <td>1.077386</td>\n",
       "      <td>age</td>\n",
       "    </tr>\n",
       "    <tr>\n",
       "      <th>1</th>\n",
       "      <td>1.005005</td>\n",
       "      <td>fnlwgt</td>\n",
       "    </tr>\n",
       "    <tr>\n",
       "      <th>2</th>\n",
       "      <td>1.089613</td>\n",
       "      <td>capital_gain</td>\n",
       "    </tr>\n",
       "    <tr>\n",
       "      <th>3</th>\n",
       "      <td>1.030840</td>\n",
       "      <td>capital_loss</td>\n",
       "    </tr>\n",
       "    <tr>\n",
       "      <th>4</th>\n",
       "      <td>1.426078</td>\n",
       "      <td>hours_per_week</td>\n",
       "    </tr>\n",
       "    <tr>\n",
       "      <th>5</th>\n",
       "      <td>1.599966</td>\n",
       "      <td>salary</td>\n",
       "    </tr>\n",
       "  </tbody>\n",
       "</table>\n",
       "</div>"
      ],
      "text/plain": [
       "        vif        Features\n",
       "0  1.077386             age\n",
       "1  1.005005          fnlwgt\n",
       "2  1.089613    capital_gain\n",
       "3  1.030840    capital_loss\n",
       "4  1.426078  hours_per_week\n",
       "5  1.599966          salary"
      ]
     },
     "execution_count": 205,
     "metadata": {},
     "output_type": "execute_result"
    }
   ],
   "source": [
    "vif"
   ]
  },
  {
   "cell_type": "markdown",
   "id": "4fd45579",
   "metadata": {},
   "source": [
    "# Select the best predictors  Using SelectKBest technique"
   ]
  },
  {
   "cell_type": "code",
   "execution_count": 206,
   "id": "e3b93934",
   "metadata": {},
   "outputs": [
    {
     "name": "stdout",
     "output_type": "stream",
     "text": [
      "     Feature_Name        Score\n",
      "2    capital_gain  2482.512830\n",
      "0             age  2441.170993\n",
      "4  hours_per_week  1813.386282\n",
      "3    capital_loss   638.575003\n"
     ]
    }
   ],
   "source": [
    "best_features = SelectKBest(score_func=f_classif, k=4) # k means how many feature we want to select from  out off\n",
    "fit= best_features.fit (X,y)\n",
    "\n",
    "df_scores = pd.DataFrame (fit.scores_)\n",
    "df_columns= pd.DataFrame (X.columns)\n",
    "#concatenate dataframes\n",
    "feature_scores = pd.concat([df_columns, df_scores], axis=1)\n",
    "feature_scores.columns = ['Feature_Name', 'Score'] # name output columns\n",
    "\n",
    "print (feature_scores.nlargest (4, 'Score')) # print 17 best features"
   ]
  },
  {
   "cell_type": "code",
   "execution_count": 207,
   "id": "a8d4d0c2",
   "metadata": {},
   "outputs": [],
   "source": [
    "continuous_columns.drop(columns=['fnlwgt'],axis=1,inplace=True)"
   ]
  },
  {
   "cell_type": "markdown",
   "id": "eda2e141",
   "metadata": {},
   "source": [
    "# Selecting final predictors for Machine Learning model"
   ]
  },
  {
   "cell_type": "code",
   "execution_count": 208,
   "id": "f4010315",
   "metadata": {},
   "outputs": [],
   "source": [
    "SelectedColumns=[df_dummies.columns,continuous_columns.columns]"
   ]
  },
  {
   "cell_type": "code",
   "execution_count": 209,
   "id": "93b4874e",
   "metadata": {},
   "outputs": [
    {
     "data": {
      "text/plain": [
       "[Index(['workclass_Local_gov', 'workclass_Never_worked', 'workclass_Private',\n",
       "        'workclass_Self_emp_inc', 'workclass_Self_emp_not_inc',\n",
       "        'workclass_State_gov', 'workclass_Without_pay', 'education_Bachelors',\n",
       "        'education_College', 'education_Doctorate', 'education_Masters',\n",
       "        'education_school', 'marital_status_Married_AF_spouse',\n",
       "        'marital_status_Married_civ_spouse',\n",
       "        'marital_status_Married_spouse_absent', 'marital_status_Never_married',\n",
       "        'marital_status_Separated', 'marital_status_Widowed',\n",
       "        'occupation_Armed_Forces', 'occupation_Craft_repair',\n",
       "        'occupation_Exec_managerial', 'occupation_Farming_fishing',\n",
       "        'occupation_Handlers_cleaners', 'occupation_Machine_op_inspct',\n",
       "        'occupation_Other_service', 'occupation_Others_occupation',\n",
       "        'occupation_Priv_house_serv', 'occupation_Prof_specialty',\n",
       "        'occupation_Protective_serv', 'occupation_Sales',\n",
       "        'occupation_Tech_support', 'occupation_Transport_moving',\n",
       "        'relationship_Not_in_family', 'relationship_Other_relative',\n",
       "        'relationship_Own_child', 'relationship_Unmarried', 'relationship_Wife',\n",
       "        'race_Asian_Pac_Islander', 'race_Black', 'race_Other', 'race_White',\n",
       "        'sex_Male', 'country_Canada', 'country_China', 'country_Columbia',\n",
       "        'country_Cuba', 'country_Dominican_Republic', 'country_Ecuador',\n",
       "        'country_El_Salvador', 'country_England', 'country_France',\n",
       "        'country_Germany', 'country_Greece', 'country_Guatemala',\n",
       "        'country_Haiti', 'country_Holand_Netherlands', 'country_Honduras',\n",
       "        'country_Hong', 'country_Hungary', 'country_India', 'country_Iran',\n",
       "        'country_Ireland', 'country_Italy', 'country_Jamaica', 'country_Japan',\n",
       "        'country_Laos', 'country_Mexico', 'country_Nicaragua',\n",
       "        'country_Others_country', 'country_Outlying_US_Guam_USVI_etc',\n",
       "        'country_Peru', 'country_Philippines', 'country_Poland',\n",
       "        'country_Portugal', 'country_Puerto_Rico', 'country_Scotland',\n",
       "        'country_South', 'country_Taiwan', 'country_Thailand',\n",
       "        'country_Trinadad_Tobago', 'country_United_States', 'country_Vietnam',\n",
       "        'country_Yugoslavia'],\n",
       "       dtype='object'),\n",
       " Index(['age', 'capital_gain', 'capital_loss', 'hours_per_week', 'salary'], dtype='object')]"
      ]
     },
     "execution_count": 209,
     "metadata": {},
     "output_type": "execute_result"
    }
   ],
   "source": [
    "SelectedColumns"
   ]
  },
  {
   "cell_type": "code",
   "execution_count": null,
   "id": "fdb5891e",
   "metadata": {},
   "outputs": [],
   "source": []
  },
  {
   "cell_type": "code",
   "execution_count": 210,
   "id": "1e720a46",
   "metadata": {},
   "outputs": [],
   "source": [
    "# Concatenation\n",
    "features_for_ml= dfcat2 = pd.concat([continuous_columns,df_dummies],axis=1)"
   ]
  },
  {
   "cell_type": "code",
   "execution_count": 211,
   "id": "80ff49f4",
   "metadata": {},
   "outputs": [],
   "source": [
    "x = features_for_ml.drop (columns = ['salary'])\n",
    "y = features_for_ml[ 'salary']"
   ]
  },
  {
   "cell_type": "code",
   "execution_count": 212,
   "id": "01048fd6",
   "metadata": {},
   "outputs": [
    {
     "data": {
      "text/html": [
       "<div>\n",
       "<style scoped>\n",
       "    .dataframe tbody tr th:only-of-type {\n",
       "        vertical-align: middle;\n",
       "    }\n",
       "\n",
       "    .dataframe tbody tr th {\n",
       "        vertical-align: top;\n",
       "    }\n",
       "\n",
       "    .dataframe thead th {\n",
       "        text-align: right;\n",
       "    }\n",
       "</style>\n",
       "<table border=\"1\" class=\"dataframe\">\n",
       "  <thead>\n",
       "    <tr style=\"text-align: right;\">\n",
       "      <th></th>\n",
       "      <th>age</th>\n",
       "      <th>capital_gain</th>\n",
       "      <th>capital_loss</th>\n",
       "      <th>hours_per_week</th>\n",
       "      <th>workclass_Local_gov</th>\n",
       "      <th>workclass_Never_worked</th>\n",
       "      <th>workclass_Private</th>\n",
       "      <th>workclass_Self_emp_inc</th>\n",
       "      <th>workclass_Self_emp_not_inc</th>\n",
       "      <th>workclass_State_gov</th>\n",
       "      <th>...</th>\n",
       "      <th>country_Portugal</th>\n",
       "      <th>country_Puerto_Rico</th>\n",
       "      <th>country_Scotland</th>\n",
       "      <th>country_South</th>\n",
       "      <th>country_Taiwan</th>\n",
       "      <th>country_Thailand</th>\n",
       "      <th>country_Trinadad_Tobago</th>\n",
       "      <th>country_United_States</th>\n",
       "      <th>country_Vietnam</th>\n",
       "      <th>country_Yugoslavia</th>\n",
       "    </tr>\n",
       "  </thead>\n",
       "  <tbody>\n",
       "    <tr>\n",
       "      <th>0</th>\n",
       "      <td>0.176213</td>\n",
       "      <td>3.317526</td>\n",
       "      <td>-0.22121</td>\n",
       "      <td>40</td>\n",
       "      <td>0</td>\n",
       "      <td>0</td>\n",
       "      <td>0</td>\n",
       "      <td>0</td>\n",
       "      <td>0</td>\n",
       "      <td>1</td>\n",
       "      <td>...</td>\n",
       "      <td>0</td>\n",
       "      <td>0</td>\n",
       "      <td>0</td>\n",
       "      <td>0</td>\n",
       "      <td>0</td>\n",
       "      <td>0</td>\n",
       "      <td>0</td>\n",
       "      <td>1</td>\n",
       "      <td>0</td>\n",
       "      <td>0</td>\n",
       "    </tr>\n",
       "    <tr>\n",
       "      <th>1</th>\n",
       "      <td>0.891511</td>\n",
       "      <td>-0.301425</td>\n",
       "      <td>-0.22121</td>\n",
       "      <td>13</td>\n",
       "      <td>0</td>\n",
       "      <td>0</td>\n",
       "      <td>0</td>\n",
       "      <td>0</td>\n",
       "      <td>1</td>\n",
       "      <td>0</td>\n",
       "      <td>...</td>\n",
       "      <td>0</td>\n",
       "      <td>0</td>\n",
       "      <td>0</td>\n",
       "      <td>0</td>\n",
       "      <td>0</td>\n",
       "      <td>0</td>\n",
       "      <td>0</td>\n",
       "      <td>1</td>\n",
       "      <td>0</td>\n",
       "      <td>0</td>\n",
       "    </tr>\n",
       "    <tr>\n",
       "      <th>2</th>\n",
       "      <td>0.103207</td>\n",
       "      <td>-0.301425</td>\n",
       "      <td>-0.22121</td>\n",
       "      <td>40</td>\n",
       "      <td>0</td>\n",
       "      <td>0</td>\n",
       "      <td>1</td>\n",
       "      <td>0</td>\n",
       "      <td>0</td>\n",
       "      <td>0</td>\n",
       "      <td>...</td>\n",
       "      <td>0</td>\n",
       "      <td>0</td>\n",
       "      <td>0</td>\n",
       "      <td>0</td>\n",
       "      <td>0</td>\n",
       "      <td>0</td>\n",
       "      <td>0</td>\n",
       "      <td>1</td>\n",
       "      <td>0</td>\n",
       "      <td>0</td>\n",
       "    </tr>\n",
       "    <tr>\n",
       "      <th>3</th>\n",
       "      <td>1.063801</td>\n",
       "      <td>-0.301425</td>\n",
       "      <td>-0.22121</td>\n",
       "      <td>40</td>\n",
       "      <td>0</td>\n",
       "      <td>0</td>\n",
       "      <td>1</td>\n",
       "      <td>0</td>\n",
       "      <td>0</td>\n",
       "      <td>0</td>\n",
       "      <td>...</td>\n",
       "      <td>0</td>\n",
       "      <td>0</td>\n",
       "      <td>0</td>\n",
       "      <td>0</td>\n",
       "      <td>0</td>\n",
       "      <td>0</td>\n",
       "      <td>0</td>\n",
       "      <td>1</td>\n",
       "      <td>0</td>\n",
       "      <td>0</td>\n",
       "    </tr>\n",
       "    <tr>\n",
       "      <th>4</th>\n",
       "      <td>-0.730707</td>\n",
       "      <td>-0.301425</td>\n",
       "      <td>-0.22121</td>\n",
       "      <td>40</td>\n",
       "      <td>0</td>\n",
       "      <td>0</td>\n",
       "      <td>1</td>\n",
       "      <td>0</td>\n",
       "      <td>0</td>\n",
       "      <td>0</td>\n",
       "      <td>...</td>\n",
       "      <td>0</td>\n",
       "      <td>0</td>\n",
       "      <td>0</td>\n",
       "      <td>0</td>\n",
       "      <td>0</td>\n",
       "      <td>0</td>\n",
       "      <td>0</td>\n",
       "      <td>0</td>\n",
       "      <td>0</td>\n",
       "      <td>0</td>\n",
       "    </tr>\n",
       "    <tr>\n",
       "      <th>...</th>\n",
       "      <td>...</td>\n",
       "      <td>...</td>\n",
       "      <td>...</td>\n",
       "      <td>...</td>\n",
       "      <td>...</td>\n",
       "      <td>...</td>\n",
       "      <td>...</td>\n",
       "      <td>...</td>\n",
       "      <td>...</td>\n",
       "      <td>...</td>\n",
       "      <td>...</td>\n",
       "      <td>...</td>\n",
       "      <td>...</td>\n",
       "      <td>...</td>\n",
       "      <td>...</td>\n",
       "      <td>...</td>\n",
       "      <td>...</td>\n",
       "      <td>...</td>\n",
       "      <td>...</td>\n",
       "      <td>...</td>\n",
       "      <td>...</td>\n",
       "    </tr>\n",
       "    <tr>\n",
       "      <th>32556</th>\n",
       "      <td>-0.827087</td>\n",
       "      <td>-0.301425</td>\n",
       "      <td>-0.22121</td>\n",
       "      <td>38</td>\n",
       "      <td>0</td>\n",
       "      <td>0</td>\n",
       "      <td>1</td>\n",
       "      <td>0</td>\n",
       "      <td>0</td>\n",
       "      <td>0</td>\n",
       "      <td>...</td>\n",
       "      <td>0</td>\n",
       "      <td>0</td>\n",
       "      <td>0</td>\n",
       "      <td>0</td>\n",
       "      <td>0</td>\n",
       "      <td>0</td>\n",
       "      <td>0</td>\n",
       "      <td>1</td>\n",
       "      <td>0</td>\n",
       "      <td>0</td>\n",
       "    </tr>\n",
       "    <tr>\n",
       "      <th>32557</th>\n",
       "      <td>0.247689</td>\n",
       "      <td>-0.301425</td>\n",
       "      <td>-0.22121</td>\n",
       "      <td>40</td>\n",
       "      <td>0</td>\n",
       "      <td>0</td>\n",
       "      <td>1</td>\n",
       "      <td>0</td>\n",
       "      <td>0</td>\n",
       "      <td>0</td>\n",
       "      <td>...</td>\n",
       "      <td>0</td>\n",
       "      <td>0</td>\n",
       "      <td>0</td>\n",
       "      <td>0</td>\n",
       "      <td>0</td>\n",
       "      <td>0</td>\n",
       "      <td>0</td>\n",
       "      <td>1</td>\n",
       "      <td>0</td>\n",
       "      <td>0</td>\n",
       "    </tr>\n",
       "    <tr>\n",
       "      <th>32558</th>\n",
       "      <td>1.333839</td>\n",
       "      <td>-0.301425</td>\n",
       "      <td>-0.22121</td>\n",
       "      <td>40</td>\n",
       "      <td>0</td>\n",
       "      <td>0</td>\n",
       "      <td>1</td>\n",
       "      <td>0</td>\n",
       "      <td>0</td>\n",
       "      <td>0</td>\n",
       "      <td>...</td>\n",
       "      <td>0</td>\n",
       "      <td>0</td>\n",
       "      <td>0</td>\n",
       "      <td>0</td>\n",
       "      <td>0</td>\n",
       "      <td>0</td>\n",
       "      <td>0</td>\n",
       "      <td>1</td>\n",
       "      <td>0</td>\n",
       "      <td>0</td>\n",
       "    </tr>\n",
       "    <tr>\n",
       "      <th>32559</th>\n",
       "      <td>-1.358545</td>\n",
       "      <td>-0.301425</td>\n",
       "      <td>-0.22121</td>\n",
       "      <td>20</td>\n",
       "      <td>0</td>\n",
       "      <td>0</td>\n",
       "      <td>1</td>\n",
       "      <td>0</td>\n",
       "      <td>0</td>\n",
       "      <td>0</td>\n",
       "      <td>...</td>\n",
       "      <td>0</td>\n",
       "      <td>0</td>\n",
       "      <td>0</td>\n",
       "      <td>0</td>\n",
       "      <td>0</td>\n",
       "      <td>0</td>\n",
       "      <td>0</td>\n",
       "      <td>1</td>\n",
       "      <td>0</td>\n",
       "      <td>0</td>\n",
       "    </tr>\n",
       "    <tr>\n",
       "      <th>32560</th>\n",
       "      <td>1.007286</td>\n",
       "      <td>3.317622</td>\n",
       "      <td>-0.22121</td>\n",
       "      <td>40</td>\n",
       "      <td>0</td>\n",
       "      <td>0</td>\n",
       "      <td>0</td>\n",
       "      <td>1</td>\n",
       "      <td>0</td>\n",
       "      <td>0</td>\n",
       "      <td>...</td>\n",
       "      <td>0</td>\n",
       "      <td>0</td>\n",
       "      <td>0</td>\n",
       "      <td>0</td>\n",
       "      <td>0</td>\n",
       "      <td>0</td>\n",
       "      <td>0</td>\n",
       "      <td>1</td>\n",
       "      <td>0</td>\n",
       "      <td>0</td>\n",
       "    </tr>\n",
       "  </tbody>\n",
       "</table>\n",
       "<p>32561 rows × 87 columns</p>\n",
       "</div>"
      ],
      "text/plain": [
       "            age  capital_gain  capital_loss  hours_per_week  \\\n",
       "0      0.176213      3.317526      -0.22121              40   \n",
       "1      0.891511     -0.301425      -0.22121              13   \n",
       "2      0.103207     -0.301425      -0.22121              40   \n",
       "3      1.063801     -0.301425      -0.22121              40   \n",
       "4     -0.730707     -0.301425      -0.22121              40   \n",
       "...         ...           ...           ...             ...   \n",
       "32556 -0.827087     -0.301425      -0.22121              38   \n",
       "32557  0.247689     -0.301425      -0.22121              40   \n",
       "32558  1.333839     -0.301425      -0.22121              40   \n",
       "32559 -1.358545     -0.301425      -0.22121              20   \n",
       "32560  1.007286      3.317622      -0.22121              40   \n",
       "\n",
       "       workclass_Local_gov  workclass_Never_worked  workclass_Private  \\\n",
       "0                        0                       0                  0   \n",
       "1                        0                       0                  0   \n",
       "2                        0                       0                  1   \n",
       "3                        0                       0                  1   \n",
       "4                        0                       0                  1   \n",
       "...                    ...                     ...                ...   \n",
       "32556                    0                       0                  1   \n",
       "32557                    0                       0                  1   \n",
       "32558                    0                       0                  1   \n",
       "32559                    0                       0                  1   \n",
       "32560                    0                       0                  0   \n",
       "\n",
       "       workclass_Self_emp_inc  workclass_Self_emp_not_inc  \\\n",
       "0                           0                           0   \n",
       "1                           0                           1   \n",
       "2                           0                           0   \n",
       "3                           0                           0   \n",
       "4                           0                           0   \n",
       "...                       ...                         ...   \n",
       "32556                       0                           0   \n",
       "32557                       0                           0   \n",
       "32558                       0                           0   \n",
       "32559                       0                           0   \n",
       "32560                       1                           0   \n",
       "\n",
       "       workclass_State_gov  ...  country_Portugal  country_Puerto_Rico  \\\n",
       "0                        1  ...                 0                    0   \n",
       "1                        0  ...                 0                    0   \n",
       "2                        0  ...                 0                    0   \n",
       "3                        0  ...                 0                    0   \n",
       "4                        0  ...                 0                    0   \n",
       "...                    ...  ...               ...                  ...   \n",
       "32556                    0  ...                 0                    0   \n",
       "32557                    0  ...                 0                    0   \n",
       "32558                    0  ...                 0                    0   \n",
       "32559                    0  ...                 0                    0   \n",
       "32560                    0  ...                 0                    0   \n",
       "\n",
       "       country_Scotland  country_South  country_Taiwan  country_Thailand  \\\n",
       "0                     0              0               0                 0   \n",
       "1                     0              0               0                 0   \n",
       "2                     0              0               0                 0   \n",
       "3                     0              0               0                 0   \n",
       "4                     0              0               0                 0   \n",
       "...                 ...            ...             ...               ...   \n",
       "32556                 0              0               0                 0   \n",
       "32557                 0              0               0                 0   \n",
       "32558                 0              0               0                 0   \n",
       "32559                 0              0               0                 0   \n",
       "32560                 0              0               0                 0   \n",
       "\n",
       "       country_Trinadad_Tobago  country_United_States  country_Vietnam  \\\n",
       "0                            0                      1                0   \n",
       "1                            0                      1                0   \n",
       "2                            0                      1                0   \n",
       "3                            0                      1                0   \n",
       "4                            0                      0                0   \n",
       "...                        ...                    ...              ...   \n",
       "32556                        0                      1                0   \n",
       "32557                        0                      1                0   \n",
       "32558                        0                      1                0   \n",
       "32559                        0                      1                0   \n",
       "32560                        0                      1                0   \n",
       "\n",
       "       country_Yugoslavia  \n",
       "0                       0  \n",
       "1                       0  \n",
       "2                       0  \n",
       "3                       0  \n",
       "4                       0  \n",
       "...                   ...  \n",
       "32556                   0  \n",
       "32557                   0  \n",
       "32558                   0  \n",
       "32559                   0  \n",
       "32560                   0  \n",
       "\n",
       "[32561 rows x 87 columns]"
      ]
     },
     "execution_count": 212,
     "metadata": {},
     "output_type": "execute_result"
    }
   ],
   "source": [
    "x"
   ]
  },
  {
   "cell_type": "code",
   "execution_count": 213,
   "id": "a6a34d0c",
   "metadata": {},
   "outputs": [
    {
     "name": "stdout",
     "output_type": "stream",
     "text": [
      "age\n",
      "capital_gain\n",
      "capital_loss\n",
      "hours_per_week\n",
      "salary\n",
      "workclass_Local_gov\n",
      "workclass_Never_worked\n",
      "workclass_Private\n",
      "workclass_Self_emp_inc\n",
      "workclass_Self_emp_not_inc\n",
      "workclass_State_gov\n",
      "workclass_Without_pay\n",
      "education_Bachelors\n",
      "education_College\n",
      "education_Doctorate\n",
      "education_Masters\n",
      "education_school\n",
      "marital_status_Married_AF_spouse\n",
      "marital_status_Married_civ_spouse\n",
      "marital_status_Married_spouse_absent\n",
      "marital_status_Never_married\n",
      "marital_status_Separated\n",
      "marital_status_Widowed\n",
      "occupation_Armed_Forces\n",
      "occupation_Craft_repair\n",
      "occupation_Exec_managerial\n",
      "occupation_Farming_fishing\n",
      "occupation_Handlers_cleaners\n",
      "occupation_Machine_op_inspct\n",
      "occupation_Other_service\n",
      "occupation_Others_occupation\n",
      "occupation_Priv_house_serv\n",
      "occupation_Prof_specialty\n",
      "occupation_Protective_serv\n",
      "occupation_Sales\n",
      "occupation_Tech_support\n",
      "occupation_Transport_moving\n",
      "relationship_Not_in_family\n",
      "relationship_Other_relative\n",
      "relationship_Own_child\n",
      "relationship_Unmarried\n",
      "relationship_Wife\n",
      "race_Asian_Pac_Islander\n",
      "race_Black\n",
      "race_Other\n",
      "race_White\n",
      "sex_Male\n",
      "country_Canada\n",
      "country_China\n",
      "country_Columbia\n",
      "country_Cuba\n",
      "country_Dominican_Republic\n",
      "country_Ecuador\n",
      "country_El_Salvador\n",
      "country_England\n",
      "country_France\n",
      "country_Germany\n",
      "country_Greece\n",
      "country_Guatemala\n",
      "country_Haiti\n",
      "country_Holand_Netherlands\n",
      "country_Honduras\n",
      "country_Hong\n",
      "country_Hungary\n",
      "country_India\n",
      "country_Iran\n",
      "country_Ireland\n",
      "country_Italy\n",
      "country_Jamaica\n",
      "country_Japan\n",
      "country_Laos\n",
      "country_Mexico\n",
      "country_Nicaragua\n",
      "country_Others_country\n",
      "country_Outlying_US_Guam_USVI_etc\n",
      "country_Peru\n",
      "country_Philippines\n",
      "country_Poland\n",
      "country_Portugal\n",
      "country_Puerto_Rico\n",
      "country_Scotland\n",
      "country_South\n",
      "country_Taiwan\n",
      "country_Thailand\n",
      "country_Trinadad_Tobago\n",
      "country_United_States\n",
      "country_Vietnam\n",
      "country_Yugoslavia\n"
     ]
    }
   ],
   "source": [
    "for i in features_for_ml:\n",
    "    print(i)\n"
   ]
  },
  {
   "cell_type": "markdown",
   "id": "9d8c2231",
   "metadata": {},
   "source": [
    "# Using SMOTE to balance the data set "
   ]
  },
  {
   "cell_type": "code",
   "execution_count": 214,
   "id": "e53497d8",
   "metadata": {},
   "outputs": [],
   "source": [
    "# pip install imblearn"
   ]
  },
  {
   "cell_type": "code",
   "execution_count": 215,
   "id": "42c458c2",
   "metadata": {},
   "outputs": [
    {
     "name": "stdout",
     "output_type": "stream",
     "text": [
      "(32561, 87) (32561,)\n",
      "(49440, 87) (49440,)\n"
     ]
    }
   ],
   "source": [
    "from imblearn.over_sampling import SMOTE\n",
    "\n",
    "\n",
    "print(x.shape,y.shape)\n",
    "oversample = SMOTE()\n",
    "f, l = oversample.fit_resample(x, y)\n",
    "print(f.shape,l.shape)"
   ]
  },
  {
   "cell_type": "code",
   "execution_count": 216,
   "id": "ee3d3af8",
   "metadata": {},
   "outputs": [
    {
     "data": {
      "text/plain": [
       "<AxesSubplot: xlabel='salary', ylabel='count'>"
      ]
     },
     "execution_count": 216,
     "metadata": {},
     "output_type": "execute_result"
    },
    {
     "data": {
      "image/png": "[encoded data removed]",
      "text/plain": [
       "<Figure size 640x480 with 1 Axes>"
      ]
     },
     "metadata": {},
     "output_type": "display_data"
    }
   ],
   "source": [
    "sns.countplot(x=l)"
   ]
  },
  {
   "cell_type": "code",
   "execution_count": 217,
   "id": "6922489b",
   "metadata": {},
   "outputs": [],
   "source": [
    "log_reg = LogisticRegression ()"
   ]
  },
  {
   "cell_type": "code",
   "execution_count": 218,
   "id": "3326bad6",
   "metadata": {},
   "outputs": [
    {
     "name": "stdout",
     "output_type": "stream",
     "text": [
      "accuracy_score:- 0.8443905070118662 Random state:- 46\n"
     ]
    }
   ],
   "source": [
    "maxacc=0\n",
    "maxrn=0\n",
    "\n",
    "for i in range(1,100):\n",
    "    x_train,x_test,y_train,y_test=train_test_split(f,l,test_size=.30,random_state=i)\n",
    "    log_reg.fit(x_train,y_train)\n",
    "    pred=log_reg.predict(x_test)\n",
    "    score=accuracy_score(pred,y_test)\n",
    "    if score>maxacc:\n",
    "        maxacc=score\n",
    "        maxrn=i\n",
    "print('accuracy_score:-',maxacc,'Random state:-',maxrn)"
   ]
  },
  {
   "cell_type": "code",
   "execution_count": 219,
   "id": "f5b66187",
   "metadata": {},
   "outputs": [],
   "source": [
    "x_train,x_test,y_train,y_test= train_test_split(f , l, test_size= 0.30, random_state = 70)"
   ]
  },
  {
   "cell_type": "code",
   "execution_count": 220,
   "id": "8c4496aa",
   "metadata": {},
   "outputs": [
    {
     "data": {
      "text/html": [
       "<style>#sk-container-id-1 {color: black;background-color: white;}#sk-container-id-1 pre{padding: 0;}#sk-container-id-1 div.sk-toggleable {background-color: white;}#sk-container-id-1 label.sk-toggleable__label {cursor: pointer;display: block;width: 100%;margin-bottom: 0;padding: 0.3em;box-sizing: border-box;text-align: center;}#sk-container-id-1 label.sk-toggleable__label-arrow:before {content: \"▸\";float: left;margin-right: 0.25em;color: #696969;}#sk-container-id-1 label.sk-toggleable__label-arrow:hover:before {color: black;}#sk-container-id-1 div.sk-estimator:hover label.sk-toggleable__label-arrow:before {color: black;}#sk-container-id-1 div.sk-toggleable__content {max-height: 0;max-width: 0;overflow: hidden;text-align: left;background-color: #f0f8ff;}#sk-container-id-1 div.sk-toggleable__content pre {margin: 0.2em;color: black;border-radius: 0.25em;background-color: #f0f8ff;}#sk-container-id-1 input.sk-toggleable__control:checked~div.sk-toggleable__content {max-height: 200px;max-width: 100%;overflow: auto;}#sk-container-id-1 input.sk-toggleable__control:checked~label.sk-toggleable__label-arrow:before {content: \"▾\";}#sk-container-id-1 div.sk-estimator input.sk-toggleable__control:checked~label.sk-toggleable__label {background-color: #d4ebff;}#sk-container-id-1 div.sk-label input.sk-toggleable__control:checked~label.sk-toggleable__label {background-color: #d4ebff;}#sk-container-id-1 input.sk-hidden--visually {border: 0;clip: rect(1px 1px 1px 1px);clip: rect(1px, 1px, 1px, 1px);height: 1px;margin: -1px;overflow: hidden;padding: 0;position: absolute;width: 1px;}#sk-container-id-1 div.sk-estimator {font-family: monospace;background-color: #f0f8ff;border: 1px dotted black;border-radius: 0.25em;box-sizing: border-box;margin-bottom: 0.5em;}#sk-container-id-1 div.sk-estimator:hover {background-color: #d4ebff;}#sk-container-id-1 div.sk-parallel-item::after {content: \"\";width: 100%;border-bottom: 1px solid gray;flex-grow: 1;}#sk-container-id-1 div.sk-label:hover label.sk-toggleable__label {background-color: #d4ebff;}#sk-container-id-1 div.sk-serial::before {content: \"\";position: absolute;border-left: 1px solid gray;box-sizing: border-box;top: 0;bottom: 0;left: 50%;z-index: 0;}#sk-container-id-1 div.sk-serial {display: flex;flex-direction: column;align-items: center;background-color: white;padding-right: 0.2em;padding-left: 0.2em;position: relative;}#sk-container-id-1 div.sk-item {position: relative;z-index: 1;}#sk-container-id-1 div.sk-parallel {display: flex;align-items: stretch;justify-content: center;background-color: white;position: relative;}#sk-container-id-1 div.sk-item::before, #sk-container-id-1 div.sk-parallel-item::before {content: \"\";position: absolute;border-left: 1px solid gray;box-sizing: border-box;top: 0;bottom: 0;left: 50%;z-index: -1;}#sk-container-id-1 div.sk-parallel-item {display: flex;flex-direction: column;z-index: 1;position: relative;background-color: white;}#sk-container-id-1 div.sk-parallel-item:first-child::after {align-self: flex-end;width: 50%;}#sk-container-id-1 div.sk-parallel-item:last-child::after {align-self: flex-start;width: 50%;}#sk-container-id-1 div.sk-parallel-item:only-child::after {width: 0;}#sk-container-id-1 div.sk-dashed-wrapped {border: 1px dashed gray;margin: 0 0.4em 0.5em 0.4em;box-sizing: border-box;padding-bottom: 0.4em;background-color: white;}#sk-container-id-1 div.sk-label label {font-family: monospace;font-weight: bold;display: inline-block;line-height: 1.2em;}#sk-container-id-1 div.sk-label-container {text-align: center;}#sk-container-id-1 div.sk-container {/* jupyter's `normalize.less` sets `[hidden] { display: none; }` but bootstrap.min.css set `[hidden] { display: none !important; }` so we also need the `!important` here to be able to override the default hidden behavior on the sphinx rendered scikit-learn.org. See: https://github.com/scikit-learn/scikit-learn/issues/21755 */display: inline-block !important;position: relative;}#sk-container-id-1 div.sk-text-repr-fallback {display: none;}</style><div id=\"sk-container-id-1\" class=\"sk-top-container\"><div class=\"sk-text-repr-fallback\"><pre>LogisticRegression()</pre><b>In a Jupyter environment, please rerun this cell to show the HTML representation or trust the notebook. <br />On GitHub, the HTML representation is unable to render, please try loading this page with nbviewer.org.</b></div><div class=\"sk-container\" hidden><div class=\"sk-item\"><div class=\"sk-estimator sk-toggleable\"><input class=\"sk-toggleable__control sk-hidden--visually\" id=\"sk-estimator-id-1\" type=\"checkbox\" checked><label for=\"sk-estimator-id-1\" class=\"sk-toggleable__label sk-toggleable__label-arrow\">LogisticRegression</label><div class=\"sk-toggleable__content\"><pre>LogisticRegression()</pre></div></div></div></div></div>"
      ],
      "text/plain": [
       "LogisticRegression()"
      ]
     },
     "execution_count": 220,
     "metadata": {},
     "output_type": "execute_result"
    }
   ],
   "source": [
    "log_reg.fit(x_train, y_train)"
   ]
  },
  {
   "cell_type": "code",
   "execution_count": 221,
   "id": "7a4e8c94",
   "metadata": {},
   "outputs": [],
   "source": [
    "from sklearn.metrics import classification_report"
   ]
  },
  {
   "cell_type": "code",
   "execution_count": 222,
   "id": "f18683af",
   "metadata": {},
   "outputs": [
    {
     "data": {
      "text/plain": [
       "array([1, 0, 1, ..., 1, 1, 1], dtype=int64)"
      ]
     },
     "execution_count": 222,
     "metadata": {},
     "output_type": "execute_result"
    }
   ],
   "source": [
    "y_pred = log_reg.predict(x_test)\n",
    "y_pred"
   ]
  },
  {
   "cell_type": "code",
   "execution_count": 223,
   "id": "24c4d514",
   "metadata": {},
   "outputs": [
    {
     "data": {
      "text/plain": [
       "0.8357605177993528"
      ]
     },
     "execution_count": 223,
     "metadata": {},
     "output_type": "execute_result"
    }
   ],
   "source": [
    "#Model Accuracy\n",
    "accuracy = accuracy_score(y_test,y_pred)\n",
    "accuracy"
   ]
  },
  {
   "cell_type": "code",
   "execution_count": 224,
   "id": "4be026ed",
   "metadata": {},
   "outputs": [
    {
     "data": {
      "text/plain": [
       "array([[6114, 1356],\n",
       "       [1080, 6282]], dtype=int64)"
      ]
     },
     "execution_count": 224,
     "metadata": {},
     "output_type": "execute_result"
    }
   ],
   "source": [
    "# Confusion Matrix\n",
    "conf_mat = confusion_matrix(y_test,y_pred)\n",
    "conf_mat"
   ]
  },
  {
   "cell_type": "code",
   "execution_count": 225,
   "id": "3df22736",
   "metadata": {},
   "outputs": [
    {
     "name": "stdout",
     "output_type": "stream",
     "text": [
      "              precision    recall  f1-score   support\n",
      "\n",
      "           0       0.85      0.82      0.83      7470\n",
      "           1       0.82      0.85      0.84      7362\n",
      "\n",
      "    accuracy                           0.84     14832\n",
      "   macro avg       0.84      0.84      0.84     14832\n",
      "weighted avg       0.84      0.84      0.84     14832\n",
      "\n"
     ]
    }
   ],
   "source": [
    "print (classification_report(y_test,y_pred))"
   ]
  },
  {
   "cell_type": "code",
   "execution_count": 226,
   "id": "9c74b0db",
   "metadata": {},
   "outputs": [],
   "source": [
    "# ROC Curve\n",
    "from sklearn.metrics import accuracy_score, confusion_matrix, roc_curve, roc_auc_score\n",
    "fpr, tpr, thresholds = roc_curve (y_test, y_pred)"
   ]
  },
  {
   "cell_type": "code",
   "execution_count": 227,
   "id": "1a3c7899",
   "metadata": {},
   "outputs": [
    {
     "name": "stdout",
     "output_type": "stream",
     "text": [
      "Threshold = [2 1 0]\n",
      "True Positive rate =  [0.         0.85330073 1.        ]\n",
      "False Positive rate =  [0.        0.1815261 1.       ]\n"
     ]
    }
   ],
   "source": [
    "# thresholds [0] means no instances predicted (It should be read from 0-max)\n",
    "print ('Threshold =', thresholds)\n",
    "print ('True Positive rate = ',tpr)\n",
    "print ('False Positive rate = ',fpr)"
   ]
  },
  {
   "cell_type": "code",
   "execution_count": 228,
   "id": "6f8b4820",
   "metadata": {},
   "outputs": [
    {
     "data": {
      "text/plain": [
       "<matplotlib.legend.Legend at 0x1bcac228a90>"
      ]
     },
     "execution_count": 228,
     "metadata": {},
     "output_type": "execute_result"
    },
    {
     "data": {
      "image/png": "[encoded data removed]",
      "text/plain": [
       "<Figure size 640x480 with 1 Axes>"
      ]
     },
     "metadata": {},
     "output_type": "display_data"
    }
   ],
   "source": [
    "plt.plot(fpr, tpr, color='orange', label='ROC')\n",
    "plt.plot([0, 1], [0, 1], color='darkblue', linestyle='--' )\n",
    "plt.xlabel('False Positive Rate')\n",
    "plt.ylabel('True Positive Rate')\n",
    "plt.title('Receiver Operating Characteristic (ROC) Curve')\n",
    "plt.legend()"
   ]
  },
  {
   "cell_type": "code",
   "execution_count": 229,
   "id": "f2cf590c",
   "metadata": {},
   "outputs": [
    {
     "name": "stdout",
     "output_type": "stream",
     "text": [
      "0.8358873145393309\n"
     ]
    }
   ],
   "source": [
    "# How much area it is covering (AUC)\n",
    "\n",
    "auc_score = roc_auc_score (y_test,y_pred)\n",
    "print (auc_score)"
   ]
  },
  {
   "cell_type": "code",
   "execution_count": 230,
   "id": "b92c5a72",
   "metadata": {},
   "outputs": [
    {
     "name": "stdout",
     "output_type": "stream",
     "text": [
      "accuracy_score:- 0.8425701186623517 Random state:- 58\n"
     ]
    }
   ],
   "source": [
    "knn=KNeighborsClassifier()\n",
    "maxacc=0\n",
    "maxrn=0\n",
    "\n",
    "for i in range(1,100):\n",
    "    x_train,x_test,y_train,y_test=train_test_split(f,l,test_size=.30,random_state=i)\n",
    "    knn.fit(x_train,y_train)\n",
    "    pred=knn.predict(x_test)\n",
    "    score=accuracy_score(pred,y_test)\n",
    "    if score>maxacc:\n",
    "        maxacc=score\n",
    "        maxrn=i\n",
    "print('accuracy_score:-',maxacc,'Random state:-',maxrn)"
   ]
  },
  {
   "cell_type": "code",
   "execution_count": 231,
   "id": "c14c765e",
   "metadata": {},
   "outputs": [],
   "source": [
    "x_train,x_test,y_train,y_test=train_test_split(f,l,test_size=0.3,random_state=46)"
   ]
  },
  {
   "cell_type": "code",
   "execution_count": 232,
   "id": "ded144c0",
   "metadata": {},
   "outputs": [
    {
     "name": "stdout",
     "output_type": "stream",
     "text": [
      "accuracy score through logistic regression is \n",
      "0.837\n",
      "classification report is\n",
      "              precision    recall  f1-score   support\n",
      "\n",
      "           0       0.90      0.76      0.82      7392\n",
      "           1       0.79      0.92      0.85      7440\n",
      "\n",
      "    accuracy                           0.84     14832\n",
      "   macro avg       0.85      0.84      0.84     14832\n",
      "weighted avg       0.85      0.84      0.84     14832\n",
      "\n",
      "confusion matrix is\n",
      "[[5603 1789]\n",
      " [ 622 6818]]\n",
      "\n",
      "\n"
     ]
    }
   ],
   "source": [
    "knn.fit(x_train,y_train)\n",
    "pred=knn.predict(x_test)\n",
    "print('accuracy score through logistic regression is ')\n",
    "print(round((accuracy_score(y_test,pred)),3))\n",
    "print('classification report is')\n",
    "print(classification_report(y_test,pred))\n",
    "print('confusion matrix is')\n",
    "print(confusion_matrix(y_test,pred))\n",
    "print('\\n')"
   ]
  },
  {
   "cell_type": "code",
   "execution_count": 233,
   "id": "f733935e",
   "metadata": {},
   "outputs": [
    {
     "data": {
      "text/plain": [
       "array([0.8180623 , 0.83252427, 0.85032362, 0.84819984, 0.84546926])"
      ]
     },
     "execution_count": 233,
     "metadata": {},
     "output_type": "execute_result"
    }
   ],
   "source": [
    "cross_val_score (knn, f, l, cv=5)"
   ]
  },
  {
   "cell_type": "code",
   "execution_count": 234,
   "id": "3385b0e0",
   "metadata": {},
   "outputs": [
    {
     "data": {
      "text/plain": [
       "0.8389158576051781"
      ]
     },
     "execution_count": 234,
     "metadata": {},
     "output_type": "execute_result"
    }
   ],
   "source": [
    "cross_val_score (knn, f, l, cv=5).mean()"
   ]
  },
  {
   "cell_type": "markdown",
   "id": "a0cd4d15",
   "metadata": {},
   "source": [
    "# Lets use Ensemble approch\n",
    "####  Bagging and boosting"
   ]
  },
  {
   "attachments": {
    "image.png": {
     "image/png": "[encoded data removed]"
    }
   },
   "cell_type": "markdown",
   "id": "07331f7f",
   "metadata": {},
   "source": [
    "![image.png](attachment:image.png)"
   ]
  },
  {
   "cell_type": "code",
   "execution_count": 235,
   "id": "f6b92d72",
   "metadata": {},
   "outputs": [],
   "source": [
    "from sklearn.ensemble import BaggingClassifier"
   ]
  },
  {
   "cell_type": "code",
   "execution_count": 236,
   "id": "ac790702",
   "metadata": {},
   "outputs": [],
   "source": [
    "bag_knn = BaggingClassifier(\n",
    "                             KNeighborsClassifier (n_neighbors=5), # value of k = 5 \n",
    "                             n_estimators=9, max_samples=0.7, # n_estimators means 9 model you have build \n",
    "                             bootstrap=True, random_state=3, oob_score=True\n",
    "                            )"
   ]
  },
  {
   "cell_type": "code",
   "execution_count": 237,
   "id": "0908def2",
   "metadata": {},
   "outputs": [
    {
     "data": {
      "text/plain": [
       "0.8355582524271845"
      ]
     },
     "execution_count": 237,
     "metadata": {},
     "output_type": "execute_result"
    }
   ],
   "source": [
    "bag_knn.fit (x_train, y_train)\n",
    "bag_knn.score (x_test, y_test)"
   ]
  },
  {
   "cell_type": "code",
   "execution_count": 238,
   "id": "9576983a",
   "metadata": {},
   "outputs": [],
   "source": [
    "from sklearn.ensemble import RandomForestClassifier"
   ]
  },
  {
   "cell_type": "code",
   "execution_count": 239,
   "id": "2b256753",
   "metadata": {},
   "outputs": [],
   "source": [
    "# Write one function and call as many as times to check accuracy_score of different models\n",
    "def metric_score (clf, x_train,x_test,y_train,y_test, train=True):\n",
    "    if train:\n",
    "        y_pred = clf.predict (x_train)\n",
    "        print(\"\\n================Train Result=====\")\n",
    "        print (f\"Accuracy Score: {accuracy_score(y_train, y_pred) * 100:.2f}%\")\n",
    "    elif train==False:\n",
    "        pred = clf.predict(x_test)\n",
    "        print(\"\\n=================Test Result================\")\n",
    "        print (f\"Accuracy Score: {accuracy_score(y_test, pred)* 100:.2f}%\")\n",
    "        print ('\\n \\n Test Classification Report \\n', classification_report(y_test, pred, digits=2)) ## Model confidence/accuracy"
   ]
  },
  {
   "cell_type": "code",
   "execution_count": 240,
   "id": "28b0173f",
   "metadata": {},
   "outputs": [
    {
     "data": {
      "text/html": [
       "<style>#sk-container-id-2 {color: black;background-color: white;}#sk-container-id-2 pre{padding: 0;}#sk-container-id-2 div.sk-toggleable {background-color: white;}#sk-container-id-2 label.sk-toggleable__label {cursor: pointer;display: block;width: 100%;margin-bottom: 0;padding: 0.3em;box-sizing: border-box;text-align: center;}#sk-container-id-2 label.sk-toggleable__label-arrow:before {content: \"▸\";float: left;margin-right: 0.25em;color: #696969;}#sk-container-id-2 label.sk-toggleable__label-arrow:hover:before {color: black;}#sk-container-id-2 div.sk-estimator:hover label.sk-toggleable__label-arrow:before {color: black;}#sk-container-id-2 div.sk-toggleable__content {max-height: 0;max-width: 0;overflow: hidden;text-align: left;background-color: #f0f8ff;}#sk-container-id-2 div.sk-toggleable__content pre {margin: 0.2em;color: black;border-radius: 0.25em;background-color: #f0f8ff;}#sk-container-id-2 input.sk-toggleable__control:checked~div.sk-toggleable__content {max-height: 200px;max-width: 100%;overflow: auto;}#sk-container-id-2 input.sk-toggleable__control:checked~label.sk-toggleable__label-arrow:before {content: \"▾\";}#sk-container-id-2 div.sk-estimator input.sk-toggleable__control:checked~label.sk-toggleable__label {background-color: #d4ebff;}#sk-container-id-2 div.sk-label input.sk-toggleable__control:checked~label.sk-toggleable__label {background-color: #d4ebff;}#sk-container-id-2 input.sk-hidden--visually {border: 0;clip: rect(1px 1px 1px 1px);clip: rect(1px, 1px, 1px, 1px);height: 1px;margin: -1px;overflow: hidden;padding: 0;position: absolute;width: 1px;}#sk-container-id-2 div.sk-estimator {font-family: monospace;background-color: #f0f8ff;border: 1px dotted black;border-radius: 0.25em;box-sizing: border-box;margin-bottom: 0.5em;}#sk-container-id-2 div.sk-estimator:hover {background-color: #d4ebff;}#sk-container-id-2 div.sk-parallel-item::after {content: \"\";width: 100%;border-bottom: 1px solid gray;flex-grow: 1;}#sk-container-id-2 div.sk-label:hover label.sk-toggleable__label {background-color: #d4ebff;}#sk-container-id-2 div.sk-serial::before {content: \"\";position: absolute;border-left: 1px solid gray;box-sizing: border-box;top: 0;bottom: 0;left: 50%;z-index: 0;}#sk-container-id-2 div.sk-serial {display: flex;flex-direction: column;align-items: center;background-color: white;padding-right: 0.2em;padding-left: 0.2em;position: relative;}#sk-container-id-2 div.sk-item {position: relative;z-index: 1;}#sk-container-id-2 div.sk-parallel {display: flex;align-items: stretch;justify-content: center;background-color: white;position: relative;}#sk-container-id-2 div.sk-item::before, #sk-container-id-2 div.sk-parallel-item::before {content: \"\";position: absolute;border-left: 1px solid gray;box-sizing: border-box;top: 0;bottom: 0;left: 50%;z-index: -1;}#sk-container-id-2 div.sk-parallel-item {display: flex;flex-direction: column;z-index: 1;position: relative;background-color: white;}#sk-container-id-2 div.sk-parallel-item:first-child::after {align-self: flex-end;width: 50%;}#sk-container-id-2 div.sk-parallel-item:last-child::after {align-self: flex-start;width: 50%;}#sk-container-id-2 div.sk-parallel-item:only-child::after {width: 0;}#sk-container-id-2 div.sk-dashed-wrapped {border: 1px dashed gray;margin: 0 0.4em 0.5em 0.4em;box-sizing: border-box;padding-bottom: 0.4em;background-color: white;}#sk-container-id-2 div.sk-label label {font-family: monospace;font-weight: bold;display: inline-block;line-height: 1.2em;}#sk-container-id-2 div.sk-label-container {text-align: center;}#sk-container-id-2 div.sk-container {/* jupyter's `normalize.less` sets `[hidden] { display: none; }` but bootstrap.min.css set `[hidden] { display: none !important; }` so we also need the `!important` here to be able to override the default hidden behavior on the sphinx rendered scikit-learn.org. See: https://github.com/scikit-learn/scikit-learn/issues/21755 */display: inline-block !important;position: relative;}#sk-container-id-2 div.sk-text-repr-fallback {display: none;}</style><div id=\"sk-container-id-2\" class=\"sk-top-container\"><div class=\"sk-text-repr-fallback\"><pre>RandomForestClassifier()</pre><b>In a Jupyter environment, please rerun this cell to show the HTML representation or trust the notebook. <br />On GitHub, the HTML representation is unable to render, please try loading this page with nbviewer.org.</b></div><div class=\"sk-container\" hidden><div class=\"sk-item\"><div class=\"sk-estimator sk-toggleable\"><input class=\"sk-toggleable__control sk-hidden--visually\" id=\"sk-estimator-id-2\" type=\"checkbox\" checked><label for=\"sk-estimator-id-2\" class=\"sk-toggleable__label sk-toggleable__label-arrow\">RandomForestClassifier</label><div class=\"sk-toggleable__content\"><pre>RandomForestClassifier()</pre></div></div></div></div></div>"
      ],
      "text/plain": [
       "RandomForestClassifier()"
      ]
     },
     "execution_count": 240,
     "metadata": {},
     "output_type": "execute_result"
    }
   ],
   "source": [
    "# Initiate Decision Tree Classifier with new parameters and train\n",
    "random_clf = RandomForestClassifier()\n",
    "# Train the model\n",
    "random_clf.fit(x_train,y_train)"
   ]
  },
  {
   "cell_type": "code",
   "execution_count": 241,
   "id": "b699ee53",
   "metadata": {},
   "outputs": [
    {
     "name": "stdout",
     "output_type": "stream",
     "text": [
      "\n",
      "================Train Result=====\n",
      "Accuracy Score: 98.15%\n",
      "\n",
      "=================Test Result================\n",
      "Accuracy Score: 87.30%\n",
      "\n",
      " \n",
      " Test Classification Report \n",
      "               precision    recall  f1-score   support\n",
      "\n",
      "           0       0.88      0.86      0.87      7392\n",
      "           1       0.87      0.88      0.87      7440\n",
      "\n",
      "    accuracy                           0.87     14832\n",
      "   macro avg       0.87      0.87      0.87     14832\n",
      "weighted avg       0.87      0.87      0.87     14832\n",
      "\n"
     ]
    }
   ],
   "source": [
    "# Call the function and pass dataset to check train and test score\n",
    "metric_score (random_clf,x_train, x_test, y_train,y_test, train=True) # This is for training socre\n",
    " # This is for testing score\n",
    "metric_score(random_clf,x_train,x_test,y_train,y_test,train=False)"
   ]
  },
  {
   "cell_type": "code",
   "execution_count": null,
   "id": "a27a0883",
   "metadata": {},
   "outputs": [],
   "source": []
  },
  {
   "cell_type": "markdown",
   "id": "f20228b5",
   "metadata": {},
   "source": [
    " <font face = \"Verdana\" size = \"3\">\n",
    "<b>Within the boosting we have few algorithms we are going to work on that</b><br>\n",
    "           <font face = \"Verdana\" size = \"3\"><mark>1) Adaptive boosting 2) Gradient boosting3)XGB"
   ]
  },
  {
   "cell_type": "code",
   "execution_count": 242,
   "id": "a85dad95",
   "metadata": {},
   "outputs": [],
   "source": [
    "from sklearn.ensemble import AdaBoostClassifier"
   ]
  },
  {
   "cell_type": "code",
   "execution_count": 243,
   "id": "0e66c70e",
   "metadata": {},
   "outputs": [],
   "source": [
    "ada=AdaBoostClassifier()"
   ]
  },
  {
   "cell_type": "code",
   "execution_count": 244,
   "id": "b515b0b3",
   "metadata": {},
   "outputs": [],
   "source": [
    "x_train,x_test,y_train,y_test= train_test_split(f , l, test_size= 0.25, random_state = 51)"
   ]
  },
  {
   "cell_type": "code",
   "execution_count": 245,
   "id": "3ccf774c",
   "metadata": {},
   "outputs": [
    {
     "data": {
      "text/html": [
       "<style>#sk-container-id-3 {color: black;background-color: white;}#sk-container-id-3 pre{padding: 0;}#sk-container-id-3 div.sk-toggleable {background-color: white;}#sk-container-id-3 label.sk-toggleable__label {cursor: pointer;display: block;width: 100%;margin-bottom: 0;padding: 0.3em;box-sizing: border-box;text-align: center;}#sk-container-id-3 label.sk-toggleable__label-arrow:before {content: \"▸\";float: left;margin-right: 0.25em;color: #696969;}#sk-container-id-3 label.sk-toggleable__label-arrow:hover:before {color: black;}#sk-container-id-3 div.sk-estimator:hover label.sk-toggleable__label-arrow:before {color: black;}#sk-container-id-3 div.sk-toggleable__content {max-height: 0;max-width: 0;overflow: hidden;text-align: left;background-color: #f0f8ff;}#sk-container-id-3 div.sk-toggleable__content pre {margin: 0.2em;color: black;border-radius: 0.25em;background-color: #f0f8ff;}#sk-container-id-3 input.sk-toggleable__control:checked~div.sk-toggleable__content {max-height: 200px;max-width: 100%;overflow: auto;}#sk-container-id-3 input.sk-toggleable__control:checked~label.sk-toggleable__label-arrow:before {content: \"▾\";}#sk-container-id-3 div.sk-estimator input.sk-toggleable__control:checked~label.sk-toggleable__label {background-color: #d4ebff;}#sk-container-id-3 div.sk-label input.sk-toggleable__control:checked~label.sk-toggleable__label {background-color: #d4ebff;}#sk-container-id-3 input.sk-hidden--visually {border: 0;clip: rect(1px 1px 1px 1px);clip: rect(1px, 1px, 1px, 1px);height: 1px;margin: -1px;overflow: hidden;padding: 0;position: absolute;width: 1px;}#sk-container-id-3 div.sk-estimator {font-family: monospace;background-color: #f0f8ff;border: 1px dotted black;border-radius: 0.25em;box-sizing: border-box;margin-bottom: 0.5em;}#sk-container-id-3 div.sk-estimator:hover {background-color: #d4ebff;}#sk-container-id-3 div.sk-parallel-item::after {content: \"\";width: 100%;border-bottom: 1px solid gray;flex-grow: 1;}#sk-container-id-3 div.sk-label:hover label.sk-toggleable__label {background-color: #d4ebff;}#sk-container-id-3 div.sk-serial::before {content: \"\";position: absolute;border-left: 1px solid gray;box-sizing: border-box;top: 0;bottom: 0;left: 50%;z-index: 0;}#sk-container-id-3 div.sk-serial {display: flex;flex-direction: column;align-items: center;background-color: white;padding-right: 0.2em;padding-left: 0.2em;position: relative;}#sk-container-id-3 div.sk-item {position: relative;z-index: 1;}#sk-container-id-3 div.sk-parallel {display: flex;align-items: stretch;justify-content: center;background-color: white;position: relative;}#sk-container-id-3 div.sk-item::before, #sk-container-id-3 div.sk-parallel-item::before {content: \"\";position: absolute;border-left: 1px solid gray;box-sizing: border-box;top: 0;bottom: 0;left: 50%;z-index: -1;}#sk-container-id-3 div.sk-parallel-item {display: flex;flex-direction: column;z-index: 1;position: relative;background-color: white;}#sk-container-id-3 div.sk-parallel-item:first-child::after {align-self: flex-end;width: 50%;}#sk-container-id-3 div.sk-parallel-item:last-child::after {align-self: flex-start;width: 50%;}#sk-container-id-3 div.sk-parallel-item:only-child::after {width: 0;}#sk-container-id-3 div.sk-dashed-wrapped {border: 1px dashed gray;margin: 0 0.4em 0.5em 0.4em;box-sizing: border-box;padding-bottom: 0.4em;background-color: white;}#sk-container-id-3 div.sk-label label {font-family: monospace;font-weight: bold;display: inline-block;line-height: 1.2em;}#sk-container-id-3 div.sk-label-container {text-align: center;}#sk-container-id-3 div.sk-container {/* jupyter's `normalize.less` sets `[hidden] { display: none; }` but bootstrap.min.css set `[hidden] { display: none !important; }` so we also need the `!important` here to be able to override the default hidden behavior on the sphinx rendered scikit-learn.org. See: https://github.com/scikit-learn/scikit-learn/issues/21755 */display: inline-block !important;position: relative;}#sk-container-id-3 div.sk-text-repr-fallback {display: none;}</style><div id=\"sk-container-id-3\" class=\"sk-top-container\"><div class=\"sk-text-repr-fallback\"><pre>AdaBoostClassifier()</pre><b>In a Jupyter environment, please rerun this cell to show the HTML representation or trust the notebook. <br />On GitHub, the HTML representation is unable to render, please try loading this page with nbviewer.org.</b></div><div class=\"sk-container\" hidden><div class=\"sk-item\"><div class=\"sk-estimator sk-toggleable\"><input class=\"sk-toggleable__control sk-hidden--visually\" id=\"sk-estimator-id-3\" type=\"checkbox\" checked><label for=\"sk-estimator-id-3\" class=\"sk-toggleable__label sk-toggleable__label-arrow\">AdaBoostClassifier</label><div class=\"sk-toggleable__content\"><pre>AdaBoostClassifier()</pre></div></div></div></div></div>"
      ],
      "text/plain": [
       "AdaBoostClassifier()"
      ]
     },
     "execution_count": 245,
     "metadata": {},
     "output_type": "execute_result"
    }
   ],
   "source": [
    "ada. fit (x_train,y_train)"
   ]
  },
  {
   "cell_type": "code",
   "execution_count": 246,
   "id": "78692735",
   "metadata": {},
   "outputs": [
    {
     "data": {
      "text/plain": [
       "0.8424757281553398"
      ]
     },
     "execution_count": 246,
     "metadata": {},
     "output_type": "execute_result"
    }
   ],
   "source": [
    "ada.fit (x_train, y_train)\n",
    "ada.score (x_test, y_test)"
   ]
  },
  {
   "cell_type": "code",
   "execution_count": 247,
   "id": "6dc38864",
   "metadata": {},
   "outputs": [],
   "source": [
    "#graident boosting classifier\n",
    "from sklearn.ensemble import GradientBoostingClassifier # GradientBoostingRegressor If we have regression problem \n",
    "from sklearn.metrics import classification_report , accuracy_score"
   ]
  },
  {
   "cell_type": "code",
   "execution_count": null,
   "id": "89a72608",
   "metadata": {},
   "outputs": [],
   "source": []
  },
  {
   "cell_type": "code",
   "execution_count": 248,
   "id": "e1d80995",
   "metadata": {},
   "outputs": [],
   "source": [
    "XX_train,XX_test,y_train,y_test=train_test_split(f , l, test_size= 0.25, random_state = 51)"
   ]
  },
  {
   "cell_type": "code",
   "execution_count": 249,
   "id": "4e036979",
   "metadata": {},
   "outputs": [],
   "source": [
    "def mertric_Score (clf,XX_train,XX_test,y_train,y_test,train= True):\n",
    "    if train:\n",
    "        y_pred=clf.predict(XX_train)\n",
    "        print('=== Training Score ===')\n",
    "        print(f\"Accuracy score : {accuracy_score(y_train,y_pred)*100 : 2f} %\")\n",
    "        \n",
    "    elif train==False:\n",
    "        pred = clf.predict(XX_test)\n",
    "        print('=== Testing Score ===')\n",
    "        print(f\"Accuracy Score : {accuracy_score(y_test,pred)*100 : 2f}%\")\n",
    "        \n",
    "        print ('\\n \\n Classification Report \\n' , classification_report(y_test,pred,digits=2))"
   ]
  },
  {
   "cell_type": "code",
   "execution_count": 250,
   "id": "5d358f22",
   "metadata": {},
   "outputs": [],
   "source": [
    "XX_train,XX_test,y_train,y_test=train_test_split(f , l, test_size= 0.30, random_state = 46)"
   ]
  },
  {
   "cell_type": "code",
   "execution_count": 251,
   "id": "4557e069",
   "metadata": {},
   "outputs": [
    {
     "data": {
      "text/html": [
       "<style>#sk-container-id-4 {color: black;background-color: white;}#sk-container-id-4 pre{padding: 0;}#sk-container-id-4 div.sk-toggleable {background-color: white;}#sk-container-id-4 label.sk-toggleable__label {cursor: pointer;display: block;width: 100%;margin-bottom: 0;padding: 0.3em;box-sizing: border-box;text-align: center;}#sk-container-id-4 label.sk-toggleable__label-arrow:before {content: \"▸\";float: left;margin-right: 0.25em;color: #696969;}#sk-container-id-4 label.sk-toggleable__label-arrow:hover:before {color: black;}#sk-container-id-4 div.sk-estimator:hover label.sk-toggleable__label-arrow:before {color: black;}#sk-container-id-4 div.sk-toggleable__content {max-height: 0;max-width: 0;overflow: hidden;text-align: left;background-color: #f0f8ff;}#sk-container-id-4 div.sk-toggleable__content pre {margin: 0.2em;color: black;border-radius: 0.25em;background-color: #f0f8ff;}#sk-container-id-4 input.sk-toggleable__control:checked~div.sk-toggleable__content {max-height: 200px;max-width: 100%;overflow: auto;}#sk-container-id-4 input.sk-toggleable__control:checked~label.sk-toggleable__label-arrow:before {content: \"▾\";}#sk-container-id-4 div.sk-estimator input.sk-toggleable__control:checked~label.sk-toggleable__label {background-color: #d4ebff;}#sk-container-id-4 div.sk-label input.sk-toggleable__control:checked~label.sk-toggleable__label {background-color: #d4ebff;}#sk-container-id-4 input.sk-hidden--visually {border: 0;clip: rect(1px 1px 1px 1px);clip: rect(1px, 1px, 1px, 1px);height: 1px;margin: -1px;overflow: hidden;padding: 0;position: absolute;width: 1px;}#sk-container-id-4 div.sk-estimator {font-family: monospace;background-color: #f0f8ff;border: 1px dotted black;border-radius: 0.25em;box-sizing: border-box;margin-bottom: 0.5em;}#sk-container-id-4 div.sk-estimator:hover {background-color: #d4ebff;}#sk-container-id-4 div.sk-parallel-item::after {content: \"\";width: 100%;border-bottom: 1px solid gray;flex-grow: 1;}#sk-container-id-4 div.sk-label:hover label.sk-toggleable__label {background-color: #d4ebff;}#sk-container-id-4 div.sk-serial::before {content: \"\";position: absolute;border-left: 1px solid gray;box-sizing: border-box;top: 0;bottom: 0;left: 50%;z-index: 0;}#sk-container-id-4 div.sk-serial {display: flex;flex-direction: column;align-items: center;background-color: white;padding-right: 0.2em;padding-left: 0.2em;position: relative;}#sk-container-id-4 div.sk-item {position: relative;z-index: 1;}#sk-container-id-4 div.sk-parallel {display: flex;align-items: stretch;justify-content: center;background-color: white;position: relative;}#sk-container-id-4 div.sk-item::before, #sk-container-id-4 div.sk-parallel-item::before {content: \"\";position: absolute;border-left: 1px solid gray;box-sizing: border-box;top: 0;bottom: 0;left: 50%;z-index: -1;}#sk-container-id-4 div.sk-parallel-item {display: flex;flex-direction: column;z-index: 1;position: relative;background-color: white;}#sk-container-id-4 div.sk-parallel-item:first-child::after {align-self: flex-end;width: 50%;}#sk-container-id-4 div.sk-parallel-item:last-child::after {align-self: flex-start;width: 50%;}#sk-container-id-4 div.sk-parallel-item:only-child::after {width: 0;}#sk-container-id-4 div.sk-dashed-wrapped {border: 1px dashed gray;margin: 0 0.4em 0.5em 0.4em;box-sizing: border-box;padding-bottom: 0.4em;background-color: white;}#sk-container-id-4 div.sk-label label {font-family: monospace;font-weight: bold;display: inline-block;line-height: 1.2em;}#sk-container-id-4 div.sk-label-container {text-align: center;}#sk-container-id-4 div.sk-container {/* jupyter's `normalize.less` sets `[hidden] { display: none; }` but bootstrap.min.css set `[hidden] { display: none !important; }` so we also need the `!important` here to be able to override the default hidden behavior on the sphinx rendered scikit-learn.org. See: https://github.com/scikit-learn/scikit-learn/issues/21755 */display: inline-block !important;position: relative;}#sk-container-id-4 div.sk-text-repr-fallback {display: none;}</style><div id=\"sk-container-id-4\" class=\"sk-top-container\"><div class=\"sk-text-repr-fallback\"><pre>GradientBoostingClassifier()</pre><b>In a Jupyter environment, please rerun this cell to show the HTML representation or trust the notebook. <br />On GitHub, the HTML representation is unable to render, please try loading this page with nbviewer.org.</b></div><div class=\"sk-container\" hidden><div class=\"sk-item\"><div class=\"sk-estimator sk-toggleable\"><input class=\"sk-toggleable__control sk-hidden--visually\" id=\"sk-estimator-id-4\" type=\"checkbox\" checked><label for=\"sk-estimator-id-4\" class=\"sk-toggleable__label sk-toggleable__label-arrow\">GradientBoostingClassifier</label><div class=\"sk-toggleable__content\"><pre>GradientBoostingClassifier()</pre></div></div></div></div></div>"
      ],
      "text/plain": [
       "GradientBoostingClassifier()"
      ]
     },
     "execution_count": 251,
     "metadata": {},
     "output_type": "execute_result"
    }
   ],
   "source": [
    "# initiate GradientBoostingClassifier\n",
    "gbdt_clf = GradientBoostingClassifier()\n",
    "gbdt_clf.fit(XX_train , y_train)"
   ]
  },
  {
   "cell_type": "code",
   "execution_count": 252,
   "id": "fa562475",
   "metadata": {},
   "outputs": [],
   "source": [
    "# maxacc=0\n",
    "# maxrn=0\n",
    "\n",
    "# for i in range(1,100):\n",
    "#     XX_train,XX_test,y_train,y_test=train_test_split(f , l, test_size= 0.30, random_state = i)\n",
    "#     gbdt_clf.fit(XX_train , y_train)\n",
    "#     pred=gbdt_clf.predict(XX_test)\n",
    "#     score=accuracy_score(pred,y_test)\n",
    "#     if score>maxacc:\n",
    "#         maxacc=score\n",
    "#         maxrn=i\n",
    "# print('accuracy_score:-',maxacc,'Random state:-',maxrn)"
   ]
  },
  {
   "cell_type": "code",
   "execution_count": 253,
   "id": "2d809016",
   "metadata": {},
   "outputs": [
    {
     "name": "stdout",
     "output_type": "stream",
     "text": [
      "=== Training Score ===\n",
      "Accuracy score :  84.835876 %\n",
      "=== Testing Score ===\n",
      "Accuracy Score :  85.052589%\n",
      "\n",
      " \n",
      " Classification Report \n",
      "               precision    recall  f1-score   support\n",
      "\n",
      "           0       0.87      0.83      0.85      7392\n",
      "           1       0.84      0.87      0.85      7440\n",
      "\n",
      "    accuracy                           0.85     14832\n",
      "   macro avg       0.85      0.85      0.85     14832\n",
      "weighted avg       0.85      0.85      0.85     14832\n",
      "\n"
     ]
    }
   ],
   "source": [
    "# call the function\n",
    "mertric_Score(gbdt_clf,XX_train,XX_test,y_train,y_test,train=True)\n",
    "mertric_Score(gbdt_clf,XX_train,XX_test,y_train,y_test,train=False)"
   ]
  },
  {
   "cell_type": "code",
   "execution_count": 254,
   "id": "e8984433",
   "metadata": {},
   "outputs": [
    {
     "data": {
      "text/plain": [
       "array([0.8183657 , 0.83302994, 0.85679612, 0.85436893, 0.85689725])"
      ]
     },
     "execution_count": 254,
     "metadata": {},
     "output_type": "execute_result"
    }
   ],
   "source": [
    "cross_val_score (gbdt_clf, f, l, cv=5)"
   ]
  },
  {
   "cell_type": "code",
   "execution_count": 255,
   "id": "ac8dfa2c",
   "metadata": {},
   "outputs": [
    {
     "data": {
      "text/plain": [
       "0.8438915857605178"
      ]
     },
     "execution_count": 255,
     "metadata": {},
     "output_type": "execute_result"
    }
   ],
   "source": [
    "cross_val_score (gbdt_clf, f, l, cv=5).mean()"
   ]
  },
  {
   "cell_type": "markdown",
   "id": "f4c5498c",
   "metadata": {},
   "source": [
    "# You can save the model and later you can use it for prediction"
   ]
  },
  {
   "cell_type": "code",
   "execution_count": 256,
   "id": "36b87351",
   "metadata": {},
   "outputs": [],
   "source": [
    "import pickle"
   ]
  },
  {
   "cell_type": "code",
   "execution_count": 257,
   "id": "69564201",
   "metadata": {},
   "outputs": [],
   "source": [
    "# saving the model to the local file system\n",
    "pickle.dump (gbdt_clf, open('gbdtrevise2', 'wb'))"
   ]
  },
  {
   "cell_type": "code",
   "execution_count": 258,
   "id": "a5c2ec93",
   "metadata": {},
   "outputs": [],
   "source": [
    "a=x_train.iloc[0]"
   ]
  },
  {
   "cell_type": "code",
   "execution_count": 259,
   "id": "2331ccfd",
   "metadata": {},
   "outputs": [],
   "source": [
    "ab=pd.DataFrame(a)"
   ]
  },
  {
   "cell_type": "code",
   "execution_count": 260,
   "id": "7a453da2",
   "metadata": {},
   "outputs": [
    {
     "data": {
      "text/html": [
       "<div>\n",
       "<style scoped>\n",
       "    .dataframe tbody tr th:only-of-type {\n",
       "        vertical-align: middle;\n",
       "    }\n",
       "\n",
       "    .dataframe tbody tr th {\n",
       "        vertical-align: top;\n",
       "    }\n",
       "\n",
       "    .dataframe thead th {\n",
       "        text-align: right;\n",
       "    }\n",
       "</style>\n",
       "<table border=\"1\" class=\"dataframe\">\n",
       "  <thead>\n",
       "    <tr style=\"text-align: right;\">\n",
       "      <th></th>\n",
       "      <th>40018</th>\n",
       "    </tr>\n",
       "  </thead>\n",
       "  <tbody>\n",
       "    <tr>\n",
       "      <th>age</th>\n",
       "      <td>0.541976</td>\n",
       "    </tr>\n",
       "    <tr>\n",
       "      <th>capital_gain</th>\n",
       "      <td>-0.301425</td>\n",
       "    </tr>\n",
       "    <tr>\n",
       "      <th>capital_loss</th>\n",
       "      <td>-0.221210</td>\n",
       "    </tr>\n",
       "    <tr>\n",
       "      <th>hours_per_week</th>\n",
       "      <td>40.000000</td>\n",
       "    </tr>\n",
       "    <tr>\n",
       "      <th>workclass_Local_gov</th>\n",
       "      <td>0.000000</td>\n",
       "    </tr>\n",
       "    <tr>\n",
       "      <th>...</th>\n",
       "      <td>...</td>\n",
       "    </tr>\n",
       "    <tr>\n",
       "      <th>country_Thailand</th>\n",
       "      <td>0.000000</td>\n",
       "    </tr>\n",
       "    <tr>\n",
       "      <th>country_Trinadad_Tobago</th>\n",
       "      <td>0.000000</td>\n",
       "    </tr>\n",
       "    <tr>\n",
       "      <th>country_United_States</th>\n",
       "      <td>1.000000</td>\n",
       "    </tr>\n",
       "    <tr>\n",
       "      <th>country_Vietnam</th>\n",
       "      <td>0.000000</td>\n",
       "    </tr>\n",
       "    <tr>\n",
       "      <th>country_Yugoslavia</th>\n",
       "      <td>0.000000</td>\n",
       "    </tr>\n",
       "  </tbody>\n",
       "</table>\n",
       "<p>87 rows × 1 columns</p>\n",
       "</div>"
      ],
      "text/plain": [
       "                             40018\n",
       "age                       0.541976\n",
       "capital_gain             -0.301425\n",
       "capital_loss             -0.221210\n",
       "hours_per_week           40.000000\n",
       "workclass_Local_gov       0.000000\n",
       "...                            ...\n",
       "country_Thailand          0.000000\n",
       "country_Trinadad_Tobago   0.000000\n",
       "country_United_States     1.000000\n",
       "country_Vietnam           0.000000\n",
       "country_Yugoslavia        0.000000\n",
       "\n",
       "[87 rows x 1 columns]"
      ]
     },
     "execution_count": 260,
     "metadata": {},
     "output_type": "execute_result"
    }
   ],
   "source": [
    "ab"
   ]
  },
  {
   "cell_type": "code",
   "execution_count": 261,
   "id": "8613e845",
   "metadata": {},
   "outputs": [
    {
     "name": "stdout",
     "output_type": "stream",
     "text": [
      "0.5419758143836417\n",
      "-0.30142547100632877\n",
      "-0.22120963524525747\n",
      "40.0\n",
      "0.0\n",
      "0.0\n",
      "1.0\n",
      "0.0\n",
      "0.0\n",
      "0.0\n",
      "0.0\n",
      "0.0\n",
      "0.0\n",
      "0.0\n",
      "0.0\n",
      "1.0\n",
      "0.0\n",
      "1.0\n",
      "0.0\n",
      "0.0\n",
      "0.0\n",
      "0.0\n",
      "0.0\n",
      "1.0\n",
      "0.0\n",
      "0.0\n",
      "0.0\n",
      "0.0\n",
      "0.0\n",
      "0.0\n",
      "0.0\n",
      "0.0\n",
      "0.0\n",
      "0.0\n",
      "0.0\n",
      "0.0\n",
      "0.0\n",
      "0.0\n",
      "0.0\n",
      "0.0\n",
      "0.0\n",
      "0.0\n",
      "0.0\n",
      "0.0\n",
      "1.0\n",
      "1.0\n",
      "0.0\n",
      "0.0\n",
      "0.0\n",
      "0.0\n",
      "0.0\n",
      "0.0\n",
      "0.0\n",
      "0.0\n",
      "0.0\n",
      "0.0\n",
      "0.0\n",
      "0.0\n",
      "0.0\n",
      "0.0\n",
      "0.0\n",
      "0.0\n",
      "0.0\n",
      "0.0\n",
      "0.0\n",
      "0.0\n",
      "0.0\n",
      "0.0\n",
      "0.0\n",
      "0.0\n",
      "0.0\n",
      "0.0\n",
      "0.0\n",
      "0.0\n",
      "0.0\n",
      "0.0\n",
      "0.0\n",
      "0.0\n",
      "0.0\n",
      "0.0\n",
      "0.0\n",
      "0.0\n",
      "0.0\n",
      "0.0\n",
      "1.0\n",
      "0.0\n",
      "0.0\n"
     ]
    }
   ],
   "source": [
    "\n",
    "for i in ab[40018]:\n",
    "    print(i)"
   ]
  },
  {
   "cell_type": "code",
   "execution_count": null,
   "id": "c981ce99",
   "metadata": {},
   "outputs": [],
   "source": []
  },
  {
   "cell_type": "code",
   "execution_count": null,
   "id": "2e406537",
   "metadata": {},
   "outputs": [],
   "source": []
  },
  {
   "cell_type": "code",
   "execution_count": null,
   "id": "630d230a",
   "metadata": {},
   "outputs": [],
   "source": []
  },
  {
   "cell_type": "code",
   "execution_count": null,
   "id": "806a123c",
   "metadata": {},
   "outputs": [],
   "source": []
  },
  {
   "cell_type": "code",
   "execution_count": null,
   "id": "c1b64f14",
   "metadata": {},
   "outputs": [],
   "source": []
  },
  {
   "cell_type": "code",
   "execution_count": null,
   "id": "f2a5cef5",
   "metadata": {},
   "outputs": [],
   "source": []
  },
  {
   "cell_type": "code",
   "execution_count": null,
   "id": "7a1fb83f",
   "metadata": {},
   "outputs": [],
   "source": []
  },
  {
   "cell_type": "code",
   "execution_count": null,
   "id": "f95bef9b",
   "metadata": {},
   "outputs": [],
   "source": []
  },
  {
   "cell_type": "code",
   "execution_count": null,
   "id": "f83dd2ac",
   "metadata": {},
   "outputs": [],
   "source": []
  }
 ],
 "metadata": {
  "kernelspec": {
   "display_name": "venv",
   "language": "python",
   "name": "python3"
  },
  "language_info": {
   "codemirror_mode": {
    "name": "ipython",
    "version": 3
   },
   "file_extension": ".py",
   "mimetype": "text/x-python",
   "name": "python",
   "nbconvert_exporter": "python",
   "pygments_lexer": "ipython3",
   "version": "3.11.1"
  },
  "vscode": {
   "interpreter": {
    "hash": "409aa9704197487afc279db02418f66de3d55e849f54ae95d6eca6ababcf9088"
   }
  }
 },
 "nbformat": 4,
 "nbformat_minor": 5
}
